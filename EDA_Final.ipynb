{
 "cells": [
  {
   "cell_type": "markdown",
   "metadata": {},
   "source": [
    "# EDA and Cleaning of Diabetics Data"
   ]
  },
  {
   "cell_type": "markdown",
   "metadata": {},
   "source": [
    "- First Step to load data frame\n",
    "- Second Step to create Dictionary to converge into one dataset. This will make reading the inital dataset a little easier. "
   ]
  },
  {
   "cell_type": "code",
   "execution_count": 1,
   "metadata": {},
   "outputs": [],
   "source": [
    "# Libraries to load\n",
    "import pandas as pd\n",
    "import numpy as np \n",
    "from scipy import stats\n",
    "from sklearn.svm import SVC\n",
    "from sklearn.metrics import confusion_matrix\n",
    "from sklearn.model_selection import train_test_split\n",
    "\n",
    "\n",
    "# data visualization packages \n",
    "import matplotlib.pyplot as plt\n",
    "%matplotlib inline\n",
    "plt.style.use('seaborn')\n",
    "import seaborn as sns\n",
    "pd.set_option('max_columns', None)\n",
    "import pandas_profiling\n",
    "\n",
    "# SMOTE package to address imbalanced classes \n",
    "from imblearn.over_sampling import SMOTE \n",
    "\n",
    "from warnings import filterwarnings\n",
    "filterwarnings('ignore')\n",
    "np.random.seed(123)"
   ]
  },
  {
   "cell_type": "code",
   "execution_count": 2,
   "metadata": {},
   "outputs": [],
   "source": [
    "# Load DF\n",
    "df = pd.read_csv('./data/diabetic_data.csv', na_values='?')"
   ]
  },
  {
   "cell_type": "code",
   "execution_count": 3,
   "metadata": {
    "scrolled": true
   },
   "outputs": [
    {
     "data": {
      "text/plain": [
       "(101766, 50)"
      ]
     },
     "execution_count": 3,
     "metadata": {},
     "output_type": "execute_result"
    }
   ],
   "source": [
    "# Shape of dataframe\n",
    "df.shape"
   ]
  },
  {
   "cell_type": "code",
   "execution_count": 4,
   "metadata": {},
   "outputs": [
    {
     "name": "stdout",
     "output_type": "stream",
     "text": [
      "<class 'pandas.core.frame.DataFrame'>\n",
      "RangeIndex: 101766 entries, 0 to 101765\n",
      "Data columns (total 50 columns):\n",
      " #   Column                    Non-Null Count   Dtype \n",
      "---  ------                    --------------   ----- \n",
      " 0   encounter_id              101766 non-null  int64 \n",
      " 1   patient_nbr               101766 non-null  int64 \n",
      " 2   race                      99493 non-null   object\n",
      " 3   gender                    101766 non-null  object\n",
      " 4   age                       101766 non-null  object\n",
      " 5   weight                    3197 non-null    object\n",
      " 6   admission_type_id         101766 non-null  int64 \n",
      " 7   discharge_disposition_id  101766 non-null  int64 \n",
      " 8   admission_source_id       101766 non-null  int64 \n",
      " 9   time_in_hospital          101766 non-null  int64 \n",
      " 10  payer_code                61510 non-null   object\n",
      " 11  medical_specialty         51817 non-null   object\n",
      " 12  num_lab_procedures        101766 non-null  int64 \n",
      " 13  num_procedures            101766 non-null  int64 \n",
      " 14  num_medications           101766 non-null  int64 \n",
      " 15  number_outpatient         101766 non-null  int64 \n",
      " 16  number_emergency          101766 non-null  int64 \n",
      " 17  number_inpatient          101766 non-null  int64 \n",
      " 18  diag_1                    101745 non-null  object\n",
      " 19  diag_2                    101408 non-null  object\n",
      " 20  diag_3                    100343 non-null  object\n",
      " 21  number_diagnoses          101766 non-null  int64 \n",
      " 22  max_glu_serum             101766 non-null  object\n",
      " 23  A1Cresult                 101766 non-null  object\n",
      " 24  metformin                 101766 non-null  object\n",
      " 25  repaglinide               101766 non-null  object\n",
      " 26  nateglinide               101766 non-null  object\n",
      " 27  chlorpropamide            101766 non-null  object\n",
      " 28  glimepiride               101766 non-null  object\n",
      " 29  acetohexamide             101766 non-null  object\n",
      " 30  glipizide                 101766 non-null  object\n",
      " 31  glyburide                 101766 non-null  object\n",
      " 32  tolbutamide               101766 non-null  object\n",
      " 33  pioglitazone              101766 non-null  object\n",
      " 34  rosiglitazone             101766 non-null  object\n",
      " 35  acarbose                  101766 non-null  object\n",
      " 36  miglitol                  101766 non-null  object\n",
      " 37  troglitazone              101766 non-null  object\n",
      " 38  tolazamide                101766 non-null  object\n",
      " 39  examide                   101766 non-null  object\n",
      " 40  citoglipton               101766 non-null  object\n",
      " 41  insulin                   101766 non-null  object\n",
      " 42  glyburide-metformin       101766 non-null  object\n",
      " 43  glipizide-metformin       101766 non-null  object\n",
      " 44  glimepiride-pioglitazone  101766 non-null  object\n",
      " 45  metformin-rosiglitazone   101766 non-null  object\n",
      " 46  metformin-pioglitazone    101766 non-null  object\n",
      " 47  change                    101766 non-null  object\n",
      " 48  diabetesMed               101766 non-null  object\n",
      " 49  readmitted                101766 non-null  object\n",
      "dtypes: int64(13), object(37)\n",
      "memory usage: 38.8+ MB\n",
      "None\n",
      "       encounter_id   patient_nbr  admission_type_id  \\\n",
      "count  1.017660e+05  1.017660e+05      101766.000000   \n",
      "mean   1.652016e+08  5.433040e+07           2.024006   \n",
      "std    1.026403e+08  3.869636e+07           1.445403   \n",
      "min    1.252200e+04  1.350000e+02           1.000000   \n",
      "25%    8.496119e+07  2.341322e+07           1.000000   \n",
      "50%    1.523890e+08  4.550514e+07           1.000000   \n",
      "75%    2.302709e+08  8.754595e+07           3.000000   \n",
      "max    4.438672e+08  1.895026e+08           8.000000   \n",
      "\n",
      "       discharge_disposition_id  admission_source_id  time_in_hospital  \\\n",
      "count             101766.000000        101766.000000     101766.000000   \n",
      "mean                   3.715642             5.754437          4.395987   \n",
      "std                    5.280166             4.064081          2.985108   \n",
      "min                    1.000000             1.000000          1.000000   \n",
      "25%                    1.000000             1.000000          2.000000   \n",
      "50%                    1.000000             7.000000          4.000000   \n",
      "75%                    4.000000             7.000000          6.000000   \n",
      "max                   28.000000            25.000000         14.000000   \n",
      "\n",
      "       num_lab_procedures  num_procedures  num_medications  number_outpatient  \\\n",
      "count       101766.000000   101766.000000    101766.000000      101766.000000   \n",
      "mean            43.095641        1.339730        16.021844           0.369357   \n",
      "std             19.674362        1.705807         8.127566           1.267265   \n",
      "min              1.000000        0.000000         1.000000           0.000000   \n",
      "25%             31.000000        0.000000        10.000000           0.000000   \n",
      "50%             44.000000        1.000000        15.000000           0.000000   \n",
      "75%             57.000000        2.000000        20.000000           0.000000   \n",
      "max            132.000000        6.000000        81.000000          42.000000   \n",
      "\n",
      "       number_emergency  number_inpatient  number_diagnoses  \n",
      "count     101766.000000     101766.000000     101766.000000  \n",
      "mean           0.197836          0.635566          7.422607  \n",
      "std            0.930472          1.262863          1.933600  \n",
      "min            0.000000          0.000000          1.000000  \n",
      "25%            0.000000          0.000000          6.000000  \n",
      "50%            0.000000          0.000000          8.000000  \n",
      "75%            0.000000          1.000000          9.000000  \n",
      "max           76.000000         21.000000         16.000000  \n"
     ]
    }
   ],
   "source": [
    "print(df.info())\n",
    "print(df.describe())"
   ]
  },
  {
   "cell_type": "code",
   "execution_count": 5,
   "metadata": {},
   "outputs": [
    {
     "data": {
      "text/plain": [
       "encounter_id                    0\n",
       "patient_nbr                     0\n",
       "race                         2273\n",
       "gender                          0\n",
       "age                             0\n",
       "weight                      98569\n",
       "admission_type_id               0\n",
       "discharge_disposition_id        0\n",
       "admission_source_id             0\n",
       "time_in_hospital                0\n",
       "payer_code                  40256\n",
       "medical_specialty           49949\n",
       "num_lab_procedures              0\n",
       "num_procedures                  0\n",
       "num_medications                 0\n",
       "number_outpatient               0\n",
       "number_emergency                0\n",
       "number_inpatient                0\n",
       "diag_1                         21\n",
       "diag_2                        358\n",
       "diag_3                       1423\n",
       "number_diagnoses                0\n",
       "max_glu_serum                   0\n",
       "A1Cresult                       0\n",
       "metformin                       0\n",
       "repaglinide                     0\n",
       "nateglinide                     0\n",
       "chlorpropamide                  0\n",
       "glimepiride                     0\n",
       "acetohexamide                   0\n",
       "glipizide                       0\n",
       "glyburide                       0\n",
       "tolbutamide                     0\n",
       "pioglitazone                    0\n",
       "rosiglitazone                   0\n",
       "acarbose                        0\n",
       "miglitol                        0\n",
       "troglitazone                    0\n",
       "tolazamide                      0\n",
       "examide                         0\n",
       "citoglipton                     0\n",
       "insulin                         0\n",
       "glyburide-metformin             0\n",
       "glipizide-metformin             0\n",
       "glimepiride-pioglitazone        0\n",
       "metformin-rosiglitazone         0\n",
       "metformin-pioglitazone          0\n",
       "change                          0\n",
       "diabetesMed                     0\n",
       "readmitted                      0\n",
       "dtype: int64"
      ]
     },
     "execution_count": 5,
     "metadata": {},
     "output_type": "execute_result"
    }
   ],
   "source": [
    "df.isnull().sum()"
   ]
  },
  {
   "cell_type": "markdown",
   "metadata": {},
   "source": [
    "# Cleaning - Missingness"
   ]
  },
  {
   "cell_type": "code",
   "execution_count": 6,
   "metadata": {},
   "outputs": [
    {
     "data": {
      "text/plain": [
<<<<<<< HEAD
       "<AxesSubplot:>"
=======
       "<matplotlib.axes._subplots.AxesSubplot at 0x1c5a9357be0>"
>>>>>>> mhomnipool-main
      ]
     },
     "execution_count": 6,
     "metadata": {},
     "output_type": "execute_result"
    },
    {
     "data": {
      "image/png": "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\n",
      "text/plain": [
       "<Figure size 576x396 with 1 Axes>"
      ]
     },
     "metadata": {},
     "output_type": "display_data"
    }
   ],
   "source": [
    "# Compute missingness \n",
    "missing = round((df.isna().sum()/len(df)),2).sort_values(ascending = True)\n",
    "missing = missing[missing > 0]\n",
    "missing.plot(kind='barh')"
   ]
  },
  {
   "cell_type": "code",
   "execution_count": 7,
   "metadata": {},
   "outputs": [
    {
     "data": {
      "text/html": [
       "<div>\n",
       "<style scoped>\n",
       "    .dataframe tbody tr th:only-of-type {\n",
       "        vertical-align: middle;\n",
       "    }\n",
       "\n",
       "    .dataframe tbody tr th {\n",
       "        vertical-align: top;\n",
       "    }\n",
       "\n",
       "    .dataframe thead th {\n",
       "        text-align: right;\n",
       "    }\n",
       "</style>\n",
       "<table border=\"1\" class=\"dataframe\">\n",
       "  <thead>\n",
       "    <tr style=\"text-align: right;\">\n",
       "      <th></th>\n",
       "      <th>0</th>\n",
       "    </tr>\n",
       "  </thead>\n",
       "  <tbody>\n",
       "    <tr>\n",
       "      <th>diag_3</th>\n",
       "      <td>0.01</td>\n",
       "    </tr>\n",
       "    <tr>\n",
       "      <th>race</th>\n",
       "      <td>0.02</td>\n",
       "    </tr>\n",
       "    <tr>\n",
       "      <th>payer_code</th>\n",
       "      <td>0.40</td>\n",
       "    </tr>\n",
       "    <tr>\n",
       "      <th>medical_specialty</th>\n",
       "      <td>0.49</td>\n",
       "    </tr>\n",
       "    <tr>\n",
       "      <th>weight</th>\n",
       "      <td>0.97</td>\n",
       "    </tr>\n",
       "  </tbody>\n",
       "</table>\n",
       "</div>"
      ],
      "text/plain": [
       "                      0\n",
       "diag_3             0.01\n",
       "race               0.02\n",
       "payer_code         0.40\n",
       "medical_specialty  0.49\n",
       "weight             0.97"
      ]
     },
     "execution_count": 7,
     "metadata": {},
     "output_type": "execute_result"
    }
   ],
   "source": [
    "# Missing values table \n",
    "missing_table = pd.DataFrame(data=missing)\n",
    "missing_table"
   ]
  },
  {
   "cell_type": "code",
   "execution_count": 8,
   "metadata": {},
   "outputs": [],
   "source": [
    "# Create target column\n",
    "#Set all values <30 to YES (Readmission), else all other values to NO\n",
    "df.readmitted = df.readmitted.apply(lambda x: 'Yes' if x in ['<30'] else 'No')"
   ]
  },
  {
   "cell_type": "code",
   "execution_count": 9,
   "metadata": {},
   "outputs": [],
   "source": [
    "# Drop columns for missingness\n",
    "df = df.drop(columns=\"weight\")\n",
    "df = df.drop(columns=\"payer_code\")\n",
    "df = df.drop(columns=\"medical_specialty\")"
   ]
  },
  {
   "cell_type": "code",
   "execution_count": 10,
<<<<<<< HEAD
   "metadata": {},
   "outputs": [],
   "source": [
    "# Only 3 values of unknown gender; drop those observations\n",
    "df = df[df.gender != \"Unknown/Invalid\"]"
   ]
  },
  {
   "cell_type": "code",
   "execution_count": 11,
=======
>>>>>>> mhomnipool-main
   "metadata": {},
   "outputs": [],
   "source": [
    "# Dealing with Missingness\n",
    "df = df.replace(\"?\",np.NaN)\n",
    "df.race = df.race.replace(np.NaN,\"unknown\")\n",
    "df = df.replace(np.NaN, \"missing\")"
   ]
  },
  {
   "cell_type": "code",
<<<<<<< HEAD
   "execution_count": 12,
=======
   "execution_count": 11,
>>>>>>> mhomnipool-main
   "metadata": {},
   "outputs": [
    {
     "data": {
      "text/plain": [
       "0"
      ]
     },
<<<<<<< HEAD
     "execution_count": 12,
=======
     "execution_count": 11,
>>>>>>> mhomnipool-main
     "metadata": {},
     "output_type": "execute_result"
    }
   ],
   "source": [
    "df.isna().sum().sum()"
   ]
  },
  {
   "cell_type": "code",
<<<<<<< HEAD
   "execution_count": 13,
=======
   "execution_count": 12,
>>>>>>> mhomnipool-main
   "metadata": {},
   "outputs": [],
   "source": [
    "# # Ensuring correct type of variables\n",
    "# df.admission_type_id = df.admission_type_id.apply(str)\n",
    "# df.discharge_disposition_id = df.discharge_disposition_id.apply(str)\n",
    "# df.admission_source_id = df.admission_source_id.apply(str)"
   ]
  },
  {
   "cell_type": "markdown",
   "metadata": {},
   "source": [
    "# Cleaning - Delete Multiple Encounters"
   ]
  },
  {
   "cell_type": "code",
<<<<<<< HEAD
   "execution_count": 14,
   "metadata": {},
   "outputs": [
    {
     "data": {
      "text/plain": [
       "(71515, 45)"
      ]
     },
     "execution_count": 14,
     "metadata": {},
     "output_type": "execute_result"
    }
   ],
=======
   "execution_count": 13,
   "metadata": {},
   "outputs": [],
>>>>>>> mhomnipool-main
   "source": [
    "# Drop duplicate values for patient number. Keep first entry to show if patient was readmitted or not. \n",
    "df = df.drop_duplicates('patient_nbr', keep = 'first')\n",
    "df = df.drop(columns=\"encounter_id\")\n",
<<<<<<< HEAD
    "df = df.drop(columns=\"patient_nbr\")\n",
    "df.shape"
   ]
  },
  {
   "cell_type": "code",
   "execution_count": 15,
   "metadata": {},
   "outputs": [
    {
     "data": {
      "text/html": [
       "<div>\n",
       "<style scoped>\n",
       "    .dataframe tbody tr th:only-of-type {\n",
       "        vertical-align: middle;\n",
       "    }\n",
       "\n",
       "    .dataframe tbody tr th {\n",
       "        vertical-align: top;\n",
       "    }\n",
       "\n",
       "    .dataframe thead th {\n",
       "        text-align: right;\n",
       "    }\n",
       "</style>\n",
       "<table border=\"1\" class=\"dataframe\">\n",
       "  <thead>\n",
       "    <tr style=\"text-align: right;\">\n",
       "      <th></th>\n",
       "      <th>race</th>\n",
       "      <th>gender</th>\n",
       "      <th>age</th>\n",
       "      <th>admission_type_id</th>\n",
       "      <th>discharge_disposition_id</th>\n",
       "      <th>admission_source_id</th>\n",
       "      <th>time_in_hospital</th>\n",
       "      <th>num_lab_procedures</th>\n",
       "      <th>num_procedures</th>\n",
       "      <th>num_medications</th>\n",
       "      <th>number_outpatient</th>\n",
       "      <th>number_emergency</th>\n",
       "      <th>number_inpatient</th>\n",
       "      <th>diag_1</th>\n",
       "      <th>diag_2</th>\n",
       "      <th>diag_3</th>\n",
       "      <th>number_diagnoses</th>\n",
       "      <th>max_glu_serum</th>\n",
       "      <th>A1Cresult</th>\n",
       "      <th>metformin</th>\n",
       "      <th>repaglinide</th>\n",
       "      <th>nateglinide</th>\n",
       "      <th>chlorpropamide</th>\n",
       "      <th>glimepiride</th>\n",
       "      <th>acetohexamide</th>\n",
       "      <th>glipizide</th>\n",
       "      <th>glyburide</th>\n",
       "      <th>tolbutamide</th>\n",
       "      <th>pioglitazone</th>\n",
       "      <th>rosiglitazone</th>\n",
       "      <th>acarbose</th>\n",
       "      <th>miglitol</th>\n",
       "      <th>troglitazone</th>\n",
       "      <th>tolazamide</th>\n",
       "      <th>examide</th>\n",
       "      <th>citoglipton</th>\n",
       "      <th>insulin</th>\n",
       "      <th>glyburide-metformin</th>\n",
       "      <th>glipizide-metformin</th>\n",
       "      <th>glimepiride-pioglitazone</th>\n",
       "      <th>metformin-rosiglitazone</th>\n",
       "      <th>metformin-pioglitazone</th>\n",
       "      <th>change</th>\n",
       "      <th>diabetesMed</th>\n",
       "      <th>readmitted</th>\n",
       "    </tr>\n",
       "  </thead>\n",
       "  <tbody>\n",
       "    <tr>\n",
       "      <th>0</th>\n",
       "      <td>Caucasian</td>\n",
       "      <td>Female</td>\n",
       "      <td>[0-10)</td>\n",
       "      <td>6</td>\n",
       "      <td>25</td>\n",
       "      <td>1</td>\n",
       "      <td>1</td>\n",
       "      <td>41</td>\n",
       "      <td>0</td>\n",
       "      <td>1</td>\n",
       "      <td>0</td>\n",
       "      <td>0</td>\n",
       "      <td>0</td>\n",
       "      <td>250.83</td>\n",
       "      <td>missing</td>\n",
       "      <td>missing</td>\n",
       "      <td>1</td>\n",
       "      <td>None</td>\n",
       "      <td>None</td>\n",
       "      <td>No</td>\n",
       "      <td>No</td>\n",
       "      <td>No</td>\n",
       "      <td>No</td>\n",
       "      <td>No</td>\n",
       "      <td>No</td>\n",
       "      <td>No</td>\n",
       "      <td>No</td>\n",
       "      <td>No</td>\n",
       "      <td>No</td>\n",
       "      <td>No</td>\n",
       "      <td>No</td>\n",
       "      <td>No</td>\n",
       "      <td>No</td>\n",
       "      <td>No</td>\n",
       "      <td>No</td>\n",
       "      <td>No</td>\n",
       "      <td>No</td>\n",
       "      <td>No</td>\n",
       "      <td>No</td>\n",
       "      <td>No</td>\n",
       "      <td>No</td>\n",
       "      <td>No</td>\n",
       "      <td>No</td>\n",
       "      <td>No</td>\n",
       "      <td>No</td>\n",
       "    </tr>\n",
       "    <tr>\n",
       "      <th>1</th>\n",
       "      <td>Caucasian</td>\n",
       "      <td>Female</td>\n",
       "      <td>[10-20)</td>\n",
       "      <td>1</td>\n",
       "      <td>1</td>\n",
       "      <td>7</td>\n",
       "      <td>3</td>\n",
       "      <td>59</td>\n",
       "      <td>0</td>\n",
       "      <td>18</td>\n",
       "      <td>0</td>\n",
       "      <td>0</td>\n",
       "      <td>0</td>\n",
       "      <td>276</td>\n",
       "      <td>250.01</td>\n",
       "      <td>255</td>\n",
       "      <td>9</td>\n",
       "      <td>None</td>\n",
       "      <td>None</td>\n",
       "      <td>No</td>\n",
       "      <td>No</td>\n",
       "      <td>No</td>\n",
       "      <td>No</td>\n",
       "      <td>No</td>\n",
       "      <td>No</td>\n",
       "      <td>No</td>\n",
       "      <td>No</td>\n",
       "      <td>No</td>\n",
       "      <td>No</td>\n",
       "      <td>No</td>\n",
       "      <td>No</td>\n",
       "      <td>No</td>\n",
       "      <td>No</td>\n",
       "      <td>No</td>\n",
       "      <td>No</td>\n",
       "      <td>No</td>\n",
       "      <td>Up</td>\n",
       "      <td>No</td>\n",
       "      <td>No</td>\n",
       "      <td>No</td>\n",
       "      <td>No</td>\n",
       "      <td>No</td>\n",
       "      <td>Ch</td>\n",
       "      <td>Yes</td>\n",
       "      <td>No</td>\n",
       "    </tr>\n",
       "    <tr>\n",
       "      <th>2</th>\n",
       "      <td>AfricanAmerican</td>\n",
       "      <td>Female</td>\n",
       "      <td>[20-30)</td>\n",
       "      <td>1</td>\n",
       "      <td>1</td>\n",
       "      <td>7</td>\n",
       "      <td>2</td>\n",
       "      <td>11</td>\n",
       "      <td>5</td>\n",
       "      <td>13</td>\n",
       "      <td>2</td>\n",
       "      <td>0</td>\n",
       "      <td>1</td>\n",
       "      <td>648</td>\n",
       "      <td>250</td>\n",
       "      <td>V27</td>\n",
       "      <td>6</td>\n",
       "      <td>None</td>\n",
       "      <td>None</td>\n",
       "      <td>No</td>\n",
       "      <td>No</td>\n",
       "      <td>No</td>\n",
       "      <td>No</td>\n",
       "      <td>No</td>\n",
       "      <td>No</td>\n",
       "      <td>Steady</td>\n",
       "      <td>No</td>\n",
       "      <td>No</td>\n",
       "      <td>No</td>\n",
       "      <td>No</td>\n",
       "      <td>No</td>\n",
       "      <td>No</td>\n",
       "      <td>No</td>\n",
       "      <td>No</td>\n",
       "      <td>No</td>\n",
       "      <td>No</td>\n",
       "      <td>No</td>\n",
       "      <td>No</td>\n",
       "      <td>No</td>\n",
       "      <td>No</td>\n",
       "      <td>No</td>\n",
       "      <td>No</td>\n",
       "      <td>No</td>\n",
       "      <td>Yes</td>\n",
       "      <td>No</td>\n",
       "    </tr>\n",
       "    <tr>\n",
       "      <th>3</th>\n",
       "      <td>Caucasian</td>\n",
       "      <td>Male</td>\n",
       "      <td>[30-40)</td>\n",
       "      <td>1</td>\n",
       "      <td>1</td>\n",
       "      <td>7</td>\n",
       "      <td>2</td>\n",
       "      <td>44</td>\n",
       "      <td>1</td>\n",
       "      <td>16</td>\n",
       "      <td>0</td>\n",
       "      <td>0</td>\n",
       "      <td>0</td>\n",
       "      <td>8</td>\n",
       "      <td>250.43</td>\n",
       "      <td>403</td>\n",
       "      <td>7</td>\n",
       "      <td>None</td>\n",
       "      <td>None</td>\n",
       "      <td>No</td>\n",
       "      <td>No</td>\n",
       "      <td>No</td>\n",
       "      <td>No</td>\n",
       "      <td>No</td>\n",
       "      <td>No</td>\n",
       "      <td>No</td>\n",
       "      <td>No</td>\n",
       "      <td>No</td>\n",
       "      <td>No</td>\n",
       "      <td>No</td>\n",
       "      <td>No</td>\n",
       "      <td>No</td>\n",
       "      <td>No</td>\n",
       "      <td>No</td>\n",
       "      <td>No</td>\n",
       "      <td>No</td>\n",
       "      <td>Up</td>\n",
       "      <td>No</td>\n",
       "      <td>No</td>\n",
       "      <td>No</td>\n",
       "      <td>No</td>\n",
       "      <td>No</td>\n",
       "      <td>Ch</td>\n",
       "      <td>Yes</td>\n",
       "      <td>No</td>\n",
       "    </tr>\n",
       "    <tr>\n",
       "      <th>4</th>\n",
       "      <td>Caucasian</td>\n",
       "      <td>Male</td>\n",
       "      <td>[40-50)</td>\n",
       "      <td>1</td>\n",
       "      <td>1</td>\n",
       "      <td>7</td>\n",
       "      <td>1</td>\n",
       "      <td>51</td>\n",
       "      <td>0</td>\n",
       "      <td>8</td>\n",
       "      <td>0</td>\n",
       "      <td>0</td>\n",
       "      <td>0</td>\n",
       "      <td>197</td>\n",
       "      <td>157</td>\n",
       "      <td>250</td>\n",
       "      <td>5</td>\n",
       "      <td>None</td>\n",
       "      <td>None</td>\n",
       "      <td>No</td>\n",
       "      <td>No</td>\n",
       "      <td>No</td>\n",
       "      <td>No</td>\n",
       "      <td>No</td>\n",
       "      <td>No</td>\n",
       "      <td>Steady</td>\n",
       "      <td>No</td>\n",
       "      <td>No</td>\n",
       "      <td>No</td>\n",
       "      <td>No</td>\n",
       "      <td>No</td>\n",
       "      <td>No</td>\n",
       "      <td>No</td>\n",
       "      <td>No</td>\n",
       "      <td>No</td>\n",
       "      <td>No</td>\n",
       "      <td>Steady</td>\n",
       "      <td>No</td>\n",
       "      <td>No</td>\n",
       "      <td>No</td>\n",
       "      <td>No</td>\n",
       "      <td>No</td>\n",
       "      <td>Ch</td>\n",
       "      <td>Yes</td>\n",
       "      <td>No</td>\n",
       "    </tr>\n",
       "    <tr>\n",
       "      <th>...</th>\n",
       "      <td>...</td>\n",
       "      <td>...</td>\n",
       "      <td>...</td>\n",
       "      <td>...</td>\n",
       "      <td>...</td>\n",
       "      <td>...</td>\n",
       "      <td>...</td>\n",
       "      <td>...</td>\n",
       "      <td>...</td>\n",
       "      <td>...</td>\n",
       "      <td>...</td>\n",
       "      <td>...</td>\n",
       "      <td>...</td>\n",
       "      <td>...</td>\n",
       "      <td>...</td>\n",
       "      <td>...</td>\n",
       "      <td>...</td>\n",
       "      <td>...</td>\n",
       "      <td>...</td>\n",
       "      <td>...</td>\n",
       "      <td>...</td>\n",
       "      <td>...</td>\n",
       "      <td>...</td>\n",
       "      <td>...</td>\n",
       "      <td>...</td>\n",
       "      <td>...</td>\n",
       "      <td>...</td>\n",
       "      <td>...</td>\n",
       "      <td>...</td>\n",
       "      <td>...</td>\n",
       "      <td>...</td>\n",
       "      <td>...</td>\n",
       "      <td>...</td>\n",
       "      <td>...</td>\n",
       "      <td>...</td>\n",
       "      <td>...</td>\n",
       "      <td>...</td>\n",
       "      <td>...</td>\n",
       "      <td>...</td>\n",
       "      <td>...</td>\n",
       "      <td>...</td>\n",
       "      <td>...</td>\n",
       "      <td>...</td>\n",
       "      <td>...</td>\n",
       "      <td>...</td>\n",
       "    </tr>\n",
       "    <tr>\n",
       "      <th>101754</th>\n",
       "      <td>Caucasian</td>\n",
       "      <td>Female</td>\n",
       "      <td>[70-80)</td>\n",
       "      <td>1</td>\n",
       "      <td>1</td>\n",
       "      <td>7</td>\n",
       "      <td>9</td>\n",
       "      <td>50</td>\n",
       "      <td>2</td>\n",
       "      <td>33</td>\n",
       "      <td>0</td>\n",
       "      <td>0</td>\n",
       "      <td>0</td>\n",
       "      <td>574</td>\n",
       "      <td>574</td>\n",
       "      <td>250.02</td>\n",
       "      <td>9</td>\n",
       "      <td>None</td>\n",
       "      <td>&gt;7</td>\n",
       "      <td>No</td>\n",
       "      <td>No</td>\n",
       "      <td>No</td>\n",
       "      <td>No</td>\n",
       "      <td>No</td>\n",
       "      <td>No</td>\n",
       "      <td>No</td>\n",
       "      <td>Up</td>\n",
       "      <td>No</td>\n",
       "      <td>No</td>\n",
       "      <td>No</td>\n",
       "      <td>No</td>\n",
       "      <td>No</td>\n",
       "      <td>No</td>\n",
       "      <td>No</td>\n",
       "      <td>No</td>\n",
       "      <td>No</td>\n",
       "      <td>Steady</td>\n",
       "      <td>No</td>\n",
       "      <td>No</td>\n",
       "      <td>No</td>\n",
       "      <td>No</td>\n",
       "      <td>No</td>\n",
       "      <td>Ch</td>\n",
       "      <td>Yes</td>\n",
       "      <td>No</td>\n",
       "    </tr>\n",
       "    <tr>\n",
       "      <th>101755</th>\n",
       "      <td>Other</td>\n",
       "      <td>Female</td>\n",
       "      <td>[40-50)</td>\n",
       "      <td>1</td>\n",
       "      <td>1</td>\n",
       "      <td>7</td>\n",
       "      <td>14</td>\n",
       "      <td>73</td>\n",
       "      <td>6</td>\n",
       "      <td>26</td>\n",
       "      <td>0</td>\n",
       "      <td>1</td>\n",
       "      <td>0</td>\n",
       "      <td>592</td>\n",
       "      <td>599</td>\n",
       "      <td>518</td>\n",
       "      <td>9</td>\n",
       "      <td>None</td>\n",
       "      <td>&gt;8</td>\n",
       "      <td>No</td>\n",
       "      <td>No</td>\n",
       "      <td>No</td>\n",
       "      <td>No</td>\n",
       "      <td>No</td>\n",
       "      <td>No</td>\n",
       "      <td>Steady</td>\n",
       "      <td>No</td>\n",
       "      <td>No</td>\n",
       "      <td>No</td>\n",
       "      <td>No</td>\n",
       "      <td>No</td>\n",
       "      <td>No</td>\n",
       "      <td>No</td>\n",
       "      <td>No</td>\n",
       "      <td>No</td>\n",
       "      <td>No</td>\n",
       "      <td>Up</td>\n",
       "      <td>No</td>\n",
       "      <td>No</td>\n",
       "      <td>No</td>\n",
       "      <td>No</td>\n",
       "      <td>No</td>\n",
       "      <td>Ch</td>\n",
       "      <td>Yes</td>\n",
       "      <td>No</td>\n",
       "    </tr>\n",
       "    <tr>\n",
       "      <th>101756</th>\n",
       "      <td>Other</td>\n",
       "      <td>Female</td>\n",
       "      <td>[60-70)</td>\n",
       "      <td>1</td>\n",
       "      <td>1</td>\n",
       "      <td>7</td>\n",
       "      <td>2</td>\n",
       "      <td>46</td>\n",
       "      <td>6</td>\n",
       "      <td>17</td>\n",
       "      <td>1</td>\n",
       "      <td>1</td>\n",
       "      <td>1</td>\n",
       "      <td>996</td>\n",
       "      <td>585</td>\n",
       "      <td>403</td>\n",
       "      <td>9</td>\n",
       "      <td>None</td>\n",
       "      <td>None</td>\n",
       "      <td>No</td>\n",
       "      <td>No</td>\n",
       "      <td>No</td>\n",
       "      <td>No</td>\n",
       "      <td>No</td>\n",
       "      <td>No</td>\n",
       "      <td>No</td>\n",
       "      <td>No</td>\n",
       "      <td>No</td>\n",
       "      <td>No</td>\n",
       "      <td>No</td>\n",
       "      <td>No</td>\n",
       "      <td>No</td>\n",
       "      <td>No</td>\n",
       "      <td>No</td>\n",
       "      <td>No</td>\n",
       "      <td>No</td>\n",
       "      <td>Steady</td>\n",
       "      <td>No</td>\n",
       "      <td>No</td>\n",
       "      <td>No</td>\n",
       "      <td>No</td>\n",
       "      <td>No</td>\n",
       "      <td>No</td>\n",
       "      <td>Yes</td>\n",
       "      <td>No</td>\n",
       "    </tr>\n",
       "    <tr>\n",
       "      <th>101758</th>\n",
       "      <td>Caucasian</td>\n",
       "      <td>Female</td>\n",
       "      <td>[80-90)</td>\n",
       "      <td>1</td>\n",
       "      <td>1</td>\n",
       "      <td>7</td>\n",
       "      <td>5</td>\n",
       "      <td>76</td>\n",
       "      <td>1</td>\n",
       "      <td>22</td>\n",
       "      <td>0</td>\n",
       "      <td>1</td>\n",
       "      <td>0</td>\n",
       "      <td>292</td>\n",
       "      <td>8</td>\n",
       "      <td>304</td>\n",
       "      <td>9</td>\n",
       "      <td>None</td>\n",
       "      <td>None</td>\n",
       "      <td>No</td>\n",
       "      <td>No</td>\n",
       "      <td>No</td>\n",
       "      <td>No</td>\n",
       "      <td>No</td>\n",
       "      <td>No</td>\n",
       "      <td>No</td>\n",
       "      <td>No</td>\n",
       "      <td>No</td>\n",
       "      <td>No</td>\n",
       "      <td>No</td>\n",
       "      <td>No</td>\n",
       "      <td>No</td>\n",
       "      <td>No</td>\n",
       "      <td>No</td>\n",
       "      <td>No</td>\n",
       "      <td>No</td>\n",
       "      <td>Up</td>\n",
       "      <td>No</td>\n",
       "      <td>No</td>\n",
       "      <td>No</td>\n",
       "      <td>No</td>\n",
       "      <td>No</td>\n",
       "      <td>Ch</td>\n",
       "      <td>Yes</td>\n",
       "      <td>No</td>\n",
       "    </tr>\n",
       "    <tr>\n",
       "      <th>101765</th>\n",
       "      <td>Caucasian</td>\n",
       "      <td>Male</td>\n",
       "      <td>[70-80)</td>\n",
       "      <td>1</td>\n",
       "      <td>1</td>\n",
       "      <td>7</td>\n",
       "      <td>6</td>\n",
       "      <td>13</td>\n",
       "      <td>3</td>\n",
       "      <td>3</td>\n",
       "      <td>0</td>\n",
       "      <td>0</td>\n",
       "      <td>0</td>\n",
       "      <td>530</td>\n",
       "      <td>530</td>\n",
       "      <td>787</td>\n",
       "      <td>9</td>\n",
       "      <td>None</td>\n",
       "      <td>None</td>\n",
       "      <td>No</td>\n",
       "      <td>No</td>\n",
       "      <td>No</td>\n",
       "      <td>No</td>\n",
       "      <td>No</td>\n",
       "      <td>No</td>\n",
       "      <td>No</td>\n",
       "      <td>No</td>\n",
       "      <td>No</td>\n",
       "      <td>No</td>\n",
       "      <td>No</td>\n",
       "      <td>No</td>\n",
       "      <td>No</td>\n",
       "      <td>No</td>\n",
       "      <td>No</td>\n",
       "      <td>No</td>\n",
       "      <td>No</td>\n",
       "      <td>No</td>\n",
       "      <td>No</td>\n",
       "      <td>No</td>\n",
       "      <td>No</td>\n",
       "      <td>No</td>\n",
       "      <td>No</td>\n",
       "      <td>No</td>\n",
       "      <td>No</td>\n",
       "      <td>No</td>\n",
       "    </tr>\n",
       "  </tbody>\n",
       "</table>\n",
       "<p>71515 rows × 45 columns</p>\n",
       "</div>"
      ],
      "text/plain": [
       "                   race  gender      age admission_type_id  \\\n",
       "0             Caucasian  Female   [0-10)                 6   \n",
       "1             Caucasian  Female  [10-20)                 1   \n",
       "2       AfricanAmerican  Female  [20-30)                 1   \n",
       "3             Caucasian    Male  [30-40)                 1   \n",
       "4             Caucasian    Male  [40-50)                 1   \n",
       "...                 ...     ...      ...               ...   \n",
       "101754        Caucasian  Female  [70-80)                 1   \n",
       "101755            Other  Female  [40-50)                 1   \n",
       "101756            Other  Female  [60-70)                 1   \n",
       "101758        Caucasian  Female  [80-90)                 1   \n",
       "101765        Caucasian    Male  [70-80)                 1   \n",
       "\n",
       "       discharge_disposition_id admission_source_id  time_in_hospital  \\\n",
       "0                            25                   1                 1   \n",
       "1                             1                   7                 3   \n",
       "2                             1                   7                 2   \n",
       "3                             1                   7                 2   \n",
       "4                             1                   7                 1   \n",
       "...                         ...                 ...               ...   \n",
       "101754                        1                   7                 9   \n",
       "101755                        1                   7                14   \n",
       "101756                        1                   7                 2   \n",
       "101758                        1                   7                 5   \n",
       "101765                        1                   7                 6   \n",
       "\n",
       "        num_lab_procedures  num_procedures  num_medications  \\\n",
       "0                       41               0                1   \n",
       "1                       59               0               18   \n",
       "2                       11               5               13   \n",
       "3                       44               1               16   \n",
       "4                       51               0                8   \n",
       "...                    ...             ...              ...   \n",
       "101754                  50               2               33   \n",
       "101755                  73               6               26   \n",
       "101756                  46               6               17   \n",
       "101758                  76               1               22   \n",
       "101765                  13               3                3   \n",
       "\n",
       "        number_outpatient  number_emergency  number_inpatient  diag_1  \\\n",
       "0                       0                 0                 0  250.83   \n",
       "1                       0                 0                 0     276   \n",
       "2                       2                 0                 1     648   \n",
       "3                       0                 0                 0       8   \n",
       "4                       0                 0                 0     197   \n",
       "...                   ...               ...               ...     ...   \n",
       "101754                  0                 0                 0     574   \n",
       "101755                  0                 1                 0     592   \n",
       "101756                  1                 1                 1     996   \n",
       "101758                  0                 1                 0     292   \n",
       "101765                  0                 0                 0     530   \n",
       "\n",
       "         diag_2   diag_3  number_diagnoses max_glu_serum A1Cresult metformin  \\\n",
       "0       missing  missing                 1          None      None        No   \n",
       "1        250.01      255                 9          None      None        No   \n",
       "2           250      V27                 6          None      None        No   \n",
       "3        250.43      403                 7          None      None        No   \n",
       "4           157      250                 5          None      None        No   \n",
       "...         ...      ...               ...           ...       ...       ...   \n",
       "101754      574   250.02                 9          None        >7        No   \n",
       "101755      599      518                 9          None        >8        No   \n",
       "101756      585      403                 9          None      None        No   \n",
       "101758        8      304                 9          None      None        No   \n",
       "101765      530      787                 9          None      None        No   \n",
       "\n",
       "       repaglinide nateglinide chlorpropamide glimepiride acetohexamide  \\\n",
       "0               No          No             No          No            No   \n",
       "1               No          No             No          No            No   \n",
       "2               No          No             No          No            No   \n",
       "3               No          No             No          No            No   \n",
       "4               No          No             No          No            No   \n",
       "...            ...         ...            ...         ...           ...   \n",
       "101754          No          No             No          No            No   \n",
       "101755          No          No             No          No            No   \n",
       "101756          No          No             No          No            No   \n",
       "101758          No          No             No          No            No   \n",
       "101765          No          No             No          No            No   \n",
       "\n",
       "       glipizide glyburide tolbutamide pioglitazone rosiglitazone acarbose  \\\n",
       "0             No        No          No           No            No       No   \n",
       "1             No        No          No           No            No       No   \n",
       "2         Steady        No          No           No            No       No   \n",
       "3             No        No          No           No            No       No   \n",
       "4         Steady        No          No           No            No       No   \n",
       "...          ...       ...         ...          ...           ...      ...   \n",
       "101754        No        Up          No           No            No       No   \n",
       "101755    Steady        No          No           No            No       No   \n",
       "101756        No        No          No           No            No       No   \n",
       "101758        No        No          No           No            No       No   \n",
       "101765        No        No          No           No            No       No   \n",
       "\n",
       "       miglitol troglitazone tolazamide examide citoglipton insulin  \\\n",
       "0            No           No         No      No          No      No   \n",
       "1            No           No         No      No          No      Up   \n",
       "2            No           No         No      No          No      No   \n",
       "3            No           No         No      No          No      Up   \n",
       "4            No           No         No      No          No  Steady   \n",
       "...         ...          ...        ...     ...         ...     ...   \n",
       "101754       No           No         No      No          No  Steady   \n",
       "101755       No           No         No      No          No      Up   \n",
       "101756       No           No         No      No          No  Steady   \n",
       "101758       No           No         No      No          No      Up   \n",
       "101765       No           No         No      No          No      No   \n",
       "\n",
       "       glyburide-metformin glipizide-metformin glimepiride-pioglitazone  \\\n",
       "0                       No                  No                       No   \n",
       "1                       No                  No                       No   \n",
       "2                       No                  No                       No   \n",
       "3                       No                  No                       No   \n",
       "4                       No                  No                       No   \n",
       "...                    ...                 ...                      ...   \n",
       "101754                  No                  No                       No   \n",
       "101755                  No                  No                       No   \n",
       "101756                  No                  No                       No   \n",
       "101758                  No                  No                       No   \n",
       "101765                  No                  No                       No   \n",
       "\n",
       "       metformin-rosiglitazone metformin-pioglitazone change diabetesMed  \\\n",
       "0                           No                     No     No          No   \n",
       "1                           No                     No     Ch         Yes   \n",
       "2                           No                     No     No         Yes   \n",
       "3                           No                     No     Ch         Yes   \n",
       "4                           No                     No     Ch         Yes   \n",
       "...                        ...                    ...    ...         ...   \n",
       "101754                      No                     No     Ch         Yes   \n",
       "101755                      No                     No     Ch         Yes   \n",
       "101756                      No                     No     No         Yes   \n",
       "101758                      No                     No     Ch         Yes   \n",
       "101765                      No                     No     No          No   \n",
       "\n",
       "       readmitted  \n",
       "0              No  \n",
       "1              No  \n",
       "2              No  \n",
       "3              No  \n",
       "4              No  \n",
       "...           ...  \n",
       "101754         No  \n",
       "101755         No  \n",
       "101756         No  \n",
       "101758         No  \n",
       "101765         No  \n",
       "\n",
       "[71515 rows x 45 columns]"
      ]
     },
     "execution_count": 15,
     "metadata": {},
     "output_type": "execute_result"
    }
   ],
   "source": [
    "df"
   ]
  },
  {
   "cell_type": "markdown",
   "metadata": {},
   "source": [
    "# Cleaning - Feature Simplification"
   ]
  },
  {
   "cell_type": "code",
   "execution_count": 16,
   "metadata": {},
   "outputs": [],
   "source": [
    "# Create a function to group diagnostic codes by range as well as separating diabetes specifically\n",
    "\n",
    "def diag_grouper(series):\n",
    "    \n",
    "    '''takes input as df.col and outputs diagnostic code groupings'''\n",
    "    \n",
    "    def no_str(x):\n",
    "        \n",
    "        '''takes input as an element of a series and pulls code for diabetes specific disease and E/V categories'''\n",
    "        \n",
    "        if '250' in x: return '9999'\n",
    "        elif 'E' in x: return '123456'\n",
    "        elif 'V' in x: return '123456'\n",
    "        elif x == 'missing': return '-654321'\n",
    "        else: return x\n",
    "    \n",
    "    series = series.apply(no_str)\n",
    "    \n",
    "    series = series.astype(float)\n",
    "    \n",
    "    def num_categ(x):\n",
    "        \n",
    "        '''takes input as an element of a series and saves each range as a numerical placeholder'''\n",
    "        \n",
    "        if 1 <= x <= 139: return 10000\n",
    "        elif 140 <= x <= 239: return 10001\n",
    "        elif 240 <= x <= 279: return 10002\n",
    "        elif 280 <= x <= 289: return 10003\n",
    "        elif 290 <= x <= 319: return 10004\n",
    "        elif 320 <= x <= 389: return 10005\n",
    "        elif 390 <= x <= 459: return 10006\n",
    "        elif 460 <= x <= 519: return 10007\n",
    "        elif 520 <= x <= 579: return 10008\n",
    "        elif 580 <= x <= 629: return 10009\n",
    "        elif 630 <= x <= 679: return 10010\n",
    "        elif 680 <= x <= 709: return 10011\n",
    "        elif 710 <= x <= 739: return 10012\n",
    "        elif 740 <= x <= 759: return 10013\n",
    "        elif 760 <= x <= 779: return 10014\n",
    "        elif 780 <= x <= 799: return 10015\n",
    "        elif 800 <= x <= 999: return 10016\n",
    "        else: return x\n",
    "        \n",
    "    series = series.apply(num_categ)\n",
    "    \n",
    "    def text_convert(x):\n",
    "        \n",
    "        '''takes input as an element of a series and converts each placeholder to string format'''\n",
    "        \n",
    "        if x == 10000: return \"Infectious and Parasitic Disease\"\n",
    "        elif x == 10001: return \"Neoplasms\"\n",
    "        elif x == 10002: return \"Endocrine/Metabolic/Immunity Disorder\"\n",
    "        elif x == 10003: return \"Blood/Blood Forming Organ Disease\"\n",
    "        elif x == 10004: return \"Mental Disorder\"\n",
    "        elif x == 10005: return \"Nervous System/Sense Organ Disease\"\n",
    "        elif x == 10006: return \"Circulatory Disease\"\n",
    "        elif x == 10007: return \"Respiratory Disease\"\n",
    "        elif x == 10008: return \"Digestive Disease\"\n",
    "        elif x == 10009: return \"Genitourinary Disease\"\n",
    "        elif x == 10010: return \"Complications of Pregnancy/Childbirth/Puerperium\"\n",
    "        elif x == 10011: return \"Skin Disease\"\n",
    "        elif x == 10012: return \"Musculoskeletal/Connective Tissue Disease\"\n",
    "        elif x == 10013: return \"Congenital Anomalies\"\n",
    "        elif x == 10014: return \"Conditions of Perinatal Origin\"\n",
    "        elif x == 10015: return \"Symptoms/Signs/Ill-Defined Conditions\"\n",
    "        elif x == 10016: return \"Injury and Poisoning\"\n",
    "        elif x == 9999: return \"Diabetes\"\n",
    "        elif x == 123456: return \"External Injury/Supplemental\"\n",
    "        elif x == -654321: return \"Missing\"\n",
    "    \n",
    "    return series.apply(text_convert)"
   ]
  },
  {
   "cell_type": "code",
   "execution_count": 17,
   "metadata": {},
   "outputs": [],
   "source": [
    "# Apply diag_grouper to the data frame\n",
    "df.diag_1 = diag_grouper(df.diag_1)\n",
    "df.diag_2 = diag_grouper(df.diag_2)\n",
    "df.diag_3 = diag_grouper(df.diag_3)"
   ]
  },
  {
   "cell_type": "markdown",
   "metadata": {},
   "source": [
    "# Perform an 80/20 Split for Hold Out Data"
   ]
  },
  {
   "cell_type": "code",
   "execution_count": 18,
   "metadata": {},
   "outputs": [],
   "source": [
    "# Perform and 80/20 split of the data\n",
    "train, test = train_test_split(df, test_size=0.2)"
   ]
  },
  {
   "cell_type": "markdown",
   "metadata": {},
   "source": [
    "# Plots and Deeper EDA (Training Data Only)"
   ]
  },
  {
   "cell_type": "code",
   "execution_count": 19,
   "metadata": {},
   "outputs": [],
   "source": [
    "#train.profile_report() - caution greatly increases file size"
   ]
  },
  {
   "cell_type": "code",
   "execution_count": 20,
   "metadata": {},
   "outputs": [
    {
     "data": {
      "text/plain": [
       "<AxesSubplot:>"
      ]
     },
     "execution_count": 20,
     "metadata": {},
     "output_type": "execute_result"
    },
    {
     "data": {
      "image/png": "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\n",
      "text/plain": [
       "<Figure size 576x396 with 2 Axes>"
      ]
     },
     "metadata": {},
     "output_type": "display_data"
    }
   ],
   "source": [
    "# Looking at correlation - keep an eye out for time_in_hospital vs num_medications\n",
    "corr = train.corr()\n",
    "sns.heatmap(corr)"
=======
    "df = df.drop(columns=\"patient_nbr\")"
>>>>>>> mhomnipool-main
   ]
  },
  {
   "cell_type": "markdown",
   "metadata": {},
   "source": [
    "## Write CSV's "
   ]
  },
  {
   "cell_type": "code",
<<<<<<< HEAD
   "execution_count": 21,
=======
   "execution_count": 14,
>>>>>>> mhomnipool-main
   "metadata": {},
   "outputs": [],
   "source": [
    "#Main DF\n",
<<<<<<< HEAD
    "df.to_csv(r'./data/cleaned_df.csv', index = False)"
   ]
  },
  {
   "cell_type": "code",
   "execution_count": 22,
   "metadata": {},
   "outputs": [],
   "source": [
    "#Test DF\n",
    "test.to_csv(r'./data/test_df.csv', index = False)"
   ]
  },
  {
   "cell_type": "code",
   "execution_count": 23,
   "metadata": {},
   "outputs": [],
   "source": [
    "#Train DF\n",
    "train.to_csv(r'./data/train_df.csv', index = False)"
   ]
  },
  {
   "cell_type": "markdown",
   "metadata": {},
   "source": [
    "# Plots"
   ]
  },
  {
   "cell_type": "code",
   "execution_count": 24,
   "metadata": {},
   "outputs": [
    {
     "data": {
      "text/plain": [
       "(array([0, 1, 2, 3]),\n",
       " [Text(0, 0, '>7'), Text(0, 1, 'Norm'), Text(0, 2, '>8'), Text(0, 3, 'None')])"
      ]
     },
     "execution_count": 24,
     "metadata": {},
     "output_type": "execute_result"
    },
    {
     "data": {
      "image/png": "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\n",
      "text/plain": [
       "<Figure size 720x432 with 1 Axes>"
      ]
     },
     "metadata": {},
     "output_type": "display_data"
    }
   ],
   "source": [
    "# HbA1c plot\n",
    "plt.figure(figsize=(10,6))\n",
    "a1cr_plot = train.A1Cresult.value_counts().sort_values().apply(lambda x: x/train.race.count()).plot(kind='barh')\n",
    "plt.title('HbA1c test',fontsize=14)\n",
    "plt.xticks(fontsize=12)\n",
    "plt.yticks(fontsize=12)"
   ]
  },
  {
   "cell_type": "code",
   "execution_count": 25,
   "metadata": {},
   "outputs": [
    {
     "data": {
      "text/plain": [
       "(array([0, 1]), [Text(0, 0, 'Ch'), Text(0, 1, 'No')])"
      ]
     },
     "execution_count": 25,
     "metadata": {},
     "output_type": "execute_result"
    },
    {
     "data": {
      "image/png": "iVBORw0KGgoAAAANSUhEUgAAAlIAAAF2CAYAAAClCnbOAAAAOXRFWHRTb2Z0d2FyZQBNYXRwbG90bGliIHZlcnNpb24zLjMuMiwgaHR0cHM6Ly9tYXRwbG90bGliLm9yZy8vihELAAAACXBIWXMAAAsTAAALEwEAmpwYAAAbs0lEQVR4nO3ce5TXc/7A8VdNJTGUNVib61Ht0gVZZeVSikON3FrjkoMc90u5NW65jVUpFmHdoqhQLqN1v2wcxFpa22pbjCg6kkpKNFPz+f3h57s7RNNbzVezj8c/9f1+P/P5vL7v72l6ns/nM9Mgy7IsAABYZQ3zPQAAwNpKSAEAJBJSAACJhBQAQCIhBQCQSEgBACQSUrCW+uKLL2LIkCGxzz77RIcOHWK//faL2267LaqqqnLbtGnTJl555ZU8Trn6/PGPf4yddtopunbtWufHPuKII+LGG2+MiIjS0tI499xzf/I+v/zyy3jooYdyj7t16xbjx4//yfsF6lajfA8ArLrPP/88Dj/88PjFL34RZWVl0bJly5g2bVqUlZXFO++8E8OGDcv3iKvVwoUL45Zbbokrrrgi9tprr7zOctFFF62W/dx1113x8ssvxyGHHBIRERMmTIhmzZqtln0DdUdIwVpo2LBh0bhx47jrrrtinXXWiYiILbbYIlq0aBF9+/aNvn37RocOHfI85eqzePHiiIjo1KlTbLbZZnmdpbCwcLXs57u/C3mjjTZaLfsF6pZLe7CWqaysjMceeyyOOuqoXER9a9ddd41Ro0ZF69atc8+9+eabceCBB0a7du3iyCOPjFmzZuVe+8tf/hIHH3xwtGvXLjp27Bj9+/fPRcuNN94YAwYMiCuuuCI6duwYnTt3jltvvTX3tdXV1TFs2LDo1KlTdOrUKW6++ebo0aNHvPbaa7k5r7rqqujcuXN06tQpzjrrrPjss89+8H1VVFREv379Yuedd44uXbrEjTfeGNXV1fHaa69Ft27dIiJiv/32y11i+2+lpaUxePDgGDBgQHTo0CF69uwZ06dPj+uuuy522WWX2GuvveLpp5/Obf/JJ5/EqaeeGjvuuGPsvffeMWzYsKisrMy9/swzz8R+++0XO+64Y5SVldWInu9e2nvssceiZ8+e0aFDhzjssMNiypQpudduu+222GeffaJt27bRpUuXuP766yMi4qGHHooRI0bEm2++GW3atImImpf2qqur44477oju3btH+/bt4+ijj47p06fn9tumTZt45JFHori4ONq1axclJSUxc+bM3OvXX3997LHHHtGuXbs4/PDDa8wErF5CCtYyM2fOjCVLlkS7du1W+Hrnzp1j3XXXzT1+4IEH4oILLogJEybEokWL4pprromIiFmzZsUZZ5wRJSUl8cQTT8T1118fr776aowbNy73tc8880wUFBTEQw89FCeccEJce+218d5770VExK233hqPPPJIDBs2LO66666YNGlSjUi79tpr4+9//3vceuutcc8990SWZXHSSSd970xMRMT8+fPjyCOPjE022STGjx8fl112WYwZMyZGjhwZO+20Uy4w7r///jj++ONX+L7vvffe6NixY5SXl0dhYWH07ds3FixYEPfff3/svvvucckll0SWZZFlWZx22mmx4YYbxoMPPhjDhg2LSZMmxbXXXhsREe+99170798/jjjiiHjwwQejsrLyB0Nk8uTJcf7558eRRx4Zjz76aHTq1ClOOumkWLx4cZSXl8fIkSOjrKwsnnzyyTjttNPi5ptvjn/84x9xwAEHxPHHHx/t27ePl1566Xv7vemmm2LkyJFxwQUXxMMPPxwtW7aME044IRe5EREjRoyICy+8MB588MFYuHBhbv5nnnkmxowZE8OGDYvHH388tt9++zjzzDOjurp6he8B+IkyYK3yxhtvZK1bt84++OCDlW7bunXr7N577809vvvuu7MePXpkWZZlM2bMyMaOHVtj+wEDBmTnn39+lmVZdsMNN2SdO3fOli1blnt91113zR5++OEsy7KsS5cu2X333Zd7raKiImvdunX26quvZkuWLMl22GGH7O233869/tVXX2Xt27fPXn/99e/NOWrUqGzPPffMKisrc8+NHTs269SpU5ZlWTZr1qwffc8DBw7MDj300Nzj0aNHZzvssEP29ddfZ1mWZW+//XbWunXrbN68edkrr7yS7brrrjXe12uvvZbtsMMOWVVVVTZ48ODs6KOPzr1WWVmZ7b777tkNN9yQO9Y555yTZVmWnXHGGbm/Z1mWLV++PBsyZEj28ccfZ5MnT86ef/75GnPuvvvu2YQJE3LrW1JSknuta9eu2QMPPJBVV1dnu+66azZmzJgaM+y11165z7J169bZ6NGja6xft27dsizLsrvuuivbbbfdspkzZ2ZZlmWLFi3KXnnllayqqmqFawf8NO6RgrVMixYtIuKbG7BrY8stt8z9vbCwMJYuXRoREVtvvXU0adIkbrnllnj33Xfj3Xffjffeey969uyZ2/5Xv/pVFBQU5B6vt956UVVVFfPnz49PP/20xlmxbbfdNjbccMOI+OZsV1VVVRx11FE1Zlm6dGnMmDEjdtlllxrPV1RUxG9+85to3Lhx7rmddtopFixYEPPnz6/V+9xiiy1yf2/atGlsvPHGuUuf3/5ZWVkZFRUV8cUXX9SYIcuyqKqqitmzZ0dFRUXucltEROPGjWs8/u7cffr0yT1u2LBhnH/++RERsfnmm8dbb70Vw4cPj4qKivjXv/4Vc+fOXemZoXnz5sXnn39e4x63xo0bR9u2baOioiL33H9/ruuvv34sW7YsIiJ69uwZ48aNix49ekS7du2iW7ducdhhh0WjRr7dw5rgXxasZbbccsto3rx5TJ06Ndq3b/+91/v37x+9evWK7t27R0TUCKGI/9zkPH369DjiiCOia9eu0bFjxzj22GNj1KhRNbb977D5b9/+p5x95zLdt4+XL18eERH33HPP927OXtFN1U2bNv3ec98GR20vSX33fTZsuOI7F5YtWxZbbbVVjfu9vvVDN7L/0Dr80PMREePHj48//OEPcdhhh8W+++4bAwcOjGOOOeYHt//WitYi4ps1/XZdV3Tsb9e+qKgoHnvssZg8eXK88MILcf/998eYMWPiwQcfjE033XSlxwdWjXukYC1TUFAQPXv2jHvvvbfGDdIREa+++mo88cQTubNWP6a8vDx23nnnuPbaa+Ooo46K9u3bx4cffrjCe5i+a4MNNohNNtkk3n777dxzs2bNii+++CIivjk7VFBQEAsWLIitttoqttpqq9hoo43i6quvjo8//vh7+9t2221j2rRpNX4H1pQpU6J58+ar/afZttlmm/jkk0+iefPmudnmzp0bw4cPjyzLolWrVjF16tTc9suXL49///vfK9zXVlttFdOmTcs9zrIsDjjggHjxxRdj3LhxcfLJJ8dFF10UBx10ULRo0SLmzZuXW98GDRqscJ/rr79+FBUVxVtvvZV7rqqqKt5+++3YZpttVvr+Jk2aFPfff3/ssccecfHFF8dTTz0VX375Zbzxxhu1Wh9g1QgpWAudfvrpsXTp0jjuuOPi1VdfjZkzZ8bDDz8c/fv3j0MOOSQ6duy40n00b9483nnnnXjrrbfigw8+iMGDB8fUqVNrxMyP6du3b4wYMSJefvnlmD59elxwwQUR8U0grL/++tGnT5+48sorY/LkyVFRUREDBw6Md955J7beeuvv7atXr15RXV0dgwYNioqKinjuuefixhtvjJKSkh88s5SqS5cu0bJlyzj33HNj+vTpMWXKlLj44oujYcOGsc4660SfPn1i2rRpMWLEiHj//ffj6quvjk8++WSF+zrmmGPi8ccfj/Hjx8eHH34Yw4YNi4ULF8ZOO+0ULVq0iMmTJ8f7778f//znP2PAgAFRVVWVi99mzZrF3Llza9yg/63jjz8+RowYEc8991xUVFTEoEGDYunSpdGrV6+Vvr/q6uoYOnRoPPnkk/HRRx/Fo48+GpWVlfHrX//6py0csEIu7cFaaKONNopx48bFTTfdFAMHDowFCxZEy5Yt48QTT4y+ffvWah99+/aNadOmxXHHHRdNmjSJ3/72t3H66adHeXl5rb7++OOPj08//TTOOuusKCgoiBNOOCGmTJmSu+RUWloaQ4cOjQEDBsTSpUtj5513jjvvvHOFl67WW2+9uOOOO6KsrCwOOuig2GijjeKYY46Jk08+ufaLUksFBQVxyy23xFVXXRUlJSWxzjrrRI8ePaK0tDQivrl37E9/+lNcffXVcdttt0WPHj1ijz32WOG+OnbsGFdeeWXcdNNNceWVV8b2228ft956axQWFsaFF14YF110URx88MHRokWL2H///WO99dbLncHad99947777otevXrF888/X2O/xx57bCxevDguvfTSWLRoUey4444xevTo2HjjjVf6/rp16xb9+/ePoUOHxqeffhpbbrllDB8+PLbddtufuHLAijTIanMeH+A7XnzxxWjbtm3u0tv8+fNjt912i+eeey5atmyZ5+kA6oaQApKcdtppsWzZsjjvvPOiQYMGcf3118fs2bNjwoQJ+R4NoM4IKSDJnDlz4vLLL4+//vWvkWVZ7LbbbnHJJZf4yTDgf4qQAgBI5Kf2AAASCSkAgER5+fUHy5YtjwULluTj0Py/Fi2a+QzyyPrnl/XPP59Bfln/VVNUVPiDr+XljFSjRgUr34g1ymeQX9Y/v6x//vkM8sv6rz4u7QEAJBJSAACJhBQAQCIhBQCQSEgBACQSUgAAiYQUAEAiIQUAkEhIAQAkElIAAImEFABAIiEFAJBISAEAJBJSAACJhBQAQCIhBQCQSEgBACQSUgAAiYQUAEAiIQUAkEhIAQAkElIAAImEFABAIiEFAJBISAEAJBJSAACJhBQAQCIhBQCQSEgBACQSUgAAiYQUAEAiIQUAkEhIAQAkElIAAImEFABAIiEFAJBISAEAJBJSAACJGuXjoMXnlOfjsABAPTKytFu+R3BGCgAglZACAEgkpAAAEgkpAIBEQgoAIJGQAgBIJKQAABIJKQCAREIKACCRkAIASCSkAAASCSkAgERCCgAgkZACAEgkpAAAEgkpAIBEQgoAIJGQAgBIJKQAABIJKQCAREIKACCRkAIASCSkAAASCSkAgERCCgAgkZACAEgkpAAAEgkpAIBEQgoAIJGQAgBIJKQAABIJKQCAREIKACCRkAIASCSkAAASCSkAgERCCgAg0UpD6qOPPoo2bdrE+PHjazx/5513Rmlp6RobDADg565WZ6QaNmwYQ4YMiRkzZqzpeQAA1hq1CqmmTZvGcccdF+ecc05UVlbWeG3RokVx7rnnRq9evaK4uDiGDh0ay5YtWyPDAgD8nDSq7YannHJKvPLKK3HdddfFwIEDc8+XlZVF8+bNY+LEiVFVVRWnnHJKjBw5Mk488cQ1MjAAQEREUVFhvkeofUg1bNgwrrnmmjj44IOjS5cuuedffPHFGDduXDRo0CCaNGkSJSUlMWrUKCEFAKxRc+cuqpPj/FiwrdJP7W2++eZx2WWXxcCBA2PBggUREVFdXV1jm+rqapf2AID/Cav86w/233//2HPPPWPUqFEREdGlS5cYM2ZMZFkWlZWV8cADD8Tvfve71T4oAMDPTdLvkbr44otj8803z/19/vz5UVxcHMXFxbHNNtvEySefvFqHBAD4OWqQZVlW1wctPqe8rg8JANQzI0u71clxVts9UgAA/IeQAgBIJKQAABIJKQCAREIKACCRkAIASCSkAAASCSkAgERCCgAgkZACAEgkpAAAEgkpAIBEQgoAIJGQAgBIJKQAABIJKQCAREIKACCRkAIASCSkAAASCSkAgERCCgAgkZACAEgkpAAAEgkpAIBEQgoAIJGQAgBIJKQAABIJKQCAREIKACCRkAIASCSkAAASCSkAgERCCgAgkZACAEgkpAAAEjXIsizLx4Hnzl2Uj8Py/4qKCn0GeWT988v655/PIL+s/6opKir8wdeckQIASCSkAAASCSkAgERCCgAgkZACAEgkpAAAEgkpAIBEQgoAIJGQAgBIJKQAABIJKQCAREIKACCRkAIASCSkAAASCSkAgERCCgAgkZACAEgkpAAAEgkpAIBEQgoAIJGQAgBIJKQAABIJKQCAREIKACCRkAIASCSkAAASCSkAgERCCgAgkZACAEgkpAAAEgkpAIBEQgoAIJGQAgBIJKQAABIJKQCAREIKACCRkAIASCSkAAASCSkAgERCCgAgkZACAEgkpAAAEgkpAIBEQgoAIJGQAgBIJKQAABIJKQCAREIKACCRkAIASCSkAAASCSkAgERCCgAgkZACAEgkpAAAEgkpAIBEQgoAIJGQAgBIJKQAABIJKQCAREIKACCRkAIASCSkAAASCSkAgERCCgAgkZACAEgkpAAAEgkpAIBEQgoAIJGQAgBIJKQAABIJKQCAREIKACCRkAIASCSkAAASCSkAgERCCgAgkZACAEgkpAAAEgkpAIBEQgoAIFGjfBy0+JzyfBwWAH6SkaXd8j0CPzPOSAEAJBJSAACJhBQAQCIhBQCQSEgBACQSUgAAiYQUAEAiIQUAkEhIAQAkElIAAImEFABAIiEFAJBISAEAJBJSAACJhBQAQCIhBQCQSEgBACQSUgAAiYQUAEAiIQUAkEhIAQAkElIAAImEFABAIiEFAJBISAEAJBJSAACJhBQAQCIhBQCQSEgBACQSUgAAiYQUAEAiIQUAkEhIAQAkElIAAImEFABAIiEFAJBISAEAJGpUm42WL18eo0ePjokTJ8by5cujqqoqunbtGmeddVYMGjQoWrVqFf369VvTswIA/KzUKqQuu+yyWLhwYYwaNSoKCwtjyZIlce6558ZFF10UBQUFa3pGAICfpZWG1KxZs2LixInx0ksvxfrrrx8REc2aNYvLL788pkyZEs8//3xMmTIlSkpK4rPPPotWrVrF8OHDo1mzZmt8eACAfFppSE2bNi222267XER9q6ioKPbdd994/vnnY86cOTF69Oho0qRJ9OnTJ55++uk46KCD1tTMAJAXRUWF+R5htalP7yWfVhpSDRs2jOrq6h/dpnv37rHuuutGRESrVq1i/vz5q2c6APgZmTt3Ub5HWC2KigrrzXupCz8WnSv9qb327dvH+++/H4sXL67x/Jw5c+LEE0+Mr7/+Oho1+k+PNWjQILIs+wnjAgCsHVYaUptuumkUFxfHhRdemIupxYsXx2WXXRbNmzePpk2brvEhAQB+jmr1e6QuvfTS2G677aKkpCR69+4dffr0ie222y7KysrW9HwAAD9bDbI8XIcrPqe8rg8JAD/ZyNJu+R5htXCP1Kr5SfdIAQCwYkIKACCRkAIASCSkAAASCSkAgERCCgAgkZACAEgkpAAAEgkpAIBEQgoAIJGQAgBIJKQAABIJKQCAREIKACCRkAIASCSkAAASCSkAgERCCgAgkZACAEgkpAAAEgkpAIBEQgoAIJGQAgBIJKQAABIJKQCAREIKACCRkAIASCSkAAASCSkAgERCCgAgkZACAEgkpAAAEgkpAIBEQgoAIJGQAgBI1CDLsiwfB547d1E+Dsv/Kyoq9BnkkfXPL+uffz6D/LL+q6aoqPAHX3NGCgAgkZACAEgkpAAAEgkpAIBEQgoAIJGQAgBIJKQAABIJKQCAREIKACCRkAIASCSkAAASCSkAgERCCgAgkZACAEgkpAAAEgkpAIBEQgoAIJGQAgBIJKQAABIJKQCAREIKACCRkAIASCSkAAASCSkAgERCCgAgkZACAEgkpAAAEgkpAIBEQgoAIJGQAgBIJKQAABIJKQCAREIKACCRkAIASCSkAAASCSkAgERCCgAgkZACAEgkpAAAEgkpAIBEDbIsy/I9BADA2sgZKQCAREIKACCRkAIASCSkAAASCSkAgERCCgAg0RoNqUmTJkVxcXHst99+ceaZZ8bixYuTtiFNbdc2y7IoLS2NO++8s44nrN9qs/7l5eVx4IEHRu/evaOkpCSmTp2ah0nrr9p8Bvfee2/07NkzevXqFaecckrMmzcvD5PWT6vy/f3ZZ5+NnXfeuQ6nq/9qs/6DBw+OvffeO3r37h29e/eO/v371/2ga7tsDZk3b17WuXPnbMaMGVmWZdnQoUOzSy+9dJW3IU1t1/a9997L+vbtm7Vv3z6744476nbIeqw2619RUZHtvvvu2Zw5c7Isy7JJkyZle+21V90OWo/V5jOYOnVq1rVr1+yLL77IsizLBg8enF1yySV1PGn9tCrf32fMmJF1794923HHHetuwHqutuv/+9//PnvjjTfqdrh6Zo2dkXrppZeiXbt2sfXWW0dExBFHHBETJ06M7L9+/2dttiFNbdd2zJgxccghh8T++++fhynrr9qsf5MmTaKsrCw22WSTiIho27ZtfPbZZ1FZWZmPkeud2nwGbdu2jaeeeioKCwtj6dKlMWfOnGjevHl+Bq5navs96KuvvorzzjsvSktL8zBl/VWb9a+srIxp06bFyJEj48ADD4wzzjgjZs+enaeJ115rLKQ++eST2GyzzXKPN9tss1i8eHF8+eWXq7QNaWq7toMGDYqDDjqojqer/2qz/i1btoy99947Ir65vHr11VdHt27dokmTJnU9br1U238DjRs3jmeffTb23HPPeP311+OQQw6p61HrpVX5HnT44YdHmzZt6nrEeq026z9nzpzo3LlznH322VFeXh4dOnSIU0891cmMVbTGQqq6unrFB2zYcJW2IY21za9VWf8lS5bEWWedFTNnzoyysrI1Pdr/jFX5DLp37x6vvfZanHHGGdGvX78f/FpqrzbrP2bMmGjUqFEcdthhdTXW/4zarP8WW2wRt99+e2y77bbRoEGD6NevX8ycOTM++uijuhqzXlhj/6v+8pe/jLlz5+Yez5kzJzbccMNo1qzZKm1DGmubX7Vd/9mzZ0dJSUkUFBTE6NGjY4MNNqjrUeut2nwGH374Yfztb3/LPT700ENj9uzZsXDhwjqdtT6qzfo//PDDMXXq1Ojdu3eceOKJ8fXXX0fv3r1jzpw5+Ri5XqnN+k+fPj0eeeSRGl+XZVk0bty4rsasF9ZYSHXp0iXeeuut+OCDDyIi4r777ot99tlnlbchjbXNr9qs/+effx5HH3107LvvvnHddddF06ZN8zBp/VWbz2Du3Llx9tlnx/z58yMiYuLEidGqVato0aJFXY9b79Rm/SdMmBB//vOfo7y8PG677bZo2rRplJeXx6abbpqHieuX2qx/w4YN46qrropZs2ZFRMTYsWOjTZs2NS4JsnINsjV4MfSFF16I4cOHR1VVVWy55ZYxZMiQmDVrVlx88cVRXl7+g9u42XP1qM36f6u0tDRatWoV/fr1y9O09c/K1v+WW26JG264IVq3bl3j6+6++27/ka8mtfk3MHbs2Bg7dmwUFBTEJptsEoMGDYotttgiz5PXD6vyPeijjz6K4uLimDJlSp6mrX9qs/7l5eVx++23x/Lly2OzzTaLq666KjbffPM8T752WaMhBQBQn7nzGAAgkZACAEgkpAAAEgkpAIBEQgoAIJGQAgBIJKQAABIJKQCARP8HAmtzgaqeLRYAAAAASUVORK5CYII=\n",
      "text/plain": [
       "<Figure size 720x432 with 1 Axes>"
      ]
     },
     "metadata": {},
     "output_type": "display_data"
    }
   ],
   "source": [
    "# Med change plot\n",
    "plt.figure(figsize=(10,6))\n",
    "change_plot = train.change.value_counts().sort_values().apply(lambda x: x/train.race.count()).plot(kind='barh')\n",
    "plt.title('Change of medications',fontsize=14)\n",
    "plt.xticks(fontsize=12)\n",
    "plt.yticks(fontsize=12)"
   ]
  },
  {
   "cell_type": "code",
   "execution_count": 26,
   "metadata": {},
   "outputs": [
    {
     "data": {
      "text/plain": [
       "(array([0, 1]), [Text(0, 0, 'Yes'), Text(0, 1, 'No')])"
      ]
     },
     "execution_count": 26,
     "metadata": {},
     "output_type": "execute_result"
    },
    {
     "data": {
      "image/png": "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\n",
      "text/plain": [
       "<Figure size 720x432 with 1 Axes>"
      ]
     },
     "metadata": {},
     "output_type": "display_data"
    }
   ],
   "source": [
    "# Readmission plot\n",
    "plt.figure(figsize=(10,6))\n",
    "readmission_plot = train.readmitted.value_counts().sort_values().apply(lambda x: x/train.race.count()).plot(kind='barh')\n",
    "plt.title('Readmission',fontsize=14)\n",
    "plt.xticks(fontsize=12)\n",
    "plt.yticks(fontsize=12)"
   ]
  },
  {
   "cell_type": "code",
   "execution_count": 27,
   "metadata": {},
   "outputs": [
    {
     "data": {
      "text/plain": [
       "(array([0, 1]), [Text(0, 0, 'Male'), Text(0, 1, 'Female')])"
      ]
     },
     "execution_count": 27,
     "metadata": {},
     "output_type": "execute_result"
    },
    {
     "data": {
      "image/png": "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\n",
      "text/plain": [
       "<Figure size 720x432 with 1 Axes>"
      ]
     },
     "metadata": {},
     "output_type": "display_data"
    }
   ],
   "source": [
    "# Gender plot\n",
    "plt.figure(figsize=(10,6))\n",
    "gender_plot = train.gender.value_counts().sort_values().apply(lambda x: x/train.race.count()).plot(kind='barh')\n",
    "plt.title('gender',fontsize=14)\n",
    "plt.xticks(fontsize=12)\n",
    "plt.yticks(fontsize=12)"
   ]
  },
  {
   "cell_type": "code",
   "execution_count": 28,
   "metadata": {},
   "outputs": [
    {
     "data": {
      "text/plain": [
       "(array([0, 1, 2, 3, 4, 5, 6, 7, 8, 9]),\n",
       " [Text(0, 0, '[0-10)'),\n",
       "  Text(0, 1, '[10-20)'),\n",
       "  Text(0, 2, '[20-30)'),\n",
       "  Text(0, 3, '[90-100)'),\n",
       "  Text(0, 4, '[30-40)'),\n",
       "  Text(0, 5, '[40-50)'),\n",
       "  Text(0, 6, '[80-90)'),\n",
       "  Text(0, 7, '[50-60)'),\n",
       "  Text(0, 8, '[60-70)'),\n",
       "  Text(0, 9, '[70-80)')])"
      ]
     },
     "execution_count": 28,
     "metadata": {},
     "output_type": "execute_result"
    },
    {
     "data": {
      "image/png": "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\n",
      "text/plain": [
       "<Figure size 720x432 with 1 Axes>"
      ]
     },
     "metadata": {},
     "output_type": "display_data"
    }
   ],
   "source": [
    "# age plot\n",
    "plt.figure(figsize=(10,6))\n",
    "age_plot = train.age.value_counts().sort_values().apply(lambda x: x/train.race.count()).plot(kind='barh')\n",
    "plt.title('age',fontsize=14)\n",
    "plt.xticks(fontsize=12)\n",
    "plt.yticks(fontsize=12)"
   ]
  },
  {
   "cell_type": "code",
   "execution_count": 29,
   "metadata": {},
   "outputs": [
    {
     "data": {
      "text/plain": [
       "(array([0, 1, 2, 3, 4, 5]),\n",
       " [Text(0, 0, 'Asian'),\n",
       "  Text(0, 1, 'Other'),\n",
       "  Text(0, 2, 'Hispanic'),\n",
       "  Text(0, 3, 'unknown'),\n",
       "  Text(0, 4, 'AfricanAmerican'),\n",
       "  Text(0, 5, 'Caucasian')])"
      ]
     },
     "execution_count": 29,
     "metadata": {},
     "output_type": "execute_result"
    },
    {
     "data": {
      "image/png": "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\n",
      "text/plain": [
       "<Figure size 720x432 with 1 Axes>"
      ]
     },
     "metadata": {},
     "output_type": "display_data"
    }
   ],
   "source": [
    "# Race plot\n",
    "plt.figure(figsize=(10,6))\n",
    "race_plot = train.race.value_counts().sort_values().apply(lambda x: x/train.race.count()).plot(kind='barh')\n",
    "plt.title('race',fontsize=14)\n",
    "plt.xticks(fontsize=12)\n",
    "plt.yticks(fontsize=12)"
   ]
  },
  {
   "cell_type": "code",
   "execution_count": 30,
   "metadata": {},
   "outputs": [],
   "source": [
    "train['max_glu_serum'].replace('>300','>200',inplace=True)\n",
    "train['A1Cresult'].replace('>8','>7',inplace=True)"
   ]
  },
  {
   "cell_type": "code",
   "execution_count": 31,
   "metadata": {
    "cell_style": "split"
   },
   "outputs": [
    {
     "data": {
      "text/html": [
       "<div>\n",
       "<style scoped>\n",
       "    .dataframe tbody tr th:only-of-type {\n",
       "        vertical-align: middle;\n",
       "    }\n",
       "\n",
       "    .dataframe tbody tr th {\n",
       "        vertical-align: top;\n",
       "    }\n",
       "\n",
       "    .dataframe thead th {\n",
       "        text-align: right;\n",
       "    }\n",
       "</style>\n",
       "<table border=\"1\" class=\"dataframe\">\n",
       "  <thead>\n",
       "    <tr style=\"text-align: right;\">\n",
       "      <th></th>\n",
       "      <th></th>\n",
       "      <th>race</th>\n",
       "    </tr>\n",
       "    <tr>\n",
       "      <th>max_glu_serum</th>\n",
       "      <th>readmitted</th>\n",
       "      <th></th>\n",
       "    </tr>\n",
       "  </thead>\n",
       "  <tbody>\n",
       "    <tr>\n",
       "      <th rowspan=\"2\" valign=\"top\">&gt;200</th>\n",
       "      <th>No</th>\n",
       "      <td>1232</td>\n",
       "    </tr>\n",
       "    <tr>\n",
       "      <th>Yes</th>\n",
       "      <td>144</td>\n",
       "    </tr>\n",
       "    <tr>\n",
       "      <th rowspan=\"2\" valign=\"top\">None</th>\n",
       "      <th>No</th>\n",
       "      <td>49693</td>\n",
       "    </tr>\n",
       "    <tr>\n",
       "      <th>Yes</th>\n",
       "      <td>4749</td>\n",
       "    </tr>\n",
       "    <tr>\n",
       "      <th rowspan=\"2\" valign=\"top\">Norm</th>\n",
       "      <th>No</th>\n",
       "      <td>1259</td>\n",
       "    </tr>\n",
       "    <tr>\n",
       "      <th>Yes</th>\n",
       "      <td>135</td>\n",
       "    </tr>\n",
       "  </tbody>\n",
       "</table>\n",
       "</div>"
      ],
      "text/plain": [
       "                           race\n",
       "max_glu_serum readmitted       \n",
       ">200          No           1232\n",
       "              Yes           144\n",
       "None          No          49693\n",
       "              Yes          4749\n",
       "Norm          No           1259\n",
       "              Yes           135"
      ]
     },
     "execution_count": 31,
     "metadata": {},
     "output_type": "execute_result"
    }
   ],
   "source": [
    "#Readmission Table 1: Max Glucouse Serum\n",
    "train[['max_glu_serum','readmitted', 'race']].groupby(['max_glu_serum','readmitted']).count()"
   ]
  },
  {
   "cell_type": "code",
   "execution_count": 32,
   "metadata": {
    "cell_style": "split"
   },
   "outputs": [
    {
     "data": {
      "text/html": [
       "<div>\n",
       "<style scoped>\n",
       "    .dataframe tbody tr th:only-of-type {\n",
       "        vertical-align: middle;\n",
       "    }\n",
       "\n",
       "    .dataframe tbody tr th {\n",
       "        vertical-align: top;\n",
       "    }\n",
       "\n",
       "    .dataframe thead th {\n",
       "        text-align: right;\n",
       "    }\n",
       "</style>\n",
       "<table border=\"1\" class=\"dataframe\">\n",
       "  <thead>\n",
       "    <tr style=\"text-align: right;\">\n",
       "      <th></th>\n",
       "      <th></th>\n",
       "      <th>race</th>\n",
       "    </tr>\n",
       "    <tr>\n",
       "      <th>max_glu_serum</th>\n",
       "      <th>readmitted</th>\n",
       "      <th></th>\n",
       "    </tr>\n",
       "  </thead>\n",
       "  <tbody>\n",
       "    <tr>\n",
       "      <th rowspan=\"2\" valign=\"top\">&gt;200</th>\n",
       "      <th>No</th>\n",
       "      <td>0.021534</td>\n",
       "    </tr>\n",
       "    <tr>\n",
       "      <th>Yes</th>\n",
       "      <td>0.002517</td>\n",
       "    </tr>\n",
       "    <tr>\n",
       "      <th rowspan=\"2\" valign=\"top\">None</th>\n",
       "      <th>No</th>\n",
       "      <td>0.868577</td>\n",
       "    </tr>\n",
       "    <tr>\n",
       "      <th>Yes</th>\n",
       "      <td>0.083007</td>\n",
       "    </tr>\n",
       "    <tr>\n",
       "      <th rowspan=\"2\" valign=\"top\">Norm</th>\n",
       "      <th>No</th>\n",
       "      <td>0.022006</td>\n",
       "    </tr>\n",
       "    <tr>\n",
       "      <th>Yes</th>\n",
       "      <td>0.002360</td>\n",
       "    </tr>\n",
       "  </tbody>\n",
       "</table>\n",
       "</div>"
      ],
      "text/plain": [
       "                              race\n",
       "max_glu_serum readmitted          \n",
       ">200          No          0.021534\n",
       "              Yes         0.002517\n",
       "None          No          0.868577\n",
       "              Yes         0.083007\n",
       "Norm          No          0.022006\n",
       "              Yes         0.002360"
      ]
     },
     "execution_count": 32,
     "metadata": {},
     "output_type": "execute_result"
    }
   ],
   "source": [
    "#Percentage\n",
    "train[['max_glu_serum','readmitted', 'race']].groupby(['max_glu_serum','readmitted']).count().apply(lambda x: x/train.race.count())"
   ]
  },
  {
   "cell_type": "markdown",
   "metadata": {},
   "source": [
    "## A1c "
   ]
  },
  {
   "cell_type": "code",
   "execution_count": 33,
   "metadata": {
    "cell_style": "split"
   },
   "outputs": [
    {
     "data": {
      "text/html": [
       "<div>\n",
       "<style scoped>\n",
       "    .dataframe tbody tr th:only-of-type {\n",
       "        vertical-align: middle;\n",
       "    }\n",
       "\n",
       "    .dataframe tbody tr th {\n",
       "        vertical-align: top;\n",
       "    }\n",
       "\n",
       "    .dataframe thead th {\n",
       "        text-align: right;\n",
       "    }\n",
       "</style>\n",
       "<table border=\"1\" class=\"dataframe\">\n",
       "  <thead>\n",
       "    <tr style=\"text-align: right;\">\n",
       "      <th></th>\n",
       "      <th></th>\n",
       "      <th>race</th>\n",
       "    </tr>\n",
       "    <tr>\n",
       "      <th>A1Cresult</th>\n",
       "      <th>readmitted</th>\n",
       "      <th></th>\n",
       "    </tr>\n",
       "  </thead>\n",
       "  <tbody>\n",
       "    <tr>\n",
       "      <th rowspan=\"2\" valign=\"top\">&gt;7</th>\n",
       "      <th>No</th>\n",
       "      <td>6700</td>\n",
       "    </tr>\n",
       "    <tr>\n",
       "      <th>Yes</th>\n",
       "      <td>603</td>\n",
       "    </tr>\n",
       "    <tr>\n",
       "      <th rowspan=\"2\" valign=\"top\">None</th>\n",
       "      <th>No</th>\n",
       "      <td>42720</td>\n",
       "    </tr>\n",
       "    <tr>\n",
       "      <th>Yes</th>\n",
       "      <td>4170</td>\n",
       "    </tr>\n",
       "    <tr>\n",
       "      <th rowspan=\"2\" valign=\"top\">Norm</th>\n",
       "      <th>No</th>\n",
       "      <td>2764</td>\n",
       "    </tr>\n",
       "    <tr>\n",
       "      <th>Yes</th>\n",
       "      <td>255</td>\n",
       "    </tr>\n",
       "  </tbody>\n",
       "</table>\n",
       "</div>"
      ],
      "text/plain": [
       "                       race\n",
       "A1Cresult readmitted       \n",
       ">7        No           6700\n",
       "          Yes           603\n",
       "None      No          42720\n",
       "          Yes          4170\n",
       "Norm      No           2764\n",
       "          Yes           255"
      ]
     },
     "execution_count": 33,
     "metadata": {},
     "output_type": "execute_result"
    }
   ],
   "source": [
    "#Readmission Table 2: A1C Result \n",
    "train[['A1Cresult','readmitted', 'race']].groupby(['A1Cresult','readmitted']).count()"
   ]
  },
  {
   "cell_type": "code",
   "execution_count": 34,
   "metadata": {
    "cell_style": "split"
   },
   "outputs": [
    {
     "data": {
      "text/html": [
       "<div>\n",
       "<style scoped>\n",
       "    .dataframe tbody tr th:only-of-type {\n",
       "        vertical-align: middle;\n",
       "    }\n",
       "\n",
       "    .dataframe tbody tr th {\n",
       "        vertical-align: top;\n",
       "    }\n",
       "\n",
       "    .dataframe thead th {\n",
       "        text-align: right;\n",
       "    }\n",
       "</style>\n",
       "<table border=\"1\" class=\"dataframe\">\n",
       "  <thead>\n",
       "    <tr style=\"text-align: right;\">\n",
       "      <th></th>\n",
       "      <th></th>\n",
       "      <th>race</th>\n",
       "    </tr>\n",
       "    <tr>\n",
       "      <th>A1Cresult</th>\n",
       "      <th>readmitted</th>\n",
       "      <th></th>\n",
       "    </tr>\n",
       "  </thead>\n",
       "  <tbody>\n",
       "    <tr>\n",
       "      <th rowspan=\"2\" valign=\"top\">&gt;7</th>\n",
       "      <th>No</th>\n",
       "      <td>0.117108</td>\n",
       "    </tr>\n",
       "    <tr>\n",
       "      <th>Yes</th>\n",
       "      <td>0.010540</td>\n",
       "    </tr>\n",
       "    <tr>\n",
       "      <th rowspan=\"2\" valign=\"top\">None</th>\n",
       "      <th>No</th>\n",
       "      <td>0.746696</td>\n",
       "    </tr>\n",
       "    <tr>\n",
       "      <th>Yes</th>\n",
       "      <td>0.072887</td>\n",
       "    </tr>\n",
       "    <tr>\n",
       "      <th rowspan=\"2\" valign=\"top\">Norm</th>\n",
       "      <th>No</th>\n",
       "      <td>0.048312</td>\n",
       "    </tr>\n",
       "    <tr>\n",
       "      <th>Yes</th>\n",
       "      <td>0.004457</td>\n",
       "    </tr>\n",
       "  </tbody>\n",
       "</table>\n",
       "</div>"
      ],
      "text/plain": [
       "                          race\n",
       "A1Cresult readmitted          \n",
       ">7        No          0.117108\n",
       "          Yes         0.010540\n",
       "None      No          0.746696\n",
       "          Yes         0.072887\n",
       "Norm      No          0.048312\n",
       "          Yes         0.004457"
      ]
     },
     "execution_count": 34,
     "metadata": {},
     "output_type": "execute_result"
    }
   ],
   "source": [
    "#Percentage \n",
    "train[['A1Cresult','readmitted', 'race']].groupby(['A1Cresult','readmitted']).count().apply(lambda x: x/train.race.count())"
   ]
  },
  {
   "cell_type": "code",
   "execution_count": 46,
   "metadata": {},
   "outputs": [
    {
     "data": {
      "text/plain": [
       "(array([0, 1, 2, 3, 4, 5]),\n",
       " [Text(0, 0, '(>7, No)'),\n",
       "  Text(0, 1, '(>7, Yes)'),\n",
       "  Text(0, 2, '(None, No)'),\n",
       "  Text(0, 3, '(None, Yes)'),\n",
       "  Text(0, 4, '(Norm, No)'),\n",
       "  Text(0, 5, '(Norm, Yes)')])"
      ]
     },
     "execution_count": 46,
     "metadata": {},
     "output_type": "execute_result"
    },
    {
     "data": {
      "image/png": "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\n",
      "text/plain": [
       "<Figure size 576x396 with 1 Axes>"
      ]
     },
     "metadata": {},
     "output_type": "display_data"
    }
   ],
   "source": [
    "train[['A1Cresult','readmitted', 'race']].groupby(['A1Cresult','readmitted']).count().apply(lambda x: x/train.race.count()).plot(kind='barh',legend=False)\n",
    "plt.title('A1C',fontsize=14)\n",
    "plt.xticks(fontsize=12)\n",
    "plt.yticks(fontsize=12)"
   ]
  },
  {
   "cell_type": "markdown",
   "metadata": {},
   "source": [
    "## Gender"
   ]
  },
  {
   "cell_type": "code",
   "execution_count": 35,
   "metadata": {
    "cell_style": "split",
    "scrolled": true
   },
   "outputs": [
    {
     "data": {
      "text/html": [
       "<div>\n",
       "<style scoped>\n",
       "    .dataframe tbody tr th:only-of-type {\n",
       "        vertical-align: middle;\n",
       "    }\n",
       "\n",
       "    .dataframe tbody tr th {\n",
       "        vertical-align: top;\n",
       "    }\n",
       "\n",
       "    .dataframe thead th {\n",
       "        text-align: right;\n",
       "    }\n",
       "</style>\n",
       "<table border=\"1\" class=\"dataframe\">\n",
       "  <thead>\n",
       "    <tr style=\"text-align: right;\">\n",
       "      <th></th>\n",
       "      <th></th>\n",
       "      <th>race</th>\n",
       "    </tr>\n",
       "    <tr>\n",
       "      <th>gender</th>\n",
       "      <th>readmitted</th>\n",
       "      <th></th>\n",
       "    </tr>\n",
       "  </thead>\n",
       "  <tbody>\n",
       "    <tr>\n",
       "      <th rowspan=\"2\" valign=\"top\">Female</th>\n",
       "      <th>No</th>\n",
       "      <td>27789</td>\n",
       "    </tr>\n",
       "    <tr>\n",
       "      <th>Yes</th>\n",
       "      <td>2697</td>\n",
       "    </tr>\n",
       "    <tr>\n",
       "      <th rowspan=\"2\" valign=\"top\">Male</th>\n",
       "      <th>No</th>\n",
       "      <td>24395</td>\n",
       "    </tr>\n",
       "    <tr>\n",
       "      <th>Yes</th>\n",
       "      <td>2331</td>\n",
       "    </tr>\n",
       "  </tbody>\n",
       "</table>\n",
       "</div>"
      ],
      "text/plain": [
       "                    race\n",
       "gender readmitted       \n",
       "Female No          27789\n",
       "       Yes          2697\n",
       "Male   No          24395\n",
       "       Yes          2331"
      ]
     },
     "execution_count": 35,
     "metadata": {},
     "output_type": "execute_result"
    }
   ],
   "source": [
    "#Readmission Table 3: Gender\n",
    "train[['gender','readmitted', 'race']].groupby(['gender','readmitted']).count()"
   ]
  },
  {
   "cell_type": "code",
   "execution_count": 36,
   "metadata": {
    "cell_style": "split"
   },
   "outputs": [
    {
     "data": {
      "text/html": [
       "<div>\n",
       "<style scoped>\n",
       "    .dataframe tbody tr th:only-of-type {\n",
       "        vertical-align: middle;\n",
       "    }\n",
       "\n",
       "    .dataframe tbody tr th {\n",
       "        vertical-align: top;\n",
       "    }\n",
       "\n",
       "    .dataframe thead th {\n",
       "        text-align: right;\n",
       "    }\n",
       "</style>\n",
       "<table border=\"1\" class=\"dataframe\">\n",
       "  <thead>\n",
       "    <tr style=\"text-align: right;\">\n",
       "      <th></th>\n",
       "      <th></th>\n",
       "      <th>race</th>\n",
       "    </tr>\n",
       "    <tr>\n",
       "      <th>gender</th>\n",
       "      <th>readmitted</th>\n",
       "      <th></th>\n",
       "    </tr>\n",
       "  </thead>\n",
       "  <tbody>\n",
       "    <tr>\n",
       "      <th rowspan=\"2\" valign=\"top\">Female</th>\n",
       "      <th>No</th>\n",
       "      <td>0.485720</td>\n",
       "    </tr>\n",
       "    <tr>\n",
       "      <th>Yes</th>\n",
       "      <td>0.047140</td>\n",
       "    </tr>\n",
       "    <tr>\n",
       "      <th rowspan=\"2\" valign=\"top\">Male</th>\n",
       "      <th>No</th>\n",
       "      <td>0.426397</td>\n",
       "    </tr>\n",
       "    <tr>\n",
       "      <th>Yes</th>\n",
       "      <td>0.040743</td>\n",
       "    </tr>\n",
       "  </tbody>\n",
       "</table>\n",
       "</div>"
      ],
      "text/plain": [
       "                       race\n",
       "gender readmitted          \n",
       "Female No          0.485720\n",
       "       Yes         0.047140\n",
       "Male   No          0.426397\n",
       "       Yes         0.040743"
      ]
     },
     "execution_count": 36,
     "metadata": {},
     "output_type": "execute_result"
    }
   ],
   "source": [
    "#Percentage \n",
    "train[['gender','readmitted', 'race']].groupby(['gender','readmitted']).count().apply(lambda x: x/train.race.count())"
   ]
  },
  {
   "cell_type": "code",
   "execution_count": 44,
   "metadata": {},
   "outputs": [
    {
     "data": {
      "text/plain": [
       "(array([0, 1, 2, 3]),\n",
       " [Text(0, 0, '(Female, No)'),\n",
       "  Text(0, 1, '(Female, Yes)'),\n",
       "  Text(0, 2, '(Male, No)'),\n",
       "  Text(0, 3, '(Male, Yes)')])"
      ]
     },
     "execution_count": 44,
     "metadata": {},
     "output_type": "execute_result"
    },
    {
     "data": {
      "image/png": "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\n",
      "text/plain": [
       "<Figure size 576x396 with 1 Axes>"
      ]
     },
     "metadata": {},
     "output_type": "display_data"
    }
   ],
   "source": [
    "train[['gender','readmitted', 'race']].groupby(['gender','readmitted']).count().apply(lambda x: x/train.race.count()).plot(kind='barh',legend=False)\n",
    "plt.title('Gender',fontsize=14)\n",
    "plt.xticks(fontsize=12)\n",
    "plt.yticks(fontsize=12)"
   ]
  },
  {
   "cell_type": "markdown",
   "metadata": {},
   "source": [
    "## Age"
   ]
  },
  {
   "cell_type": "code",
   "execution_count": 37,
   "metadata": {
    "cell_style": "split"
   },
   "outputs": [
    {
     "data": {
      "text/html": [
       "<div>\n",
       "<style scoped>\n",
       "    .dataframe tbody tr th:only-of-type {\n",
       "        vertical-align: middle;\n",
       "    }\n",
       "\n",
       "    .dataframe tbody tr th {\n",
       "        vertical-align: top;\n",
       "    }\n",
       "\n",
       "    .dataframe thead th {\n",
       "        text-align: right;\n",
       "    }\n",
       "</style>\n",
       "<table border=\"1\" class=\"dataframe\">\n",
       "  <thead>\n",
       "    <tr style=\"text-align: right;\">\n",
       "      <th></th>\n",
       "      <th></th>\n",
       "      <th>race</th>\n",
       "    </tr>\n",
       "    <tr>\n",
       "      <th>age</th>\n",
       "      <th>readmitted</th>\n",
       "      <th></th>\n",
       "    </tr>\n",
       "  </thead>\n",
       "  <tbody>\n",
       "    <tr>\n",
       "      <th rowspan=\"2\" valign=\"top\">[0-10)</th>\n",
       "      <th>No</th>\n",
       "      <td>124</td>\n",
       "    </tr>\n",
       "    <tr>\n",
       "      <th>Yes</th>\n",
       "      <td>3</td>\n",
       "    </tr>\n",
       "    <tr>\n",
       "      <th rowspan=\"2\" valign=\"top\">[10-20)</th>\n",
       "      <th>No</th>\n",
       "      <td>416</td>\n",
       "    </tr>\n",
       "    <tr>\n",
       "      <th>Yes</th>\n",
       "      <td>20</td>\n",
       "    </tr>\n",
       "    <tr>\n",
       "      <th rowspan=\"2\" valign=\"top\">[20-30)</th>\n",
       "      <th>No</th>\n",
       "      <td>818</td>\n",
       "    </tr>\n",
       "    <tr>\n",
       "      <th>Yes</th>\n",
       "      <td>70</td>\n",
       "    </tr>\n",
       "    <tr>\n",
       "      <th rowspan=\"2\" valign=\"top\">[30-40)</th>\n",
       "      <th>No</th>\n",
       "      <td>2041</td>\n",
       "    </tr>\n",
       "    <tr>\n",
       "      <th>Yes</th>\n",
       "      <td>143</td>\n",
       "    </tr>\n",
       "    <tr>\n",
       "      <th rowspan=\"2\" valign=\"top\">[40-50)</th>\n",
       "      <th>No</th>\n",
       "      <td>5081</td>\n",
       "    </tr>\n",
       "    <tr>\n",
       "      <th>Yes</th>\n",
       "      <td>405</td>\n",
       "    </tr>\n",
       "    <tr>\n",
       "      <th rowspan=\"2\" valign=\"top\">[50-60)</th>\n",
       "      <th>No</th>\n",
       "      <td>9250</td>\n",
       "    </tr>\n",
       "    <tr>\n",
       "      <th>Yes</th>\n",
       "      <td>691</td>\n",
       "    </tr>\n",
       "    <tr>\n",
       "      <th rowspan=\"2\" valign=\"top\">[60-70)</th>\n",
       "      <th>No</th>\n",
       "      <td>11623</td>\n",
       "    </tr>\n",
       "    <tr>\n",
       "      <th>Yes</th>\n",
       "      <td>1130</td>\n",
       "    </tr>\n",
       "    <tr>\n",
       "      <th rowspan=\"2\" valign=\"top\">[70-80)</th>\n",
       "      <th>No</th>\n",
       "      <td>13073</td>\n",
       "    </tr>\n",
       "    <tr>\n",
       "      <th>Yes</th>\n",
       "      <td>1464</td>\n",
       "    </tr>\n",
       "    <tr>\n",
       "      <th rowspan=\"2\" valign=\"top\">[80-90)</th>\n",
       "      <th>No</th>\n",
       "      <td>8356</td>\n",
       "    </tr>\n",
       "    <tr>\n",
       "      <th>Yes</th>\n",
       "      <td>962</td>\n",
       "    </tr>\n",
       "    <tr>\n",
       "      <th rowspan=\"2\" valign=\"top\">[90-100)</th>\n",
       "      <th>No</th>\n",
       "      <td>1402</td>\n",
       "    </tr>\n",
       "    <tr>\n",
       "      <th>Yes</th>\n",
       "      <td>140</td>\n",
       "    </tr>\n",
       "  </tbody>\n",
       "</table>\n",
       "</div>"
      ],
      "text/plain": [
       "                      race\n",
       "age      readmitted       \n",
       "[0-10)   No            124\n",
       "         Yes             3\n",
       "[10-20)  No            416\n",
       "         Yes            20\n",
       "[20-30)  No            818\n",
       "         Yes            70\n",
       "[30-40)  No           2041\n",
       "         Yes           143\n",
       "[40-50)  No           5081\n",
       "         Yes           405\n",
       "[50-60)  No           9250\n",
       "         Yes           691\n",
       "[60-70)  No          11623\n",
       "         Yes          1130\n",
       "[70-80)  No          13073\n",
       "         Yes          1464\n",
       "[80-90)  No           8356\n",
       "         Yes           962\n",
       "[90-100) No           1402\n",
       "         Yes           140"
      ]
     },
     "execution_count": 37,
     "metadata": {},
     "output_type": "execute_result"
    }
   ],
   "source": [
    "#Readmission Table 4: Age\n",
    "train[['age','readmitted', 'race']].groupby(['age','readmitted']).count()"
   ]
  },
  {
   "cell_type": "code",
   "execution_count": 38,
   "metadata": {
    "cell_style": "split"
   },
   "outputs": [
    {
     "data": {
      "text/html": [
       "<div>\n",
       "<style scoped>\n",
       "    .dataframe tbody tr th:only-of-type {\n",
       "        vertical-align: middle;\n",
       "    }\n",
       "\n",
       "    .dataframe tbody tr th {\n",
       "        vertical-align: top;\n",
       "    }\n",
       "\n",
       "    .dataframe thead th {\n",
       "        text-align: right;\n",
       "    }\n",
       "</style>\n",
       "<table border=\"1\" class=\"dataframe\">\n",
       "  <thead>\n",
       "    <tr style=\"text-align: right;\">\n",
       "      <th></th>\n",
       "      <th></th>\n",
       "      <th>race</th>\n",
       "    </tr>\n",
       "    <tr>\n",
       "      <th>age</th>\n",
       "      <th>readmitted</th>\n",
       "      <th></th>\n",
       "    </tr>\n",
       "  </thead>\n",
       "  <tbody>\n",
       "    <tr>\n",
       "      <th rowspan=\"2\" valign=\"top\">[0-10)</th>\n",
       "      <th>No</th>\n",
       "      <td>0.002167</td>\n",
       "    </tr>\n",
       "    <tr>\n",
       "      <th>Yes</th>\n",
       "      <td>0.000052</td>\n",
       "    </tr>\n",
       "    <tr>\n",
       "      <th rowspan=\"2\" valign=\"top\">[10-20)</th>\n",
       "      <th>No</th>\n",
       "      <td>0.007271</td>\n",
       "    </tr>\n",
       "    <tr>\n",
       "      <th>Yes</th>\n",
       "      <td>0.000350</td>\n",
       "    </tr>\n",
       "    <tr>\n",
       "      <th rowspan=\"2\" valign=\"top\">[20-30)</th>\n",
       "      <th>No</th>\n",
       "      <td>0.014298</td>\n",
       "    </tr>\n",
       "    <tr>\n",
       "      <th>Yes</th>\n",
       "      <td>0.001224</td>\n",
       "    </tr>\n",
       "    <tr>\n",
       "      <th rowspan=\"2\" valign=\"top\">[30-40)</th>\n",
       "      <th>No</th>\n",
       "      <td>0.035674</td>\n",
       "    </tr>\n",
       "    <tr>\n",
       "      <th>Yes</th>\n",
       "      <td>0.002499</td>\n",
       "    </tr>\n",
       "    <tr>\n",
       "      <th rowspan=\"2\" valign=\"top\">[40-50)</th>\n",
       "      <th>No</th>\n",
       "      <td>0.088810</td>\n",
       "    </tr>\n",
       "    <tr>\n",
       "      <th>Yes</th>\n",
       "      <td>0.007079</td>\n",
       "    </tr>\n",
       "    <tr>\n",
       "      <th rowspan=\"2\" valign=\"top\">[50-60)</th>\n",
       "      <th>No</th>\n",
       "      <td>0.161679</td>\n",
       "    </tr>\n",
       "    <tr>\n",
       "      <th>Yes</th>\n",
       "      <td>0.012078</td>\n",
       "    </tr>\n",
       "    <tr>\n",
       "      <th rowspan=\"2\" valign=\"top\">[60-70)</th>\n",
       "      <th>No</th>\n",
       "      <td>0.203157</td>\n",
       "    </tr>\n",
       "    <tr>\n",
       "      <th>Yes</th>\n",
       "      <td>0.019751</td>\n",
       "    </tr>\n",
       "    <tr>\n",
       "      <th rowspan=\"2\" valign=\"top\">[70-80)</th>\n",
       "      <th>No</th>\n",
       "      <td>0.228501</td>\n",
       "    </tr>\n",
       "    <tr>\n",
       "      <th>Yes</th>\n",
       "      <td>0.025589</td>\n",
       "    </tr>\n",
       "    <tr>\n",
       "      <th rowspan=\"2\" valign=\"top\">[80-90)</th>\n",
       "      <th>No</th>\n",
       "      <td>0.146053</td>\n",
       "    </tr>\n",
       "    <tr>\n",
       "      <th>Yes</th>\n",
       "      <td>0.016815</td>\n",
       "    </tr>\n",
       "    <tr>\n",
       "      <th rowspan=\"2\" valign=\"top\">[90-100)</th>\n",
       "      <th>No</th>\n",
       "      <td>0.024505</td>\n",
       "    </tr>\n",
       "    <tr>\n",
       "      <th>Yes</th>\n",
       "      <td>0.002447</td>\n",
       "    </tr>\n",
       "  </tbody>\n",
       "</table>\n",
       "</div>"
      ],
      "text/plain": [
       "                         race\n",
       "age      readmitted          \n",
       "[0-10)   No          0.002167\n",
       "         Yes         0.000052\n",
       "[10-20)  No          0.007271\n",
       "         Yes         0.000350\n",
       "[20-30)  No          0.014298\n",
       "         Yes         0.001224\n",
       "[30-40)  No          0.035674\n",
       "         Yes         0.002499\n",
       "[40-50)  No          0.088810\n",
       "         Yes         0.007079\n",
       "[50-60)  No          0.161679\n",
       "         Yes         0.012078\n",
       "[60-70)  No          0.203157\n",
       "         Yes         0.019751\n",
       "[70-80)  No          0.228501\n",
       "         Yes         0.025589\n",
       "[80-90)  No          0.146053\n",
       "         Yes         0.016815\n",
       "[90-100) No          0.024505\n",
       "         Yes         0.002447"
      ]
     },
     "execution_count": 38,
     "metadata": {},
     "output_type": "execute_result"
    }
   ],
   "source": [
    "#Percentage\n",
    "train[['age','readmitted', 'race']].groupby(['age','readmitted']).count().apply(lambda x: x/train.race.count())"
   ]
  },
  {
   "cell_type": "code",
   "execution_count": 39,
   "metadata": {},
   "outputs": [
    {
     "data": {
      "text/plain": [
       "(array([ 0,  1,  2,  3,  4,  5,  6,  7,  8,  9, 10, 11, 12, 13, 14, 15, 16,\n",
       "        17, 18, 19]),\n",
       " [Text(0, 0, '([0-10), No)'),\n",
       "  Text(0, 1, '([0-10), Yes)'),\n",
       "  Text(0, 2, '([10-20), No)'),\n",
       "  Text(0, 3, '([10-20), Yes)'),\n",
       "  Text(0, 4, '([20-30), No)'),\n",
       "  Text(0, 5, '([20-30), Yes)'),\n",
       "  Text(0, 6, '([30-40), No)'),\n",
       "  Text(0, 7, '([30-40), Yes)'),\n",
       "  Text(0, 8, '([40-50), No)'),\n",
       "  Text(0, 9, '([40-50), Yes)'),\n",
       "  Text(0, 10, '([50-60), No)'),\n",
       "  Text(0, 11, '([50-60), Yes)'),\n",
       "  Text(0, 12, '([60-70), No)'),\n",
       "  Text(0, 13, '([60-70), Yes)'),\n",
       "  Text(0, 14, '([70-80), No)'),\n",
       "  Text(0, 15, '([70-80), Yes)'),\n",
       "  Text(0, 16, '([80-90), No)'),\n",
       "  Text(0, 17, '([80-90), Yes)'),\n",
       "  Text(0, 18, '([90-100), No)'),\n",
       "  Text(0, 19, '([90-100), Yes)')])"
      ]
     },
     "execution_count": 39,
     "metadata": {},
     "output_type": "execute_result"
    },
    {
     "data": {
      "image/png": "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\n",
      "text/plain": [
       "<Figure size 576x396 with 1 Axes>"
      ]
     },
     "metadata": {},
     "output_type": "display_data"
    }
   ],
   "source": [
    "train[['age','readmitted', 'race']].groupby(['age','readmitted']).count().apply(lambda x: x/train.race.count()).plot(kind='barh',legend=False)\n",
    "plt.title('Age',fontsize=14)\n",
    "plt.xticks(fontsize=12)\n",
    "plt.yticks(fontsize=12)"
   ]
  },
  {
   "cell_type": "markdown",
   "metadata": {},
   "source": [
    "### Race"
   ]
  },
  {
   "cell_type": "code",
   "execution_count": 40,
   "metadata": {
    "cell_style": "split"
   },
   "outputs": [
    {
     "data": {
      "text/html": [
       "<div>\n",
       "<style scoped>\n",
       "    .dataframe tbody tr th:only-of-type {\n",
       "        vertical-align: middle;\n",
       "    }\n",
       "\n",
       "    .dataframe tbody tr th {\n",
       "        vertical-align: top;\n",
       "    }\n",
       "\n",
       "    .dataframe thead th {\n",
       "        text-align: right;\n",
       "    }\n",
       "</style>\n",
       "<table border=\"1\" class=\"dataframe\">\n",
       "  <thead>\n",
       "    <tr style=\"text-align: right;\">\n",
       "      <th></th>\n",
       "      <th></th>\n",
       "      <th>gender</th>\n",
       "    </tr>\n",
       "    <tr>\n",
       "      <th>race</th>\n",
       "      <th>readmitted</th>\n",
       "      <th></th>\n",
       "    </tr>\n",
       "  </thead>\n",
       "  <tbody>\n",
       "    <tr>\n",
       "      <th rowspan=\"2\" valign=\"top\">AfricanAmerican</th>\n",
       "      <th>No</th>\n",
       "      <td>9407</td>\n",
       "    </tr>\n",
       "    <tr>\n",
       "      <th>Yes</th>\n",
       "      <td>852</td>\n",
       "    </tr>\n",
       "    <tr>\n",
       "      <th rowspan=\"2\" valign=\"top\">Asian</th>\n",
       "      <th>No</th>\n",
       "      <td>356</td>\n",
       "    </tr>\n",
       "    <tr>\n",
       "      <th>Yes</th>\n",
       "      <td>30</td>\n",
       "    </tr>\n",
       "    <tr>\n",
       "      <th rowspan=\"2\" valign=\"top\">Caucasian</th>\n",
       "      <th>No</th>\n",
       "      <td>38959</td>\n",
       "    </tr>\n",
       "    <tr>\n",
       "      <th>Yes</th>\n",
       "      <td>3874</td>\n",
       "    </tr>\n",
       "    <tr>\n",
       "      <th rowspan=\"2\" valign=\"top\">Hispanic</th>\n",
       "      <th>No</th>\n",
       "      <td>1135</td>\n",
       "    </tr>\n",
       "    <tr>\n",
       "      <th>Yes</th>\n",
       "      <td>98</td>\n",
       "    </tr>\n",
       "    <tr>\n",
       "      <th rowspan=\"2\" valign=\"top\">Other</th>\n",
       "      <th>No</th>\n",
       "      <td>881</td>\n",
       "    </tr>\n",
       "    <tr>\n",
       "      <th>Yes</th>\n",
       "      <td>62</td>\n",
       "    </tr>\n",
       "    <tr>\n",
       "      <th rowspan=\"2\" valign=\"top\">unknown</th>\n",
       "      <th>No</th>\n",
       "      <td>1446</td>\n",
       "    </tr>\n",
       "    <tr>\n",
       "      <th>Yes</th>\n",
       "      <td>112</td>\n",
       "    </tr>\n",
       "  </tbody>\n",
       "</table>\n",
       "</div>"
      ],
      "text/plain": [
       "                            gender\n",
       "race            readmitted        \n",
       "AfricanAmerican No            9407\n",
       "                Yes            852\n",
       "Asian           No             356\n",
       "                Yes             30\n",
       "Caucasian       No           38959\n",
       "                Yes           3874\n",
       "Hispanic        No            1135\n",
       "                Yes             98\n",
       "Other           No             881\n",
       "                Yes             62\n",
       "unknown         No            1446\n",
       "                Yes            112"
      ]
     },
     "execution_count": 40,
     "metadata": {},
     "output_type": "execute_result"
    }
   ],
   "source": [
    "#Readmission Table 5: Race\n",
    "train[['race','readmitted', 'gender']].groupby(['race','readmitted']).count()"
   ]
  },
  {
   "cell_type": "code",
   "execution_count": 41,
   "metadata": {
    "cell_style": "split"
   },
   "outputs": [
    {
     "data": {
      "text/html": [
       "<div>\n",
       "<style scoped>\n",
       "    .dataframe tbody tr th:only-of-type {\n",
       "        vertical-align: middle;\n",
       "    }\n",
       "\n",
       "    .dataframe tbody tr th {\n",
       "        vertical-align: top;\n",
       "    }\n",
       "\n",
       "    .dataframe thead th {\n",
       "        text-align: right;\n",
       "    }\n",
       "</style>\n",
       "<table border=\"1\" class=\"dataframe\">\n",
       "  <thead>\n",
       "    <tr style=\"text-align: right;\">\n",
       "      <th></th>\n",
       "      <th></th>\n",
       "      <th>gender</th>\n",
       "    </tr>\n",
       "    <tr>\n",
       "      <th>race</th>\n",
       "      <th>readmitted</th>\n",
       "      <th></th>\n",
       "    </tr>\n",
       "  </thead>\n",
       "  <tbody>\n",
       "    <tr>\n",
       "      <th rowspan=\"2\" valign=\"top\">AfricanAmerican</th>\n",
       "      <th>No</th>\n",
       "      <td>0.164424</td>\n",
       "    </tr>\n",
       "    <tr>\n",
       "      <th>Yes</th>\n",
       "      <td>0.014892</td>\n",
       "    </tr>\n",
       "    <tr>\n",
       "      <th rowspan=\"2\" valign=\"top\">Asian</th>\n",
       "      <th>No</th>\n",
       "      <td>0.006222</td>\n",
       "    </tr>\n",
       "    <tr>\n",
       "      <th>Yes</th>\n",
       "      <td>0.000524</td>\n",
       "    </tr>\n",
       "    <tr>\n",
       "      <th rowspan=\"2\" valign=\"top\">Caucasian</th>\n",
       "      <th>No</th>\n",
       "      <td>0.680959</td>\n",
       "    </tr>\n",
       "    <tr>\n",
       "      <th>Yes</th>\n",
       "      <td>0.067713</td>\n",
       "    </tr>\n",
       "    <tr>\n",
       "      <th rowspan=\"2\" valign=\"top\">Hispanic</th>\n",
       "      <th>No</th>\n",
       "      <td>0.019838</td>\n",
       "    </tr>\n",
       "    <tr>\n",
       "      <th>Yes</th>\n",
       "      <td>0.001713</td>\n",
       "    </tr>\n",
       "    <tr>\n",
       "      <th rowspan=\"2\" valign=\"top\">Other</th>\n",
       "      <th>No</th>\n",
       "      <td>0.015399</td>\n",
       "    </tr>\n",
       "    <tr>\n",
       "      <th>Yes</th>\n",
       "      <td>0.001084</td>\n",
       "    </tr>\n",
       "    <tr>\n",
       "      <th rowspan=\"2\" valign=\"top\">unknown</th>\n",
       "      <th>No</th>\n",
       "      <td>0.025274</td>\n",
       "    </tr>\n",
       "    <tr>\n",
       "      <th>Yes</th>\n",
       "      <td>0.001958</td>\n",
       "    </tr>\n",
       "  </tbody>\n",
       "</table>\n",
       "</div>"
      ],
      "text/plain": [
       "                              gender\n",
       "race            readmitted          \n",
       "AfricanAmerican No          0.164424\n",
       "                Yes         0.014892\n",
       "Asian           No          0.006222\n",
       "                Yes         0.000524\n",
       "Caucasian       No          0.680959\n",
       "                Yes         0.067713\n",
       "Hispanic        No          0.019838\n",
       "                Yes         0.001713\n",
       "Other           No          0.015399\n",
       "                Yes         0.001084\n",
       "unknown         No          0.025274\n",
       "                Yes         0.001958"
      ]
     },
     "execution_count": 41,
     "metadata": {},
     "output_type": "execute_result"
    }
   ],
   "source": [
    "#Percentage\n",
    "train[['race','readmitted', 'gender']].groupby(['race','readmitted']).count().apply(lambda x: x/train.gender.count())"
   ]
  },
  {
   "cell_type": "code",
   "execution_count": 42,
   "metadata": {},
   "outputs": [
    {
     "data": {
      "text/plain": [
       "(array([ 0,  1,  2,  3,  4,  5,  6,  7,  8,  9, 10, 11]),\n",
       " [Text(0, 0, '(AfricanAmerican, No)'),\n",
       "  Text(0, 1, '(AfricanAmerican, Yes)'),\n",
       "  Text(0, 2, '(Asian, No)'),\n",
       "  Text(0, 3, '(Asian, Yes)'),\n",
       "  Text(0, 4, '(Caucasian, No)'),\n",
       "  Text(0, 5, '(Caucasian, Yes)'),\n",
       "  Text(0, 6, '(Hispanic, No)'),\n",
       "  Text(0, 7, '(Hispanic, Yes)'),\n",
       "  Text(0, 8, '(Other, No)'),\n",
       "  Text(0, 9, '(Other, Yes)'),\n",
       "  Text(0, 10, '(unknown, No)'),\n",
       "  Text(0, 11, '(unknown, Yes)')])"
      ]
     },
     "execution_count": 42,
     "metadata": {},
     "output_type": "execute_result"
    },
    {
     "data": {
      "image/png": "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\n",
      "text/plain": [
       "<Figure size 576x396 with 1 Axes>"
      ]
     },
     "metadata": {},
     "output_type": "display_data"
    }
   ],
   "source": [
    "#Bar plot\n",
    "train[['race','readmitted', 'gender']].groupby(['race','readmitted']).count().apply(lambda x: x/train.gender.count()).plot(kind='barh',legend=False)\n",
    "plt.title('race',fontsize=14)\n",
    "plt.xticks(fontsize=12)\n",
    "plt.yticks(fontsize=12)"
   ]
  },
  {
   "cell_type": "code",
   "execution_count": 43,
   "metadata": {},
   "outputs": [],
   "source": [
    "#train.profile_report()"
   ]
=======
    "df.to_csv(r'./data/cleaned_df.csv', index = False)\n",
    "#Test DF\n",
    "test.to_csv(r'./data/test_df.csv', index = False)\n",
    "#Train DF\n",
    "train.to_csv(r'./data/train_df.csv', index = False)"
   ]
>>>>>>> mhomnipool-main
  }
 ],
 "metadata": {
  "kernelspec": {
   "display_name": "Python 3",
   "language": "python",
   "name": "python3"
  },
  "language_info": {
   "codemirror_mode": {
    "name": "ipython",
    "version": 3
   },
   "file_extension": ".py",
   "mimetype": "text/x-python",
   "name": "python",
   "nbconvert_exporter": "python",
   "pygments_lexer": "ipython3",
   "version": "3.8.3"
  }
 },
 "nbformat": 4,
 "nbformat_minor": 4
}
