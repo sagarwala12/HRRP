{
 "cells": [
  {
   "cell_type": "code",
   "execution_count": 1,
   "metadata": {},
   "outputs": [],
   "source": [
    "import pandas as pd\n",
    "import numpy as np \n",
    "from scipy import stats\n",
    "\n",
    "# data visualization packages \n",
    "import matplotlib.pyplot as plt\n",
    "%matplotlib inline\n",
    "plt.style.use('seaborn')\n",
    "import seaborn as sns\n",
    "pd.set_option('max_columns', None)\n",
    "\n",
    "#machine learning packages\n",
    "from sklearn.model_selection import train_test_split, RandomizedSearchCV, cross_val_score, StratifiedKFold\n",
    "from sklearn.metrics import confusion_matrix, classification_report, roc_curve, auc, roc_auc_score, accuracy_score, precision_score, recall_score\n",
    "from sklearn.ensemble import RandomForestClassifier\n",
    "from sklearn.linear_model import LogisticRegression, LogisticRegressionCV\n",
    "from sklearn.tree import DecisionTreeClassifier\n",
    "from sklearn.feature_selection import RFECV, RFE\n",
    "from imblearn.over_sampling import SMOTE \n",
    "from sklearn.utils import resample\n",
    "import xgboost as xgb\n",
    "\n",
    "from warnings import filterwarnings\n",
    "filterwarnings('ignore')\n",
    "np.random.seed(123)"
   ]
  },
  {
   "cell_type": "markdown",
   "metadata": {},
   "source": [
    "# Load the Data Set from EDA_Final"
   ]
  },
  {
   "cell_type": "code",
   "execution_count": 2,
   "metadata": {},
   "outputs": [],
   "source": [
    "# Load DF\n",
    "\n",
    "df = pd.read_csv('./data/cleaned_df.csv')"
   ]
  },
  {
   "cell_type": "markdown",
   "metadata": {},
   "source": [
    "# Dropping Features"
   ]
  },
  {
   "cell_type": "code",
   "execution_count": 3,
   "metadata": {},
   "outputs": [],
   "source": [
    "# No patients take these medications\n",
    "\n",
    "df = df.drop(columns = [\"examide\", \"citoglipton\"])"
   ]
  },
  {
   "cell_type": "markdown",
   "metadata": {},
   "source": [
    "# Feature Engineering"
   ]
  },
  {
   "cell_type": "markdown",
   "metadata": {},
   "source": [
    "### FE: Medication"
   ]
  },
  {
   "cell_type": "code",
   "execution_count": 4,
   "metadata": {},
   "outputs": [],
   "source": [
    "# Group all medications except insulin to binary; insulin remains with distinct categories\n",
    "\n",
    "meds = ['metformin', 'repaglinide', 'nateglinide', 'chlorpropamide',\n",
    "       'glimepiride', 'acetohexamide', 'glipizide', 'glyburide', 'tolbutamide',\n",
    "       'pioglitazone', 'rosiglitazone', 'acarbose', 'miglitol', 'troglitazone',\n",
    "       'tolazamide','glyburide-metformin', 'glipizide-metformin',\n",
    "       'glimepiride-pioglitazone', 'metformin-rosiglitazone',\n",
    "       'metformin-pioglitazone']\n",
    "\n",
    "for med in meds:\n",
    "    df[med] = df[med].map({'Up':1, 'Down':1, 'Steady':1, 'No':0})"
   ]
  },
  {
   "cell_type": "markdown",
   "metadata": {},
   "source": [
    "### FE: Admission Type ID"
   ]
  },
  {
   "cell_type": "code",
   "execution_count": 5,
   "metadata": {},
   "outputs": [],
   "source": [
    "# Group admission type by Emergency, Urgent, Elective, and Other\n",
    "\n",
    "def modadtype(series):\n",
    "    \n",
    "    def newcat(x):\n",
    "        if x == 1: return \"Emergency\"\n",
    "        elif x == 2: return \"Urgent\"\n",
    "        elif x == 3: return \"Elective\"\n",
    "        else: return \"Other\"\n",
    "        \n",
    "    return series.apply(newcat)\n",
    "\n",
    "df.admission_type_id = modadtype(df.admission_type_id)"
   ]
  },
  {
   "cell_type": "markdown",
   "metadata": {},
   "source": [
    "### FE: Admission Source ID"
   ]
  },
  {
   "cell_type": "code",
   "execution_count": 6,
   "metadata": {},
   "outputs": [],
   "source": [
    "# Group admission source by Referral, Emergency, and Other\n",
    "\n",
    "def modadsourc(series):\n",
    "    \n",
    "    def newcat(x):\n",
    "        if x == 1: return \"Physician Referral\"\n",
    "        elif x == 7: return \"Emergency\"\n",
    "        else: return \"Other\"\n",
    "        \n",
    "    return series.apply(newcat)\n",
    "\n",
    "df.admission_source_id = modadsourc(df.admission_source_id)"
   ]
  },
  {
   "cell_type": "markdown",
   "metadata": {},
   "source": [
    "### FE: Discharge Disposition ID"
   ]
  },
  {
   "cell_type": "code",
   "execution_count": 7,
   "metadata": {},
   "outputs": [],
   "source": [
    "## Group discharge dispo by Home or Not_Home discharge\n",
    "\n",
    "def moddisch(series):\n",
    "    \n",
    "    def home(x):\n",
    "        if x == 1: return \"Home\"\n",
    "        else: return \"Not_Home\"\n",
    "    \n",
    "    return series.apply(home)\n",
    "\n",
    "df.discharge_disposition_id = moddisch(df.discharge_disposition_id)"
   ]
  },
  {
   "cell_type": "markdown",
   "metadata": {},
   "source": [
    "### FE: Age"
   ]
  },
  {
   "cell_type": "code",
   "execution_count": 8,
   "metadata": {},
   "outputs": [],
   "source": [
    "# Group age by similar readmission rates: 0-40, 40-90, 90-100\n",
    "\n",
    "age_id = {'[0-10)':'0-40', \n",
    "          '[10-20)':'0-40', \n",
    "          '[20-30)':'0-40', \n",
    "          '[30-40)':'0-40', \n",
    "          '[40-50)':'40-90', \n",
    "          '[50-60)':'40-90',\n",
    "          '[60-70)':'40-90', \n",
    "          '[70-80)':'40-90', \n",
    "          '[80-90)':'40-90', \n",
    "          '[90-100)':'90-100'}\n",
    "\n",
    "df['age'] = df.age.replace(age_id)"
   ]
  },
  {
   "cell_type": "markdown",
   "metadata": {},
   "source": [
    "### FE: Race"
   ]
  },
  {
   "cell_type": "code",
   "execution_count": 9,
   "metadata": {},
   "outputs": [],
   "source": [
    "# Group race by similar readmission rates, preserving the top two categories: Caucasian and African American\n",
    "\n",
    "race_id = {'Caucasian':'Caucasian', \n",
    "          'AfricanAmerican':'AfricanAmerican', \n",
    "          'Other':'Other', \n",
    "          'Asian':'Other', \n",
    "          'Hispanic':'Other', \n",
    "          'unknown':'Missing',}\n",
    "\n",
    "df['race'] = df.race.replace(race_id)"
   ]
  },
  {
   "cell_type": "markdown",
   "metadata": {},
   "source": [
    "### FE: Gender"
   ]
  },
  {
   "cell_type": "code",
   "execution_count": 10,
   "metadata": {},
   "outputs": [
    {
     "data": {
      "text/html": [
       "<div>\n",
       "<style scoped>\n",
       "    .dataframe tbody tr th:only-of-type {\n",
       "        vertical-align: middle;\n",
       "    }\n",
       "\n",
       "    .dataframe tbody tr th {\n",
       "        vertical-align: top;\n",
       "    }\n",
       "\n",
       "    .dataframe thead th {\n",
       "        text-align: right;\n",
       "    }\n",
       "</style>\n",
       "<table border=\"1\" class=\"dataframe\">\n",
       "  <thead>\n",
       "    <tr style=\"text-align: right;\">\n",
       "      <th></th>\n",
       "      <th>race</th>\n",
       "      <th>gender</th>\n",
       "      <th>age</th>\n",
       "      <th>admission_type_id</th>\n",
       "      <th>discharge_disposition_id</th>\n",
       "      <th>admission_source_id</th>\n",
       "      <th>time_in_hospital</th>\n",
       "      <th>num_lab_procedures</th>\n",
       "      <th>num_procedures</th>\n",
       "      <th>num_medications</th>\n",
       "      <th>number_outpatient</th>\n",
       "      <th>number_emergency</th>\n",
       "      <th>number_inpatient</th>\n",
       "      <th>diag_1</th>\n",
       "      <th>diag_2</th>\n",
       "      <th>diag_3</th>\n",
       "      <th>number_diagnoses</th>\n",
       "      <th>max_glu_serum</th>\n",
       "      <th>A1Cresult</th>\n",
       "      <th>metformin</th>\n",
       "      <th>repaglinide</th>\n",
       "      <th>nateglinide</th>\n",
       "      <th>chlorpropamide</th>\n",
       "      <th>glimepiride</th>\n",
       "      <th>acetohexamide</th>\n",
       "      <th>glipizide</th>\n",
       "      <th>glyburide</th>\n",
       "      <th>tolbutamide</th>\n",
       "      <th>pioglitazone</th>\n",
       "      <th>rosiglitazone</th>\n",
       "      <th>acarbose</th>\n",
       "      <th>miglitol</th>\n",
       "      <th>troglitazone</th>\n",
       "      <th>tolazamide</th>\n",
       "      <th>insulin</th>\n",
       "      <th>glyburide-metformin</th>\n",
       "      <th>glipizide-metformin</th>\n",
       "      <th>glimepiride-pioglitazone</th>\n",
       "      <th>metformin-rosiglitazone</th>\n",
       "      <th>metformin-pioglitazone</th>\n",
       "      <th>change</th>\n",
       "      <th>diabetesMed</th>\n",
       "      <th>readmitted</th>\n",
       "    </tr>\n",
       "  </thead>\n",
       "  <tbody>\n",
       "    <tr>\n",
       "      <th>22926</th>\n",
       "      <td>Other</td>\n",
       "      <td>Unknown/Invalid</td>\n",
       "      <td>40-90</td>\n",
       "      <td>Elective</td>\n",
       "      <td>Home</td>\n",
       "      <td>Physician Referral</td>\n",
       "      <td>1</td>\n",
       "      <td>5</td>\n",
       "      <td>5</td>\n",
       "      <td>22</td>\n",
       "      <td>0</td>\n",
       "      <td>0</td>\n",
       "      <td>0</td>\n",
       "      <td>414</td>\n",
       "      <td>411</td>\n",
       "      <td>401</td>\n",
       "      <td>4</td>\n",
       "      <td>None</td>\n",
       "      <td>None</td>\n",
       "      <td>0</td>\n",
       "      <td>0</td>\n",
       "      <td>0</td>\n",
       "      <td>0</td>\n",
       "      <td>0</td>\n",
       "      <td>0</td>\n",
       "      <td>1</td>\n",
       "      <td>0</td>\n",
       "      <td>0</td>\n",
       "      <td>1</td>\n",
       "      <td>0</td>\n",
       "      <td>0</td>\n",
       "      <td>0</td>\n",
       "      <td>0</td>\n",
       "      <td>0</td>\n",
       "      <td>No</td>\n",
       "      <td>0</td>\n",
       "      <td>0</td>\n",
       "      <td>0</td>\n",
       "      <td>0</td>\n",
       "      <td>0</td>\n",
       "      <td>Ch</td>\n",
       "      <td>Yes</td>\n",
       "      <td>No</td>\n",
       "    </tr>\n",
       "    <tr>\n",
       "      <th>55129</th>\n",
       "      <td>Missing</td>\n",
       "      <td>Unknown/Invalid</td>\n",
       "      <td>40-90</td>\n",
       "      <td>Emergency</td>\n",
       "      <td>Home</td>\n",
       "      <td>Emergency</td>\n",
       "      <td>1</td>\n",
       "      <td>38</td>\n",
       "      <td>1</td>\n",
       "      <td>6</td>\n",
       "      <td>0</td>\n",
       "      <td>0</td>\n",
       "      <td>0</td>\n",
       "      <td>808</td>\n",
       "      <td>873</td>\n",
       "      <td>E813</td>\n",
       "      <td>5</td>\n",
       "      <td>None</td>\n",
       "      <td>None</td>\n",
       "      <td>0</td>\n",
       "      <td>0</td>\n",
       "      <td>0</td>\n",
       "      <td>0</td>\n",
       "      <td>0</td>\n",
       "      <td>0</td>\n",
       "      <td>0</td>\n",
       "      <td>0</td>\n",
       "      <td>0</td>\n",
       "      <td>0</td>\n",
       "      <td>0</td>\n",
       "      <td>0</td>\n",
       "      <td>0</td>\n",
       "      <td>0</td>\n",
       "      <td>0</td>\n",
       "      <td>No</td>\n",
       "      <td>0</td>\n",
       "      <td>0</td>\n",
       "      <td>0</td>\n",
       "      <td>0</td>\n",
       "      <td>0</td>\n",
       "      <td>No</td>\n",
       "      <td>No</td>\n",
       "      <td>No</td>\n",
       "    </tr>\n",
       "    <tr>\n",
       "      <th>59490</th>\n",
       "      <td>Missing</td>\n",
       "      <td>Unknown/Invalid</td>\n",
       "      <td>40-90</td>\n",
       "      <td>Emergency</td>\n",
       "      <td>Not_Home</td>\n",
       "      <td>Emergency</td>\n",
       "      <td>8</td>\n",
       "      <td>59</td>\n",
       "      <td>2</td>\n",
       "      <td>21</td>\n",
       "      <td>0</td>\n",
       "      <td>0</td>\n",
       "      <td>0</td>\n",
       "      <td>850</td>\n",
       "      <td>805</td>\n",
       "      <td>808</td>\n",
       "      <td>9</td>\n",
       "      <td>None</td>\n",
       "      <td>None</td>\n",
       "      <td>1</td>\n",
       "      <td>0</td>\n",
       "      <td>0</td>\n",
       "      <td>0</td>\n",
       "      <td>0</td>\n",
       "      <td>0</td>\n",
       "      <td>0</td>\n",
       "      <td>0</td>\n",
       "      <td>0</td>\n",
       "      <td>0</td>\n",
       "      <td>1</td>\n",
       "      <td>0</td>\n",
       "      <td>0</td>\n",
       "      <td>0</td>\n",
       "      <td>0</td>\n",
       "      <td>No</td>\n",
       "      <td>0</td>\n",
       "      <td>0</td>\n",
       "      <td>0</td>\n",
       "      <td>0</td>\n",
       "      <td>0</td>\n",
       "      <td>Ch</td>\n",
       "      <td>Yes</td>\n",
       "      <td>No</td>\n",
       "    </tr>\n",
       "  </tbody>\n",
       "</table>\n",
       "</div>"
      ],
      "text/plain": [
       "          race           gender    age admission_type_id  \\\n",
       "22926    Other  Unknown/Invalid  40-90          Elective   \n",
       "55129  Missing  Unknown/Invalid  40-90         Emergency   \n",
       "59490  Missing  Unknown/Invalid  40-90         Emergency   \n",
       "\n",
       "      discharge_disposition_id admission_source_id  time_in_hospital  \\\n",
       "22926                     Home  Physician Referral                 1   \n",
       "55129                     Home           Emergency                 1   \n",
       "59490                 Not_Home           Emergency                 8   \n",
       "\n",
       "       num_lab_procedures  num_procedures  num_medications  number_outpatient  \\\n",
       "22926                   5               5               22                  0   \n",
       "55129                  38               1                6                  0   \n",
       "59490                  59               2               21                  0   \n",
       "\n",
       "       number_emergency  number_inpatient diag_1 diag_2 diag_3  \\\n",
       "22926                 0                 0    414    411    401   \n",
       "55129                 0                 0    808    873   E813   \n",
       "59490                 0                 0    850    805    808   \n",
       "\n",
       "       number_diagnoses max_glu_serum A1Cresult  metformin  repaglinide  \\\n",
       "22926                 4          None      None          0            0   \n",
       "55129                 5          None      None          0            0   \n",
       "59490                 9          None      None          1            0   \n",
       "\n",
       "       nateglinide  chlorpropamide  glimepiride  acetohexamide  glipizide  \\\n",
       "22926            0               0            0              0          1   \n",
       "55129            0               0            0              0          0   \n",
       "59490            0               0            0              0          0   \n",
       "\n",
       "       glyburide  tolbutamide  pioglitazone  rosiglitazone  acarbose  \\\n",
       "22926          0            0             1              0         0   \n",
       "55129          0            0             0              0         0   \n",
       "59490          0            0             0              1         0   \n",
       "\n",
       "       miglitol  troglitazone  tolazamide insulin  glyburide-metformin  \\\n",
       "22926         0             0           0      No                    0   \n",
       "55129         0             0           0      No                    0   \n",
       "59490         0             0           0      No                    0   \n",
       "\n",
       "       glipizide-metformin  glimepiride-pioglitazone  metformin-rosiglitazone  \\\n",
       "22926                    0                         0                        0   \n",
       "55129                    0                         0                        0   \n",
       "59490                    0                         0                        0   \n",
       "\n",
       "       metformin-pioglitazone change diabetesMed readmitted  \n",
       "22926                       0     Ch         Yes         No  \n",
       "55129                       0     No          No         No  \n",
       "59490                       0     Ch         Yes         No  "
      ]
     },
     "execution_count": 10,
     "metadata": {},
     "output_type": "execute_result"
    }
   ],
   "source": [
    "# Inspect Unknown/Invalid results for Gender\n",
    "\n",
    "df[df['gender'].str.contains('Unknown/Invalid')]"
   ]
  },
  {
   "cell_type": "code",
   "execution_count": 11,
   "metadata": {},
   "outputs": [],
   "source": [
    "# Only 3 values of unknown gender; drop those observations\n",
    "\n",
    "df = df[df.gender != \"Unknown/Invalid\"]"
   ]
  },
  {
   "cell_type": "markdown",
   "metadata": {},
   "source": [
    "### FE: Diagnostic Codes"
   ]
  },
  {
   "cell_type": "code",
   "execution_count": 12,
   "metadata": {},
   "outputs": [],
   "source": [
    "## Creates a function to group diagnostic codes by clinical range as well as separating diabetes specifically; \n",
    "#group symptoms with major disease category\n",
    "\n",
    "def diag_grouper(series):\n",
    "    \n",
    "    '''takes input as df.col and outputs diagnostic code groupings'''\n",
    "    \n",
    "    def no_str(x):\n",
    "        \n",
    "        '''takes input as an element of a series and pulls code for diabetes specific disease and E/V categories'''\n",
    "        \n",
    "        if '250' in x: return '9999'\n",
    "        elif 'E' in x: return '123456'\n",
    "        elif 'V' in x: return '123456'\n",
    "        elif x == 'missing': return '-654321'\n",
    "        else: return x\n",
    "    \n",
    "    series = series.apply(no_str)\n",
    "    \n",
    "    series = series.astype(float)\n",
    "    \n",
    "    def num_categ(x):\n",
    "        \n",
    "        '''takes input as an element of a series and saves each range as a numerical placeholder'''\n",
    "        \n",
    "        if 1 <= x <= 139: return 10000\n",
    "        elif 140 <= x <= 239: return 10001\n",
    "        elif 240 <= x <= 279: return 10002\n",
    "        elif 280 <= x <= 289: return 10003\n",
    "        elif 290 <= x <= 319: return 10004\n",
    "        elif 320 <= x <= 359: return 10005\n",
    "        elif 360 <= x <= 389: return 10006\n",
    "        elif 390 <= x <= 459 and x == 786: return 10007\n",
    "        elif 460 <= x <= 519 and x == 787: return 10008\n",
    "        elif 520 <= x <= 579 and x == 787: return 10009\n",
    "        elif 580 <= x <= 629 and x == 788: return 10010\n",
    "        elif 630 <= x <= 679: return 10011\n",
    "        elif 680 <= x <= 709 and x == 782: return 10012\n",
    "        elif 710 <= x <= 739: return 10013\n",
    "        elif 740 <= x <= 759: return 10014\n",
    "        elif 780 <= x <= 781 and x == 784 and 790 <= x <= 799: return 10015\n",
    "        elif 800 <= x <= 999: return 10016\n",
    "        else: return x\n",
    "        \n",
    "    series = series.apply(num_categ)\n",
    "    \n",
    "    def text_convert(x):\n",
    "        \n",
    "        '''takes input as an element of a series and converts each placeholder to string format'''\n",
    "        \n",
    "        if x == 10000: return \"Other\"\n",
    "        elif x == 10001: return \"Neoplasms\"\n",
    "        elif x == 10002: return \"Other\"\n",
    "        elif x == 10003: return \"Other\"\n",
    "        elif x == 10004: return \"Other\"\n",
    "        elif x == 10005: return \"Other\"\n",
    "        elif x == 10006: return \"Other\"\n",
    "        elif x == 10007: return \"Circulatory Disease\"\n",
    "        elif x == 10008: return \"Respiratory Disease\"\n",
    "        elif x == 10009: return \"Digestive Disease\"\n",
    "        elif x == 10010: return \"Genitourinary\"\n",
    "        elif x == 10011: return \"Other\"\n",
    "        elif x == 10012: return \"Other\"\n",
    "        elif x == 10013: return \"Musculoskeletal Disease\"\n",
    "        elif x == 10014: return \"Other\"\n",
    "        elif x == 10015: return \"Other\"\n",
    "        elif x == 10016: return \"Injury and Poisoning\"\n",
    "        elif x == 9999: return \"Diabetes\"\n",
    "        elif x == 123456: return \"Other\"\n",
    "        elif x == -654321: return \"Other\"\n",
    "    \n",
    "    return series.apply(text_convert)"
   ]
  },
  {
   "cell_type": "code",
   "execution_count": 13,
   "metadata": {},
   "outputs": [],
   "source": [
    "# Apply Diag_grouper to the Data Frame\n",
    "\n",
    "df.diag_1 = diag_grouper(df.diag_1)\n",
    "df.diag_2 = diag_grouper(df.diag_2)\n",
    "df.diag_3 = diag_grouper(df.diag_3)"
   ]
  },
  {
   "cell_type": "code",
   "execution_count": 14,
   "metadata": {},
   "outputs": [],
   "source": [
    "# Create boolean masks for the columns in question and convert to int\n",
    "\n",
    "Circ = df[['diag_1','diag_2','diag_3']].isin(['Circulatory Disease']).astype(int)\n",
    "Resp = df[['diag_1','diag_2','diag_3']].isin(['Respiratory Disease']).astype(int)\n",
    "Digest = df[['diag_1','diag_2','diag_3']].isin(['Digestive Disease']).astype(int)\n",
    "Diab = df[['diag_1','diag_2','diag_3']].isin(['Diabetes']).astype(int)\n",
    "Genit = df[['diag_1','diag_2','diag_3']].isin(['Genitourinary']).astype(int)\n",
    "Muscu = df[['diag_1','diag_2','diag_3']].isin(['Musculoskeletal Disease']).astype(int)\n",
    "Neop = df[['diag_1','diag_2','diag_3']].isin(['Neoplasms']).astype(int)\n",
    "Inj = df[['diag_1','diag_2','diag_3']].isin(['Injury and Poisoning']).astype(int)\n",
    "Othr = df[['diag_1','diag_2','diag_3']].isin(['Other']).astype(int)"
   ]
  },
  {
   "cell_type": "code",
   "execution_count": 15,
   "metadata": {},
   "outputs": [],
   "source": [
    "# Sum the Column Amounts\n",
    "\n",
    "Circulatory = (Circ['diag_1'] + Circ['diag_2'] + Circ['diag_3'])\n",
    "Respiratory = Resp['diag_1'] + Resp['diag_2'] + Resp['diag_3']\n",
    "Digestive = Digest['diag_1'] + Digest['diag_2'] + Digest['diag_3']\n",
    "Diabetes = Diab['diag_1'] + Diab['diag_2'] + Diab['diag_3']\n",
    "Injury = Inj['diag_1'] + Inj['diag_2'] + Inj['diag_3']\n",
    "Genitourinary = Genit['diag_1'] + Genit['diag_2'] + Genit['diag_3']\n",
    "Musculoskeletal = Muscu['diag_1'] + Muscu['diag_2'] + Muscu['diag_3']\n",
    "Neoplasms = Neop['diag_1'] + Neop['diag_2'] + Neop['diag_3']\n",
    "Other = Othr['diag_1'] + Othr['diag_2'] + Othr['diag_3']"
   ]
  },
  {
   "cell_type": "code",
   "execution_count": 16,
   "metadata": {},
   "outputs": [],
   "source": [
    "# Create new df of new diag columns; convert back to boolean then back to int to binarize\n",
    "\n",
    "newcollist = [Circulatory, Respiratory, Digestive, Diabetes, Injury, Genitourinary, Musculoskeletal, Neoplasms, Other]\n",
    "newcols = pd.concat(newcollist, axis = 1)\n",
    "newcols.columns = ['diag_Circulatory', 'diag_Respiratory', 'diag_Digestive', 'diag_Diabetes', 'diag_Injury',\n",
    "                   'diag_Genitourinary', 'diag_Musculoskeletal', 'diag_Neoplasms','diag_Other']\n",
    "newcols = newcols.astype(bool).astype(int)"
   ]
  },
  {
   "cell_type": "code",
   "execution_count": 17,
   "metadata": {},
   "outputs": [],
   "source": [
    "# Drop OG diags and Add New Columns\n",
    "\n",
    "df = df.drop(columns = ['diag_1','diag_2','diag_3'])\n",
    "df = pd.concat([df,newcols],axis=1)"
   ]
  },
  {
   "cell_type": "markdown",
   "metadata": {},
   "source": [
    "# Encoding"
   ]
  },
  {
   "cell_type": "code",
   "execution_count": 18,
   "metadata": {},
   "outputs": [],
   "source": [
    "# Encoding Binary Variables\n",
    "\n",
    "df['readmitted'] = df.readmitted.map({'No':0,'Yes':1})\n",
    "df['diabetesMed'] = df.diabetesMed.map({'Yes':1, 'No':0})\n",
    "df['change'] = df['change'].map({'Ch':1,'No':0})"
   ]
  },
  {
   "cell_type": "code",
   "execution_count": 19,
   "metadata": {},
   "outputs": [],
   "source": [
    "# Identifing Remaining Categoricals for Dummification\n",
    "\n",
    "categorical = df.drop(columns = ['time_in_hospital',\n",
    "       'num_lab_procedures', 'num_procedures', 'num_medications',\n",
    "       'number_outpatient', 'number_emergency', 'number_inpatient',\n",
    "        'number_diagnoses', 'diag_Circulatory', 'diag_Respiratory',\n",
    "       'diag_Digestive', 'diag_Diabetes', 'diag_Neoplasms', 'diag_Injury', \n",
    "       'diag_Genitourinary', 'diag_Musculoskeletal', 'diag_Other',\n",
    "       'glimepiride', 'acetohexamide', 'glipizide', 'glyburide', 'tolbutamide',\n",
    "       'pioglitazone', 'rosiglitazone', 'acarbose', 'miglitol', 'troglitazone',\n",
    "       'tolazamide', 'glyburide-metformin', 'glipizide-metformin',\n",
    "       'glimepiride-pioglitazone', 'metformin-rosiglitazone','metformin','repaglinide',\n",
    "        'nateglinide','chlorpropamide', 'metformin-pioglitazone','diabetesMed','change',\n",
    "        'readmitted'])"
   ]
  },
  {
   "cell_type": "code",
   "execution_count": 20,
   "metadata": {},
   "outputs": [],
   "source": [
    "# Separation of features from target for dummification\n",
    "\n",
    "X = df.drop('readmitted', axis = 1)\n",
    "y = df['readmitted']"
   ]
  },
  {
   "cell_type": "code",
   "execution_count": 21,
   "metadata": {},
   "outputs": [],
   "source": [
    "# Dummify remaining categoricals\n",
    "\n",
    "X = pd.get_dummies(X, columns = categorical.columns)"
   ]
  },
  {
   "cell_type": "markdown",
   "metadata": {},
   "source": [
    "# Recursive Feature Elimination with Cross Validation"
   ]
  },
  {
   "cell_type": "code",
   "execution_count": 22,
   "metadata": {},
   "outputs": [],
   "source": [
    "df = X.assign(readmitted = y)"
   ]
  },
  {
   "cell_type": "code",
   "execution_count": 23,
   "metadata": {},
   "outputs": [],
   "source": [
    "# Perform and 80/20 split of the data\n",
    "\n",
    "X = df.drop('readmitted', axis = 1)\n",
    "y = df['readmitted']\n"
   ]
  },
  {
   "cell_type": "code",
   "execution_count": 24,
   "metadata": {},
   "outputs": [
    {
     "data": {
      "text/plain": [
       "RFECV(cv=StratifiedKFold(n_splits=5, random_state=None, shuffle=False),\n",
       "      estimator=DecisionTreeClassifier(), scoring='accuracy')"
      ]
     },
     "execution_count": 24,
     "metadata": {},
     "output_type": "execute_result"
    }
   ],
   "source": [
    "#fit RFECV to the Training Data with Decision Tree Classifier\n",
    "\n",
    "rfecv = RFECV(estimator = DecisionTreeClassifier(), step = 1,\n",
    "              cv = StratifiedKFold(5), scoring = 'accuracy')\n",
    "\n",
    "rfecv.fit(X,y)"
   ]
  },
  {
   "cell_type": "markdown",
   "metadata": {},
   "source": [
    "###  RFE: Get the top 45 features and return to X_"
   ]
  },
  {
   "cell_type": "code",
   "execution_count": 25,
   "metadata": {},
   "outputs": [],
   "source": [
    "# Get scoring for all features\n",
    "\n",
    "cols = []\n",
    "for i in range(X.shape[1]):\n",
    "    if rfecv.ranking_[i] <= 45:\n",
    "        cols.append(i)"
   ]
  },
  {
   "cell_type": "code",
   "execution_count": 26,
   "metadata": {},
   "outputs": [],
   "source": [
    "X_ = X.iloc[:, cols]"
   ]
  },
  {
   "cell_type": "markdown",
   "metadata": {},
   "source": [
    "# 80/20 split"
   ]
  },
  {
   "cell_type": "code",
   "execution_count": 27,
   "metadata": {},
   "outputs": [],
   "source": [
    "# split\n",
    "\n",
    "X_train, X_test, y_train, y_test = train_test_split(X_, y, test_size = 0.2, stratify = y, random_state = 123)"
   ]
  },
  {
   "cell_type": "code",
   "execution_count": 28,
   "metadata": {},
   "outputs": [
    {
     "data": {
      "text/html": [
       "<div>\n",
       "<style scoped>\n",
       "    .dataframe tbody tr th:only-of-type {\n",
       "        vertical-align: middle;\n",
       "    }\n",
       "\n",
       "    .dataframe tbody tr th {\n",
       "        vertical-align: top;\n",
       "    }\n",
       "\n",
       "    .dataframe thead th {\n",
       "        text-align: right;\n",
       "    }\n",
       "</style>\n",
       "<table border=\"1\" class=\"dataframe\">\n",
       "  <thead>\n",
       "    <tr style=\"text-align: right;\">\n",
       "      <th></th>\n",
       "      <th>time_in_hospital</th>\n",
       "      <th>num_lab_procedures</th>\n",
       "      <th>num_procedures</th>\n",
       "      <th>num_medications</th>\n",
       "      <th>number_outpatient</th>\n",
       "      <th>number_emergency</th>\n",
       "      <th>number_inpatient</th>\n",
       "      <th>number_diagnoses</th>\n",
       "      <th>metformin</th>\n",
       "      <th>repaglinide</th>\n",
       "      <th>glimepiride</th>\n",
       "      <th>glipizide</th>\n",
       "      <th>glyburide</th>\n",
       "      <th>pioglitazone</th>\n",
       "      <th>rosiglitazone</th>\n",
       "      <th>change</th>\n",
       "      <th>diag_Diabetes</th>\n",
       "      <th>diag_Injury</th>\n",
       "      <th>diag_Musculoskeletal</th>\n",
       "      <th>diag_Neoplasms</th>\n",
       "      <th>diag_Other</th>\n",
       "      <th>race_AfricanAmerican</th>\n",
       "      <th>race_Caucasian</th>\n",
       "      <th>race_Missing</th>\n",
       "      <th>race_Other</th>\n",
       "      <th>gender_Female</th>\n",
       "      <th>gender_Male</th>\n",
       "      <th>age_0-40</th>\n",
       "      <th>age_40-90</th>\n",
       "      <th>admission_type_id_Elective</th>\n",
       "      <th>admission_type_id_Emergency</th>\n",
       "      <th>admission_type_id_Other</th>\n",
       "      <th>admission_type_id_Urgent</th>\n",
       "      <th>discharge_disposition_id_Home</th>\n",
       "      <th>admission_source_id_Emergency</th>\n",
       "      <th>admission_source_id_Other</th>\n",
       "      <th>admission_source_id_Physician Referral</th>\n",
       "      <th>A1Cresult_&gt;7</th>\n",
       "      <th>A1Cresult_&gt;8</th>\n",
       "      <th>A1Cresult_None</th>\n",
       "      <th>A1Cresult_Norm</th>\n",
       "      <th>insulin_Down</th>\n",
       "      <th>insulin_No</th>\n",
       "      <th>insulin_Steady</th>\n",
       "      <th>insulin_Up</th>\n",
       "    </tr>\n",
       "  </thead>\n",
       "  <tbody>\n",
       "    <tr>\n",
       "      <th>42357</th>\n",
       "      <td>2</td>\n",
       "      <td>60</td>\n",
       "      <td>0</td>\n",
       "      <td>15</td>\n",
       "      <td>0</td>\n",
       "      <td>0</td>\n",
       "      <td>0</td>\n",
       "      <td>9</td>\n",
       "      <td>0</td>\n",
       "      <td>0</td>\n",
       "      <td>0</td>\n",
       "      <td>0</td>\n",
       "      <td>0</td>\n",
       "      <td>0</td>\n",
       "      <td>0</td>\n",
       "      <td>1</td>\n",
       "      <td>0</td>\n",
       "      <td>0</td>\n",
       "      <td>0</td>\n",
       "      <td>0</td>\n",
       "      <td>1</td>\n",
       "      <td>0</td>\n",
       "      <td>1</td>\n",
       "      <td>0</td>\n",
       "      <td>0</td>\n",
       "      <td>1</td>\n",
       "      <td>0</td>\n",
       "      <td>0</td>\n",
       "      <td>1</td>\n",
       "      <td>0</td>\n",
       "      <td>1</td>\n",
       "      <td>0</td>\n",
       "      <td>0</td>\n",
       "      <td>1</td>\n",
       "      <td>1</td>\n",
       "      <td>0</td>\n",
       "      <td>0</td>\n",
       "      <td>0</td>\n",
       "      <td>0</td>\n",
       "      <td>1</td>\n",
       "      <td>0</td>\n",
       "      <td>0</td>\n",
       "      <td>0</td>\n",
       "      <td>0</td>\n",
       "      <td>1</td>\n",
       "    </tr>\n",
       "    <tr>\n",
       "      <th>42094</th>\n",
       "      <td>3</td>\n",
       "      <td>55</td>\n",
       "      <td>0</td>\n",
       "      <td>10</td>\n",
       "      <td>0</td>\n",
       "      <td>0</td>\n",
       "      <td>0</td>\n",
       "      <td>9</td>\n",
       "      <td>0</td>\n",
       "      <td>0</td>\n",
       "      <td>0</td>\n",
       "      <td>0</td>\n",
       "      <td>0</td>\n",
       "      <td>0</td>\n",
       "      <td>0</td>\n",
       "      <td>1</td>\n",
       "      <td>0</td>\n",
       "      <td>0</td>\n",
       "      <td>0</td>\n",
       "      <td>0</td>\n",
       "      <td>1</td>\n",
       "      <td>1</td>\n",
       "      <td>0</td>\n",
       "      <td>0</td>\n",
       "      <td>0</td>\n",
       "      <td>1</td>\n",
       "      <td>0</td>\n",
       "      <td>0</td>\n",
       "      <td>1</td>\n",
       "      <td>0</td>\n",
       "      <td>1</td>\n",
       "      <td>0</td>\n",
       "      <td>0</td>\n",
       "      <td>1</td>\n",
       "      <td>1</td>\n",
       "      <td>0</td>\n",
       "      <td>0</td>\n",
       "      <td>0</td>\n",
       "      <td>0</td>\n",
       "      <td>1</td>\n",
       "      <td>0</td>\n",
       "      <td>0</td>\n",
       "      <td>0</td>\n",
       "      <td>0</td>\n",
       "      <td>1</td>\n",
       "    </tr>\n",
       "    <tr>\n",
       "      <th>70235</th>\n",
       "      <td>5</td>\n",
       "      <td>51</td>\n",
       "      <td>0</td>\n",
       "      <td>13</td>\n",
       "      <td>0</td>\n",
       "      <td>0</td>\n",
       "      <td>0</td>\n",
       "      <td>9</td>\n",
       "      <td>0</td>\n",
       "      <td>0</td>\n",
       "      <td>0</td>\n",
       "      <td>0</td>\n",
       "      <td>0</td>\n",
       "      <td>1</td>\n",
       "      <td>0</td>\n",
       "      <td>1</td>\n",
       "      <td>0</td>\n",
       "      <td>1</td>\n",
       "      <td>0</td>\n",
       "      <td>0</td>\n",
       "      <td>1</td>\n",
       "      <td>0</td>\n",
       "      <td>1</td>\n",
       "      <td>0</td>\n",
       "      <td>0</td>\n",
       "      <td>0</td>\n",
       "      <td>1</td>\n",
       "      <td>0</td>\n",
       "      <td>1</td>\n",
       "      <td>0</td>\n",
       "      <td>1</td>\n",
       "      <td>0</td>\n",
       "      <td>0</td>\n",
       "      <td>1</td>\n",
       "      <td>1</td>\n",
       "      <td>0</td>\n",
       "      <td>0</td>\n",
       "      <td>0</td>\n",
       "      <td>0</td>\n",
       "      <td>0</td>\n",
       "      <td>1</td>\n",
       "      <td>1</td>\n",
       "      <td>0</td>\n",
       "      <td>0</td>\n",
       "      <td>0</td>\n",
       "    </tr>\n",
       "    <tr>\n",
       "      <th>59092</th>\n",
       "      <td>5</td>\n",
       "      <td>51</td>\n",
       "      <td>3</td>\n",
       "      <td>24</td>\n",
       "      <td>0</td>\n",
       "      <td>0</td>\n",
       "      <td>0</td>\n",
       "      <td>9</td>\n",
       "      <td>1</td>\n",
       "      <td>0</td>\n",
       "      <td>0</td>\n",
       "      <td>0</td>\n",
       "      <td>0</td>\n",
       "      <td>0</td>\n",
       "      <td>0</td>\n",
       "      <td>0</td>\n",
       "      <td>0</td>\n",
       "      <td>0</td>\n",
       "      <td>1</td>\n",
       "      <td>0</td>\n",
       "      <td>1</td>\n",
       "      <td>0</td>\n",
       "      <td>1</td>\n",
       "      <td>0</td>\n",
       "      <td>0</td>\n",
       "      <td>1</td>\n",
       "      <td>0</td>\n",
       "      <td>0</td>\n",
       "      <td>1</td>\n",
       "      <td>0</td>\n",
       "      <td>0</td>\n",
       "      <td>0</td>\n",
       "      <td>1</td>\n",
       "      <td>0</td>\n",
       "      <td>0</td>\n",
       "      <td>0</td>\n",
       "      <td>1</td>\n",
       "      <td>0</td>\n",
       "      <td>0</td>\n",
       "      <td>1</td>\n",
       "      <td>0</td>\n",
       "      <td>0</td>\n",
       "      <td>1</td>\n",
       "      <td>0</td>\n",
       "      <td>0</td>\n",
       "    </tr>\n",
       "    <tr>\n",
       "      <th>32317</th>\n",
       "      <td>12</td>\n",
       "      <td>10</td>\n",
       "      <td>2</td>\n",
       "      <td>12</td>\n",
       "      <td>0</td>\n",
       "      <td>0</td>\n",
       "      <td>0</td>\n",
       "      <td>9</td>\n",
       "      <td>0</td>\n",
       "      <td>0</td>\n",
       "      <td>0</td>\n",
       "      <td>1</td>\n",
       "      <td>0</td>\n",
       "      <td>0</td>\n",
       "      <td>1</td>\n",
       "      <td>1</td>\n",
       "      <td>0</td>\n",
       "      <td>0</td>\n",
       "      <td>0</td>\n",
       "      <td>0</td>\n",
       "      <td>1</td>\n",
       "      <td>0</td>\n",
       "      <td>1</td>\n",
       "      <td>0</td>\n",
       "      <td>0</td>\n",
       "      <td>0</td>\n",
       "      <td>1</td>\n",
       "      <td>0</td>\n",
       "      <td>1</td>\n",
       "      <td>0</td>\n",
       "      <td>0</td>\n",
       "      <td>0</td>\n",
       "      <td>1</td>\n",
       "      <td>0</td>\n",
       "      <td>0</td>\n",
       "      <td>1</td>\n",
       "      <td>0</td>\n",
       "      <td>0</td>\n",
       "      <td>0</td>\n",
       "      <td>1</td>\n",
       "      <td>0</td>\n",
       "      <td>0</td>\n",
       "      <td>1</td>\n",
       "      <td>0</td>\n",
       "      <td>0</td>\n",
       "    </tr>\n",
       "    <tr>\n",
       "      <th>...</th>\n",
       "      <td>...</td>\n",
       "      <td>...</td>\n",
       "      <td>...</td>\n",
       "      <td>...</td>\n",
       "      <td>...</td>\n",
       "      <td>...</td>\n",
       "      <td>...</td>\n",
       "      <td>...</td>\n",
       "      <td>...</td>\n",
       "      <td>...</td>\n",
       "      <td>...</td>\n",
       "      <td>...</td>\n",
       "      <td>...</td>\n",
       "      <td>...</td>\n",
       "      <td>...</td>\n",
       "      <td>...</td>\n",
       "      <td>...</td>\n",
       "      <td>...</td>\n",
       "      <td>...</td>\n",
       "      <td>...</td>\n",
       "      <td>...</td>\n",
       "      <td>...</td>\n",
       "      <td>...</td>\n",
       "      <td>...</td>\n",
       "      <td>...</td>\n",
       "      <td>...</td>\n",
       "      <td>...</td>\n",
       "      <td>...</td>\n",
       "      <td>...</td>\n",
       "      <td>...</td>\n",
       "      <td>...</td>\n",
       "      <td>...</td>\n",
       "      <td>...</td>\n",
       "      <td>...</td>\n",
       "      <td>...</td>\n",
       "      <td>...</td>\n",
       "      <td>...</td>\n",
       "      <td>...</td>\n",
       "      <td>...</td>\n",
       "      <td>...</td>\n",
       "      <td>...</td>\n",
       "      <td>...</td>\n",
       "      <td>...</td>\n",
       "      <td>...</td>\n",
       "      <td>...</td>\n",
       "    </tr>\n",
       "    <tr>\n",
       "      <th>20571</th>\n",
       "      <td>3</td>\n",
       "      <td>43</td>\n",
       "      <td>0</td>\n",
       "      <td>11</td>\n",
       "      <td>0</td>\n",
       "      <td>0</td>\n",
       "      <td>0</td>\n",
       "      <td>5</td>\n",
       "      <td>0</td>\n",
       "      <td>0</td>\n",
       "      <td>0</td>\n",
       "      <td>1</td>\n",
       "      <td>0</td>\n",
       "      <td>0</td>\n",
       "      <td>1</td>\n",
       "      <td>1</td>\n",
       "      <td>1</td>\n",
       "      <td>0</td>\n",
       "      <td>0</td>\n",
       "      <td>0</td>\n",
       "      <td>1</td>\n",
       "      <td>0</td>\n",
       "      <td>1</td>\n",
       "      <td>0</td>\n",
       "      <td>0</td>\n",
       "      <td>1</td>\n",
       "      <td>0</td>\n",
       "      <td>0</td>\n",
       "      <td>1</td>\n",
       "      <td>0</td>\n",
       "      <td>1</td>\n",
       "      <td>0</td>\n",
       "      <td>0</td>\n",
       "      <td>1</td>\n",
       "      <td>0</td>\n",
       "      <td>1</td>\n",
       "      <td>0</td>\n",
       "      <td>1</td>\n",
       "      <td>0</td>\n",
       "      <td>0</td>\n",
       "      <td>0</td>\n",
       "      <td>0</td>\n",
       "      <td>0</td>\n",
       "      <td>1</td>\n",
       "      <td>0</td>\n",
       "    </tr>\n",
       "    <tr>\n",
       "      <th>25809</th>\n",
       "      <td>2</td>\n",
       "      <td>33</td>\n",
       "      <td>0</td>\n",
       "      <td>8</td>\n",
       "      <td>0</td>\n",
       "      <td>0</td>\n",
       "      <td>0</td>\n",
       "      <td>7</td>\n",
       "      <td>1</td>\n",
       "      <td>0</td>\n",
       "      <td>0</td>\n",
       "      <td>0</td>\n",
       "      <td>0</td>\n",
       "      <td>0</td>\n",
       "      <td>0</td>\n",
       "      <td>0</td>\n",
       "      <td>0</td>\n",
       "      <td>0</td>\n",
       "      <td>0</td>\n",
       "      <td>0</td>\n",
       "      <td>1</td>\n",
       "      <td>0</td>\n",
       "      <td>0</td>\n",
       "      <td>0</td>\n",
       "      <td>1</td>\n",
       "      <td>1</td>\n",
       "      <td>0</td>\n",
       "      <td>0</td>\n",
       "      <td>1</td>\n",
       "      <td>0</td>\n",
       "      <td>1</td>\n",
       "      <td>0</td>\n",
       "      <td>0</td>\n",
       "      <td>0</td>\n",
       "      <td>0</td>\n",
       "      <td>0</td>\n",
       "      <td>1</td>\n",
       "      <td>0</td>\n",
       "      <td>0</td>\n",
       "      <td>1</td>\n",
       "      <td>0</td>\n",
       "      <td>0</td>\n",
       "      <td>1</td>\n",
       "      <td>0</td>\n",
       "      <td>0</td>\n",
       "    </tr>\n",
       "    <tr>\n",
       "      <th>70884</th>\n",
       "      <td>6</td>\n",
       "      <td>36</td>\n",
       "      <td>0</td>\n",
       "      <td>16</td>\n",
       "      <td>0</td>\n",
       "      <td>0</td>\n",
       "      <td>0</td>\n",
       "      <td>9</td>\n",
       "      <td>0</td>\n",
       "      <td>0</td>\n",
       "      <td>1</td>\n",
       "      <td>0</td>\n",
       "      <td>0</td>\n",
       "      <td>0</td>\n",
       "      <td>0</td>\n",
       "      <td>1</td>\n",
       "      <td>0</td>\n",
       "      <td>0</td>\n",
       "      <td>0</td>\n",
       "      <td>0</td>\n",
       "      <td>1</td>\n",
       "      <td>1</td>\n",
       "      <td>0</td>\n",
       "      <td>0</td>\n",
       "      <td>0</td>\n",
       "      <td>0</td>\n",
       "      <td>1</td>\n",
       "      <td>0</td>\n",
       "      <td>1</td>\n",
       "      <td>1</td>\n",
       "      <td>0</td>\n",
       "      <td>0</td>\n",
       "      <td>0</td>\n",
       "      <td>0</td>\n",
       "      <td>0</td>\n",
       "      <td>0</td>\n",
       "      <td>1</td>\n",
       "      <td>0</td>\n",
       "      <td>0</td>\n",
       "      <td>1</td>\n",
       "      <td>0</td>\n",
       "      <td>0</td>\n",
       "      <td>0</td>\n",
       "      <td>1</td>\n",
       "      <td>0</td>\n",
       "    </tr>\n",
       "    <tr>\n",
       "      <th>58493</th>\n",
       "      <td>1</td>\n",
       "      <td>27</td>\n",
       "      <td>0</td>\n",
       "      <td>5</td>\n",
       "      <td>1</td>\n",
       "      <td>0</td>\n",
       "      <td>0</td>\n",
       "      <td>9</td>\n",
       "      <td>0</td>\n",
       "      <td>0</td>\n",
       "      <td>0</td>\n",
       "      <td>0</td>\n",
       "      <td>0</td>\n",
       "      <td>0</td>\n",
       "      <td>0</td>\n",
       "      <td>0</td>\n",
       "      <td>0</td>\n",
       "      <td>0</td>\n",
       "      <td>0</td>\n",
       "      <td>1</td>\n",
       "      <td>0</td>\n",
       "      <td>0</td>\n",
       "      <td>1</td>\n",
       "      <td>0</td>\n",
       "      <td>0</td>\n",
       "      <td>0</td>\n",
       "      <td>1</td>\n",
       "      <td>0</td>\n",
       "      <td>0</td>\n",
       "      <td>0</td>\n",
       "      <td>1</td>\n",
       "      <td>0</td>\n",
       "      <td>0</td>\n",
       "      <td>0</td>\n",
       "      <td>1</td>\n",
       "      <td>0</td>\n",
       "      <td>0</td>\n",
       "      <td>1</td>\n",
       "      <td>0</td>\n",
       "      <td>0</td>\n",
       "      <td>0</td>\n",
       "      <td>0</td>\n",
       "      <td>1</td>\n",
       "      <td>0</td>\n",
       "      <td>0</td>\n",
       "    </tr>\n",
       "    <tr>\n",
       "      <th>63062</th>\n",
       "      <td>6</td>\n",
       "      <td>38</td>\n",
       "      <td>2</td>\n",
       "      <td>14</td>\n",
       "      <td>0</td>\n",
       "      <td>0</td>\n",
       "      <td>0</td>\n",
       "      <td>9</td>\n",
       "      <td>1</td>\n",
       "      <td>0</td>\n",
       "      <td>0</td>\n",
       "      <td>0</td>\n",
       "      <td>0</td>\n",
       "      <td>0</td>\n",
       "      <td>0</td>\n",
       "      <td>0</td>\n",
       "      <td>0</td>\n",
       "      <td>0</td>\n",
       "      <td>0</td>\n",
       "      <td>0</td>\n",
       "      <td>1</td>\n",
       "      <td>0</td>\n",
       "      <td>1</td>\n",
       "      <td>0</td>\n",
       "      <td>0</td>\n",
       "      <td>0</td>\n",
       "      <td>1</td>\n",
       "      <td>0</td>\n",
       "      <td>1</td>\n",
       "      <td>0</td>\n",
       "      <td>0</td>\n",
       "      <td>0</td>\n",
       "      <td>1</td>\n",
       "      <td>1</td>\n",
       "      <td>0</td>\n",
       "      <td>0</td>\n",
       "      <td>1</td>\n",
       "      <td>0</td>\n",
       "      <td>0</td>\n",
       "      <td>1</td>\n",
       "      <td>0</td>\n",
       "      <td>0</td>\n",
       "      <td>1</td>\n",
       "      <td>0</td>\n",
       "      <td>0</td>\n",
       "    </tr>\n",
       "  </tbody>\n",
       "</table>\n",
       "<p>57212 rows × 45 columns</p>\n",
       "</div>"
      ],
      "text/plain": [
       "       time_in_hospital  num_lab_procedures  num_procedures  num_medications  \\\n",
       "42357                 2                  60               0               15   \n",
       "42094                 3                  55               0               10   \n",
       "70235                 5                  51               0               13   \n",
       "59092                 5                  51               3               24   \n",
       "32317                12                  10               2               12   \n",
       "...                 ...                 ...             ...              ...   \n",
       "20571                 3                  43               0               11   \n",
       "25809                 2                  33               0                8   \n",
       "70884                 6                  36               0               16   \n",
       "58493                 1                  27               0                5   \n",
       "63062                 6                  38               2               14   \n",
       "\n",
       "       number_outpatient  number_emergency  number_inpatient  \\\n",
       "42357                  0                 0                 0   \n",
       "42094                  0                 0                 0   \n",
       "70235                  0                 0                 0   \n",
       "59092                  0                 0                 0   \n",
       "32317                  0                 0                 0   \n",
       "...                  ...               ...               ...   \n",
       "20571                  0                 0                 0   \n",
       "25809                  0                 0                 0   \n",
       "70884                  0                 0                 0   \n",
       "58493                  1                 0                 0   \n",
       "63062                  0                 0                 0   \n",
       "\n",
       "       number_diagnoses  metformin  repaglinide  glimepiride  glipizide  \\\n",
       "42357                 9          0            0            0          0   \n",
       "42094                 9          0            0            0          0   \n",
       "70235                 9          0            0            0          0   \n",
       "59092                 9          1            0            0          0   \n",
       "32317                 9          0            0            0          1   \n",
       "...                 ...        ...          ...          ...        ...   \n",
       "20571                 5          0            0            0          1   \n",
       "25809                 7          1            0            0          0   \n",
       "70884                 9          0            0            1          0   \n",
       "58493                 9          0            0            0          0   \n",
       "63062                 9          1            0            0          0   \n",
       "\n",
       "       glyburide  pioglitazone  rosiglitazone  change  diag_Diabetes  \\\n",
       "42357          0             0              0       1              0   \n",
       "42094          0             0              0       1              0   \n",
       "70235          0             1              0       1              0   \n",
       "59092          0             0              0       0              0   \n",
       "32317          0             0              1       1              0   \n",
       "...          ...           ...            ...     ...            ...   \n",
       "20571          0             0              1       1              1   \n",
       "25809          0             0              0       0              0   \n",
       "70884          0             0              0       1              0   \n",
       "58493          0             0              0       0              0   \n",
       "63062          0             0              0       0              0   \n",
       "\n",
       "       diag_Injury  diag_Musculoskeletal  diag_Neoplasms  diag_Other  \\\n",
       "42357            0                     0               0           1   \n",
       "42094            0                     0               0           1   \n",
       "70235            1                     0               0           1   \n",
       "59092            0                     1               0           1   \n",
       "32317            0                     0               0           1   \n",
       "...            ...                   ...             ...         ...   \n",
       "20571            0                     0               0           1   \n",
       "25809            0                     0               0           1   \n",
       "70884            0                     0               0           1   \n",
       "58493            0                     0               1           0   \n",
       "63062            0                     0               0           1   \n",
       "\n",
       "       race_AfricanAmerican  race_Caucasian  race_Missing  race_Other  \\\n",
       "42357                     0               1             0           0   \n",
       "42094                     1               0             0           0   \n",
       "70235                     0               1             0           0   \n",
       "59092                     0               1             0           0   \n",
       "32317                     0               1             0           0   \n",
       "...                     ...             ...           ...         ...   \n",
       "20571                     0               1             0           0   \n",
       "25809                     0               0             0           1   \n",
       "70884                     1               0             0           0   \n",
       "58493                     0               1             0           0   \n",
       "63062                     0               1             0           0   \n",
       "\n",
       "       gender_Female  gender_Male  age_0-40  age_40-90  \\\n",
       "42357              1            0         0          1   \n",
       "42094              1            0         0          1   \n",
       "70235              0            1         0          1   \n",
       "59092              1            0         0          1   \n",
       "32317              0            1         0          1   \n",
       "...              ...          ...       ...        ...   \n",
       "20571              1            0         0          1   \n",
       "25809              1            0         0          1   \n",
       "70884              0            1         0          1   \n",
       "58493              0            1         0          0   \n",
       "63062              0            1         0          1   \n",
       "\n",
       "       admission_type_id_Elective  admission_type_id_Emergency  \\\n",
       "42357                           0                            1   \n",
       "42094                           0                            1   \n",
       "70235                           0                            1   \n",
       "59092                           0                            0   \n",
       "32317                           0                            0   \n",
       "...                           ...                          ...   \n",
       "20571                           0                            1   \n",
       "25809                           0                            1   \n",
       "70884                           1                            0   \n",
       "58493                           0                            1   \n",
       "63062                           0                            0   \n",
       "\n",
       "       admission_type_id_Other  admission_type_id_Urgent  \\\n",
       "42357                        0                         0   \n",
       "42094                        0                         0   \n",
       "70235                        0                         0   \n",
       "59092                        0                         1   \n",
       "32317                        0                         1   \n",
       "...                        ...                       ...   \n",
       "20571                        0                         0   \n",
       "25809                        0                         0   \n",
       "70884                        0                         0   \n",
       "58493                        0                         0   \n",
       "63062                        0                         1   \n",
       "\n",
       "       discharge_disposition_id_Home  admission_source_id_Emergency  \\\n",
       "42357                              1                              1   \n",
       "42094                              1                              1   \n",
       "70235                              1                              1   \n",
       "59092                              0                              0   \n",
       "32317                              0                              0   \n",
       "...                              ...                            ...   \n",
       "20571                              1                              0   \n",
       "25809                              0                              0   \n",
       "70884                              0                              0   \n",
       "58493                              0                              1   \n",
       "63062                              1                              0   \n",
       "\n",
       "       admission_source_id_Other  admission_source_id_Physician Referral  \\\n",
       "42357                          0                                       0   \n",
       "42094                          0                                       0   \n",
       "70235                          0                                       0   \n",
       "59092                          0                                       1   \n",
       "32317                          1                                       0   \n",
       "...                          ...                                     ...   \n",
       "20571                          1                                       0   \n",
       "25809                          0                                       1   \n",
       "70884                          0                                       1   \n",
       "58493                          0                                       0   \n",
       "63062                          0                                       1   \n",
       "\n",
       "       A1Cresult_>7  A1Cresult_>8  A1Cresult_None  A1Cresult_Norm  \\\n",
       "42357             0             0               1               0   \n",
       "42094             0             0               1               0   \n",
       "70235             0             0               0               1   \n",
       "59092             0             0               1               0   \n",
       "32317             0             0               1               0   \n",
       "...             ...           ...             ...             ...   \n",
       "20571             1             0               0               0   \n",
       "25809             0             0               1               0   \n",
       "70884             0             0               1               0   \n",
       "58493             1             0               0               0   \n",
       "63062             0             0               1               0   \n",
       "\n",
       "       insulin_Down  insulin_No  insulin_Steady  insulin_Up  \n",
       "42357             0           0               0           1  \n",
       "42094             0           0               0           1  \n",
       "70235             1           0               0           0  \n",
       "59092             0           1               0           0  \n",
       "32317             0           1               0           0  \n",
       "...             ...         ...             ...         ...  \n",
       "20571             0           0               1           0  \n",
       "25809             0           1               0           0  \n",
       "70884             0           0               1           0  \n",
       "58493             0           1               0           0  \n",
       "63062             0           1               0           0  \n",
       "\n",
       "[57212 rows x 45 columns]"
      ]
     },
     "execution_count": 28,
     "metadata": {},
     "output_type": "execute_result"
    }
   ],
   "source": [
    "X_train"
   ]
  },
  {
   "cell_type": "markdown",
   "metadata": {},
   "source": [
    "# Balancing the Data Set"
   ]
  },
  {
   "cell_type": "code",
   "execution_count": 29,
   "metadata": {},
   "outputs": [
    {
     "data": {
      "image/png": "[encoded data removed]",
      "text/plain": [
       "<Figure size 576x432 with 1 Axes>"
      ]
     },
     "metadata": {},
     "output_type": "display_data"
    }
   ],
   "source": [
    "# Readmission before SMOTE\n",
    "\n",
    "plt.figure(figsize=(8,6))\n",
    "sns.countplot(y_train, palette='binary')\n",
    "sns.despine()\n",
    "sns.set_style('whitegrid')\n",
    "plt.title('Imbalanced Data Set')\n",
    "plt.xticks([0,1],['Not Readmitted', 'Readmitted'], size = 12)\n",
    "plt.xlabel('')\n",
    "plt.ylabel('Count')\n",
    "plt.show()"
   ]
  },
  {
   "cell_type": "code",
   "execution_count": 30,
   "metadata": {},
   "outputs": [],
   "source": [
    "# SMOTE \n",
    "\n",
    "sm = SMOTE(random_state=123)\n",
    "X_train_smo, y_train_smo = sm.fit_sample(X_train, y_train)\n"
   ]
  },
  {
   "cell_type": "code",
   "execution_count": 31,
   "metadata": {},
   "outputs": [
    {
     "data": {
      "image/png": "[encoded data removed]",
      "text/plain": [
       "<Figure size 576x432 with 1 Axes>"
      ]
     },
     "metadata": {},
     "output_type": "display_data"
    }
   ],
   "source": [
    "# Readmission After SMOTE\n",
    "\n",
    "plt.figure(figsize=(8,6))\n",
    "sns.countplot(y_train_smo, palette='binary')\n",
    "sns.despine()\n",
    "sns.set_style('whitegrid')\n",
    "plt.title('Balanced Dataset')\n",
    "plt.xticks([0,1],['Not Readmitted', 'Readmitted'], size = 12)\n",
    "plt.xlabel('')\n",
    "plt.ylabel('Count')\n",
    "plt.show()"
   ]
  },
  {
   "cell_type": "markdown",
   "metadata": {},
   "source": [
    "# Modeling"
   ]
  },
  {
   "cell_type": "code",
   "execution_count": 32,
   "metadata": {},
   "outputs": [],
   "source": [
    "# Define functions to aid in model evaluation\n",
    "\n",
    "def calc_specificity(y_actual, y_pred, thresh):\n",
    "    # calculates specificity\n",
    "    return sum((y_pred < thresh) & (y_actual == 0)) /sum(y_actual ==0)\n",
    "\n",
    "def calc_prevalence(y_actual):\n",
    "    return (sum(y_actual)/len(y_actual))\n",
    "\n",
    "def print_report(y_actual, y_pred, thresh):\n",
    "    \n",
    "    auc = roc_auc_score(y_actual, y_pred)\n",
    "    accuracy = accuracy_score(y_actual, (y_pred > thresh))\n",
    "    recall = recall_score(y_actual, (y_pred > thresh))\n",
    "    precision = precision_score(y_actual, (y_pred > thresh))\n",
    "    specificity = calc_specificity(y_actual, y_pred, thresh)\n",
    "    print('AUC:%.3f'%auc)\n",
    "    print('accuracy:%.3f'%accuracy)\n",
    "    print('recall:%.3f'%recall)\n",
    "    print('precision:%.3f'%precision)\n",
    "    print('specificity:%.3f'%specificity)\n",
    "    print('prevalence:%.3f'%calc_prevalence(y_actual))\n",
    "    print(' ')\n",
    "    return auc, accuracy, recall, precision, specificity"
   ]
  },
  {
   "cell_type": "code",
   "execution_count": 33,
   "metadata": {},
   "outputs": [],
   "source": [
    "# Set threshold\n",
    "\n",
    "thresh = 0.7"
   ]
  },
  {
   "cell_type": "markdown",
   "metadata": {},
   "source": [
    "### Modeling: Logistic regression"
   ]
  },
  {
   "cell_type": "code",
   "execution_count": 34,
   "metadata": {},
   "outputs": [],
   "source": [
    "# logistic Regression\n",
    "\n",
    "lr = LogisticRegression(tol=1e-7, penalty='l2', C=0.0005, random_state = 123)\n",
    "lr = lr.fit(X_train_smo, y_train_smo)\n",
    "ylr = lr.predict(X_test)"
   ]
  },
  {
   "cell_type": "code",
   "execution_count": 35,
   "metadata": {},
   "outputs": [
    {
     "name": "stdout",
     "output_type": "stream",
     "text": [
      "Logistic Regression\n",
      "Training:\n",
      "AUC:0.934\n",
      "accuracy:0.789\n",
      "recall:0.579\n",
      "precision:0.999\n",
      "specificity:0.999\n",
      "prevalence:0.500\n",
      " \n",
      "Test:\n",
      "AUC:0.545\n",
      "accuracy:0.912\n",
      "recall:0.003\n",
      "precision:0.308\n",
      "specificity:0.999\n",
      "prevalence:0.088\n",
      " \n"
     ]
    }
   ],
   "source": [
    "# Assessing Model Performance\n",
    "\n",
    "y_train_preds = lr.predict_proba(X_train_smo)[:,1]\n",
    "y_valid_preds = lr.predict_proba(X_test)[:,1]\n",
    "\n",
    "print('Logistic Regression')\n",
    "print('Training:')\n",
    "lr_train_auc, lr_train_accuracy, lr_train_recall, \\\n",
    "    lr_train_precision, lr_train_specificity = print_report(y_train_smo,y_train_preds, thresh)\n",
    "print('Test:')\n",
    "lr_valid_auc, lr_valid_accuracy, lr_valid_recall, \\\n",
    "    lr_valid_precision, lr_valid_specificity = print_report(y_test,y_valid_preds, thresh)"
   ]
  },
  {
   "cell_type": "code",
   "execution_count": 36,
   "metadata": {},
   "outputs": [
    {
     "name": "stdout",
     "output_type": "stream",
     "text": [
      "              precision    recall  f1-score   support\n",
      "\n",
      "          NO       0.91      0.91      0.91     13044\n",
      "         YES       0.10      0.10      0.10      1259\n",
      "\n",
      "    accuracy                           0.84     14303\n",
      "   macro avg       0.51      0.51      0.51     14303\n",
      "weighted avg       0.84      0.84      0.84     14303\n",
      "\n"
     ]
    }
   ],
   "source": [
    "# Classification Report\n",
    "\n",
    "print(classification_report(y_test, ylr, target_names = ['NO', 'YES']))"
   ]
  },
  {
   "cell_type": "code",
   "execution_count": 37,
   "metadata": {},
   "outputs": [
    {
     "data": {
      "image/png": "[encoded data removed]",
      "text/plain": [
       "<Figure size 576x576 with 2 Axes>"
      ]
     },
     "metadata": {},
     "output_type": "display_data"
    }
   ],
   "source": [
    "# Graphical confusion matrix\n",
    "\n",
    "plt.figure(figsize=(8,8))\n",
    "sns.heatmap(confusion_matrix(y_test, ylr), annot=True, fmt=\".3f\", linewidths=.5, square = True, cmap = 'gray_r');\n",
    "plt.ylabel('Actual label');\n",
    "plt.xlabel('Predicted label');\n",
    "all_sample_title = 'Accuracy Score: {0}'.format(lr.score(X_test, y_test))\n",
    "plt.title(all_sample_title, size = 15);"
   ]
  },
  {
   "cell_type": "code",
   "execution_count": 38,
   "metadata": {},
   "outputs": [
    {
     "data": {
      "image/png": "[encoded data removed]",
      "text/plain": [
       "<Figure size 576x576 with 1 Axes>"
      ]
     },
     "metadata": {},
     "output_type": "display_data"
    }
   ],
   "source": [
    "# ROC Curve\n",
    "\n",
    "probs = lr.predict_proba(X_test)\n",
    "preds = probs[:,1]\n",
    "fpr, tpr, threshold = roc_curve(y_test, preds)\n",
    "roc_auc = auc(fpr, tpr)\n",
    "    \n",
    "plt.figure(figsize = (8,8))\n",
    "plt.plot(fpr, tpr, color = 'black', lw = 2, label = 'ROC curve')\n",
    "plt.legend(loc = 'lower right')\n",
    "plt.plot([0,1],[0,1], color='red', lw = 2, linestyle = '--')\n",
    "plt.xlim([0,1])\n",
    "plt.ylim([0,1])\n",
    "plt.ylabel(\"True Positive Rate\")\n",
    "plt.xlabel(\"False Positive Rate\")\n",
    "plt.title(\"ROC Curve\")\n",
    "plt.show()"
   ]
  },
  {
   "cell_type": "code",
   "execution_count": 39,
   "metadata": {},
   "outputs": [
    {
     "data": {
      "text/html": [
       "<style  type=\"text/css\" >\n",
       "</style><table id=\"T_792444a0_432b_11eb_b00f_0c5415878a06\" ><thead>    <tr>        <th class=\"col_heading level0 col0\" >Quantile</th>        <th class=\"col_heading level0 col1\" >Unique Patients</th>        <th class=\"col_heading level0 col2\" ># Readmitted</th>        <th class=\"col_heading level0 col3\" >Min Prob</th>        <th class=\"col_heading level0 col4\" >Max Prob</th>        <th class=\"col_heading level0 col5\" >Average Prob</th>        <th class=\"col_heading level0 col6\" >Percent Readmitted</th>        <th class=\"col_heading level0 col7\" >Lift</th>    </tr></thead><tbody>\n",
       "                <tr>\n",
       "                                <td id=\"T_792444a0_432b_11eb_b00f_0c5415878a06row0_col0\" class=\"data row0 col0\" >1</td>\n",
       "                        <td id=\"T_792444a0_432b_11eb_b00f_0c5415878a06row0_col1\" class=\"data row0 col1\" >1431</td>\n",
       "                        <td id=\"T_792444a0_432b_11eb_b00f_0c5415878a06row0_col2\" class=\"data row0 col2\" >103</td>\n",
       "                        <td id=\"T_792444a0_432b_11eb_b00f_0c5415878a06row0_col3\" class=\"data row0 col3\" >0.007428</td>\n",
       "                        <td id=\"T_792444a0_432b_11eb_b00f_0c5415878a06row0_col4\" class=\"data row0 col4\" >0.143271</td>\n",
       "                        <td id=\"T_792444a0_432b_11eb_b00f_0c5415878a06row0_col5\" class=\"data row0 col5\" >0.109594</td>\n",
       "                        <td id=\"T_792444a0_432b_11eb_b00f_0c5415878a06row0_col6\" class=\"data row0 col6\" >0.071978</td>\n",
       "                        <td id=\"T_792444a0_432b_11eb_b00f_0c5415878a06row0_col7\" class=\"data row0 col7\" >0.817696</td>\n",
       "            </tr>\n",
       "            <tr>\n",
       "                                <td id=\"T_792444a0_432b_11eb_b00f_0c5415878a06row1_col0\" class=\"data row1 col0\" >2</td>\n",
       "                        <td id=\"T_792444a0_432b_11eb_b00f_0c5415878a06row1_col1\" class=\"data row1 col1\" >1430</td>\n",
       "                        <td id=\"T_792444a0_432b_11eb_b00f_0c5415878a06row1_col2\" class=\"data row1 col2\" >106</td>\n",
       "                        <td id=\"T_792444a0_432b_11eb_b00f_0c5415878a06row1_col3\" class=\"data row1 col3\" >0.143276</td>\n",
       "                        <td id=\"T_792444a0_432b_11eb_b00f_0c5415878a06row1_col4\" class=\"data row1 col4\" >0.185313</td>\n",
       "                        <td id=\"T_792444a0_432b_11eb_b00f_0c5415878a06row1_col5\" class=\"data row1 col5\" >0.165274</td>\n",
       "                        <td id=\"T_792444a0_432b_11eb_b00f_0c5415878a06row1_col6\" class=\"data row1 col6\" >0.074126</td>\n",
       "                        <td id=\"T_792444a0_432b_11eb_b00f_0c5415878a06row1_col7\" class=\"data row1 col7\" >0.842101</td>\n",
       "            </tr>\n",
       "            <tr>\n",
       "                                <td id=\"T_792444a0_432b_11eb_b00f_0c5415878a06row2_col0\" class=\"data row2 col0\" >3</td>\n",
       "                        <td id=\"T_792444a0_432b_11eb_b00f_0c5415878a06row2_col1\" class=\"data row2 col1\" >1430</td>\n",
       "                        <td id=\"T_792444a0_432b_11eb_b00f_0c5415878a06row2_col2\" class=\"data row2 col2\" >107</td>\n",
       "                        <td id=\"T_792444a0_432b_11eb_b00f_0c5415878a06row2_col3\" class=\"data row2 col3\" >0.185318</td>\n",
       "                        <td id=\"T_792444a0_432b_11eb_b00f_0c5415878a06row2_col4\" class=\"data row2 col4\" >0.218110</td>\n",
       "                        <td id=\"T_792444a0_432b_11eb_b00f_0c5415878a06row2_col5\" class=\"data row2 col5\" >0.202412</td>\n",
       "                        <td id=\"T_792444a0_432b_11eb_b00f_0c5415878a06row2_col6\" class=\"data row2 col6\" >0.074825</td>\n",
       "                        <td id=\"T_792444a0_432b_11eb_b00f_0c5415878a06row2_col7\" class=\"data row2 col7\" >0.850046</td>\n",
       "            </tr>\n",
       "            <tr>\n",
       "                                <td id=\"T_792444a0_432b_11eb_b00f_0c5415878a06row3_col0\" class=\"data row3 col0\" >4</td>\n",
       "                        <td id=\"T_792444a0_432b_11eb_b00f_0c5415878a06row3_col1\" class=\"data row3 col1\" >1430</td>\n",
       "                        <td id=\"T_792444a0_432b_11eb_b00f_0c5415878a06row3_col2\" class=\"data row3 col2\" >111</td>\n",
       "                        <td id=\"T_792444a0_432b_11eb_b00f_0c5415878a06row3_col3\" class=\"data row3 col3\" >0.218137</td>\n",
       "                        <td id=\"T_792444a0_432b_11eb_b00f_0c5415878a06row3_col4\" class=\"data row3 col4\" >0.251644</td>\n",
       "                        <td id=\"T_792444a0_432b_11eb_b00f_0c5415878a06row3_col5\" class=\"data row3 col5\" >0.234972</td>\n",
       "                        <td id=\"T_792444a0_432b_11eb_b00f_0c5415878a06row3_col6\" class=\"data row3 col6\" >0.077622</td>\n",
       "                        <td id=\"T_792444a0_432b_11eb_b00f_0c5415878a06row3_col7\" class=\"data row3 col7\" >0.881823</td>\n",
       "            </tr>\n",
       "            <tr>\n",
       "                                <td id=\"T_792444a0_432b_11eb_b00f_0c5415878a06row4_col0\" class=\"data row4 col0\" >5</td>\n",
       "                        <td id=\"T_792444a0_432b_11eb_b00f_0c5415878a06row4_col1\" class=\"data row4 col1\" >1431</td>\n",
       "                        <td id=\"T_792444a0_432b_11eb_b00f_0c5415878a06row4_col2\" class=\"data row4 col2\" >109</td>\n",
       "                        <td id=\"T_792444a0_432b_11eb_b00f_0c5415878a06row4_col3\" class=\"data row4 col3\" >0.251644</td>\n",
       "                        <td id=\"T_792444a0_432b_11eb_b00f_0c5415878a06row4_col4\" class=\"data row4 col4\" >0.286455</td>\n",
       "                        <td id=\"T_792444a0_432b_11eb_b00f_0c5415878a06row4_col5\" class=\"data row4 col5\" >0.269066</td>\n",
       "                        <td id=\"T_792444a0_432b_11eb_b00f_0c5415878a06row4_col6\" class=\"data row4 col6\" >0.076171</td>\n",
       "                        <td id=\"T_792444a0_432b_11eb_b00f_0c5415878a06row4_col7\" class=\"data row4 col7\" >0.865329</td>\n",
       "            </tr>\n",
       "            <tr>\n",
       "                                <td id=\"T_792444a0_432b_11eb_b00f_0c5415878a06row5_col0\" class=\"data row5 col0\" >6</td>\n",
       "                        <td id=\"T_792444a0_432b_11eb_b00f_0c5415878a06row5_col1\" class=\"data row5 col1\" >1430</td>\n",
       "                        <td id=\"T_792444a0_432b_11eb_b00f_0c5415878a06row5_col2\" class=\"data row5 col2\" >140</td>\n",
       "                        <td id=\"T_792444a0_432b_11eb_b00f_0c5415878a06row5_col3\" class=\"data row5 col3\" >0.286521</td>\n",
       "                        <td id=\"T_792444a0_432b_11eb_b00f_0c5415878a06row5_col4\" class=\"data row5 col4\" >0.325168</td>\n",
       "                        <td id=\"T_792444a0_432b_11eb_b00f_0c5415878a06row5_col5\" class=\"data row5 col5\" >0.305452</td>\n",
       "                        <td id=\"T_792444a0_432b_11eb_b00f_0c5415878a06row5_col6\" class=\"data row5 col6\" >0.097902</td>\n",
       "                        <td id=\"T_792444a0_432b_11eb_b00f_0c5415878a06row5_col7\" class=\"data row5 col7\" >1.112209</td>\n",
       "            </tr>\n",
       "            <tr>\n",
       "                                <td id=\"T_792444a0_432b_11eb_b00f_0c5415878a06row6_col0\" class=\"data row6 col0\" >7</td>\n",
       "                        <td id=\"T_792444a0_432b_11eb_b00f_0c5415878a06row6_col1\" class=\"data row6 col1\" >1430</td>\n",
       "                        <td id=\"T_792444a0_432b_11eb_b00f_0c5415878a06row6_col2\" class=\"data row6 col2\" >125</td>\n",
       "                        <td id=\"T_792444a0_432b_11eb_b00f_0c5415878a06row6_col3\" class=\"data row6 col3\" >0.325171</td>\n",
       "                        <td id=\"T_792444a0_432b_11eb_b00f_0c5415878a06row6_col4\" class=\"data row6 col4\" >0.367286</td>\n",
       "                        <td id=\"T_792444a0_432b_11eb_b00f_0c5415878a06row6_col5\" class=\"data row6 col5\" >0.345290</td>\n",
       "                        <td id=\"T_792444a0_432b_11eb_b00f_0c5415878a06row6_col6\" class=\"data row6 col6\" >0.087413</td>\n",
       "                        <td id=\"T_792444a0_432b_11eb_b00f_0c5415878a06row6_col7\" class=\"data row6 col7\" >0.993044</td>\n",
       "            </tr>\n",
       "            <tr>\n",
       "                                <td id=\"T_792444a0_432b_11eb_b00f_0c5415878a06row7_col0\" class=\"data row7 col0\" >8</td>\n",
       "                        <td id=\"T_792444a0_432b_11eb_b00f_0c5415878a06row7_col1\" class=\"data row7 col1\" >1430</td>\n",
       "                        <td id=\"T_792444a0_432b_11eb_b00f_0c5415878a06row7_col2\" class=\"data row7 col2\" >155</td>\n",
       "                        <td id=\"T_792444a0_432b_11eb_b00f_0c5415878a06row7_col3\" class=\"data row7 col3\" >0.367301</td>\n",
       "                        <td id=\"T_792444a0_432b_11eb_b00f_0c5415878a06row7_col4\" class=\"data row7 col4\" >0.421597</td>\n",
       "                        <td id=\"T_792444a0_432b_11eb_b00f_0c5415878a06row7_col5\" class=\"data row7 col5\" >0.393533</td>\n",
       "                        <td id=\"T_792444a0_432b_11eb_b00f_0c5415878a06row7_col6\" class=\"data row7 col6\" >0.108392</td>\n",
       "                        <td id=\"T_792444a0_432b_11eb_b00f_0c5415878a06row7_col7\" class=\"data row7 col7\" >1.231374</td>\n",
       "            </tr>\n",
       "            <tr>\n",
       "                                <td id=\"T_792444a0_432b_11eb_b00f_0c5415878a06row8_col0\" class=\"data row8 col0\" >9</td>\n",
       "                        <td id=\"T_792444a0_432b_11eb_b00f_0c5415878a06row8_col1\" class=\"data row8 col1\" >1430</td>\n",
       "                        <td id=\"T_792444a0_432b_11eb_b00f_0c5415878a06row8_col2\" class=\"data row8 col2\" >166</td>\n",
       "                        <td id=\"T_792444a0_432b_11eb_b00f_0c5415878a06row8_col3\" class=\"data row8 col3\" >0.421601</td>\n",
       "                        <td id=\"T_792444a0_432b_11eb_b00f_0c5415878a06row8_col4\" class=\"data row8 col4\" >0.488242</td>\n",
       "                        <td id=\"T_792444a0_432b_11eb_b00f_0c5415878a06row8_col5\" class=\"data row8 col5\" >0.452374</td>\n",
       "                        <td id=\"T_792444a0_432b_11eb_b00f_0c5415878a06row8_col6\" class=\"data row8 col6\" >0.116084</td>\n",
       "                        <td id=\"T_792444a0_432b_11eb_b00f_0c5415878a06row8_col7\" class=\"data row8 col7\" >1.318762</td>\n",
       "            </tr>\n",
       "            <tr>\n",
       "                                <td id=\"T_792444a0_432b_11eb_b00f_0c5415878a06row9_col0\" class=\"data row9 col0\" >10</td>\n",
       "                        <td id=\"T_792444a0_432b_11eb_b00f_0c5415878a06row9_col1\" class=\"data row9 col1\" >1431</td>\n",
       "                        <td id=\"T_792444a0_432b_11eb_b00f_0c5415878a06row9_col2\" class=\"data row9 col2\" >137</td>\n",
       "                        <td id=\"T_792444a0_432b_11eb_b00f_0c5415878a06row9_col3\" class=\"data row9 col3\" >0.488278</td>\n",
       "                        <td id=\"T_792444a0_432b_11eb_b00f_0c5415878a06row9_col4\" class=\"data row9 col4\" >0.756967</td>\n",
       "                        <td id=\"T_792444a0_432b_11eb_b00f_0c5415878a06row9_col5\" class=\"data row9 col5\" >0.558806</td>\n",
       "                        <td id=\"T_792444a0_432b_11eb_b00f_0c5415878a06row9_col6\" class=\"data row9 col6\" >0.095737</td>\n",
       "                        <td id=\"T_792444a0_432b_11eb_b00f_0c5415878a06row9_col7\" class=\"data row9 col7\" >1.087615</td>\n",
       "            </tr>\n",
       "    </tbody></table>"
      ],
      "text/plain": [
       "<pandas.io.formats.style.Styler at 0x1ebaae1a610>"
      ]
     },
     "execution_count": 39,
     "metadata": {},
     "output_type": "execute_result"
    }
   ],
   "source": [
    "# Decile Analysis\n",
    "\n",
    "readmit_proba = [i[1] for i in lr.predict_proba(X_test)]\n",
    "quant = pd.qcut(readmit_proba,10,labels=np.arange(1,11))\n",
    "prob = {'Quantile':quant,'# Readmitted':readmit_proba,'y':y_test}\n",
    "\n",
    "decile = pd.DataFrame(prob).sort_values('Quantile')\n",
    "dec1 = decile.groupby('Quantile')['# Readmitted'].agg(['count','min','max','mean']).reset_index()\n",
    "dec2 = decile.groupby(['Quantile','y']).count().reset_index()\n",
    "dec2 = dec2[dec2['y']==1]\n",
    "decile = pd.merge(dec2, dec1, how='inner',on ='Quantile').drop('y',1).\\\n",
    "        rename({'count':'Unique Patients', 'min':'Min Prob', 'mean':'Average Prob','max':'Max Prob'},axis=1)\n",
    "\n",
    "decile = decile[decile.columns[[0,2,1,3,4,5]]]\n",
    "decile['Percent Readmitted'] = decile['# Readmitted']/decile['Unique Patients']\n",
    "decile['Lift'] = decile['Percent Readmitted'].apply(lambda x:10*x/decile['Percent Readmitted'].sum())\n",
    "decile.style.hide_index()"
   ]
  },
  {
   "cell_type": "code",
   "execution_count": 40,
   "metadata": {},
   "outputs": [
    {
     "data": {
      "text/html": [
       "<div>\n",
       "<style scoped>\n",
       "    .dataframe tbody tr th:only-of-type {\n",
       "        vertical-align: middle;\n",
       "    }\n",
       "\n",
       "    .dataframe tbody tr th {\n",
       "        vertical-align: top;\n",
       "    }\n",
       "\n",
       "    .dataframe thead th {\n",
       "        text-align: right;\n",
       "    }\n",
       "</style>\n",
       "<table border=\"1\" class=\"dataframe\">\n",
       "  <thead>\n",
       "    <tr style=\"text-align: right;\">\n",
       "      <th></th>\n",
       "      <th>Unique Patients</th>\n",
       "      <th># Readmitted</th>\n",
       "      <th>Percent Readmitted</th>\n",
       "      <th>Lift</th>\n",
       "    </tr>\n",
       "  </thead>\n",
       "  <tbody>\n",
       "    <tr>\n",
       "      <th>Random Sampling</th>\n",
       "      <td>14303</td>\n",
       "      <td>1259</td>\n",
       "      <td>0.088023</td>\n",
       "      <td>NA</td>\n",
       "    </tr>\n",
       "    <tr>\n",
       "      <th>Top 2 Quantiles</th>\n",
       "      <td>2861</td>\n",
       "      <td>303</td>\n",
       "      <td>0.105907</td>\n",
       "      <td>1.20315</td>\n",
       "    </tr>\n",
       "  </tbody>\n",
       "</table>\n",
       "</div>"
      ],
      "text/plain": [
       "                 Unique Patients  # Readmitted  Percent Readmitted     Lift\n",
       "Random Sampling            14303          1259            0.088023       NA\n",
       "Top 2 Quantiles             2861           303            0.105907  1.20315"
      ]
     },
     "execution_count": 40,
     "metadata": {},
     "output_type": "execute_result"
    }
   ],
   "source": [
    "# Comparison between random sampling and the top 2 quantiles for readmission percentage\n",
    "\n",
    "tot_compdic = {'Unique Patients': [decile['Unique Patients'].sum(), decile['Unique Patients'][8] + decile['Unique Patients'][9]], \n",
    "               '# Readmitted': [decile['# Readmitted'].sum(), decile['# Readmitted'][8] + decile['# Readmitted'][9]]}\n",
    "\n",
    "tot_compdic['Percent Readmitted'] = [tot_compdic['# Readmitted'][0]/tot_compdic['Unique Patients'][0],\n",
    "                                     tot_compdic['# Readmitted'][1]/tot_compdic['Unique Patients'][1]]\n",
    "\n",
    "tot_compdic['Lift'] = ['NA', 10*tot_compdic['Percent Readmitted'][1]/decile['Percent Readmitted'].sum()]\n",
    "\n",
    "tot_compdf = pd.DataFrame(tot_compdic, index = ['Random Sampling','Top 2 Quantiles'])\n",
    "tot_compdf"
   ]
  },
  {
   "cell_type": "code",
   "execution_count": 41,
   "metadata": {},
   "outputs": [
    {
     "data": {
      "text/plain": [
       "Text(0, 0.5, 'Feature')"
      ]
     },
     "execution_count": 41,
     "metadata": {},
     "output_type": "execute_result"
    },
    {
     "data": {
      "image/png": "[encoded data removed]",
      "text/plain": [
       "<Figure size 576x396 with 1 Axes>"
      ]
     },
     "metadata": {},
     "output_type": "display_data"
    }
   ],
   "source": [
    "# Graphing Feature Importance\n",
    "\n",
    "lr_feat_dict = {'Feature':X_train_smo.columns, 'Feature Importance':lr.coef_.reshape(lr.coef_.shape[1],)}\n",
    "lr_feat_df = pd.DataFrame(lr_feat_dict)\n",
    "lr_feat_df = lr_feat_df.sort_values('Feature Importance', ascending=False).head(10)\n",
    "lr_feat_df\n",
    "\n",
    "plt.figure()\n",
    "sns.barplot(x = lr_feat_df['Feature Importance'], y = lr_feat_df['Feature'], palette = 'binary_r')\n",
    "sns.set_style('whitegrid')\n",
    "plt.title('Feature Importance: Logistic Regression')\n",
    "plt.xlabel('Feature Importance')\n",
    "plt.ylabel('Feature')"
   ]
  },
  {
   "cell_type": "markdown",
   "metadata": {},
   "source": [
    "### Modeling: Logistic Regression CV"
   ]
  },
  {
   "cell_type": "code",
   "execution_count": 42,
   "metadata": {},
   "outputs": [],
   "source": [
    "# logistic Regression CV\n",
    "\n",
    "lr_cv=LogisticRegressionCV(tol=1e-7, penalty='l2', random_state = 123)\n",
    "lr_cv.fit(X_train_smo, y_train_smo)\n",
    "ylr_cv = lr_cv.predict(X_test)"
   ]
  },
  {
   "cell_type": "code",
   "execution_count": 43,
   "metadata": {},
   "outputs": [
    {
     "name": "stdout",
     "output_type": "stream",
     "text": [
      "Logistic Regression CV\n",
      "Training:\n",
      "AUC:0.950\n",
      "accuracy:0.918\n",
      "recall:0.835\n",
      "precision:1.000\n",
      "specificity:1.000\n",
      "prevalence:0.500\n",
      " \n",
      "Test:\n",
      "AUC:0.565\n",
      "accuracy:0.912\n",
      "recall:0.000\n",
      "precision:0.000\n",
      "specificity:1.000\n",
      "prevalence:0.088\n",
      " \n"
     ]
    }
   ],
   "source": [
    "# Assessing Model Performance\n",
    "\n",
    "y_train_preds = lr_cv.predict_proba(X_train_smo)[:,1]\n",
    "y_valid_preds = lr_cv.predict_proba(X_test)[:,1]\n",
    "\n",
    "print('Logistic Regression CV')\n",
    "print('Training:')\n",
    "lr_train_auc, lr_train_accuracy, lr_train_recall, \\\n",
    "    lr_train_precision, lr_train_specificity = print_report(y_train_smo,y_train_preds, thresh)\n",
    "print('Test:')\n",
    "lr_valid_auc, lr_valid_accuracy, lr_valid_recall, \\\n",
    "    lr_valid_precision, lr_valid_specificity = print_report(y_test,y_valid_preds, thresh)"
   ]
  },
  {
   "cell_type": "code",
   "execution_count": 44,
   "metadata": {},
   "outputs": [
    {
     "name": "stdout",
     "output_type": "stream",
     "text": [
      "              precision    recall  f1-score   support\n",
      "\n",
      "          NO       0.91      1.00      0.95     13044\n",
      "         YES       0.20      0.00      0.01      1259\n",
      "\n",
      "    accuracy                           0.91     14303\n",
      "   macro avg       0.56      0.50      0.48     14303\n",
      "weighted avg       0.85      0.91      0.87     14303\n",
      "\n"
     ]
    }
   ],
   "source": [
    "# Checking the Summary of Classification\n",
    "\n",
    "print(classification_report(y_test, ylr_cv, target_names = ['NO', 'YES']))"
   ]
  },
  {
   "cell_type": "code",
   "execution_count": 45,
   "metadata": {},
   "outputs": [
    {
     "data": {
      "image/png": "[encoded data removed]",
      "text/plain": [
       "<Figure size 576x576 with 2 Axes>"
      ]
     },
     "metadata": {},
     "output_type": "display_data"
    }
   ],
   "source": [
    "# Graphical Confusion Matrix\n",
    "\n",
    "plt.figure(figsize=(8,8))\n",
    "sns.heatmap(confusion_matrix(y_test, ylr_cv), annot=True, fmt=\".3f\", linewidths=.5, square = True, cmap = 'gray_r');\n",
    "plt.ylabel('Actual label');\n",
    "plt.xlabel('Predicted label');\n",
    "all_sample_title = 'Accuracy Score: {0}'.format(lr_cv.score(X_test, y_test))\n",
    "plt.title(all_sample_title, size = 15);"
   ]
  },
  {
   "cell_type": "code",
   "execution_count": 46,
   "metadata": {},
   "outputs": [
    {
     "data": {
      "image/png": "[encoded data removed]",
      "text/plain": [
       "<Figure size 576x576 with 1 Axes>"
      ]
     },
     "metadata": {},
     "output_type": "display_data"
    }
   ],
   "source": [
    "# ROC Curve\n",
    "\n",
    "probs = lr_cv.predict_proba(X_test)\n",
    "preds = probs[:,1]\n",
    "fpr, tpr, threshold = roc_curve(y_test, preds)\n",
    "roc_auc = auc(fpr, tpr)\n",
    "    \n",
    "plt.figure(figsize = (8,8))\n",
    "plt.plot(fpr, tpr, color = 'black', lw = 2, label = 'ROC curve')\n",
    "plt.legend(loc = 'lower right')\n",
    "plt.plot([0,1],[0,1], color='red', lw = 2, linestyle = '--')\n",
    "plt.xlim([0,1])\n",
    "plt.ylim([0,1])\n",
    "plt.ylabel(\"True Positive Rate\")\n",
    "plt.xlabel(\"False Positive Rate\")\n",
    "plt.title(\"ROC Curve\")\n",
    "plt.show()"
   ]
  },
  {
   "cell_type": "code",
   "execution_count": 48,
   "metadata": {},
   "outputs": [
    {
     "data": {
      "text/html": [
       "<style  type=\"text/css\" >\n",
       "</style><table id=\"T_988d3b07_432b_11eb_9867_0c5415878a06\" ><thead>    <tr>        <th class=\"col_heading level0 col0\" >Quantile</th>        <th class=\"col_heading level0 col1\" >Unique Patients</th>        <th class=\"col_heading level0 col2\" ># Readmitted</th>        <th class=\"col_heading level0 col3\" >Min Prob</th>        <th class=\"col_heading level0 col4\" >Max Prob</th>        <th class=\"col_heading level0 col5\" >Average Prob</th>        <th class=\"col_heading level0 col6\" >Percent Readmitted</th>        <th class=\"col_heading level0 col7\" >Lift</th>    </tr></thead><tbody>\n",
       "                <tr>\n",
       "                                <td id=\"T_988d3b07_432b_11eb_9867_0c5415878a06row0_col0\" class=\"data row0 col0\" >1</td>\n",
       "                        <td id=\"T_988d3b07_432b_11eb_9867_0c5415878a06row0_col1\" class=\"data row0 col1\" >1431</td>\n",
       "                        <td id=\"T_988d3b07_432b_11eb_9867_0c5415878a06row0_col2\" class=\"data row0 col2\" >87</td>\n",
       "                        <td id=\"T_988d3b07_432b_11eb_9867_0c5415878a06row0_col3\" class=\"data row0 col3\" >0.005445</td>\n",
       "                        <td id=\"T_988d3b07_432b_11eb_9867_0c5415878a06row0_col4\" class=\"data row0 col4\" >0.045574</td>\n",
       "                        <td id=\"T_988d3b07_432b_11eb_9867_0c5415878a06row0_col5\" class=\"data row0 col5\" >0.033374</td>\n",
       "                        <td id=\"T_988d3b07_432b_11eb_9867_0c5415878a06row0_col6\" class=\"data row0 col6\" >0.060797</td>\n",
       "                        <td id=\"T_988d3b07_432b_11eb_9867_0c5415878a06row0_col7\" class=\"data row0 col7\" >0.690682</td>\n",
       "            </tr>\n",
       "            <tr>\n",
       "                                <td id=\"T_988d3b07_432b_11eb_9867_0c5415878a06row1_col0\" class=\"data row1 col0\" >2</td>\n",
       "                        <td id=\"T_988d3b07_432b_11eb_9867_0c5415878a06row1_col1\" class=\"data row1 col1\" >1430</td>\n",
       "                        <td id=\"T_988d3b07_432b_11eb_9867_0c5415878a06row1_col2\" class=\"data row1 col2\" >103</td>\n",
       "                        <td id=\"T_988d3b07_432b_11eb_9867_0c5415878a06row1_col3\" class=\"data row1 col3\" >0.045576</td>\n",
       "                        <td id=\"T_988d3b07_432b_11eb_9867_0c5415878a06row1_col4\" class=\"data row1 col4\" >0.063257</td>\n",
       "                        <td id=\"T_988d3b07_432b_11eb_9867_0c5415878a06row1_col5\" class=\"data row1 col5\" >0.054809</td>\n",
       "                        <td id=\"T_988d3b07_432b_11eb_9867_0c5415878a06row1_col6\" class=\"data row1 col6\" >0.072028</td>\n",
       "                        <td id=\"T_988d3b07_432b_11eb_9867_0c5415878a06row1_col7\" class=\"data row1 col7\" >0.818276</td>\n",
       "            </tr>\n",
       "            <tr>\n",
       "                                <td id=\"T_988d3b07_432b_11eb_9867_0c5415878a06row2_col0\" class=\"data row2 col0\" >3</td>\n",
       "                        <td id=\"T_988d3b07_432b_11eb_9867_0c5415878a06row2_col1\" class=\"data row2 col1\" >1430</td>\n",
       "                        <td id=\"T_988d3b07_432b_11eb_9867_0c5415878a06row2_col2\" class=\"data row2 col2\" >99</td>\n",
       "                        <td id=\"T_988d3b07_432b_11eb_9867_0c5415878a06row2_col3\" class=\"data row2 col3\" >0.063261</td>\n",
       "                        <td id=\"T_988d3b07_432b_11eb_9867_0c5415878a06row2_col4\" class=\"data row2 col4\" >0.078673</td>\n",
       "                        <td id=\"T_988d3b07_432b_11eb_9867_0c5415878a06row2_col5\" class=\"data row2 col5\" >0.070903</td>\n",
       "                        <td id=\"T_988d3b07_432b_11eb_9867_0c5415878a06row2_col6\" class=\"data row2 col6\" >0.069231</td>\n",
       "                        <td id=\"T_988d3b07_432b_11eb_9867_0c5415878a06row2_col7\" class=\"data row2 col7\" >0.786499</td>\n",
       "            </tr>\n",
       "            <tr>\n",
       "                                <td id=\"T_988d3b07_432b_11eb_9867_0c5415878a06row3_col0\" class=\"data row3 col0\" >4</td>\n",
       "                        <td id=\"T_988d3b07_432b_11eb_9867_0c5415878a06row3_col1\" class=\"data row3 col1\" >1430</td>\n",
       "                        <td id=\"T_988d3b07_432b_11eb_9867_0c5415878a06row3_col2\" class=\"data row3 col2\" >106</td>\n",
       "                        <td id=\"T_988d3b07_432b_11eb_9867_0c5415878a06row3_col3\" class=\"data row3 col3\" >0.078673</td>\n",
       "                        <td id=\"T_988d3b07_432b_11eb_9867_0c5415878a06row3_col4\" class=\"data row3 col4\" >0.095233</td>\n",
       "                        <td id=\"T_988d3b07_432b_11eb_9867_0c5415878a06row3_col5\" class=\"data row3 col5\" >0.086794</td>\n",
       "                        <td id=\"T_988d3b07_432b_11eb_9867_0c5415878a06row3_col6\" class=\"data row3 col6\" >0.074126</td>\n",
       "                        <td id=\"T_988d3b07_432b_11eb_9867_0c5415878a06row3_col7\" class=\"data row3 col7\" >0.842110</td>\n",
       "            </tr>\n",
       "            <tr>\n",
       "                                <td id=\"T_988d3b07_432b_11eb_9867_0c5415878a06row4_col0\" class=\"data row4 col0\" >5</td>\n",
       "                        <td id=\"T_988d3b07_432b_11eb_9867_0c5415878a06row4_col1\" class=\"data row4 col1\" >1431</td>\n",
       "                        <td id=\"T_988d3b07_432b_11eb_9867_0c5415878a06row4_col2\" class=\"data row4 col2\" >113</td>\n",
       "                        <td id=\"T_988d3b07_432b_11eb_9867_0c5415878a06row4_col3\" class=\"data row4 col3\" >0.095238</td>\n",
       "                        <td id=\"T_988d3b07_432b_11eb_9867_0c5415878a06row4_col4\" class=\"data row4 col4\" >0.113511</td>\n",
       "                        <td id=\"T_988d3b07_432b_11eb_9867_0c5415878a06row4_col5\" class=\"data row4 col5\" >0.104193</td>\n",
       "                        <td id=\"T_988d3b07_432b_11eb_9867_0c5415878a06row4_col6\" class=\"data row4 col6\" >0.078966</td>\n",
       "                        <td id=\"T_988d3b07_432b_11eb_9867_0c5415878a06row4_col7\" class=\"data row4 col7\" >0.897093</td>\n",
       "            </tr>\n",
       "            <tr>\n",
       "                                <td id=\"T_988d3b07_432b_11eb_9867_0c5415878a06row5_col0\" class=\"data row5 col0\" >6</td>\n",
       "                        <td id=\"T_988d3b07_432b_11eb_9867_0c5415878a06row5_col1\" class=\"data row5 col1\" >1430</td>\n",
       "                        <td id=\"T_988d3b07_432b_11eb_9867_0c5415878a06row5_col2\" class=\"data row5 col2\" >147</td>\n",
       "                        <td id=\"T_988d3b07_432b_11eb_9867_0c5415878a06row5_col3\" class=\"data row5 col3\" >0.113514</td>\n",
       "                        <td id=\"T_988d3b07_432b_11eb_9867_0c5415878a06row5_col4\" class=\"data row5 col4\" >0.135704</td>\n",
       "                        <td id=\"T_988d3b07_432b_11eb_9867_0c5415878a06row5_col5\" class=\"data row5 col5\" >0.123974</td>\n",
       "                        <td id=\"T_988d3b07_432b_11eb_9867_0c5415878a06row5_col6\" class=\"data row5 col6\" >0.102797</td>\n",
       "                        <td id=\"T_988d3b07_432b_11eb_9867_0c5415878a06row5_col7\" class=\"data row5 col7\" >1.167831</td>\n",
       "            </tr>\n",
       "            <tr>\n",
       "                                <td id=\"T_988d3b07_432b_11eb_9867_0c5415878a06row6_col0\" class=\"data row6 col0\" >7</td>\n",
       "                        <td id=\"T_988d3b07_432b_11eb_9867_0c5415878a06row6_col1\" class=\"data row6 col1\" >1430</td>\n",
       "                        <td id=\"T_988d3b07_432b_11eb_9867_0c5415878a06row6_col2\" class=\"data row6 col2\" >117</td>\n",
       "                        <td id=\"T_988d3b07_432b_11eb_9867_0c5415878a06row6_col3\" class=\"data row6 col3\" >0.135718</td>\n",
       "                        <td id=\"T_988d3b07_432b_11eb_9867_0c5415878a06row6_col4\" class=\"data row6 col4\" >0.162023</td>\n",
       "                        <td id=\"T_988d3b07_432b_11eb_9867_0c5415878a06row6_col5\" class=\"data row6 col5\" >0.148098</td>\n",
       "                        <td id=\"T_988d3b07_432b_11eb_9867_0c5415878a06row6_col6\" class=\"data row6 col6\" >0.081818</td>\n",
       "                        <td id=\"T_988d3b07_432b_11eb_9867_0c5415878a06row6_col7\" class=\"data row6 col7\" >0.929498</td>\n",
       "            </tr>\n",
       "            <tr>\n",
       "                                <td id=\"T_988d3b07_432b_11eb_9867_0c5415878a06row7_col0\" class=\"data row7 col0\" >8</td>\n",
       "                        <td id=\"T_988d3b07_432b_11eb_9867_0c5415878a06row7_col1\" class=\"data row7 col1\" >1430</td>\n",
       "                        <td id=\"T_988d3b07_432b_11eb_9867_0c5415878a06row7_col2\" class=\"data row7 col2\" >154</td>\n",
       "                        <td id=\"T_988d3b07_432b_11eb_9867_0c5415878a06row7_col3\" class=\"data row7 col3\" >0.162077</td>\n",
       "                        <td id=\"T_988d3b07_432b_11eb_9867_0c5415878a06row7_col4\" class=\"data row7 col4\" >0.198626</td>\n",
       "                        <td id=\"T_988d3b07_432b_11eb_9867_0c5415878a06row7_col5\" class=\"data row7 col5\" >0.179108</td>\n",
       "                        <td id=\"T_988d3b07_432b_11eb_9867_0c5415878a06row7_col6\" class=\"data row7 col6\" >0.107692</td>\n",
       "                        <td id=\"T_988d3b07_432b_11eb_9867_0c5415878a06row7_col7\" class=\"data row7 col7\" >1.223442</td>\n",
       "            </tr>\n",
       "            <tr>\n",
       "                                <td id=\"T_988d3b07_432b_11eb_9867_0c5415878a06row8_col0\" class=\"data row8 col0\" >9</td>\n",
       "                        <td id=\"T_988d3b07_432b_11eb_9867_0c5415878a06row8_col1\" class=\"data row8 col1\" >1430</td>\n",
       "                        <td id=\"T_988d3b07_432b_11eb_9867_0c5415878a06row8_col2\" class=\"data row8 col2\" >166</td>\n",
       "                        <td id=\"T_988d3b07_432b_11eb_9867_0c5415878a06row8_col3\" class=\"data row8 col3\" >0.198651</td>\n",
       "                        <td id=\"T_988d3b07_432b_11eb_9867_0c5415878a06row8_col4\" class=\"data row8 col4\" >0.261058</td>\n",
       "                        <td id=\"T_988d3b07_432b_11eb_9867_0c5415878a06row8_col5\" class=\"data row8 col5\" >0.226448</td>\n",
       "                        <td id=\"T_988d3b07_432b_11eb_9867_0c5415878a06row8_col6\" class=\"data row8 col6\" >0.116084</td>\n",
       "                        <td id=\"T_988d3b07_432b_11eb_9867_0c5415878a06row8_col7\" class=\"data row8 col7\" >1.318775</td>\n",
       "            </tr>\n",
       "            <tr>\n",
       "                                <td id=\"T_988d3b07_432b_11eb_9867_0c5415878a06row9_col0\" class=\"data row9 col0\" >10</td>\n",
       "                        <td id=\"T_988d3b07_432b_11eb_9867_0c5415878a06row9_col1\" class=\"data row9 col1\" >1431</td>\n",
       "                        <td id=\"T_988d3b07_432b_11eb_9867_0c5415878a06row9_col2\" class=\"data row9 col2\" >167</td>\n",
       "                        <td id=\"T_988d3b07_432b_11eb_9867_0c5415878a06row9_col3\" class=\"data row9 col3\" >0.261180</td>\n",
       "                        <td id=\"T_988d3b07_432b_11eb_9867_0c5415878a06row9_col4\" class=\"data row9 col4\" >0.622372</td>\n",
       "                        <td id=\"T_988d3b07_432b_11eb_9867_0c5415878a06row9_col5\" class=\"data row9 col5\" >0.331230</td>\n",
       "                        <td id=\"T_988d3b07_432b_11eb_9867_0c5415878a06row9_col6\" class=\"data row9 col6\" >0.116702</td>\n",
       "                        <td id=\"T_988d3b07_432b_11eb_9867_0c5415878a06row9_col7\" class=\"data row9 col7\" >1.325793</td>\n",
       "            </tr>\n",
       "    </tbody></table>"
      ],
      "text/plain": [
       "<pandas.io.formats.style.Styler at 0x1ebb17b7880>"
      ]
     },
     "execution_count": 48,
     "metadata": {},
     "output_type": "execute_result"
    }
   ],
   "source": [
    "# Decile Analysis\n",
    "\n",
    "readmit_proba = [i[1] for i in lr_cv.predict_proba(X_test)]\n",
    "quant = pd.qcut(readmit_proba,10,labels=np.arange(1,11))\n",
    "prob = {'Quantile':quant,'# Readmitted':readmit_proba,'y':y_test}\n",
    "\n",
    "decile = pd.DataFrame(prob).sort_values('Quantile')\n",
    "dec1 = decile.groupby('Quantile')['# Readmitted'].agg(['count','min','max','mean']).reset_index()\n",
    "dec2 = decile.groupby(['Quantile','y']).count().reset_index()\n",
    "dec2 = dec2[dec2['y']==1]\n",
    "decile = pd.merge(dec2, dec1, how='inner',on ='Quantile').drop('y',1).\\\n",
    "        rename({'count':'Unique Patients', 'min':'Min Prob', 'mean':'Average Prob','max':'Max Prob'},axis=1)\n",
    "\n",
    "decile = decile[decile.columns[[0,2,1,3,4,5]]]\n",
    "decile['Percent Readmitted'] = decile['# Readmitted']/decile['Unique Patients']\n",
    "decile['Lift'] = decile['Percent Readmitted'].apply(lambda x:10*x/decile['Percent Readmitted'].sum())\n",
    "decile.style.hide_index()"
   ]
  },
  {
   "cell_type": "code",
   "execution_count": 49,
   "metadata": {},
   "outputs": [
    {
     "data": {
      "text/html": [
       "<div>\n",
       "<style scoped>\n",
       "    .dataframe tbody tr th:only-of-type {\n",
       "        vertical-align: middle;\n",
       "    }\n",
       "\n",
       "    .dataframe tbody tr th {\n",
       "        vertical-align: top;\n",
       "    }\n",
       "\n",
       "    .dataframe thead th {\n",
       "        text-align: right;\n",
       "    }\n",
       "</style>\n",
       "<table border=\"1\" class=\"dataframe\">\n",
       "  <thead>\n",
       "    <tr style=\"text-align: right;\">\n",
       "      <th></th>\n",
       "      <th>Unique Patients</th>\n",
       "      <th># Readmitted</th>\n",
       "      <th>Percent Readmitted</th>\n",
       "      <th>Lift</th>\n",
       "    </tr>\n",
       "  </thead>\n",
       "  <tbody>\n",
       "    <tr>\n",
       "      <th>Random Sampling</th>\n",
       "      <td>14303</td>\n",
       "      <td>1259</td>\n",
       "      <td>0.088023</td>\n",
       "      <td>NA</td>\n",
       "    </tr>\n",
       "    <tr>\n",
       "      <th>Top 2 Quantiles</th>\n",
       "      <td>2861</td>\n",
       "      <td>333</td>\n",
       "      <td>0.116393</td>\n",
       "      <td>1.32229</td>\n",
       "    </tr>\n",
       "  </tbody>\n",
       "</table>\n",
       "</div>"
      ],
      "text/plain": [
       "                 Unique Patients  # Readmitted  Percent Readmitted     Lift\n",
       "Random Sampling            14303          1259            0.088023       NA\n",
       "Top 2 Quantiles             2861           333            0.116393  1.32229"
      ]
     },
     "execution_count": 49,
     "metadata": {},
     "output_type": "execute_result"
    }
   ],
   "source": [
    "# Comparison between random sampling and the top 2 quantiles for readmission percentage\n",
    "\n",
    "tot_compdic = {'Unique Patients': [decile['Unique Patients'].sum(), decile['Unique Patients'][8] + decile['Unique Patients'][9]], \n",
    "               '# Readmitted': [decile['# Readmitted'].sum(), decile['# Readmitted'][8] + decile['# Readmitted'][9]]}\n",
    "\n",
    "tot_compdic['Percent Readmitted'] = [tot_compdic['# Readmitted'][0]/tot_compdic['Unique Patients'][0],\n",
    "                                     tot_compdic['# Readmitted'][1]/tot_compdic['Unique Patients'][1]]\n",
    "\n",
    "tot_compdic['Lift'] = ['NA', 10*tot_compdic['Percent Readmitted'][1]/decile['Percent Readmitted'].sum()]\n",
    "\n",
    "tot_compdf = pd.DataFrame(tot_compdic, index = ['Random Sampling','Top 2 Quantiles'])\n",
    "tot_compdf"
   ]
  },
  {
   "cell_type": "code",
   "execution_count": 50,
   "metadata": {},
   "outputs": [
    {
     "data": {
      "text/plain": [
       "Text(0, 0.5, 'Feature')"
      ]
     },
     "execution_count": 50,
     "metadata": {},
     "output_type": "execute_result"
    },
    {
     "data": {
      "image/png": "[encoded data removed]",
      "text/plain": [
       "<Figure size 576x396 with 1 Axes>"
      ]
     },
     "metadata": {},
     "output_type": "display_data"
    }
   ],
   "source": [
    "# Graphing Feature Importance\n",
    "\n",
    "lrcv_feat_dict = {'Feature':X_train.columns, 'Feature Importance':lr_cv.coef_.reshape(lr_cv.coef_.shape[1],)}\n",
    "lrcv_feat_df = pd.DataFrame(lrcv_feat_dict)\n",
    "lrcv_feat_df = lrcv_feat_df.sort_values('Feature Importance', ascending=False).head(10)\n",
    "\n",
    "plt.figure()\n",
    "sns.barplot(x = lrcv_feat_df['Feature Importance'], y = lrcv_feat_df['Feature'], palette = 'binary_r')\n",
    "sns.set_style('whitegrid')\n",
    "plt.title('Feature Importance: Logistic Regression with Cross Validation')\n",
    "plt.xlabel('Feature Importance')\n",
    "plt.ylabel('Feature')"
   ]
  },
  {
   "cell_type": "markdown",
   "metadata": {},
   "source": [
    "### Modeling: Random Forest"
   ]
  },
  {
   "cell_type": "code",
   "execution_count": 51,
   "metadata": {},
   "outputs": [],
   "source": [
    "# Random Forest Classifier\n",
    "\n",
    "random_forest = RandomForestClassifier(random_state=123,n_estimators=500)\n",
    "random_forest.fit(X_train_smo, y_train_smo)\n",
    "Yrandforest = random_forest.predict(X_test)"
   ]
  },
  {
   "cell_type": "code",
   "execution_count": 53,
   "metadata": {},
   "outputs": [
    {
     "name": "stdout",
     "output_type": "stream",
     "text": [
      "Random Forest\n",
      "Training:\n",
      "AUC:1.000\n",
      "accuracy:0.979\n",
      "recall:0.958\n",
      "precision:1.000\n",
      "specificity:1.000\n",
      "prevalence:0.500\n",
      " \n",
      "Test:\n",
      "AUC:0.563\n",
      "accuracy:0.910\n",
      "recall:0.000\n",
      "precision:0.000\n",
      "specificity:0.998\n",
      "prevalence:0.088\n",
      " \n"
     ]
    }
   ],
   "source": [
    "# Assessing Model Performance\n",
    "\n",
    "y_train_preds = random_forest.predict_proba(X_train_smo)[:,1]\n",
    "y_test_preds = random_forest.predict_proba(X_test)[:,1]\n",
    "\n",
    "print('Random Forest')\n",
    "print('Training:')\n",
    "rf_train_auc, rf_train_accuracy, rf_train_recall, rf_train_precision, rf_train_specificity =print_report(y_train_smo,y_train_preds, thresh)\n",
    "print('Test:')\n",
    "rf_valid_auc, rf_valid_accuracy, rf_valid_recall, rf_valid_precision, rf_valid_specificity = print_report(y_test,y_test_preds, thresh)"
   ]
  },
  {
   "cell_type": "code",
   "execution_count": 54,
   "metadata": {},
   "outputs": [
    {
     "name": "stdout",
     "output_type": "stream",
     "text": [
      "              precision    recall  f1-score   support\n",
      "\n",
      "          NO       0.91      0.99      0.95     13044\n",
      "         YES       0.10      0.01      0.02      1259\n",
      "\n",
      "    accuracy                           0.90     14303\n",
      "   macro avg       0.50      0.50      0.49     14303\n",
      "weighted avg       0.84      0.90      0.87     14303\n",
      "\n"
     ]
    }
   ],
   "source": [
    "# Checking the Summary of Classification\n",
    "\n",
    "print(classification_report(y_test, Yrandforest, target_names = ['NO', 'YES']))"
   ]
  },
  {
   "cell_type": "code",
   "execution_count": 55,
   "metadata": {},
   "outputs": [
    {
     "data": {
      "text/plain": [
       "Text(0.5, 1.0, 'Accuracy Score: 0.9032370831294134')"
      ]
     },
     "execution_count": 55,
     "metadata": {},
     "output_type": "execute_result"
    },
    {
     "data": {
      "image/png": "[encoded data removed]",
      "text/plain": [
       "<Figure size 576x576 with 2 Axes>"
      ]
     },
     "metadata": {},
     "output_type": "display_data"
    }
   ],
   "source": [
    "# Graphical Confusion Matrix\n",
    "\n",
    "plt.figure(figsize=(8,8))\n",
    "sns.heatmap(confusion_matrix(y_test, Yrandforest), annot=True, fmt=\".3f\", linewidths=.5, square = True, cmap = 'gray_r');\n",
    "plt.ylabel('Actual label');\n",
    "plt.xlabel('Predicted label');\n",
    "all_sample_title = 'Accuracy Score: {0}'.format(random_forest.score(X_test, y_test))\n",
    "plt.title(all_sample_title, size = 15)"
   ]
  },
  {
   "cell_type": "code",
   "execution_count": 56,
   "metadata": {},
   "outputs": [
    {
     "data": {
      "image/png": "[encoded data removed]",
      "text/plain": [
       "<Figure size 576x576 with 1 Axes>"
      ]
     },
     "metadata": {},
     "output_type": "display_data"
    }
   ],
   "source": [
    "# ROC Curve\n",
    "\n",
    "probs = random_forest.predict_proba(X_test)\n",
    "preds = probs[:,1]\n",
    "fpr, tpr, threshold = roc_curve(y_test, preds)\n",
    "roc_auc = auc(fpr, tpr)\n",
    "    \n",
    "plt.figure(figsize = (8,8))\n",
    "plt.plot(fpr, tpr, color = 'black', lw = 2, label = 'ROC curve')\n",
    "plt.legend(loc = 'lower right')\n",
    "plt.plot([0,1],[0,1], color='red', lw = 2, linestyle = '--')\n",
    "plt.xlim([0,1])\n",
    "plt.ylim([0,1])\n",
    "plt.ylabel(\"True Positive Rate\")\n",
    "plt.xlabel(\"False Positive Rate\")\n",
    "plt.title(\"ROC Curve\")\n",
    "plt.show()"
   ]
  },
  {
   "cell_type": "code",
   "execution_count": 57,
   "metadata": {},
   "outputs": [
    {
     "data": {
      "text/html": [
       "<style  type=\"text/css\" >\n",
       "</style><table id=\"T_c1ad20d7_432b_11eb_8449_0c5415878a06\" ><thead>    <tr>        <th class=\"col_heading level0 col0\" >Quantile</th>        <th class=\"col_heading level0 col1\" >Unique Patients</th>        <th class=\"col_heading level0 col2\" ># Readmitted</th>        <th class=\"col_heading level0 col3\" >Min Prob</th>        <th class=\"col_heading level0 col4\" >Max Prob</th>        <th class=\"col_heading level0 col5\" >Average Prob</th>        <th class=\"col_heading level0 col6\" >Percent Readmitted</th>        <th class=\"col_heading level0 col7\" >Lift</th>    </tr></thead><tbody>\n",
       "                <tr>\n",
       "                                <td id=\"T_c1ad20d7_432b_11eb_8449_0c5415878a06row0_col0\" class=\"data row0 col0\" >1</td>\n",
       "                        <td id=\"T_c1ad20d7_432b_11eb_8449_0c5415878a06row0_col1\" class=\"data row0 col1\" >1448</td>\n",
       "                        <td id=\"T_c1ad20d7_432b_11eb_8449_0c5415878a06row0_col2\" class=\"data row0 col2\" >87</td>\n",
       "                        <td id=\"T_c1ad20d7_432b_11eb_8449_0c5415878a06row0_col3\" class=\"data row0 col3\" >0.000000</td>\n",
       "                        <td id=\"T_c1ad20d7_432b_11eb_8449_0c5415878a06row0_col4\" class=\"data row0 col4\" >0.040000</td>\n",
       "                        <td id=\"T_c1ad20d7_432b_11eb_8449_0c5415878a06row0_col5\" class=\"data row0 col5\" >0.026339</td>\n",
       "                        <td id=\"T_c1ad20d7_432b_11eb_8449_0c5415878a06row0_col6\" class=\"data row0 col6\" >0.060083</td>\n",
       "                        <td id=\"T_c1ad20d7_432b_11eb_8449_0c5415878a06row0_col7\" class=\"data row0 col7\" >0.679980</td>\n",
       "            </tr>\n",
       "            <tr>\n",
       "                                <td id=\"T_c1ad20d7_432b_11eb_8449_0c5415878a06row1_col0\" class=\"data row1 col0\" >2</td>\n",
       "                        <td id=\"T_c1ad20d7_432b_11eb_8449_0c5415878a06row1_col1\" class=\"data row1 col1\" >1419</td>\n",
       "                        <td id=\"T_c1ad20d7_432b_11eb_8449_0c5415878a06row1_col2\" class=\"data row1 col2\" >91</td>\n",
       "                        <td id=\"T_c1ad20d7_432b_11eb_8449_0c5415878a06row1_col3\" class=\"data row1 col3\" >0.041000</td>\n",
       "                        <td id=\"T_c1ad20d7_432b_11eb_8449_0c5415878a06row1_col4\" class=\"data row1 col4\" >0.060000</td>\n",
       "                        <td id=\"T_c1ad20d7_432b_11eb_8449_0c5415878a06row1_col5\" class=\"data row1 col5\" >0.051324</td>\n",
       "                        <td id=\"T_c1ad20d7_432b_11eb_8449_0c5415878a06row1_col6\" class=\"data row1 col6\" >0.064130</td>\n",
       "                        <td id=\"T_c1ad20d7_432b_11eb_8449_0c5415878a06row1_col7\" class=\"data row1 col7\" >0.725779</td>\n",
       "            </tr>\n",
       "            <tr>\n",
       "                                <td id=\"T_c1ad20d7_432b_11eb_8449_0c5415878a06row2_col0\" class=\"data row2 col0\" >3</td>\n",
       "                        <td id=\"T_c1ad20d7_432b_11eb_8449_0c5415878a06row2_col1\" class=\"data row2 col1\" >1554</td>\n",
       "                        <td id=\"T_c1ad20d7_432b_11eb_8449_0c5415878a06row2_col2\" class=\"data row2 col2\" >103</td>\n",
       "                        <td id=\"T_c1ad20d7_432b_11eb_8449_0c5415878a06row2_col3\" class=\"data row2 col3\" >0.062000</td>\n",
       "                        <td id=\"T_c1ad20d7_432b_11eb_8449_0c5415878a06row2_col4\" class=\"data row2 col4\" >0.080000</td>\n",
       "                        <td id=\"T_c1ad20d7_432b_11eb_8449_0c5415878a06row2_col5\" class=\"data row2 col5\" >0.070932</td>\n",
       "                        <td id=\"T_c1ad20d7_432b_11eb_8449_0c5415878a06row2_col6\" class=\"data row2 col6\" >0.066281</td>\n",
       "                        <td id=\"T_c1ad20d7_432b_11eb_8449_0c5415878a06row2_col7\" class=\"data row2 col7\" >0.750121</td>\n",
       "            </tr>\n",
       "            <tr>\n",
       "                                <td id=\"T_c1ad20d7_432b_11eb_8449_0c5415878a06row3_col0\" class=\"data row3 col0\" >4</td>\n",
       "                        <td id=\"T_c1ad20d7_432b_11eb_8449_0c5415878a06row3_col1\" class=\"data row3 col1\" >1440</td>\n",
       "                        <td id=\"T_c1ad20d7_432b_11eb_8449_0c5415878a06row3_col2\" class=\"data row3 col2\" >120</td>\n",
       "                        <td id=\"T_c1ad20d7_432b_11eb_8449_0c5415878a06row3_col3\" class=\"data row3 col3\" >0.080667</td>\n",
       "                        <td id=\"T_c1ad20d7_432b_11eb_8449_0c5415878a06row3_col4\" class=\"data row3 col4\" >0.100000</td>\n",
       "                        <td id=\"T_c1ad20d7_432b_11eb_8449_0c5415878a06row3_col5\" class=\"data row3 col5\" >0.090938</td>\n",
       "                        <td id=\"T_c1ad20d7_432b_11eb_8449_0c5415878a06row3_col6\" class=\"data row3 col6\" >0.083333</td>\n",
       "                        <td id=\"T_c1ad20d7_432b_11eb_8449_0c5415878a06row3_col7\" class=\"data row3 col7\" >0.943114</td>\n",
       "            </tr>\n",
       "            <tr>\n",
       "                                <td id=\"T_c1ad20d7_432b_11eb_8449_0c5415878a06row4_col0\" class=\"data row4 col0\" >5</td>\n",
       "                        <td id=\"T_c1ad20d7_432b_11eb_8449_0c5415878a06row4_col1\" class=\"data row4 col1\" >1321</td>\n",
       "                        <td id=\"T_c1ad20d7_432b_11eb_8449_0c5415878a06row4_col2\" class=\"data row4 col2\" >130</td>\n",
       "                        <td id=\"T_c1ad20d7_432b_11eb_8449_0c5415878a06row4_col3\" class=\"data row4 col3\" >0.102000</td>\n",
       "                        <td id=\"T_c1ad20d7_432b_11eb_8449_0c5415878a06row4_col4\" class=\"data row4 col4\" >0.118000</td>\n",
       "                        <td id=\"T_c1ad20d7_432b_11eb_8449_0c5415878a06row4_col5\" class=\"data row4 col5\" >0.109789</td>\n",
       "                        <td id=\"T_c1ad20d7_432b_11eb_8449_0c5415878a06row4_col6\" class=\"data row4 col6\" >0.098410</td>\n",
       "                        <td id=\"T_c1ad20d7_432b_11eb_8449_0c5415878a06row4_col7\" class=\"data row4 col7\" >1.113745</td>\n",
       "            </tr>\n",
       "            <tr>\n",
       "                                <td id=\"T_c1ad20d7_432b_11eb_8449_0c5415878a06row5_col0\" class=\"data row5 col0\" >6</td>\n",
       "                        <td id=\"T_c1ad20d7_432b_11eb_8449_0c5415878a06row5_col1\" class=\"data row5 col1\" >1490</td>\n",
       "                        <td id=\"T_c1ad20d7_432b_11eb_8449_0c5415878a06row5_col2\" class=\"data row5 col2\" >145</td>\n",
       "                        <td id=\"T_c1ad20d7_432b_11eb_8449_0c5415878a06row5_col3\" class=\"data row5 col3\" >0.120000</td>\n",
       "                        <td id=\"T_c1ad20d7_432b_11eb_8449_0c5415878a06row5_col4\" class=\"data row5 col4\" >0.142000</td>\n",
       "                        <td id=\"T_c1ad20d7_432b_11eb_8449_0c5415878a06row5_col5\" class=\"data row5 col5\" >0.130508</td>\n",
       "                        <td id=\"T_c1ad20d7_432b_11eb_8449_0c5415878a06row5_col6\" class=\"data row5 col6\" >0.097315</td>\n",
       "                        <td id=\"T_c1ad20d7_432b_11eb_8449_0c5415878a06row5_col7\" class=\"data row5 col7\" >1.101354</td>\n",
       "            </tr>\n",
       "            <tr>\n",
       "                                <td id=\"T_c1ad20d7_432b_11eb_8449_0c5415878a06row6_col0\" class=\"data row6 col0\" >7</td>\n",
       "                        <td id=\"T_c1ad20d7_432b_11eb_8449_0c5415878a06row6_col1\" class=\"data row6 col1\" >1402</td>\n",
       "                        <td id=\"T_c1ad20d7_432b_11eb_8449_0c5415878a06row6_col2\" class=\"data row6 col2\" >123</td>\n",
       "                        <td id=\"T_c1ad20d7_432b_11eb_8449_0c5415878a06row6_col3\" class=\"data row6 col3\" >0.144000</td>\n",
       "                        <td id=\"T_c1ad20d7_432b_11eb_8449_0c5415878a06row6_col4\" class=\"data row6 col4\" >0.170000</td>\n",
       "                        <td id=\"T_c1ad20d7_432b_11eb_8449_0c5415878a06row6_col5\" class=\"data row6 col5\" >0.156635</td>\n",
       "                        <td id=\"T_c1ad20d7_432b_11eb_8449_0c5415878a06row6_col6\" class=\"data row6 col6\" >0.087732</td>\n",
       "                        <td id=\"T_c1ad20d7_432b_11eb_8449_0c5415878a06row6_col7\" class=\"data row6 col7\" >0.992893</td>\n",
       "            </tr>\n",
       "            <tr>\n",
       "                                <td id=\"T_c1ad20d7_432b_11eb_8449_0c5415878a06row7_col0\" class=\"data row7 col0\" >8</td>\n",
       "                        <td id=\"T_c1ad20d7_432b_11eb_8449_0c5415878a06row7_col1\" class=\"data row7 col1\" >1437</td>\n",
       "                        <td id=\"T_c1ad20d7_432b_11eb_8449_0c5415878a06row7_col2\" class=\"data row7 col2\" >154</td>\n",
       "                        <td id=\"T_c1ad20d7_432b_11eb_8449_0c5415878a06row7_col3\" class=\"data row7 col3\" >0.172000</td>\n",
       "                        <td id=\"T_c1ad20d7_432b_11eb_8449_0c5415878a06row7_col4\" class=\"data row7 col4\" >0.206000</td>\n",
       "                        <td id=\"T_c1ad20d7_432b_11eb_8449_0c5415878a06row7_col5\" class=\"data row7 col5\" >0.188098</td>\n",
       "                        <td id=\"T_c1ad20d7_432b_11eb_8449_0c5415878a06row7_col6\" class=\"data row7 col6\" >0.107168</td>\n",
       "                        <td id=\"T_c1ad20d7_432b_11eb_8449_0c5415878a06row7_col7\" class=\"data row7 col7\" >1.212856</td>\n",
       "            </tr>\n",
       "            <tr>\n",
       "                                <td id=\"T_c1ad20d7_432b_11eb_8449_0c5415878a06row8_col0\" class=\"data row8 col0\" >9</td>\n",
       "                        <td id=\"T_c1ad20d7_432b_11eb_8449_0c5415878a06row8_col1\" class=\"data row8 col1\" >1390</td>\n",
       "                        <td id=\"T_c1ad20d7_432b_11eb_8449_0c5415878a06row8_col2\" class=\"data row8 col2\" >144</td>\n",
       "                        <td id=\"T_c1ad20d7_432b_11eb_8449_0c5415878a06row8_col3\" class=\"data row8 col3\" >0.208000</td>\n",
       "                        <td id=\"T_c1ad20d7_432b_11eb_8449_0c5415878a06row8_col4\" class=\"data row8 col4\" >0.270000</td>\n",
       "                        <td id=\"T_c1ad20d7_432b_11eb_8449_0c5415878a06row8_col5\" class=\"data row8 col5\" >0.234970</td>\n",
       "                        <td id=\"T_c1ad20d7_432b_11eb_8449_0c5415878a06row8_col6\" class=\"data row8 col6\" >0.103597</td>\n",
       "                        <td id=\"T_c1ad20d7_432b_11eb_8449_0c5415878a06row8_col7\" class=\"data row8 col7\" >1.172446</td>\n",
       "            </tr>\n",
       "            <tr>\n",
       "                                <td id=\"T_c1ad20d7_432b_11eb_8449_0c5415878a06row9_col0\" class=\"data row9 col0\" >10</td>\n",
       "                        <td id=\"T_c1ad20d7_432b_11eb_8449_0c5415878a06row9_col1\" class=\"data row9 col1\" >1402</td>\n",
       "                        <td id=\"T_c1ad20d7_432b_11eb_8449_0c5415878a06row9_col2\" class=\"data row9 col2\" >162</td>\n",
       "                        <td id=\"T_c1ad20d7_432b_11eb_8449_0c5415878a06row9_col3\" class=\"data row9 col3\" >0.271000</td>\n",
       "                        <td id=\"T_c1ad20d7_432b_11eb_8449_0c5415878a06row9_col4\" class=\"data row9 col4\" >0.918000</td>\n",
       "                        <td id=\"T_c1ad20d7_432b_11eb_8449_0c5415878a06row9_col5\" class=\"data row9 col5\" >0.369543</td>\n",
       "                        <td id=\"T_c1ad20d7_432b_11eb_8449_0c5415878a06row9_col6\" class=\"data row9 col6\" >0.115549</td>\n",
       "                        <td id=\"T_c1ad20d7_432b_11eb_8449_0c5415878a06row9_col7\" class=\"data row9 col7\" >1.307712</td>\n",
       "            </tr>\n",
       "    </tbody></table>"
      ],
      "text/plain": [
       "<pandas.io.formats.style.Styler at 0x1ebaae05a30>"
      ]
     },
     "execution_count": 57,
     "metadata": {},
     "output_type": "execute_result"
    }
   ],
   "source": [
    "# Decile Analysis\n",
    "\n",
    "readmit_proba = [i[1] for i in random_forest.predict_proba(X_test)]\n",
    "quant = pd.qcut(readmit_proba,10,labels=np.arange(1,11))\n",
    "prob = {'Quantile':quant,'# Readmitted':readmit_proba,'y':y_test}\n",
    "\n",
    "decile = pd.DataFrame(prob).sort_values('Quantile')\n",
    "dec1 = decile.groupby('Quantile')['# Readmitted'].agg(['count','min','max','mean']).reset_index()\n",
    "dec2 = decile.groupby(['Quantile','y']).count().reset_index()\n",
    "dec2 = dec2[dec2['y']==1]\n",
    "decile = pd.merge(dec2, dec1, how='inner',on ='Quantile').drop('y',1).\\\n",
    "        rename({'count':'Unique Patients', 'min':'Min Prob', 'mean':'Average Prob','max':'Max Prob'},axis=1)\n",
    "\n",
    "decile = decile[decile.columns[[0,2,1,3,4,5]]]\n",
    "decile['Percent Readmitted'] = decile['# Readmitted']/decile['Unique Patients']\n",
    "decile['Lift'] = decile['Percent Readmitted'].apply(lambda x:10*x/decile['Percent Readmitted'].sum())\n",
    "decile.style.hide_index()"
   ]
  },
  {
   "cell_type": "code",
   "execution_count": 58,
   "metadata": {},
   "outputs": [
    {
     "data": {
      "text/html": [
       "<div>\n",
       "<style scoped>\n",
       "    .dataframe tbody tr th:only-of-type {\n",
       "        vertical-align: middle;\n",
       "    }\n",
       "\n",
       "    .dataframe tbody tr th {\n",
       "        vertical-align: top;\n",
       "    }\n",
       "\n",
       "    .dataframe thead th {\n",
       "        text-align: right;\n",
       "    }\n",
       "</style>\n",
       "<table border=\"1\" class=\"dataframe\">\n",
       "  <thead>\n",
       "    <tr style=\"text-align: right;\">\n",
       "      <th></th>\n",
       "      <th>Unique Patients</th>\n",
       "      <th># Readmitted</th>\n",
       "      <th>Percent Readmitted</th>\n",
       "      <th>Lift</th>\n",
       "    </tr>\n",
       "  </thead>\n",
       "  <tbody>\n",
       "    <tr>\n",
       "      <th>Random Sampling</th>\n",
       "      <td>14303</td>\n",
       "      <td>1259</td>\n",
       "      <td>0.088023</td>\n",
       "      <td>NA</td>\n",
       "    </tr>\n",
       "    <tr>\n",
       "      <th>Top 2 Quantiles</th>\n",
       "      <td>2792</td>\n",
       "      <td>306</td>\n",
       "      <td>0.109599</td>\n",
       "      <td>1.24037</td>\n",
       "    </tr>\n",
       "  </tbody>\n",
       "</table>\n",
       "</div>"
      ],
      "text/plain": [
       "                 Unique Patients  # Readmitted  Percent Readmitted     Lift\n",
       "Random Sampling            14303          1259            0.088023       NA\n",
       "Top 2 Quantiles             2792           306            0.109599  1.24037"
      ]
     },
     "execution_count": 58,
     "metadata": {},
     "output_type": "execute_result"
    }
   ],
   "source": [
    "# Comparison between random sampling and the top 2 quantiles for readmission percentage\n",
    "\n",
    "tot_compdic = {'Unique Patients': [decile['Unique Patients'].sum(), decile['Unique Patients'][8] + decile['Unique Patients'][9]], \n",
    "               '# Readmitted': [decile['# Readmitted'].sum(), decile['# Readmitted'][8] + decile['# Readmitted'][9]]}\n",
    "\n",
    "tot_compdic['Percent Readmitted'] = [tot_compdic['# Readmitted'][0]/tot_compdic['Unique Patients'][0],\n",
    "                                     tot_compdic['# Readmitted'][1]/tot_compdic['Unique Patients'][1]]\n",
    "\n",
    "tot_compdic['Lift'] = ['NA', 10*tot_compdic['Percent Readmitted'][1]/decile['Percent Readmitted'].sum()]\n",
    "\n",
    "tot_compdf = pd.DataFrame(tot_compdic, index = ['Random Sampling','Top 2 Quantiles'])\n",
    "tot_compdf"
   ]
  },
  {
   "cell_type": "code",
   "execution_count": 59,
   "metadata": {},
   "outputs": [
    {
     "data": {
      "text/plain": [
       "Text(0, 0.5, 'Feature')"
      ]
     },
     "execution_count": 59,
     "metadata": {},
     "output_type": "execute_result"
    },
    {
     "data": {
      "image/png": "[encoded data removed]",
      "text/plain": [
       "<Figure size 576x396 with 1 Axes>"
      ]
     },
     "metadata": {},
     "output_type": "display_data"
    }
   ],
   "source": [
    "#Determining which features are most important,\n",
    "feature_names = X_train_smo.columns\n",
    "feature_imports = random_forest.feature_importances_\n",
    "most_imp_features = pd.DataFrame([f for f in zip(feature_names,feature_imports)], columns=[\"Feature\", \"Importance\"]).nlargest(10, \"Importance\")\n",
    "most_imp_features.sort_values(by=\"Importance\", inplace=True, ascending= False)\n",
    "\n",
    "plt.figure()\n",
    "sns.barplot(x = most_imp_features['Importance'], y = most_imp_features['Feature'], palette = 'binary_r')\n",
    "sns.set_style('whitegrid')\n",
    "plt.title('Feature Importance: Random Forest')\n",
    "plt.xlabel('Feature Importance')\n",
    "plt.ylabel('Feature')"
   ]
  },
  {
   "cell_type": "markdown",
   "metadata": {},
   "source": [
    "### Modeling: XGBoost Classifier "
   ]
  },
  {
   "cell_type": "code",
   "execution_count": 60,
   "metadata": {},
   "outputs": [
    {
     "name": "stdout",
     "output_type": "stream",
     "text": [
      "[18:27:58] WARNING: C:/Users/Administrator/workspace/xgboost-win64_release_1.3.0/src/learner.cc:1061: Starting in XGBoost 1.3.0, the default evaluation metric used with the objective 'binary:logistic' was changed from 'error' to 'logloss'. Explicitly set eval_metric if you'd like to restore the old behavior.\n"
     ]
    }
   ],
   "source": [
    "# XG Boost Classifier\n",
    "\n",
    "xgb_clf = xgb.XGBClassifier(objective='binary:logistic', n_estimators=10, random_state=123)\n",
    "xgb_clf.fit(X_train_smo, y_train_smo)\n",
    "Yxgb = xgb_clf.predict(X_test)"
   ]
  },
  {
   "cell_type": "code",
   "execution_count": 63,
   "metadata": {},
   "outputs": [
    {
     "name": "stdout",
     "output_type": "stream",
     "text": [
      "XGBoost\n",
      "Training:\n",
      "AUC:0.952\n",
      "accuracy:0.875\n",
      "recall:0.751\n",
      "precision:1.000\n",
      "specificity:1.000\n",
      "prevalence:0.500\n",
      " \n",
      "Test:\n",
      "AUC:0.568\n",
      "accuracy:0.912\n",
      "recall:0.000\n",
      "precision:0.000\n",
      "specificity:1.000\n",
      "prevalence:0.088\n",
      " \n"
     ]
    }
   ],
   "source": [
    "# Assessing Model Performance\n",
    "\n",
    "y_train_preds = xgb_clf.predict_proba(X_train_smo)[:,1]\n",
    "y_test_preds = xgb_clf.predict_proba(X_test)[:,1]\n",
    "\n",
    "print('XGBoost')\n",
    "print('Training:')\n",
    "rf_train_auc, rf_train_accuracy, rf_train_recall, rf_train_precision, rf_train_specificity =print_report(y_train_smo,y_train_preds, thresh)\n",
    "print('Test:')\n",
    "rf_valid_auc, rf_valid_accuracy, rf_valid_recall, rf_valid_precision, rf_valid_specificity = print_report(y_test,y_test_preds, thresh)"
   ]
  },
  {
   "cell_type": "code",
   "execution_count": 64,
   "metadata": {},
   "outputs": [
    {
     "data": {
      "text/plain": [
       "Text(0.5, 1.0, 'Accuracy Score: 0.8858980633433545')"
      ]
     },
     "execution_count": 64,
     "metadata": {},
     "output_type": "execute_result"
    },
    {
     "data": {
      "image/png": "[encoded data removed]",
      "text/plain": [
       "<Figure size 576x576 with 2 Axes>"
      ]
     },
     "metadata": {},
     "output_type": "display_data"
    }
   ],
   "source": [
    "# Graphical Confusion Matrix\n",
    "\n",
    "plt.figure(figsize=(8,8))\n",
    "sns.heatmap(confusion_matrix(y_test, Yxgb), annot=True, fmt=\".3f\", linewidths=.5, square = True, cmap = 'gray_r');\n",
    "plt.ylabel('Actual label');\n",
    "plt.xlabel('Predicted label');\n",
    "all_sample_title = 'Accuracy Score: {0}'.format(xgb_clf.score(X_test, y_test))\n",
    "plt.title(all_sample_title, size = 15)"
   ]
  },
  {
   "cell_type": "code",
   "execution_count": 65,
   "metadata": {},
   "outputs": [
    {
     "name": "stdout",
     "output_type": "stream",
     "text": [
      "              precision    recall  f1-score   support\n",
      "\n",
      "          NO       0.91      0.97      0.94     13044\n",
      "         YES       0.10      0.03      0.05      1259\n",
      "\n",
      "    accuracy                           0.89     14303\n",
      "   macro avg       0.50      0.50      0.50     14303\n",
      "weighted avg       0.84      0.89      0.86     14303\n",
      "\n"
     ]
    }
   ],
   "source": [
    "# Checking the Summary of Classification\n",
    "\n",
    "print(classification_report(y_test, Yxgb, target_names = ['NO', 'YES']))"
   ]
  },
  {
   "cell_type": "code",
   "execution_count": 66,
   "metadata": {},
   "outputs": [
    {
     "data": {
      "image/png": "[encoded data removed]",
      "text/plain": [
       "<Figure size 576x576 with 1 Axes>"
      ]
     },
     "metadata": {},
     "output_type": "display_data"
    }
   ],
   "source": [
    "# ROC Curve\n",
    "\n",
    "probs = xgb_clf.predict_proba(X_test)\n",
    "preds = probs[:,1]\n",
    "fpr, tpr, threshold = roc_curve(y_test, preds)\n",
    "roc_auc = auc(fpr, tpr)\n",
    "    \n",
    "plt.figure(figsize = (8,8))\n",
    "plt.plot(fpr, tpr, color = 'black', lw = 2, label = 'ROC curve')\n",
    "plt.legend(loc = 'lower right')\n",
    "plt.plot([0,1],[0,1], color='red', lw = 2, linestyle = '--')\n",
    "plt.xlim([0,1])\n",
    "plt.ylim([0,1])\n",
    "plt.ylabel(\"True Positive Rate\")\n",
    "plt.xlabel(\"False Positive Rate\")\n",
    "plt.title(\"ROC Curve\")\n",
    "plt.show()"
   ]
  },
  {
   "cell_type": "code",
   "execution_count": 68,
   "metadata": {},
   "outputs": [
    {
     "data": {
      "text/html": [
       "<style  type=\"text/css\" >\n",
       "</style><table id=\"T_cb7c7d65_432b_11eb_b584_0c5415878a06\" ><thead>    <tr>        <th class=\"col_heading level0 col0\" >Quantile</th>        <th class=\"col_heading level0 col1\" >Unique Patients</th>        <th class=\"col_heading level0 col2\" ># Readmitted</th>        <th class=\"col_heading level0 col3\" >Min Prob</th>        <th class=\"col_heading level0 col4\" >Max Prob</th>        <th class=\"col_heading level0 col5\" >Average Prob</th>        <th class=\"col_heading level0 col6\" >Percent Readmitted</th>        <th class=\"col_heading level0 col7\" >Lift</th>    </tr></thead><tbody>\n",
       "                <tr>\n",
       "                                <td id=\"T_cb7c7d65_432b_11eb_b584_0c5415878a06row0_col0\" class=\"data row0 col0\" >1</td>\n",
       "                        <td id=\"T_cb7c7d65_432b_11eb_b584_0c5415878a06row0_col1\" class=\"data row0 col1\" >1431</td>\n",
       "                        <td id=\"T_cb7c7d65_432b_11eb_b584_0c5415878a06row0_col2\" class=\"data row0 col2\" >69</td>\n",
       "                        <td id=\"T_cb7c7d65_432b_11eb_b584_0c5415878a06row0_col3\" class=\"data row0 col3\" >0.039530</td>\n",
       "                        <td id=\"T_cb7c7d65_432b_11eb_b584_0c5415878a06row0_col4\" class=\"data row0 col4\" >0.101772</td>\n",
       "                        <td id=\"T_cb7c7d65_432b_11eb_b584_0c5415878a06row0_col5\" class=\"data row0 col5\" >0.084462</td>\n",
       "                        <td id=\"T_cb7c7d65_432b_11eb_b584_0c5415878a06row0_col6\" class=\"data row0 col6\" >0.048218</td>\n",
       "                        <td id=\"T_cb7c7d65_432b_11eb_b584_0c5415878a06row0_col7\" class=\"data row0 col7\" >0.547604</td>\n",
       "            </tr>\n",
       "            <tr>\n",
       "                                <td id=\"T_cb7c7d65_432b_11eb_b584_0c5415878a06row1_col0\" class=\"data row1 col0\" >2</td>\n",
       "                        <td id=\"T_cb7c7d65_432b_11eb_b584_0c5415878a06row1_col1\" class=\"data row1 col1\" >1430</td>\n",
       "                        <td id=\"T_cb7c7d65_432b_11eb_b584_0c5415878a06row1_col2\" class=\"data row1 col2\" >114</td>\n",
       "                        <td id=\"T_cb7c7d65_432b_11eb_b584_0c5415878a06row1_col3\" class=\"data row1 col3\" >0.101786</td>\n",
       "                        <td id=\"T_cb7c7d65_432b_11eb_b584_0c5415878a06row1_col4\" class=\"data row1 col4\" >0.125053</td>\n",
       "                        <td id=\"T_cb7c7d65_432b_11eb_b584_0c5415878a06row1_col5\" class=\"data row1 col5\" >0.114213</td>\n",
       "                        <td id=\"T_cb7c7d65_432b_11eb_b584_0c5415878a06row1_col6\" class=\"data row1 col6\" >0.079720</td>\n",
       "                        <td id=\"T_cb7c7d65_432b_11eb_b584_0c5415878a06row1_col7\" class=\"data row1 col7\" >0.905370</td>\n",
       "            </tr>\n",
       "            <tr>\n",
       "                                <td id=\"T_cb7c7d65_432b_11eb_b584_0c5415878a06row2_col0\" class=\"data row2 col0\" >3</td>\n",
       "                        <td id=\"T_cb7c7d65_432b_11eb_b584_0c5415878a06row2_col1\" class=\"data row2 col1\" >1430</td>\n",
       "                        <td id=\"T_cb7c7d65_432b_11eb_b584_0c5415878a06row2_col2\" class=\"data row2 col2\" >93</td>\n",
       "                        <td id=\"T_cb7c7d65_432b_11eb_b584_0c5415878a06row2_col3\" class=\"data row2 col3\" >0.125058</td>\n",
       "                        <td id=\"T_cb7c7d65_432b_11eb_b584_0c5415878a06row2_col4\" class=\"data row2 col4\" >0.146565</td>\n",
       "                        <td id=\"T_cb7c7d65_432b_11eb_b584_0c5415878a06row2_col5\" class=\"data row2 col5\" >0.135781</td>\n",
       "                        <td id=\"T_cb7c7d65_432b_11eb_b584_0c5415878a06row2_col6\" class=\"data row2 col6\" >0.065035</td>\n",
       "                        <td id=\"T_cb7c7d65_432b_11eb_b584_0c5415878a06row2_col7\" class=\"data row2 col7\" >0.738591</td>\n",
       "            </tr>\n",
       "            <tr>\n",
       "                                <td id=\"T_cb7c7d65_432b_11eb_b584_0c5415878a06row3_col0\" class=\"data row3 col0\" >4</td>\n",
       "                        <td id=\"T_cb7c7d65_432b_11eb_b584_0c5415878a06row3_col1\" class=\"data row3 col1\" >1430</td>\n",
       "                        <td id=\"T_cb7c7d65_432b_11eb_b584_0c5415878a06row3_col2\" class=\"data row3 col2\" >112</td>\n",
       "                        <td id=\"T_cb7c7d65_432b_11eb_b584_0c5415878a06row3_col3\" class=\"data row3 col3\" >0.146581</td>\n",
       "                        <td id=\"T_cb7c7d65_432b_11eb_b584_0c5415878a06row3_col4\" class=\"data row3 col4\" >0.168628</td>\n",
       "                        <td id=\"T_cb7c7d65_432b_11eb_b584_0c5415878a06row3_col5\" class=\"data row3 col5\" >0.157259</td>\n",
       "                        <td id=\"T_cb7c7d65_432b_11eb_b584_0c5415878a06row3_col6\" class=\"data row3 col6\" >0.078322</td>\n",
       "                        <td id=\"T_cb7c7d65_432b_11eb_b584_0c5415878a06row3_col7\" class=\"data row3 col7\" >0.889486</td>\n",
       "            </tr>\n",
       "            <tr>\n",
       "                                <td id=\"T_cb7c7d65_432b_11eb_b584_0c5415878a06row4_col0\" class=\"data row4 col0\" >5</td>\n",
       "                        <td id=\"T_cb7c7d65_432b_11eb_b584_0c5415878a06row4_col1\" class=\"data row4 col1\" >1437</td>\n",
       "                        <td id=\"T_cb7c7d65_432b_11eb_b584_0c5415878a06row4_col2\" class=\"data row4 col2\" >135</td>\n",
       "                        <td id=\"T_cb7c7d65_432b_11eb_b584_0c5415878a06row4_col3\" class=\"data row4 col3\" >0.168643</td>\n",
       "                        <td id=\"T_cb7c7d65_432b_11eb_b584_0c5415878a06row4_col4\" class=\"data row4 col4\" >0.193757</td>\n",
       "                        <td id=\"T_cb7c7d65_432b_11eb_b584_0c5415878a06row4_col5\" class=\"data row4 col5\" >0.181140</td>\n",
       "                        <td id=\"T_cb7c7d65_432b_11eb_b584_0c5415878a06row4_col6\" class=\"data row4 col6\" >0.093946</td>\n",
       "                        <td id=\"T_cb7c7d65_432b_11eb_b584_0c5415878a06row4_col7\" class=\"data row4 col7\" >1.066926</td>\n",
       "            </tr>\n",
       "            <tr>\n",
       "                                <td id=\"T_cb7c7d65_432b_11eb_b584_0c5415878a06row5_col0\" class=\"data row5 col0\" >6</td>\n",
       "                        <td id=\"T_cb7c7d65_432b_11eb_b584_0c5415878a06row5_col1\" class=\"data row5 col1\" >1425</td>\n",
       "                        <td id=\"T_cb7c7d65_432b_11eb_b584_0c5415878a06row5_col2\" class=\"data row5 col2\" >128</td>\n",
       "                        <td id=\"T_cb7c7d65_432b_11eb_b584_0c5415878a06row5_col3\" class=\"data row5 col3\" >0.193759</td>\n",
       "                        <td id=\"T_cb7c7d65_432b_11eb_b584_0c5415878a06row5_col4\" class=\"data row5 col4\" >0.224737</td>\n",
       "                        <td id=\"T_cb7c7d65_432b_11eb_b584_0c5415878a06row5_col5\" class=\"data row5 col5\" >0.208803</td>\n",
       "                        <td id=\"T_cb7c7d65_432b_11eb_b584_0c5415878a06row5_col6\" class=\"data row5 col6\" >0.089825</td>\n",
       "                        <td id=\"T_cb7c7d65_432b_11eb_b584_0c5415878a06row5_col7\" class=\"data row5 col7\" >1.020122</td>\n",
       "            </tr>\n",
       "            <tr>\n",
       "                                <td id=\"T_cb7c7d65_432b_11eb_b584_0c5415878a06row6_col0\" class=\"data row6 col0\" >7</td>\n",
       "                        <td id=\"T_cb7c7d65_432b_11eb_b584_0c5415878a06row6_col1\" class=\"data row6 col1\" >1429</td>\n",
       "                        <td id=\"T_cb7c7d65_432b_11eb_b584_0c5415878a06row6_col2\" class=\"data row6 col2\" >129</td>\n",
       "                        <td id=\"T_cb7c7d65_432b_11eb_b584_0c5415878a06row6_col3\" class=\"data row6 col3\" >0.224748</td>\n",
       "                        <td id=\"T_cb7c7d65_432b_11eb_b584_0c5415878a06row6_col4\" class=\"data row6 col4\" >0.264777</td>\n",
       "                        <td id=\"T_cb7c7d65_432b_11eb_b584_0c5415878a06row6_col5\" class=\"data row6 col5\" >0.243218</td>\n",
       "                        <td id=\"T_cb7c7d65_432b_11eb_b584_0c5415878a06row6_col6\" class=\"data row6 col6\" >0.090273</td>\n",
       "                        <td id=\"T_cb7c7d65_432b_11eb_b584_0c5415878a06row6_col7\" class=\"data row6 col7\" >1.025214</td>\n",
       "            </tr>\n",
       "            <tr>\n",
       "                                <td id=\"T_cb7c7d65_432b_11eb_b584_0c5415878a06row7_col0\" class=\"data row7 col0\" >8</td>\n",
       "                        <td id=\"T_cb7c7d65_432b_11eb_b584_0c5415878a06row7_col1\" class=\"data row7 col1\" >1451</td>\n",
       "                        <td id=\"T_cb7c7d65_432b_11eb_b584_0c5415878a06row7_col2\" class=\"data row7 col2\" >145</td>\n",
       "                        <td id=\"T_cb7c7d65_432b_11eb_b584_0c5415878a06row7_col3\" class=\"data row7 col3\" >0.264781</td>\n",
       "                        <td id=\"T_cb7c7d65_432b_11eb_b584_0c5415878a06row7_col4\" class=\"data row7 col4\" >0.313983</td>\n",
       "                        <td id=\"T_cb7c7d65_432b_11eb_b584_0c5415878a06row7_col5\" class=\"data row7 col5\" >0.287567</td>\n",
       "                        <td id=\"T_cb7c7d65_432b_11eb_b584_0c5415878a06row7_col6\" class=\"data row7 col6\" >0.099931</td>\n",
       "                        <td id=\"T_cb7c7d65_432b_11eb_b584_0c5415878a06row7_col7\" class=\"data row7 col7\" >1.134900</td>\n",
       "            </tr>\n",
       "            <tr>\n",
       "                                <td id=\"T_cb7c7d65_432b_11eb_b584_0c5415878a06row8_col0\" class=\"data row8 col0\" >9</td>\n",
       "                        <td id=\"T_cb7c7d65_432b_11eb_b584_0c5415878a06row8_col1\" class=\"data row8 col1\" >1409</td>\n",
       "                        <td id=\"T_cb7c7d65_432b_11eb_b584_0c5415878a06row8_col2\" class=\"data row8 col2\" >170</td>\n",
       "                        <td id=\"T_cb7c7d65_432b_11eb_b584_0c5415878a06row8_col3\" class=\"data row8 col3\" >0.314112</td>\n",
       "                        <td id=\"T_cb7c7d65_432b_11eb_b584_0c5415878a06row8_col4\" class=\"data row8 col4\" >0.391151</td>\n",
       "                        <td id=\"T_cb7c7d65_432b_11eb_b584_0c5415878a06row8_col5\" class=\"data row8 col5\" >0.348420</td>\n",
       "                        <td id=\"T_cb7c7d65_432b_11eb_b584_0c5415878a06row8_col6\" class=\"data row8 col6\" >0.120653</td>\n",
       "                        <td id=\"T_cb7c7d65_432b_11eb_b584_0c5415878a06row8_col7\" class=\"data row8 col7\" >1.370235</td>\n",
       "            </tr>\n",
       "            <tr>\n",
       "                                <td id=\"T_cb7c7d65_432b_11eb_b584_0c5415878a06row9_col0\" class=\"data row9 col0\" >10</td>\n",
       "                        <td id=\"T_cb7c7d65_432b_11eb_b584_0c5415878a06row9_col1\" class=\"data row9 col1\" >1431</td>\n",
       "                        <td id=\"T_cb7c7d65_432b_11eb_b584_0c5415878a06row9_col2\" class=\"data row9 col2\" >164</td>\n",
       "                        <td id=\"T_cb7c7d65_432b_11eb_b584_0c5415878a06row9_col3\" class=\"data row9 col3\" >0.391184</td>\n",
       "                        <td id=\"T_cb7c7d65_432b_11eb_b584_0c5415878a06row9_col4\" class=\"data row9 col4\" >0.672034</td>\n",
       "                        <td id=\"T_cb7c7d65_432b_11eb_b584_0c5415878a06row9_col5\" class=\"data row9 col5\" >0.474467</td>\n",
       "                        <td id=\"T_cb7c7d65_432b_11eb_b584_0c5415878a06row9_col6\" class=\"data row9 col6\" >0.114605</td>\n",
       "                        <td id=\"T_cb7c7d65_432b_11eb_b584_0c5415878a06row9_col7\" class=\"data row9 col7\" >1.301552</td>\n",
       "            </tr>\n",
       "    </tbody></table>"
      ],
      "text/plain": [
       "<pandas.io.formats.style.Styler at 0x1eb80039370>"
      ]
     },
     "execution_count": 68,
     "metadata": {},
     "output_type": "execute_result"
    }
   ],
   "source": [
    "# Decile Analysis\n",
    "\n",
    "readmit_proba = [i[1] for i in xgb_clf.predict_proba(X_test)]\n",
    "quant = pd.qcut(readmit_proba,10,labels=np.arange(1,11))\n",
    "prob = {'Quantile':quant,'# Readmitted':readmit_proba,'y':y_test}\n",
    "\n",
    "decile = pd.DataFrame(prob).sort_values('Quantile')\n",
    "dec1 = decile.groupby('Quantile')['# Readmitted'].agg(['count','min','max','mean']).reset_index()\n",
    "dec2 = decile.groupby(['Quantile','y']).count().reset_index()\n",
    "dec2 = dec2[dec2['y']==1]\n",
    "decile = pd.merge(dec2, dec1, how='inner',on ='Quantile').drop('y',1).\\\n",
    "        rename({'count':'Unique Patients', 'min':'Min Prob', 'mean':'Average Prob','max':'Max Prob'},axis=1)\n",
    "\n",
    "decile = decile[decile.columns[[0,2,1,3,4,5]]]\n",
    "decile['Percent Readmitted'] = decile['# Readmitted']/decile['Unique Patients']\n",
    "decile['Lift'] = decile['Percent Readmitted'].apply(lambda x:10*x/decile['Percent Readmitted'].sum())\n",
    "decile.style.hide_index()"
   ]
  },
  {
   "cell_type": "code",
   "execution_count": 69,
   "metadata": {},
   "outputs": [
    {
     "data": {
      "text/html": [
       "<div>\n",
       "<style scoped>\n",
       "    .dataframe tbody tr th:only-of-type {\n",
       "        vertical-align: middle;\n",
       "    }\n",
       "\n",
       "    .dataframe tbody tr th {\n",
       "        vertical-align: top;\n",
       "    }\n",
       "\n",
       "    .dataframe thead th {\n",
       "        text-align: right;\n",
       "    }\n",
       "</style>\n",
       "<table border=\"1\" class=\"dataframe\">\n",
       "  <thead>\n",
       "    <tr style=\"text-align: right;\">\n",
       "      <th></th>\n",
       "      <th>Unique Patients</th>\n",
       "      <th># Readmitted</th>\n",
       "      <th>Percent Readmitted</th>\n",
       "      <th>Lift</th>\n",
       "    </tr>\n",
       "  </thead>\n",
       "  <tbody>\n",
       "    <tr>\n",
       "      <th>Random Sampling</th>\n",
       "      <td>14303</td>\n",
       "      <td>1259</td>\n",
       "      <td>0.088023</td>\n",
       "      <td>NA</td>\n",
       "    </tr>\n",
       "    <tr>\n",
       "      <th>Top 2 Quantiles</th>\n",
       "      <td>2840</td>\n",
       "      <td>334</td>\n",
       "      <td>0.117606</td>\n",
       "      <td>1.33563</td>\n",
       "    </tr>\n",
       "  </tbody>\n",
       "</table>\n",
       "</div>"
      ],
      "text/plain": [
       "                 Unique Patients  # Readmitted  Percent Readmitted     Lift\n",
       "Random Sampling            14303          1259            0.088023       NA\n",
       "Top 2 Quantiles             2840           334            0.117606  1.33563"
      ]
     },
     "execution_count": 69,
     "metadata": {},
     "output_type": "execute_result"
    }
   ],
   "source": [
    "# Comparison between random sampling and the top 2 quantiles for readmission percentage\n",
    "\n",
    "tot_compdic = {'Unique Patients': [decile['Unique Patients'].sum(), decile['Unique Patients'][8] + decile['Unique Patients'][9]], \n",
    "               '# Readmitted': [decile['# Readmitted'].sum(), decile['# Readmitted'][8] + decile['# Readmitted'][9]]}\n",
    "\n",
    "tot_compdic['Percent Readmitted'] = [tot_compdic['# Readmitted'][0]/tot_compdic['Unique Patients'][0],\n",
    "                                     tot_compdic['# Readmitted'][1]/tot_compdic['Unique Patients'][1]]\n",
    "\n",
    "tot_compdic['Lift'] = ['NA', 10*tot_compdic['Percent Readmitted'][1]/decile['Percent Readmitted'].sum()]\n",
    "\n",
    "tot_compdf = pd.DataFrame(tot_compdic, index = ['Random Sampling','Top 2 Quantiles'])\n",
    "tot_compdf"
   ]
  },
  {
   "cell_type": "code",
   "execution_count": 70,
   "metadata": {},
   "outputs": [
    {
     "data": {
      "text/plain": [
       "Text(0, 0.5, 'Feature')"
      ]
     },
     "execution_count": 70,
     "metadata": {},
     "output_type": "execute_result"
    },
    {
     "data": {
      "image/png": "[encoded data removed]",
      "text/plain": [
       "<Figure size 576x396 with 1 Axes>"
      ]
     },
     "metadata": {},
     "output_type": "display_data"
    }
   ],
   "source": [
    "# Graphing the Most Important Features\n",
    "\n",
    "feature_names = X_train_smo.columns\n",
    "feature_imports = xgb_clf.feature_importances_\n",
    "most_imp_features = pd.DataFrame([f for f in zip(feature_names,feature_imports)], columns=[\"Feature\", \"Importance\"]).nlargest(15, \"Importance\")\n",
    "most_imp_features.sort_values(by=\"Importance\", inplace=True, ascending= False)\n",
    "\n",
    "plt.figure()\n",
    "sns.barplot(x = most_imp_features['Importance'], y = most_imp_features['Feature'], palette = 'binary_r')\n",
    "sns.set_style('whitegrid')\n",
    "plt.title('Feature Importance: XGBoost (Oversampling)')\n",
    "plt.xlabel('Feature Importance')\n",
    "plt.ylabel('Feature')"
   ]
  },
  {
   "cell_type": "markdown",
   "metadata": {},
   "source": [
    "# Balancing: Undersampling"
   ]
  },
  {
   "cell_type": "code",
   "execution_count": 71,
   "metadata": {},
   "outputs": [
    {
     "name": "stdout",
     "output_type": "stream",
     "text": [
      "1    5034\n",
      "0    5034\n",
      "Name: readmitted, dtype: int64\n"
     ]
    }
   ],
   "source": [
    "# Combine training\n",
    "\n",
    "X_down = pd.concat([X_train, y_train], axis=1)\n",
    "\n",
    "# Separate Minority and Majority\n",
    "\n",
    "not_readmitted = X_down[X_down.readmitted==0]\n",
    "readmitted = X_down[X_down.readmitted==1]\n",
    "\n",
    "# Downsample Majority Class\n",
    "\n",
    "not_readmit_downsampled = resample(not_readmitted,\n",
    "                                     replace = False, # sample without replacement\n",
    "                                     n_samples = int(1*len(readmitted)), # match minority n\n",
    "                                     random_state = 1) # reproducible results\n",
    "\n",
    "# Combine Minority and Downsampled Majority\n",
    "\n",
    "downsampled = pd.concat([not_readmit_downsampled, readmitted])\n",
    "\n",
    "# Check counts\n",
    "\n",
    "print(downsampled.readmitted.value_counts())\n",
    "\n",
    "y_train_down = downsampled['readmitted']\n",
    "x_train_down = downsampled.drop('readmitted',1)"
   ]
  },
  {
   "cell_type": "markdown",
   "metadata": {},
   "source": [
    "# Final Model"
   ]
  },
  {
   "cell_type": "markdown",
   "metadata": {},
   "source": [
    "### XGBoost (Undersampled)"
   ]
  },
  {
   "cell_type": "code",
   "execution_count": 72,
   "metadata": {},
   "outputs": [
    {
     "name": "stdout",
     "output_type": "stream",
     "text": [
      "[18:28:18] WARNING: C:/Users/Administrator/workspace/xgboost-win64_release_1.3.0/src/learner.cc:1061: Starting in XGBoost 1.3.0, the default evaluation metric used with the objective 'binary:logistic' was changed from 'error' to 'logloss'. Explicitly set eval_metric if you'd like to restore the old behavior.\n"
     ]
    }
   ],
   "source": [
    "# Different objective parameter set seems to increase accuracy & percsion with minimal AUC loss\n",
    "\n",
    "xgb_clf2 = xgb.XGBClassifier(objective='binary:logistic', n_estimators=100, seed=123, eta=0.1 , eval_metric=auc)\n",
    "xgb_clf2.fit(x_train_down, y_train_down)\n",
    "Yxgb2 = xgb_clf.predict(X_test)"
   ]
  },
  {
   "cell_type": "code",
   "execution_count": 74,
   "metadata": {},
   "outputs": [
    {
     "name": "stdout",
     "output_type": "stream",
     "text": [
      "XGBoost\n",
      "Training:\n",
      "AUC:0.808\n",
      "accuracy:0.590\n",
      "recall:0.187\n",
      "precision:0.959\n",
      "specificity:0.992\n",
      "prevalence:0.500\n",
      " \n",
      "Test:\n",
      "AUC:0.612\n",
      "accuracy:0.872\n",
      "recall:0.115\n",
      "precision:0.169\n",
      "specificity:0.945\n",
      "prevalence:0.088\n",
      " \n"
     ]
    }
   ],
   "source": [
    "# Assessing Model Performance\n",
    "\n",
    "y_train_preds = xgb_clf2.predict_proba(x_train_down)[:,1]\n",
    "y_test_preds = xgb_clf2.predict_proba(X_test)[:,1]\n",
    "\n",
    "print('XGBoost')\n",
    "print('Training:')\n",
    "rf_train_auc, rf_train_accuracy, rf_train_recall, rf_train_precision, rf_train_specificity =print_report(y_train_down,y_train_preds, thresh)\n",
    "print('Test:')\n",
    "rf_valid_auc, rf_valid_accuracy, rf_valid_recall, rf_valid_precision, rf_valid_specificity = print_report(y_test,y_test_preds, thresh)"
   ]
  },
  {
   "cell_type": "code",
   "execution_count": 75,
   "metadata": {},
   "outputs": [
    {
     "name": "stdout",
     "output_type": "stream",
     "text": [
      "              precision    recall  f1-score   support\n",
      "\n",
      "          NO       0.91      0.97      0.94     13044\n",
      "         YES       0.10      0.03      0.05      1259\n",
      "\n",
      "    accuracy                           0.89     14303\n",
      "   macro avg       0.50      0.50      0.50     14303\n",
      "weighted avg       0.84      0.89      0.86     14303\n",
      "\n"
     ]
    }
   ],
   "source": [
    "# Checking the Summary of Classification\n",
    "\n",
    "print(classification_report(y_test, Yxgb2, target_names = ['NO', 'YES']))"
   ]
  },
  {
   "cell_type": "code",
   "execution_count": 76,
   "metadata": {},
   "outputs": [
    {
     "data": {
      "text/plain": [
       "Text(0.5, 1.0, 'Accuracy Score: 0.5988953366426624')"
      ]
     },
     "execution_count": 76,
     "metadata": {},
     "output_type": "execute_result"
    },
    {
     "data": {
      "image/png": "[encoded data removed]",
      "text/plain": [
       "<Figure size 576x576 with 2 Axes>"
      ]
     },
     "metadata": {},
     "output_type": "display_data"
    }
   ],
   "source": [
    "# Graphical Confusion Matrix\n",
    "\n",
    "plt.figure(figsize=(8,8))\n",
    "sns.heatmap(confusion_matrix(y_test, Yxgb2), annot=True, fmt=\".3f\", linewidths=.5, square = True, cmap = 'gray_r');\n",
    "plt.ylabel('Actual label');\n",
    "plt.xlabel('Predicted label');\n",
    "all_sample_title = 'Accuracy Score: {0}'.format(xgb_clf2.score(X_test, y_test))\n",
    "plt.title(all_sample_title, size = 15)"
   ]
  },
  {
   "cell_type": "code",
   "execution_count": 77,
   "metadata": {},
   "outputs": [
    {
     "data": {
      "image/png": "[encoded data removed]",
      "text/plain": [
       "<Figure size 576x576 with 1 Axes>"
      ]
     },
     "metadata": {},
     "output_type": "display_data"
    }
   ],
   "source": [
    "# ROC Curve\n",
    "\n",
    "probs = xgb_clf2.predict_proba(X_test)\n",
    "preds = probs[:,1]\n",
    "fpr, tpr, threshold = roc_curve(y_test, preds)\n",
    "roc_auc = auc(fpr, tpr)\n",
    "    \n",
    "plt.figure(figsize = (8,8))\n",
    "plt.plot(fpr, tpr, color = 'black', lw = 2, label = 'ROC curve')\n",
    "plt.legend(loc = 'lower right')\n",
    "plt.plot([0,1],[0,1], color='red', lw = 2, linestyle = '--')\n",
    "plt.xlim([0,1])\n",
    "plt.ylim([0,1])\n",
    "plt.ylabel(\"True Positive Rate\")\n",
    "plt.xlabel(\"False Positive Rate\")\n",
    "plt.title(\"ROC Curve\")\n",
    "plt.show()"
   ]
  },
  {
   "cell_type": "code",
   "execution_count": 79,
   "metadata": {},
   "outputs": [
    {
     "data": {
      "text/html": [
       "<style  type=\"text/css\" >\n",
       "</style><table id=\"T_d43768ad_432b_11eb_8aa5_0c5415878a06\" ><thead>    <tr>        <th class=\"col_heading level0 col0\" >Quantile</th>        <th class=\"col_heading level0 col1\" >Unique Patients</th>        <th class=\"col_heading level0 col2\" ># Readmitted</th>        <th class=\"col_heading level0 col3\" >Min Prob</th>        <th class=\"col_heading level0 col4\" >Max Prob</th>        <th class=\"col_heading level0 col5\" >Average Prob</th>        <th class=\"col_heading level0 col6\" >Percent Readmitted</th>        <th class=\"col_heading level0 col7\" >Lift</th>    </tr></thead><tbody>\n",
       "                <tr>\n",
       "                                <td id=\"T_d43768ad_432b_11eb_8aa5_0c5415878a06row0_col0\" class=\"data row0 col0\" >1</td>\n",
       "                        <td id=\"T_d43768ad_432b_11eb_8aa5_0c5415878a06row0_col1\" class=\"data row0 col1\" >1431</td>\n",
       "                        <td id=\"T_d43768ad_432b_11eb_8aa5_0c5415878a06row0_col2\" class=\"data row0 col2\" >75</td>\n",
       "                        <td id=\"T_d43768ad_432b_11eb_8aa5_0c5415878a06row0_col3\" class=\"data row0 col3\" >0.056347</td>\n",
       "                        <td id=\"T_d43768ad_432b_11eb_8aa5_0c5415878a06row0_col4\" class=\"data row0 col4\" >0.314022</td>\n",
       "                        <td id=\"T_d43768ad_432b_11eb_8aa5_0c5415878a06row0_col5\" class=\"data row0 col5\" >0.259760</td>\n",
       "                        <td id=\"T_d43768ad_432b_11eb_8aa5_0c5415878a06row0_col6\" class=\"data row0 col6\" >0.052411</td>\n",
       "                        <td id=\"T_d43768ad_432b_11eb_8aa5_0c5415878a06row0_col7\" class=\"data row0 col7\" >0.595426</td>\n",
       "            </tr>\n",
       "            <tr>\n",
       "                                <td id=\"T_d43768ad_432b_11eb_8aa5_0c5415878a06row1_col0\" class=\"data row1 col0\" >2</td>\n",
       "                        <td id=\"T_d43768ad_432b_11eb_8aa5_0c5415878a06row1_col1\" class=\"data row1 col1\" >1430</td>\n",
       "                        <td id=\"T_d43768ad_432b_11eb_8aa5_0c5415878a06row1_col2\" class=\"data row1 col2\" >76</td>\n",
       "                        <td id=\"T_d43768ad_432b_11eb_8aa5_0c5415878a06row1_col3\" class=\"data row1 col3\" >0.314026</td>\n",
       "                        <td id=\"T_d43768ad_432b_11eb_8aa5_0c5415878a06row1_col4\" class=\"data row1 col4\" >0.362648</td>\n",
       "                        <td id=\"T_d43768ad_432b_11eb_8aa5_0c5415878a06row1_col5\" class=\"data row1 col5\" >0.341074</td>\n",
       "                        <td id=\"T_d43768ad_432b_11eb_8aa5_0c5415878a06row1_col6\" class=\"data row1 col6\" >0.053147</td>\n",
       "                        <td id=\"T_d43768ad_432b_11eb_8aa5_0c5415878a06row1_col7\" class=\"data row1 col7\" >0.603787</td>\n",
       "            </tr>\n",
       "            <tr>\n",
       "                                <td id=\"T_d43768ad_432b_11eb_8aa5_0c5415878a06row2_col0\" class=\"data row2 col0\" >3</td>\n",
       "                        <td id=\"T_d43768ad_432b_11eb_8aa5_0c5415878a06row2_col1\" class=\"data row2 col1\" >1430</td>\n",
       "                        <td id=\"T_d43768ad_432b_11eb_8aa5_0c5415878a06row2_col2\" class=\"data row2 col2\" >86</td>\n",
       "                        <td id=\"T_d43768ad_432b_11eb_8aa5_0c5415878a06row2_col3\" class=\"data row2 col3\" >0.362651</td>\n",
       "                        <td id=\"T_d43768ad_432b_11eb_8aa5_0c5415878a06row2_col4\" class=\"data row2 col4\" >0.394911</td>\n",
       "                        <td id=\"T_d43768ad_432b_11eb_8aa5_0c5415878a06row2_col5\" class=\"data row2 col5\" >0.379262</td>\n",
       "                        <td id=\"T_d43768ad_432b_11eb_8aa5_0c5415878a06row2_col6\" class=\"data row2 col6\" >0.060140</td>\n",
       "                        <td id=\"T_d43768ad_432b_11eb_8aa5_0c5415878a06row2_col7\" class=\"data row2 col7\" >0.683232</td>\n",
       "            </tr>\n",
       "            <tr>\n",
       "                                <td id=\"T_d43768ad_432b_11eb_8aa5_0c5415878a06row3_col0\" class=\"data row3 col0\" >4</td>\n",
       "                        <td id=\"T_d43768ad_432b_11eb_8aa5_0c5415878a06row3_col1\" class=\"data row3 col1\" >1430</td>\n",
       "                        <td id=\"T_d43768ad_432b_11eb_8aa5_0c5415878a06row3_col2\" class=\"data row3 col2\" >103</td>\n",
       "                        <td id=\"T_d43768ad_432b_11eb_8aa5_0c5415878a06row3_col3\" class=\"data row3 col3\" >0.394944</td>\n",
       "                        <td id=\"T_d43768ad_432b_11eb_8aa5_0c5415878a06row3_col4\" class=\"data row3 col4\" >0.425795</td>\n",
       "                        <td id=\"T_d43768ad_432b_11eb_8aa5_0c5415878a06row3_col5\" class=\"data row3 col5\" >0.409482</td>\n",
       "                        <td id=\"T_d43768ad_432b_11eb_8aa5_0c5415878a06row3_col6\" class=\"data row3 col6\" >0.072028</td>\n",
       "                        <td id=\"T_d43768ad_432b_11eb_8aa5_0c5415878a06row3_col7\" class=\"data row3 col7\" >0.818290</td>\n",
       "            </tr>\n",
       "            <tr>\n",
       "                                <td id=\"T_d43768ad_432b_11eb_8aa5_0c5415878a06row4_col0\" class=\"data row4 col0\" >5</td>\n",
       "                        <td id=\"T_d43768ad_432b_11eb_8aa5_0c5415878a06row4_col1\" class=\"data row4 col1\" >1431</td>\n",
       "                        <td id=\"T_d43768ad_432b_11eb_8aa5_0c5415878a06row4_col2\" class=\"data row4 col2\" >95</td>\n",
       "                        <td id=\"T_d43768ad_432b_11eb_8aa5_0c5415878a06row4_col3\" class=\"data row4 col3\" >0.425796</td>\n",
       "                        <td id=\"T_d43768ad_432b_11eb_8aa5_0c5415878a06row4_col4\" class=\"data row4 col4\" >0.462820</td>\n",
       "                        <td id=\"T_d43768ad_432b_11eb_8aa5_0c5415878a06row4_col5\" class=\"data row4 col5\" >0.443716</td>\n",
       "                        <td id=\"T_d43768ad_432b_11eb_8aa5_0c5415878a06row4_col6\" class=\"data row4 col6\" >0.066387</td>\n",
       "                        <td id=\"T_d43768ad_432b_11eb_8aa5_0c5415878a06row4_col7\" class=\"data row4 col7\" >0.754206</td>\n",
       "            </tr>\n",
       "            <tr>\n",
       "                                <td id=\"T_d43768ad_432b_11eb_8aa5_0c5415878a06row5_col0\" class=\"data row5 col0\" >6</td>\n",
       "                        <td id=\"T_d43768ad_432b_11eb_8aa5_0c5415878a06row5_col1\" class=\"data row5 col1\" >1430</td>\n",
       "                        <td id=\"T_d43768ad_432b_11eb_8aa5_0c5415878a06row5_col2\" class=\"data row5 col2\" >128</td>\n",
       "                        <td id=\"T_d43768ad_432b_11eb_8aa5_0c5415878a06row5_col3\" class=\"data row5 col3\" >0.462839</td>\n",
       "                        <td id=\"T_d43768ad_432b_11eb_8aa5_0c5415878a06row5_col4\" class=\"data row5 col4\" >0.506058</td>\n",
       "                        <td id=\"T_d43768ad_432b_11eb_8aa5_0c5415878a06row5_col5\" class=\"data row5 col5\" >0.483907</td>\n",
       "                        <td id=\"T_d43768ad_432b_11eb_8aa5_0c5415878a06row5_col6\" class=\"data row5 col6\" >0.089510</td>\n",
       "                        <td id=\"T_d43768ad_432b_11eb_8aa5_0c5415878a06row5_col7\" class=\"data row5 col7\" >1.016904</td>\n",
       "            </tr>\n",
       "            <tr>\n",
       "                                <td id=\"T_d43768ad_432b_11eb_8aa5_0c5415878a06row6_col0\" class=\"data row6 col0\" >7</td>\n",
       "                        <td id=\"T_d43768ad_432b_11eb_8aa5_0c5415878a06row6_col1\" class=\"data row6 col1\" >1430</td>\n",
       "                        <td id=\"T_d43768ad_432b_11eb_8aa5_0c5415878a06row6_col2\" class=\"data row6 col2\" >139</td>\n",
       "                        <td id=\"T_d43768ad_432b_11eb_8aa5_0c5415878a06row6_col3\" class=\"data row6 col3\" >0.506066</td>\n",
       "                        <td id=\"T_d43768ad_432b_11eb_8aa5_0c5415878a06row6_col4\" class=\"data row6 col4\" >0.550746</td>\n",
       "                        <td id=\"T_d43768ad_432b_11eb_8aa5_0c5415878a06row6_col5\" class=\"data row6 col5\" >0.528558</td>\n",
       "                        <td id=\"T_d43768ad_432b_11eb_8aa5_0c5415878a06row6_col6\" class=\"data row6 col6\" >0.097203</td>\n",
       "                        <td id=\"T_d43768ad_432b_11eb_8aa5_0c5415878a06row6_col7\" class=\"data row6 col7\" >1.104294</td>\n",
       "            </tr>\n",
       "            <tr>\n",
       "                                <td id=\"T_d43768ad_432b_11eb_8aa5_0c5415878a06row7_col0\" class=\"data row7 col0\" >8</td>\n",
       "                        <td id=\"T_d43768ad_432b_11eb_8aa5_0c5415878a06row7_col1\" class=\"data row7 col1\" >1430</td>\n",
       "                        <td id=\"T_d43768ad_432b_11eb_8aa5_0c5415878a06row7_col2\" class=\"data row7 col2\" >167</td>\n",
       "                        <td id=\"T_d43768ad_432b_11eb_8aa5_0c5415878a06row7_col3\" class=\"data row7 col3\" >0.550765</td>\n",
       "                        <td id=\"T_d43768ad_432b_11eb_8aa5_0c5415878a06row7_col4\" class=\"data row7 col4\" >0.595277</td>\n",
       "                        <td id=\"T_d43768ad_432b_11eb_8aa5_0c5415878a06row7_col5\" class=\"data row7 col5\" >0.572273</td>\n",
       "                        <td id=\"T_d43768ad_432b_11eb_8aa5_0c5415878a06row7_col6\" class=\"data row7 col6\" >0.116783</td>\n",
       "                        <td id=\"T_d43768ad_432b_11eb_8aa5_0c5415878a06row7_col7\" class=\"data row7 col7\" >1.326742</td>\n",
       "            </tr>\n",
       "            <tr>\n",
       "                                <td id=\"T_d43768ad_432b_11eb_8aa5_0c5415878a06row8_col0\" class=\"data row8 col0\" >9</td>\n",
       "                        <td id=\"T_d43768ad_432b_11eb_8aa5_0c5415878a06row8_col1\" class=\"data row8 col1\" >1430</td>\n",
       "                        <td id=\"T_d43768ad_432b_11eb_8aa5_0c5415878a06row8_col2\" class=\"data row8 col2\" >163</td>\n",
       "                        <td id=\"T_d43768ad_432b_11eb_8aa5_0c5415878a06row8_col3\" class=\"data row8 col3\" >0.595284</td>\n",
       "                        <td id=\"T_d43768ad_432b_11eb_8aa5_0c5415878a06row8_col4\" class=\"data row8 col4\" >0.659756</td>\n",
       "                        <td id=\"T_d43768ad_432b_11eb_8aa5_0c5415878a06row8_col5\" class=\"data row8 col5\" >0.624838</td>\n",
       "                        <td id=\"T_d43768ad_432b_11eb_8aa5_0c5415878a06row8_col6\" class=\"data row8 col6\" >0.113986</td>\n",
       "                        <td id=\"T_d43768ad_432b_11eb_8aa5_0c5415878a06row8_col7\" class=\"data row8 col7\" >1.294964</td>\n",
       "            </tr>\n",
       "            <tr>\n",
       "                                <td id=\"T_d43768ad_432b_11eb_8aa5_0c5415878a06row9_col0\" class=\"data row9 col0\" >10</td>\n",
       "                        <td id=\"T_d43768ad_432b_11eb_8aa5_0c5415878a06row9_col1\" class=\"data row9 col1\" >1431</td>\n",
       "                        <td id=\"T_d43768ad_432b_11eb_8aa5_0c5415878a06row9_col2\" class=\"data row9 col2\" >227</td>\n",
       "                        <td id=\"T_d43768ad_432b_11eb_8aa5_0c5415878a06row9_col3\" class=\"data row9 col3\" >0.659772</td>\n",
       "                        <td id=\"T_d43768ad_432b_11eb_8aa5_0c5415878a06row9_col4\" class=\"data row9 col4\" >0.955043</td>\n",
       "                        <td id=\"T_d43768ad_432b_11eb_8aa5_0c5415878a06row9_col5\" class=\"data row9 col5\" >0.729307</td>\n",
       "                        <td id=\"T_d43768ad_432b_11eb_8aa5_0c5415878a06row9_col6\" class=\"data row9 col6\" >0.158630</td>\n",
       "                        <td id=\"T_d43768ad_432b_11eb_8aa5_0c5415878a06row9_col7\" class=\"data row9 col7\" >1.802155</td>\n",
       "            </tr>\n",
       "    </tbody></table>"
      ],
      "text/plain": [
       "<pandas.io.formats.style.Styler at 0x1eb801f78b0>"
      ]
     },
     "execution_count": 79,
     "metadata": {},
     "output_type": "execute_result"
    }
   ],
   "source": [
    "# Decile Analysis\n",
    "\n",
    "readmit_proba = [i[1] for i in xgb_clf2.predict_proba(X_test)]\n",
    "quant = pd.qcut(readmit_proba,10,labels=np.arange(1,11))\n",
    "prob = {'Quantile':quant,'# Readmitted':readmit_proba,'y':y_test}\n",
    "\n",
    "decile = pd.DataFrame(prob).sort_values('Quantile')\n",
    "dec1 = decile.groupby('Quantile')['# Readmitted'].agg(['count','min','max','mean']).reset_index()\n",
    "dec2 = decile.groupby(['Quantile','y']).count().reset_index()\n",
    "dec2 = dec2[dec2['y']==1]\n",
    "decile = pd.merge(dec2, dec1, how='inner',on ='Quantile').drop('y',1).\\\n",
    "        rename({'count':'Unique Patients', 'min':'Min Prob', 'mean':'Average Prob','max':'Max Prob'},axis=1)\n",
    "\n",
    "decile = decile[decile.columns[[0,2,1,3,4,5]]]\n",
    "decile['Percent Readmitted'] = decile['# Readmitted']/decile['Unique Patients']\n",
    "decile['Lift'] = decile['Percent Readmitted'].apply(lambda x:10*x/decile['Percent Readmitted'].sum())\n",
    "decile.style.hide_index()"
   ]
  },
  {
   "cell_type": "code",
   "execution_count": 80,
   "metadata": {},
   "outputs": [
    {
     "data": {
      "text/html": [
       "<div>\n",
       "<style scoped>\n",
       "    .dataframe tbody tr th:only-of-type {\n",
       "        vertical-align: middle;\n",
       "    }\n",
       "\n",
       "    .dataframe tbody tr th {\n",
       "        vertical-align: top;\n",
       "    }\n",
       "\n",
       "    .dataframe thead th {\n",
       "        text-align: right;\n",
       "    }\n",
       "</style>\n",
       "<table border=\"1\" class=\"dataframe\">\n",
       "  <thead>\n",
       "    <tr style=\"text-align: right;\">\n",
       "      <th></th>\n",
       "      <th>Unique Patients</th>\n",
       "      <th># Readmitted</th>\n",
       "      <th>Percent Readmitted</th>\n",
       "      <th>Lift</th>\n",
       "    </tr>\n",
       "  </thead>\n",
       "  <tbody>\n",
       "    <tr>\n",
       "      <th>Random Sampling</th>\n",
       "      <td>14303</td>\n",
       "      <td>1259</td>\n",
       "      <td>0.088023</td>\n",
       "      <td>NA</td>\n",
       "    </tr>\n",
       "    <tr>\n",
       "      <th>Top 2 Quantiles</th>\n",
       "      <td>2861</td>\n",
       "      <td>390</td>\n",
       "      <td>0.136316</td>\n",
       "      <td>1.54865</td>\n",
       "    </tr>\n",
       "  </tbody>\n",
       "</table>\n",
       "</div>"
      ],
      "text/plain": [
       "                 Unique Patients  # Readmitted  Percent Readmitted     Lift\n",
       "Random Sampling            14303          1259            0.088023       NA\n",
       "Top 2 Quantiles             2861           390            0.136316  1.54865"
      ]
     },
     "execution_count": 80,
     "metadata": {},
     "output_type": "execute_result"
    }
   ],
   "source": [
    "# Comparison between random sampling and the top 2 quantiles for readmission percentage\n",
    "\n",
    "tot_compdic = {'Unique Patients': [decile['Unique Patients'].sum(), decile['Unique Patients'][8] + decile['Unique Patients'][9]], \n",
    "               '# Readmitted': [decile['# Readmitted'].sum(), decile['# Readmitted'][8] + decile['# Readmitted'][9]]}\n",
    "\n",
    "tot_compdic['Percent Readmitted'] = [tot_compdic['# Readmitted'][0]/tot_compdic['Unique Patients'][0],\n",
    "                                     tot_compdic['# Readmitted'][1]/tot_compdic['Unique Patients'][1]]\n",
    "\n",
    "tot_compdic['Lift'] = ['NA', 10*tot_compdic['Percent Readmitted'][1]/decile['Percent Readmitted'].sum()]\n",
    "\n",
    "tot_compdf = pd.DataFrame(tot_compdic, index = ['Random Sampling','Top 2 Quantiles'])\n",
    "tot_compdf"
   ]
  },
  {
   "cell_type": "code",
   "execution_count": 81,
   "metadata": {},
   "outputs": [
    {
     "data": {
      "text/plain": [
       "Text(0, 0.5, 'Feature')"
      ]
     },
     "execution_count": 81,
     "metadata": {},
     "output_type": "execute_result"
    },
    {
     "data": {
      "image/png": "[encoded data removed]",
      "text/plain": [
       "<Figure size 576x396 with 1 Axes>"
      ]
     },
     "metadata": {},
     "output_type": "display_data"
    }
   ],
   "source": [
    "# Graphing the Most Important Features\n",
    "\n",
    "feature_names = x_train_down.columns\n",
    "feature_imports = xgb_clf2.feature_importances_\n",
    "most_imp_features = pd.DataFrame([f for f in zip(feature_names,feature_imports)], columns=[\"Feature\", \"Importance\"]).nlargest(15, \"Importance\")\n",
    "most_imp_features.sort_values(by=\"Importance\", inplace=True, ascending= False)\n",
    "\n",
    "plt.figure()\n",
    "sns.barplot(x = most_imp_features['Importance'], y = most_imp_features['Feature'], palette = 'binary_r')\n",
    "sns.set_style('whitegrid')\n",
    "plt.title('Feature Importance: XGBoost (Undersampling)')\n",
    "plt.xlabel('Feature Importance')\n",
    "plt.ylabel('Feature')"
   ]
  }
 ],
 "metadata": {
  "kernelspec": {
   "display_name": "Python 3",
   "language": "python",
   "name": "python3"
  },
  "language_info": {
   "codemirror_mode": {
    "name": "ipython",
    "version": 3
   },
   "file_extension": ".py",
   "mimetype": "text/x-python",
   "name": "python",
   "nbconvert_exporter": "python",
   "pygments_lexer": "ipython3",
   "version": "3.8.3"
  }
 },
 "nbformat": 4,
 "nbformat_minor": 4
}
