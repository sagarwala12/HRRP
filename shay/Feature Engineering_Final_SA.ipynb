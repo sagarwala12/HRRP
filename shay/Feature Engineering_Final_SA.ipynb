{
 "cells": [
  {
   "cell_type": "code",
   "execution_count": 1,
   "metadata": {},
   "outputs": [],
   "source": [
    "# Libraries to load\n",
    "import pandas as pd\n",
    "import numpy as np \n",
    "from scipy import stats\n",
    "from sklearn.svm import SVC\n",
    "from sklearn.metrics import confusion_matrix\n",
    "from sklearn.model_selection import train_test_split\n",
    "from sklearn.linear_model import LogisticRegression\n",
    "from sklearn.preprocessing import StandardScaler\n",
    "\n",
    "# data visualization packages \n",
    "import matplotlib.pyplot as plt\n",
    "%matplotlib inline\n",
    "plt.style.use('seaborn')\n",
    "import seaborn as sns\n",
    "pd.set_option('max_columns', None)\n",
    "import pandas_profiling\n",
    "\n",
    "# machine learning packages (sklearn + xgboost)\n",
    "from sklearn.model_selection import train_test_split, GridSearchCV, RandomizedSearchCV, cross_val_score\n",
    "from sklearn.preprocessing import StandardScaler\n",
    "from sklearn.metrics import confusion_matrix, classification_report, roc_curve, auc\n",
    "from sklearn.ensemble import RandomForestClassifier, BaggingClassifier, VotingClassifier\n",
    "from sklearn.linear_model import LogisticRegression\n",
    "from sklearn.tree import DecisionTreeClassifier\n",
    "from sklearn.feature_selection import RFECV, RFE\n",
    "import xgboost as xgb\n",
    "\n",
    "from warnings import filterwarnings\n",
    "filterwarnings('ignore')\n",
    "np.random.seed(123)"
   ]
  },
  {
   "cell_type": "code",
   "execution_count": 2,
   "metadata": {},
   "outputs": [],
   "source": [
    "# Load DF\n",
    "df = pd.read_csv('./data/cleaned_df.csv')"
   ]
  },
  {
   "cell_type": "code",
   "execution_count": 3,
   "metadata": {},
   "outputs": [],
   "source": [
    "# Format Readmitted\n",
    "df['readmitted'] = df.readmitted.map({'No':0,'Yes':1})"
   ]
  },
  {
   "cell_type": "markdown",
   "metadata": {},
   "source": [
    "# Dropping Features"
   ]
  },
  {
   "cell_type": "code",
   "execution_count": 4,
   "metadata": {},
   "outputs": [],
   "source": [
    "#shortest drop list - no patients take these medications\n",
    "df = df.drop(columns = [\"examide\", \"citoglipton\"])"
   ]
  },
  {
   "cell_type": "markdown",
   "metadata": {},
   "source": [
    "# Feature Engineering"
   ]
  },
  {
   "cell_type": "code",
   "execution_count": 5,
   "metadata": {},
   "outputs": [],
   "source": [
    "# Group admission type by Emergency (Emergency, Trauma Center, and Urgent), Elective, and Other\n",
    "\n",
    "def modadtype(series):\n",
    "    \n",
    "    def newcat(x):\n",
    "        if x == 1 or x == 2 or x == 7: return \"Emergency\"\n",
    "        elif x == 3: return \"Elective\"\n",
    "        else: return \"Other\"\n",
    "        \n",
    "    return series.apply(newcat)\n",
    "\n",
    "df.admission_type_id = modadtype(df.admission_type_id)"
   ]
  },
  {
   "cell_type": "code",
   "execution_count": 6,
   "metadata": {},
   "outputs": [],
   "source": [
    "# Group admission source by Referral, Emergency, and Other\n",
    "\n",
    "def modadsourc(series):\n",
    "    \n",
    "    def newcat(x):\n",
    "        if x == 1 or x == 2 or x == 3: return \"Referral\"\n",
    "        elif x == 7: return \"Emergency\"\n",
    "        else: return \"Other\"\n",
    "        \n",
    "    return series.apply(newcat)\n",
    "\n",
    "df.admission_source_id = modadsourc(df.admission_source_id)"
   ]
  },
  {
   "cell_type": "code",
   "execution_count": 7,
   "metadata": {},
   "outputs": [],
   "source": [
    "## Group discharge dispo by Home or Not_Home discharge\n",
    "\n",
    "def moddisch(series):\n",
    "    \n",
    "    def home(x):\n",
    "        if x == 1: return \"Home\"\n",
    "        else: return \"Not_Home\"\n",
    "    \n",
    "    return series.apply(home)\n",
    "\n",
    "df.discharge_disposition_id = moddisch(df.discharge_disposition_id)\n",
    "\n",
    "## Other method - Remove Expired or Hospice-bound Patients\n",
    "\n",
    "#remove only hospice bound and expired\n",
    "# df = df.loc[~df.discharge_disposition_id.isin([11,13,14,19,20,21])]"
   ]
  },
  {
   "cell_type": "code",
   "execution_count": 8,
   "metadata": {},
   "outputs": [],
   "source": [
    "# Change medication to binary take vs not take - play with post model creation\n",
    "#for med in medication:\n",
    "    #df[med] = df[med].map({'Up':1, 'Down':1, 'Steady':1, 'No':0})\n",
    "\n",
    "\n",
    "# medication = ['metformin', 'repaglinide', 'nateglinide', 'chlorpropamide',\n",
    "#        'glimepiride', 'acetohexamide', 'glipizide', 'glyburide', 'tolbutamide',\n",
    "#        'pioglitazone', 'rosiglitazone', 'acarbose', 'miglitol', 'troglitazone',\n",
    "#        'tolazamide', 'insulin',\n",
    "#        'glyburide-metformin', 'glipizide-metformin',\n",
    "#        'glimepiride-pioglitazone', 'metformin-rosiglitazone',\n",
    "#        'metformin-pioglitazone']"
   ]
  },
  {
   "cell_type": "code",
   "execution_count": 9,
   "metadata": {},
   "outputs": [],
   "source": [
    "# Group age by most common categories\n",
    "age_id = {'[0-10)':'30 or Under', \n",
    "          '[10-20)':'30 or Under', \n",
    "          '[20-30)':'30 or Under', \n",
    "          '[30-40)':'30 to 60', \n",
    "          '[40-50)':'30 to 60', \n",
    "          '[50-60)':'30 to 60',\n",
    "          '[60-70)':'30 to 60', \n",
    "          '[70-80)':'Over 60', \n",
    "          '[80-90)':'Over 60', \n",
    "          '[90-100)':'Over 60'}\n",
    "df['age'] = df.age.replace(age_id)"
   ]
  },
  {
   "cell_type": "code",
   "execution_count": 10,
   "metadata": {},
   "outputs": [],
   "source": [
    "# Group race by most common categories\n",
    "race_id = {'Caucasian':'Caucasian', \n",
    "          'AfricanAmerican':'AfricanAmerican', \n",
    "          'Other':'Other', \n",
    "          'Asian':'Other', \n",
    "          'Hispanic':'Other', \n",
    "          'unknown':'Missing',}\n",
    "df['race'] = df.race.replace(race_id)"
   ]
  },
  {
   "cell_type": "code",
   "execution_count": 11,
   "metadata": {},
   "outputs": [
    {
     "data": {
      "text/html": [
       "<div>\n",
       "<style scoped>\n",
       "    .dataframe tbody tr th:only-of-type {\n",
       "        vertical-align: middle;\n",
       "    }\n",
       "\n",
       "    .dataframe tbody tr th {\n",
       "        vertical-align: top;\n",
       "    }\n",
       "\n",
       "    .dataframe thead th {\n",
       "        text-align: right;\n",
       "    }\n",
       "</style>\n",
       "<table border=\"1\" class=\"dataframe\">\n",
       "  <thead>\n",
       "    <tr style=\"text-align: right;\">\n",
       "      <th></th>\n",
       "      <th>race</th>\n",
       "      <th>gender</th>\n",
       "      <th>age</th>\n",
       "      <th>admission_type_id</th>\n",
       "      <th>discharge_disposition_id</th>\n",
       "      <th>admission_source_id</th>\n",
       "      <th>time_in_hospital</th>\n",
       "      <th>num_lab_procedures</th>\n",
       "      <th>num_procedures</th>\n",
       "      <th>num_medications</th>\n",
       "      <th>number_outpatient</th>\n",
       "      <th>number_emergency</th>\n",
       "      <th>number_inpatient</th>\n",
       "      <th>diag_1</th>\n",
       "      <th>diag_2</th>\n",
       "      <th>diag_3</th>\n",
       "      <th>number_diagnoses</th>\n",
       "      <th>max_glu_serum</th>\n",
       "      <th>A1Cresult</th>\n",
       "      <th>metformin</th>\n",
       "      <th>repaglinide</th>\n",
       "      <th>nateglinide</th>\n",
       "      <th>chlorpropamide</th>\n",
       "      <th>glimepiride</th>\n",
       "      <th>acetohexamide</th>\n",
       "      <th>glipizide</th>\n",
       "      <th>glyburide</th>\n",
       "      <th>tolbutamide</th>\n",
       "      <th>pioglitazone</th>\n",
       "      <th>rosiglitazone</th>\n",
       "      <th>acarbose</th>\n",
       "      <th>miglitol</th>\n",
       "      <th>troglitazone</th>\n",
       "      <th>tolazamide</th>\n",
       "      <th>insulin</th>\n",
       "      <th>glyburide-metformin</th>\n",
       "      <th>glipizide-metformin</th>\n",
       "      <th>glimepiride-pioglitazone</th>\n",
       "      <th>metformin-rosiglitazone</th>\n",
       "      <th>metformin-pioglitazone</th>\n",
       "      <th>change</th>\n",
       "      <th>diabetesMed</th>\n",
       "      <th>readmitted</th>\n",
       "    </tr>\n",
       "  </thead>\n",
       "  <tbody>\n",
       "    <tr>\n",
       "      <th>22926</th>\n",
       "      <td>Other</td>\n",
       "      <td>Unknown/Invalid</td>\n",
       "      <td>Over 60</td>\n",
       "      <td>Elective</td>\n",
       "      <td>Home</td>\n",
       "      <td>Referral</td>\n",
       "      <td>1</td>\n",
       "      <td>5</td>\n",
       "      <td>5</td>\n",
       "      <td>22</td>\n",
       "      <td>0</td>\n",
       "      <td>0</td>\n",
       "      <td>0</td>\n",
       "      <td>414</td>\n",
       "      <td>411</td>\n",
       "      <td>401</td>\n",
       "      <td>4</td>\n",
       "      <td>None</td>\n",
       "      <td>None</td>\n",
       "      <td>No</td>\n",
       "      <td>No</td>\n",
       "      <td>No</td>\n",
       "      <td>No</td>\n",
       "      <td>No</td>\n",
       "      <td>No</td>\n",
       "      <td>Steady</td>\n",
       "      <td>No</td>\n",
       "      <td>No</td>\n",
       "      <td>Steady</td>\n",
       "      <td>No</td>\n",
       "      <td>No</td>\n",
       "      <td>No</td>\n",
       "      <td>No</td>\n",
       "      <td>No</td>\n",
       "      <td>No</td>\n",
       "      <td>No</td>\n",
       "      <td>No</td>\n",
       "      <td>No</td>\n",
       "      <td>No</td>\n",
       "      <td>No</td>\n",
       "      <td>Ch</td>\n",
       "      <td>Yes</td>\n",
       "      <td>0</td>\n",
       "    </tr>\n",
       "    <tr>\n",
       "      <th>55129</th>\n",
       "      <td>Missing</td>\n",
       "      <td>Unknown/Invalid</td>\n",
       "      <td>30 to 60</td>\n",
       "      <td>Emergency</td>\n",
       "      <td>Home</td>\n",
       "      <td>Emergency</td>\n",
       "      <td>1</td>\n",
       "      <td>38</td>\n",
       "      <td>1</td>\n",
       "      <td>6</td>\n",
       "      <td>0</td>\n",
       "      <td>0</td>\n",
       "      <td>0</td>\n",
       "      <td>808</td>\n",
       "      <td>873</td>\n",
       "      <td>E813</td>\n",
       "      <td>5</td>\n",
       "      <td>None</td>\n",
       "      <td>None</td>\n",
       "      <td>No</td>\n",
       "      <td>No</td>\n",
       "      <td>No</td>\n",
       "      <td>No</td>\n",
       "      <td>No</td>\n",
       "      <td>No</td>\n",
       "      <td>No</td>\n",
       "      <td>No</td>\n",
       "      <td>No</td>\n",
       "      <td>No</td>\n",
       "      <td>No</td>\n",
       "      <td>No</td>\n",
       "      <td>No</td>\n",
       "      <td>No</td>\n",
       "      <td>No</td>\n",
       "      <td>No</td>\n",
       "      <td>No</td>\n",
       "      <td>No</td>\n",
       "      <td>No</td>\n",
       "      <td>No</td>\n",
       "      <td>No</td>\n",
       "      <td>No</td>\n",
       "      <td>No</td>\n",
       "      <td>0</td>\n",
       "    </tr>\n",
       "    <tr>\n",
       "      <th>59490</th>\n",
       "      <td>Missing</td>\n",
       "      <td>Unknown/Invalid</td>\n",
       "      <td>Over 60</td>\n",
       "      <td>Emergency</td>\n",
       "      <td>Not_Home</td>\n",
       "      <td>Emergency</td>\n",
       "      <td>8</td>\n",
       "      <td>59</td>\n",
       "      <td>2</td>\n",
       "      <td>21</td>\n",
       "      <td>0</td>\n",
       "      <td>0</td>\n",
       "      <td>0</td>\n",
       "      <td>850</td>\n",
       "      <td>805</td>\n",
       "      <td>808</td>\n",
       "      <td>9</td>\n",
       "      <td>None</td>\n",
       "      <td>None</td>\n",
       "      <td>Steady</td>\n",
       "      <td>No</td>\n",
       "      <td>No</td>\n",
       "      <td>No</td>\n",
       "      <td>No</td>\n",
       "      <td>No</td>\n",
       "      <td>No</td>\n",
       "      <td>No</td>\n",
       "      <td>No</td>\n",
       "      <td>No</td>\n",
       "      <td>Steady</td>\n",
       "      <td>No</td>\n",
       "      <td>No</td>\n",
       "      <td>No</td>\n",
       "      <td>No</td>\n",
       "      <td>No</td>\n",
       "      <td>No</td>\n",
       "      <td>No</td>\n",
       "      <td>No</td>\n",
       "      <td>No</td>\n",
       "      <td>No</td>\n",
       "      <td>Ch</td>\n",
       "      <td>Yes</td>\n",
       "      <td>0</td>\n",
       "    </tr>\n",
       "  </tbody>\n",
       "</table>\n",
       "</div>"
      ],
      "text/plain": [
       "          race           gender       age admission_type_id  \\\n",
       "22926    Other  Unknown/Invalid   Over 60          Elective   \n",
       "55129  Missing  Unknown/Invalid  30 to 60         Emergency   \n",
       "59490  Missing  Unknown/Invalid   Over 60         Emergency   \n",
       "\n",
       "      discharge_disposition_id admission_source_id  time_in_hospital  \\\n",
       "22926                     Home            Referral                 1   \n",
       "55129                     Home           Emergency                 1   \n",
       "59490                 Not_Home           Emergency                 8   \n",
       "\n",
       "       num_lab_procedures  num_procedures  num_medications  number_outpatient  \\\n",
       "22926                   5               5               22                  0   \n",
       "55129                  38               1                6                  0   \n",
       "59490                  59               2               21                  0   \n",
       "\n",
       "       number_emergency  number_inpatient diag_1 diag_2 diag_3  \\\n",
       "22926                 0                 0    414    411    401   \n",
       "55129                 0                 0    808    873   E813   \n",
       "59490                 0                 0    850    805    808   \n",
       "\n",
       "       number_diagnoses max_glu_serum A1Cresult metformin repaglinide  \\\n",
       "22926                 4          None      None        No          No   \n",
       "55129                 5          None      None        No          No   \n",
       "59490                 9          None      None    Steady          No   \n",
       "\n",
       "      nateglinide chlorpropamide glimepiride acetohexamide glipizide  \\\n",
       "22926          No             No          No            No    Steady   \n",
       "55129          No             No          No            No        No   \n",
       "59490          No             No          No            No        No   \n",
       "\n",
       "      glyburide tolbutamide pioglitazone rosiglitazone acarbose miglitol  \\\n",
       "22926        No          No       Steady            No       No       No   \n",
       "55129        No          No           No            No       No       No   \n",
       "59490        No          No           No        Steady       No       No   \n",
       "\n",
       "      troglitazone tolazamide insulin glyburide-metformin glipizide-metformin  \\\n",
       "22926           No         No      No                  No                  No   \n",
       "55129           No         No      No                  No                  No   \n",
       "59490           No         No      No                  No                  No   \n",
       "\n",
       "      glimepiride-pioglitazone metformin-rosiglitazone metformin-pioglitazone  \\\n",
       "22926                       No                      No                     No   \n",
       "55129                       No                      No                     No   \n",
       "59490                       No                      No                     No   \n",
       "\n",
       "      change diabetesMed  readmitted  \n",
       "22926     Ch         Yes           0  \n",
       "55129     No          No           0  \n",
       "59490     Ch         Yes           0  "
      ]
     },
     "execution_count": 11,
     "metadata": {},
     "output_type": "execute_result"
    }
   ],
   "source": [
    "# Inspect Unknown/Invalid results for Gender\n",
    "df[df['gender'].str.contains('Unknown/Invalid')]"
   ]
  },
  {
   "cell_type": "code",
   "execution_count": 12,
   "metadata": {},
   "outputs": [],
   "source": [
    "# Only 3 values of unknown gender; drop those observations\n",
    "df = df[df.gender != \"Unknown/Invalid\"]"
   ]
  },
  {
   "cell_type": "code",
   "execution_count": 13,
   "metadata": {},
   "outputs": [],
   "source": [
    "# Create a function to group diagnostic codes by range as well as separating diabetes specifically; group symptoms with major disease category\n",
    "\n",
    "def diag_grouper(series):\n",
    "    \n",
    "    '''takes input as df.col and outputs diagnostic code groupings'''\n",
    "    \n",
    "    def no_str(x):\n",
    "        \n",
    "        '''takes input as an element of a series and pulls code for diabetes specific disease and E/V categories'''\n",
    "        \n",
    "        if '250' in x: return '9999'\n",
    "        elif 'E' in x: return '123456'\n",
    "        elif 'V' in x: return '123456'\n",
    "        elif x == 'missing': return '-654321'\n",
    "        else: return x\n",
    "    \n",
    "    series = series.apply(no_str)\n",
    "    \n",
    "    series = series.astype(float)\n",
    "    \n",
    "    def num_categ(x):\n",
    "        \n",
    "        '''takes input as an element of a series and saves each range as a numerical placeholder'''\n",
    "        \n",
    "        if 1 <= x <= 139: return 10000\n",
    "        elif 140 <= x <= 239: return 10001\n",
    "        elif 240 <= x <= 279: return 10002\n",
    "        elif 280 <= x <= 289: return 10003\n",
    "        elif 290 <= x <= 319: return 10004\n",
    "        elif 320 <= x <= 359: return 10005\n",
    "        elif 360 <= x <= 389: return 10006\n",
    "        elif 390 <= x <= 459 and x == 786: return 10007\n",
    "        elif 460 <= x <= 519 and x == 787: return 10008\n",
    "        elif 520 <= x <= 579 and x == 787: return 10009\n",
    "        elif 580 <= x <= 629 and x == 788: return 10010\n",
    "        elif 630 <= x <= 679: return 10011\n",
    "        elif 680 <= x <= 709 and x == 782: return 10012\n",
    "        elif 710 <= x <= 739: return 10013\n",
    "        elif 740 <= x <= 759: return 10014\n",
    "        elif 780 <= x <= 781 and x == 784 and 790 <= x <= 799: return 10015\n",
    "        elif 800 <= x <= 999: return 10016\n",
    "        else: return x\n",
    "        \n",
    "    series = series.apply(num_categ)\n",
    "    \n",
    "    def text_convert(x):\n",
    "        \n",
    "        '''takes input as an element of a series and converts each placeholder to string format'''\n",
    "        \n",
    "        if x == 10000: return \"Other\"\n",
    "        elif x == 10001: return \"Neoplasms\"\n",
    "        elif x == 10002: return \"Other\"\n",
    "        elif x == 10003: return \"Other\"\n",
    "        elif x == 10004: return \"Other\"\n",
    "        elif x == 10005: return \"Other\"\n",
    "        elif x == 10006: return \"Other\"\n",
    "        elif x == 10007: return \"Circulatory Disease\"\n",
    "        elif x == 10008: return \"Respiratory Disease\"\n",
    "        elif x == 10009: return \"Digestive Disease\"\n",
    "        elif x == 10010: return \"Genitourinary\"\n",
    "        elif x == 10011: return \"Other\"\n",
    "        elif x == 10012: return \"Other\"\n",
    "        elif x == 10013: return \"Musculoskeletal Disease\"\n",
    "        elif x == 10014: return \"Other\"\n",
    "        elif x == 10015: return \"Other\"\n",
    "        elif x == 10016: return \"Injury and Poisoning\"\n",
    "        elif x == 9999: return \"Diabetes\"\n",
    "        elif x == 123456: return \"Other\"\n",
    "        elif x == -654321: return \"Other\"\n",
    "    \n",
    "    return series.apply(text_convert)"
   ]
  },
  {
   "cell_type": "code",
   "execution_count": 14,
   "metadata": {},
   "outputs": [],
   "source": [
    "# Apply diag_grouper to the data frame\n",
    "df.diag_1 = diag_grouper(df.diag_1)\n",
    "df.diag_2 = diag_grouper(df.diag_2)\n",
    "df.diag_3 = diag_grouper(df.diag_3)"
   ]
  },
  {
   "cell_type": "code",
   "execution_count": 15,
   "metadata": {},
   "outputs": [],
   "source": [
    "# Create boolean masks for the columns in question and convert to int\n",
    "Circ = df[['diag_1','diag_2','diag_3']].isin(['Circulatory Disease']).astype(int)\n",
    "Resp = df[['diag_1','diag_2','diag_3']].isin(['Respiratory Disease']).astype(int)\n",
    "Digest = df[['diag_1','diag_2','diag_3']].isin(['Digestive Disease']).astype(int)\n",
    "Diab = df[['diag_1','diag_2','diag_3']].isin(['Diabetes']).astype(int)\n",
    "Genit = df[['diag_1','diag_2','diag_3']].isin(['Genitourinary']).astype(int)\n",
    "Muscu = df[['diag_1','diag_2','diag_3']].isin(['Musculoskeletal Disease']).astype(int)\n",
    "Neop = df[['diag_1','diag_2','diag_3']].isin(['Neoplasms']).astype(int)\n",
    "Inj = df[['diag_1','diag_2','diag_3']].isin(['Injury and Poisoning']).astype(int)\n",
    "Othr = df[['diag_1','diag_2','diag_3']].isin(['Other']).astype(int)"
   ]
  },
  {
   "cell_type": "code",
   "execution_count": 16,
   "metadata": {},
   "outputs": [],
   "source": [
    "# Sum the column amounts\n",
    "Circulatory = (Circ['diag_1'] + Circ['diag_2'] + Circ['diag_3'])\n",
    "Respiratory = Resp['diag_1'] + Resp['diag_2'] + Resp['diag_3']\n",
    "Digestive = Digest['diag_1'] + Digest['diag_2'] + Digest['diag_3']\n",
    "Diabetes = Diab['diag_1'] + Diab['diag_2'] + Diab['diag_3']\n",
    "Injury = Inj['diag_1'] + Inj['diag_2'] + Inj['diag_3']\n",
    "Genitourinary = Genit['diag_1'] + Genit['diag_2'] + Genit['diag_3']\n",
    "Musculoskeletal = Muscu['diag_1'] + Muscu['diag_2'] + Muscu['diag_3']\n",
    "Neoplasms = Neop['diag_1'] + Neop['diag_2'] + Neop['diag_3']\n",
    "Other = Othr['diag_1'] + Othr['diag_2'] + Othr['diag_3']"
   ]
  },
  {
   "cell_type": "code",
   "execution_count": 17,
   "metadata": {},
   "outputs": [],
   "source": [
    "# Create new df of new diag columns; convert back to boolean then back to int to binarize\n",
    "newcollist = [Circulatory, Respiratory, Digestive, Diabetes, Injury, Genitourinary, Musculoskeletal, Neoplasms, Other]\n",
    "newcols = pd.concat(newcollist, axis = 1)\n",
    "newcols.columns = ['diag_Circulatory', 'diag_Respiratory', 'diag_Digestive', 'diag_Diabetes', 'diag_Injury',\n",
    "                   'diag_Genitourinary', 'diag_Musculoskeletal', 'diag_Neoplasms','diag_Other']\n",
    "newcols = newcols.astype(bool).astype(int)"
   ]
  },
  {
   "cell_type": "code",
   "execution_count": 18,
   "metadata": {},
   "outputs": [],
   "source": [
    "# Drop OG diags and add new\n",
    "df = df.drop(columns = ['diag_1','diag_2','diag_3'])\n",
    "df = pd.concat([df,newcols],axis=1)"
   ]
  },
  {
   "cell_type": "markdown",
   "metadata": {},
   "source": [
    "# Separation for Scaling and Encoding"
   ]
  },
  {
   "cell_type": "code",
   "execution_count": 19,
   "metadata": {},
   "outputs": [],
   "source": [
    "# identify cat and num types for cat dummification\n",
    "categorical = df.drop(columns = ['time_in_hospital',\n",
    "       'num_lab_procedures', 'num_procedures', 'num_medications',\n",
    "       'number_outpatient', 'number_emergency', 'number_inpatient',\n",
    "        'number_diagnoses', 'diag_Circulatory', 'diag_Respiratory',\n",
    "       'diag_Digestive', 'diag_Diabetes', 'diag_Neoplasms', 'diag_Injury', \n",
    "       'diag_Genitourinary', 'diag_Musculoskeletal', \n",
    "        'diag_Other','readmitted'])\n",
    "numerical = df.drop(columns = ['race', 'gender', 'age', 'admission_type_id',\n",
    "       'discharge_disposition_id', 'admission_source_id', \n",
    "       'max_glu_serum', 'A1Cresult', 'diag_Circulatory', 'diag_Respiratory',\n",
    "       'diag_Digestive', 'diag_Diabetes', 'diag_Injury', 'diag_Other',                        \n",
    "       'metformin', 'repaglinide', 'nateglinide', 'chlorpropamide',\n",
    "       'diag_Genitourinary', 'diag_Musculoskeletal', 'diag_Neoplasms',\n",
    "       'glimepiride', 'acetohexamide', 'glipizide', 'glyburide', 'tolbutamide',\n",
    "       'pioglitazone', 'rosiglitazone', 'acarbose', 'miglitol', 'troglitazone',\n",
    "       'tolazamide', 'insulin',\n",
    "       'glyburide-metformin', 'glipizide-metformin',\n",
    "       'glimepiride-pioglitazone', 'metformin-rosiglitazone',\n",
    "       'metformin-pioglitazone', 'change', 'diabetesMed','readmitted'])\n"
   ]
  },
  {
   "cell_type": "code",
   "execution_count": 20,
   "metadata": {},
   "outputs": [],
   "source": [
    "# Export for graphing post variable grouping\n",
    "#df.to_csv(r'./data/cleaned_df.csv', index = False)"
   ]
  },
  {
   "cell_type": "code",
   "execution_count": 21,
   "metadata": {},
   "outputs": [],
   "source": [
    "# Separation of features from target for dummification\n",
    "\n",
    "X = df.drop('readmitted', axis = 1)\n",
    "y = df['readmitted']"
   ]
  },
  {
   "cell_type": "code",
   "execution_count": 22,
   "metadata": {},
   "outputs": [],
   "source": [
    "X = pd.get_dummies(X, columns = categorical.columns)"
   ]
  },
  {
   "cell_type": "markdown",
   "metadata": {},
   "source": [
    "#### Recombine data frame for 80/20 split"
   ]
  },
  {
   "cell_type": "code",
   "execution_count": 23,
   "metadata": {},
   "outputs": [],
   "source": [
    "df = X.assign(readmitted = y)"
   ]
  },
  {
   "cell_type": "code",
   "execution_count": 24,
   "metadata": {},
   "outputs": [],
   "source": [
    "# Perform and 80/20 split of the data\n",
    "X = df.drop('readmitted', axis = 1)\n",
    "y = df['readmitted']\n"
   ]
  },
  {
   "cell_type": "code",
   "execution_count": 25,
   "metadata": {},
   "outputs": [
    {
     "data": {
      "text/plain": [
       "(71515, 112)"
      ]
     },
     "execution_count": 25,
     "metadata": {},
     "output_type": "execute_result"
    }
   ],
   "source": [
    "X.shape"
   ]
  },
  {
   "cell_type": "code",
   "execution_count": 26,
   "metadata": {},
   "outputs": [
    {
     "data": {
      "text/plain": [
       "RFECV(cv=StratifiedKFold(n_splits=5, random_state=None, shuffle=False),\n",
       "      estimator=DecisionTreeClassifier(), scoring='accuracy')"
      ]
     },
     "execution_count": 26,
     "metadata": {},
     "output_type": "execute_result"
    }
   ],
   "source": [
    "#fit RFE to the Training Data\n",
    "\n",
    "# evaluate RFE for regression\n",
    "from numpy import mean\n",
    "from numpy import std\n",
    "from sklearn.datasets import make_regression\n",
    "from sklearn.model_selection import cross_val_score\n",
    "from sklearn.model_selection import RepeatedKFold\n",
    "from sklearn.feature_selection import RFE\n",
    "from sklearn.tree import DecisionTreeRegressor\n",
    "from sklearn.pipeline import Pipeline\n",
    "from sklearn.model_selection import StratifiedKFold\n",
    "\n",
    "rfecv = RFECV(estimator = DecisionTreeClassifier(), step=1,\n",
    "              cv=StratifiedKFold(5), scoring='accuracy')\n",
    "\n",
    "rfecv.fit(X,y)\n",
    "\n",
    "#print(\"Optimal number of features : %d\" % rfecv.n_features_)\n",
    "\n",
    "\n",
    "\n",
    "# # create pipeline\n",
    "# rfe = RFE(estimator=DecisionTreeRegressor(), n_features_to_select=80)\n",
    "# model = DecisionTreeRegressor()\n",
    "# pipeline = Pipeline(steps=[('s',rfe),('m',model)])\n",
    "# # evaluate model\n",
    "# cv = RepeatedKFold(n_splits=5, n_repeats=3, random_state=1)\n",
    "# n_scores = cross_val_score(pipeline, X, y, scoring='neg_mean_absolute_error', cv=cv, n_jobs=-1, error_score='raise')\n",
    "# # report performance\n",
    "# print('MAE: %.3f (%.3f)' % (mean(n_scores), std(n_scores)))"
   ]
  },
  {
   "cell_type": "code",
   "execution_count": 27,
   "metadata": {},
   "outputs": [],
   "source": [
    "# summarize all features\n",
    "cols = []\n",
    "for i in range(X.shape[1]):\n",
    "    if rfecv.ranking_[i] <= 45:\n",
    "        cols.append(i)"
   ]
  },
  {
   "cell_type": "code",
   "execution_count": 28,
   "metadata": {},
   "outputs": [],
   "source": [
    "X_ = X.iloc[:, cols]"
   ]
  },
  {
   "cell_type": "code",
   "execution_count": 53,
   "metadata": {},
   "outputs": [],
   "source": [
    "# split\n",
    "\n",
    "X_train, X_test, y_train, y_test = train_test_split(X_, y, test_size = 0.2, stratify = y, random_state = 123)"
   ]
  },
  {
   "cell_type": "code",
   "execution_count": 54,
   "metadata": {},
   "outputs": [
    {
     "data": {
      "text/html": [
       "<div>\n",
       "<style scoped>\n",
       "    .dataframe tbody tr th:only-of-type {\n",
       "        vertical-align: middle;\n",
       "    }\n",
       "\n",
       "    .dataframe tbody tr th {\n",
       "        vertical-align: top;\n",
       "    }\n",
       "\n",
       "    .dataframe thead th {\n",
       "        text-align: right;\n",
       "    }\n",
       "</style>\n",
       "<table border=\"1\" class=\"dataframe\">\n",
       "  <thead>\n",
       "    <tr style=\"text-align: right;\">\n",
       "      <th></th>\n",
       "      <th>time_in_hospital</th>\n",
       "      <th>num_lab_procedures</th>\n",
       "      <th>num_procedures</th>\n",
       "      <th>num_medications</th>\n",
       "      <th>number_outpatient</th>\n",
       "      <th>number_emergency</th>\n",
       "      <th>number_inpatient</th>\n",
       "      <th>number_diagnoses</th>\n",
       "      <th>diag_Diabetes</th>\n",
       "      <th>diag_Injury</th>\n",
       "      <th>diag_Musculoskeletal</th>\n",
       "      <th>diag_Neoplasms</th>\n",
       "      <th>diag_Other</th>\n",
       "      <th>race_AfricanAmerican</th>\n",
       "      <th>race_Caucasian</th>\n",
       "      <th>gender_Female</th>\n",
       "      <th>gender_Male</th>\n",
       "      <th>age_30 to 60</th>\n",
       "      <th>age_Over 60</th>\n",
       "      <th>admission_type_id_Elective</th>\n",
       "      <th>admission_type_id_Emergency</th>\n",
       "      <th>admission_type_id_Other</th>\n",
       "      <th>discharge_disposition_id_Home</th>\n",
       "      <th>admission_source_id_Emergency</th>\n",
       "      <th>admission_source_id_Other</th>\n",
       "      <th>admission_source_id_Referral</th>\n",
       "      <th>A1Cresult_&gt;8</th>\n",
       "      <th>A1Cresult_None</th>\n",
       "      <th>A1Cresult_Norm</th>\n",
       "      <th>metformin_No</th>\n",
       "      <th>metformin_Steady</th>\n",
       "      <th>glimepiride_Steady</th>\n",
       "      <th>glipizide_No</th>\n",
       "      <th>glipizide_Steady</th>\n",
       "      <th>glyburide_No</th>\n",
       "      <th>glyburide_Steady</th>\n",
       "      <th>pioglitazone_No</th>\n",
       "      <th>rosiglitazone_No</th>\n",
       "      <th>rosiglitazone_Steady</th>\n",
       "      <th>insulin_Down</th>\n",
       "      <th>insulin_No</th>\n",
       "      <th>insulin_Steady</th>\n",
       "      <th>insulin_Up</th>\n",
       "      <th>change_Ch</th>\n",
       "      <th>change_No</th>\n",
       "    </tr>\n",
       "  </thead>\n",
       "  <tbody>\n",
       "    <tr>\n",
       "      <th>0</th>\n",
       "      <td>1</td>\n",
       "      <td>41</td>\n",
       "      <td>0</td>\n",
       "      <td>1</td>\n",
       "      <td>0</td>\n",
       "      <td>0</td>\n",
       "      <td>0</td>\n",
       "      <td>1</td>\n",
       "      <td>1</td>\n",
       "      <td>0</td>\n",
       "      <td>0</td>\n",
       "      <td>0</td>\n",
       "      <td>1</td>\n",
       "      <td>0</td>\n",
       "      <td>1</td>\n",
       "      <td>1</td>\n",
       "      <td>0</td>\n",
       "      <td>0</td>\n",
       "      <td>0</td>\n",
       "      <td>0</td>\n",
       "      <td>0</td>\n",
       "      <td>1</td>\n",
       "      <td>0</td>\n",
       "      <td>0</td>\n",
       "      <td>0</td>\n",
       "      <td>1</td>\n",
       "      <td>0</td>\n",
       "      <td>1</td>\n",
       "      <td>0</td>\n",
       "      <td>1</td>\n",
       "      <td>0</td>\n",
       "      <td>0</td>\n",
       "      <td>1</td>\n",
       "      <td>0</td>\n",
       "      <td>1</td>\n",
       "      <td>0</td>\n",
       "      <td>1</td>\n",
       "      <td>1</td>\n",
       "      <td>0</td>\n",
       "      <td>0</td>\n",
       "      <td>1</td>\n",
       "      <td>0</td>\n",
       "      <td>0</td>\n",
       "      <td>0</td>\n",
       "      <td>1</td>\n",
       "    </tr>\n",
       "    <tr>\n",
       "      <th>1</th>\n",
       "      <td>3</td>\n",
       "      <td>59</td>\n",
       "      <td>0</td>\n",
       "      <td>18</td>\n",
       "      <td>0</td>\n",
       "      <td>0</td>\n",
       "      <td>0</td>\n",
       "      <td>9</td>\n",
       "      <td>1</td>\n",
       "      <td>0</td>\n",
       "      <td>0</td>\n",
       "      <td>0</td>\n",
       "      <td>1</td>\n",
       "      <td>0</td>\n",
       "      <td>1</td>\n",
       "      <td>1</td>\n",
       "      <td>0</td>\n",
       "      <td>0</td>\n",
       "      <td>0</td>\n",
       "      <td>0</td>\n",
       "      <td>1</td>\n",
       "      <td>0</td>\n",
       "      <td>1</td>\n",
       "      <td>1</td>\n",
       "      <td>0</td>\n",
       "      <td>0</td>\n",
       "      <td>0</td>\n",
       "      <td>1</td>\n",
       "      <td>0</td>\n",
       "      <td>1</td>\n",
       "      <td>0</td>\n",
       "      <td>0</td>\n",
       "      <td>1</td>\n",
       "      <td>0</td>\n",
       "      <td>1</td>\n",
       "      <td>0</td>\n",
       "      <td>1</td>\n",
       "      <td>1</td>\n",
       "      <td>0</td>\n",
       "      <td>0</td>\n",
       "      <td>0</td>\n",
       "      <td>0</td>\n",
       "      <td>1</td>\n",
       "      <td>1</td>\n",
       "      <td>0</td>\n",
       "    </tr>\n",
       "    <tr>\n",
       "      <th>2</th>\n",
       "      <td>2</td>\n",
       "      <td>11</td>\n",
       "      <td>5</td>\n",
       "      <td>13</td>\n",
       "      <td>2</td>\n",
       "      <td>0</td>\n",
       "      <td>1</td>\n",
       "      <td>6</td>\n",
       "      <td>1</td>\n",
       "      <td>0</td>\n",
       "      <td>0</td>\n",
       "      <td>0</td>\n",
       "      <td>1</td>\n",
       "      <td>1</td>\n",
       "      <td>0</td>\n",
       "      <td>1</td>\n",
       "      <td>0</td>\n",
       "      <td>0</td>\n",
       "      <td>0</td>\n",
       "      <td>0</td>\n",
       "      <td>1</td>\n",
       "      <td>0</td>\n",
       "      <td>1</td>\n",
       "      <td>1</td>\n",
       "      <td>0</td>\n",
       "      <td>0</td>\n",
       "      <td>0</td>\n",
       "      <td>1</td>\n",
       "      <td>0</td>\n",
       "      <td>1</td>\n",
       "      <td>0</td>\n",
       "      <td>0</td>\n",
       "      <td>0</td>\n",
       "      <td>1</td>\n",
       "      <td>1</td>\n",
       "      <td>0</td>\n",
       "      <td>1</td>\n",
       "      <td>1</td>\n",
       "      <td>0</td>\n",
       "      <td>0</td>\n",
       "      <td>1</td>\n",
       "      <td>0</td>\n",
       "      <td>0</td>\n",
       "      <td>0</td>\n",
       "      <td>1</td>\n",
       "    </tr>\n",
       "    <tr>\n",
       "      <th>3</th>\n",
       "      <td>2</td>\n",
       "      <td>44</td>\n",
       "      <td>1</td>\n",
       "      <td>16</td>\n",
       "      <td>0</td>\n",
       "      <td>0</td>\n",
       "      <td>0</td>\n",
       "      <td>7</td>\n",
       "      <td>1</td>\n",
       "      <td>0</td>\n",
       "      <td>0</td>\n",
       "      <td>0</td>\n",
       "      <td>1</td>\n",
       "      <td>0</td>\n",
       "      <td>1</td>\n",
       "      <td>0</td>\n",
       "      <td>1</td>\n",
       "      <td>1</td>\n",
       "      <td>0</td>\n",
       "      <td>0</td>\n",
       "      <td>1</td>\n",
       "      <td>0</td>\n",
       "      <td>1</td>\n",
       "      <td>1</td>\n",
       "      <td>0</td>\n",
       "      <td>0</td>\n",
       "      <td>0</td>\n",
       "      <td>1</td>\n",
       "      <td>0</td>\n",
       "      <td>1</td>\n",
       "      <td>0</td>\n",
       "      <td>0</td>\n",
       "      <td>1</td>\n",
       "      <td>0</td>\n",
       "      <td>1</td>\n",
       "      <td>0</td>\n",
       "      <td>1</td>\n",
       "      <td>1</td>\n",
       "      <td>0</td>\n",
       "      <td>0</td>\n",
       "      <td>0</td>\n",
       "      <td>0</td>\n",
       "      <td>1</td>\n",
       "      <td>1</td>\n",
       "      <td>0</td>\n",
       "    </tr>\n",
       "    <tr>\n",
       "      <th>4</th>\n",
       "      <td>1</td>\n",
       "      <td>51</td>\n",
       "      <td>0</td>\n",
       "      <td>8</td>\n",
       "      <td>0</td>\n",
       "      <td>0</td>\n",
       "      <td>0</td>\n",
       "      <td>5</td>\n",
       "      <td>1</td>\n",
       "      <td>0</td>\n",
       "      <td>0</td>\n",
       "      <td>1</td>\n",
       "      <td>0</td>\n",
       "      <td>0</td>\n",
       "      <td>1</td>\n",
       "      <td>0</td>\n",
       "      <td>1</td>\n",
       "      <td>1</td>\n",
       "      <td>0</td>\n",
       "      <td>0</td>\n",
       "      <td>1</td>\n",
       "      <td>0</td>\n",
       "      <td>1</td>\n",
       "      <td>1</td>\n",
       "      <td>0</td>\n",
       "      <td>0</td>\n",
       "      <td>0</td>\n",
       "      <td>1</td>\n",
       "      <td>0</td>\n",
       "      <td>1</td>\n",
       "      <td>0</td>\n",
       "      <td>0</td>\n",
       "      <td>0</td>\n",
       "      <td>1</td>\n",
       "      <td>1</td>\n",
       "      <td>0</td>\n",
       "      <td>1</td>\n",
       "      <td>1</td>\n",
       "      <td>0</td>\n",
       "      <td>0</td>\n",
       "      <td>0</td>\n",
       "      <td>1</td>\n",
       "      <td>0</td>\n",
       "      <td>1</td>\n",
       "      <td>0</td>\n",
       "    </tr>\n",
       "    <tr>\n",
       "      <th>...</th>\n",
       "      <td>...</td>\n",
       "      <td>...</td>\n",
       "      <td>...</td>\n",
       "      <td>...</td>\n",
       "      <td>...</td>\n",
       "      <td>...</td>\n",
       "      <td>...</td>\n",
       "      <td>...</td>\n",
       "      <td>...</td>\n",
       "      <td>...</td>\n",
       "      <td>...</td>\n",
       "      <td>...</td>\n",
       "      <td>...</td>\n",
       "      <td>...</td>\n",
       "      <td>...</td>\n",
       "      <td>...</td>\n",
       "      <td>...</td>\n",
       "      <td>...</td>\n",
       "      <td>...</td>\n",
       "      <td>...</td>\n",
       "      <td>...</td>\n",
       "      <td>...</td>\n",
       "      <td>...</td>\n",
       "      <td>...</td>\n",
       "      <td>...</td>\n",
       "      <td>...</td>\n",
       "      <td>...</td>\n",
       "      <td>...</td>\n",
       "      <td>...</td>\n",
       "      <td>...</td>\n",
       "      <td>...</td>\n",
       "      <td>...</td>\n",
       "      <td>...</td>\n",
       "      <td>...</td>\n",
       "      <td>...</td>\n",
       "      <td>...</td>\n",
       "      <td>...</td>\n",
       "      <td>...</td>\n",
       "      <td>...</td>\n",
       "      <td>...</td>\n",
       "      <td>...</td>\n",
       "      <td>...</td>\n",
       "      <td>...</td>\n",
       "      <td>...</td>\n",
       "      <td>...</td>\n",
       "    </tr>\n",
       "    <tr>\n",
       "      <th>71513</th>\n",
       "      <td>9</td>\n",
       "      <td>50</td>\n",
       "      <td>2</td>\n",
       "      <td>33</td>\n",
       "      <td>0</td>\n",
       "      <td>0</td>\n",
       "      <td>0</td>\n",
       "      <td>9</td>\n",
       "      <td>1</td>\n",
       "      <td>0</td>\n",
       "      <td>0</td>\n",
       "      <td>0</td>\n",
       "      <td>0</td>\n",
       "      <td>0</td>\n",
       "      <td>1</td>\n",
       "      <td>1</td>\n",
       "      <td>0</td>\n",
       "      <td>0</td>\n",
       "      <td>1</td>\n",
       "      <td>0</td>\n",
       "      <td>1</td>\n",
       "      <td>0</td>\n",
       "      <td>1</td>\n",
       "      <td>1</td>\n",
       "      <td>0</td>\n",
       "      <td>0</td>\n",
       "      <td>0</td>\n",
       "      <td>0</td>\n",
       "      <td>0</td>\n",
       "      <td>1</td>\n",
       "      <td>0</td>\n",
       "      <td>0</td>\n",
       "      <td>1</td>\n",
       "      <td>0</td>\n",
       "      <td>0</td>\n",
       "      <td>0</td>\n",
       "      <td>1</td>\n",
       "      <td>1</td>\n",
       "      <td>0</td>\n",
       "      <td>0</td>\n",
       "      <td>0</td>\n",
       "      <td>1</td>\n",
       "      <td>0</td>\n",
       "      <td>1</td>\n",
       "      <td>0</td>\n",
       "    </tr>\n",
       "    <tr>\n",
       "      <th>71514</th>\n",
       "      <td>14</td>\n",
       "      <td>73</td>\n",
       "      <td>6</td>\n",
       "      <td>26</td>\n",
       "      <td>0</td>\n",
       "      <td>1</td>\n",
       "      <td>0</td>\n",
       "      <td>9</td>\n",
       "      <td>0</td>\n",
       "      <td>0</td>\n",
       "      <td>0</td>\n",
       "      <td>0</td>\n",
       "      <td>0</td>\n",
       "      <td>0</td>\n",
       "      <td>0</td>\n",
       "      <td>1</td>\n",
       "      <td>0</td>\n",
       "      <td>1</td>\n",
       "      <td>0</td>\n",
       "      <td>0</td>\n",
       "      <td>1</td>\n",
       "      <td>0</td>\n",
       "      <td>1</td>\n",
       "      <td>1</td>\n",
       "      <td>0</td>\n",
       "      <td>0</td>\n",
       "      <td>1</td>\n",
       "      <td>0</td>\n",
       "      <td>0</td>\n",
       "      <td>1</td>\n",
       "      <td>0</td>\n",
       "      <td>0</td>\n",
       "      <td>0</td>\n",
       "      <td>1</td>\n",
       "      <td>1</td>\n",
       "      <td>0</td>\n",
       "      <td>1</td>\n",
       "      <td>1</td>\n",
       "      <td>0</td>\n",
       "      <td>0</td>\n",
       "      <td>0</td>\n",
       "      <td>0</td>\n",
       "      <td>1</td>\n",
       "      <td>1</td>\n",
       "      <td>0</td>\n",
       "    </tr>\n",
       "    <tr>\n",
       "      <th>71515</th>\n",
       "      <td>2</td>\n",
       "      <td>46</td>\n",
       "      <td>6</td>\n",
       "      <td>17</td>\n",
       "      <td>1</td>\n",
       "      <td>1</td>\n",
       "      <td>1</td>\n",
       "      <td>9</td>\n",
       "      <td>0</td>\n",
       "      <td>1</td>\n",
       "      <td>0</td>\n",
       "      <td>0</td>\n",
       "      <td>0</td>\n",
       "      <td>0</td>\n",
       "      <td>0</td>\n",
       "      <td>1</td>\n",
       "      <td>0</td>\n",
       "      <td>1</td>\n",
       "      <td>0</td>\n",
       "      <td>0</td>\n",
       "      <td>1</td>\n",
       "      <td>0</td>\n",
       "      <td>1</td>\n",
       "      <td>1</td>\n",
       "      <td>0</td>\n",
       "      <td>0</td>\n",
       "      <td>0</td>\n",
       "      <td>1</td>\n",
       "      <td>0</td>\n",
       "      <td>1</td>\n",
       "      <td>0</td>\n",
       "      <td>0</td>\n",
       "      <td>1</td>\n",
       "      <td>0</td>\n",
       "      <td>1</td>\n",
       "      <td>0</td>\n",
       "      <td>1</td>\n",
       "      <td>1</td>\n",
       "      <td>0</td>\n",
       "      <td>0</td>\n",
       "      <td>0</td>\n",
       "      <td>1</td>\n",
       "      <td>0</td>\n",
       "      <td>0</td>\n",
       "      <td>1</td>\n",
       "    </tr>\n",
       "    <tr>\n",
       "      <th>71516</th>\n",
       "      <td>5</td>\n",
       "      <td>76</td>\n",
       "      <td>1</td>\n",
       "      <td>22</td>\n",
       "      <td>0</td>\n",
       "      <td>1</td>\n",
       "      <td>0</td>\n",
       "      <td>9</td>\n",
       "      <td>0</td>\n",
       "      <td>0</td>\n",
       "      <td>0</td>\n",
       "      <td>0</td>\n",
       "      <td>1</td>\n",
       "      <td>0</td>\n",
       "      <td>1</td>\n",
       "      <td>1</td>\n",
       "      <td>0</td>\n",
       "      <td>0</td>\n",
       "      <td>1</td>\n",
       "      <td>0</td>\n",
       "      <td>1</td>\n",
       "      <td>0</td>\n",
       "      <td>1</td>\n",
       "      <td>1</td>\n",
       "      <td>0</td>\n",
       "      <td>0</td>\n",
       "      <td>0</td>\n",
       "      <td>1</td>\n",
       "      <td>0</td>\n",
       "      <td>1</td>\n",
       "      <td>0</td>\n",
       "      <td>0</td>\n",
       "      <td>1</td>\n",
       "      <td>0</td>\n",
       "      <td>1</td>\n",
       "      <td>0</td>\n",
       "      <td>1</td>\n",
       "      <td>1</td>\n",
       "      <td>0</td>\n",
       "      <td>0</td>\n",
       "      <td>0</td>\n",
       "      <td>0</td>\n",
       "      <td>1</td>\n",
       "      <td>1</td>\n",
       "      <td>0</td>\n",
       "    </tr>\n",
       "    <tr>\n",
       "      <th>71517</th>\n",
       "      <td>6</td>\n",
       "      <td>13</td>\n",
       "      <td>3</td>\n",
       "      <td>3</td>\n",
       "      <td>0</td>\n",
       "      <td>0</td>\n",
       "      <td>0</td>\n",
       "      <td>9</td>\n",
       "      <td>0</td>\n",
       "      <td>0</td>\n",
       "      <td>0</td>\n",
       "      <td>0</td>\n",
       "      <td>0</td>\n",
       "      <td>0</td>\n",
       "      <td>1</td>\n",
       "      <td>0</td>\n",
       "      <td>1</td>\n",
       "      <td>0</td>\n",
       "      <td>1</td>\n",
       "      <td>0</td>\n",
       "      <td>1</td>\n",
       "      <td>0</td>\n",
       "      <td>1</td>\n",
       "      <td>1</td>\n",
       "      <td>0</td>\n",
       "      <td>0</td>\n",
       "      <td>0</td>\n",
       "      <td>1</td>\n",
       "      <td>0</td>\n",
       "      <td>1</td>\n",
       "      <td>0</td>\n",
       "      <td>0</td>\n",
       "      <td>1</td>\n",
       "      <td>0</td>\n",
       "      <td>1</td>\n",
       "      <td>0</td>\n",
       "      <td>1</td>\n",
       "      <td>1</td>\n",
       "      <td>0</td>\n",
       "      <td>0</td>\n",
       "      <td>1</td>\n",
       "      <td>0</td>\n",
       "      <td>0</td>\n",
       "      <td>0</td>\n",
       "      <td>1</td>\n",
       "    </tr>\n",
       "  </tbody>\n",
       "</table>\n",
       "<p>71515 rows × 45 columns</p>\n",
       "</div>"
      ],
      "text/plain": [
       "       time_in_hospital  num_lab_procedures  num_procedures  num_medications  \\\n",
       "0                     1                  41               0                1   \n",
       "1                     3                  59               0               18   \n",
       "2                     2                  11               5               13   \n",
       "3                     2                  44               1               16   \n",
       "4                     1                  51               0                8   \n",
       "...                 ...                 ...             ...              ...   \n",
       "71513                 9                  50               2               33   \n",
       "71514                14                  73               6               26   \n",
       "71515                 2                  46               6               17   \n",
       "71516                 5                  76               1               22   \n",
       "71517                 6                  13               3                3   \n",
       "\n",
       "       number_outpatient  number_emergency  number_inpatient  \\\n",
       "0                      0                 0                 0   \n",
       "1                      0                 0                 0   \n",
       "2                      2                 0                 1   \n",
       "3                      0                 0                 0   \n",
       "4                      0                 0                 0   \n",
       "...                  ...               ...               ...   \n",
       "71513                  0                 0                 0   \n",
       "71514                  0                 1                 0   \n",
       "71515                  1                 1                 1   \n",
       "71516                  0                 1                 0   \n",
       "71517                  0                 0                 0   \n",
       "\n",
       "       number_diagnoses  diag_Diabetes  diag_Injury  diag_Musculoskeletal  \\\n",
       "0                     1              1            0                     0   \n",
       "1                     9              1            0                     0   \n",
       "2                     6              1            0                     0   \n",
       "3                     7              1            0                     0   \n",
       "4                     5              1            0                     0   \n",
       "...                 ...            ...          ...                   ...   \n",
       "71513                 9              1            0                     0   \n",
       "71514                 9              0            0                     0   \n",
       "71515                 9              0            1                     0   \n",
       "71516                 9              0            0                     0   \n",
       "71517                 9              0            0                     0   \n",
       "\n",
       "       diag_Neoplasms  diag_Other  race_AfricanAmerican  race_Caucasian  \\\n",
       "0                   0           1                     0               1   \n",
       "1                   0           1                     0               1   \n",
       "2                   0           1                     1               0   \n",
       "3                   0           1                     0               1   \n",
       "4                   1           0                     0               1   \n",
       "...               ...         ...                   ...             ...   \n",
       "71513               0           0                     0               1   \n",
       "71514               0           0                     0               0   \n",
       "71515               0           0                     0               0   \n",
       "71516               0           1                     0               1   \n",
       "71517               0           0                     0               1   \n",
       "\n",
       "       gender_Female  gender_Male  age_30 to 60  age_Over 60  \\\n",
       "0                  1            0             0            0   \n",
       "1                  1            0             0            0   \n",
       "2                  1            0             0            0   \n",
       "3                  0            1             1            0   \n",
       "4                  0            1             1            0   \n",
       "...              ...          ...           ...          ...   \n",
       "71513              1            0             0            1   \n",
       "71514              1            0             1            0   \n",
       "71515              1            0             1            0   \n",
       "71516              1            0             0            1   \n",
       "71517              0            1             0            1   \n",
       "\n",
       "       admission_type_id_Elective  admission_type_id_Emergency  \\\n",
       "0                               0                            0   \n",
       "1                               0                            1   \n",
       "2                               0                            1   \n",
       "3                               0                            1   \n",
       "4                               0                            1   \n",
       "...                           ...                          ...   \n",
       "71513                           0                            1   \n",
       "71514                           0                            1   \n",
       "71515                           0                            1   \n",
       "71516                           0                            1   \n",
       "71517                           0                            1   \n",
       "\n",
       "       admission_type_id_Other  discharge_disposition_id_Home  \\\n",
       "0                            1                              0   \n",
       "1                            0                              1   \n",
       "2                            0                              1   \n",
       "3                            0                              1   \n",
       "4                            0                              1   \n",
       "...                        ...                            ...   \n",
       "71513                        0                              1   \n",
       "71514                        0                              1   \n",
       "71515                        0                              1   \n",
       "71516                        0                              1   \n",
       "71517                        0                              1   \n",
       "\n",
       "       admission_source_id_Emergency  admission_source_id_Other  \\\n",
       "0                                  0                          0   \n",
       "1                                  1                          0   \n",
       "2                                  1                          0   \n",
       "3                                  1                          0   \n",
       "4                                  1                          0   \n",
       "...                              ...                        ...   \n",
       "71513                              1                          0   \n",
       "71514                              1                          0   \n",
       "71515                              1                          0   \n",
       "71516                              1                          0   \n",
       "71517                              1                          0   \n",
       "\n",
       "       admission_source_id_Referral  A1Cresult_>8  A1Cresult_None  \\\n",
       "0                                 1             0               1   \n",
       "1                                 0             0               1   \n",
       "2                                 0             0               1   \n",
       "3                                 0             0               1   \n",
       "4                                 0             0               1   \n",
       "...                             ...           ...             ...   \n",
       "71513                             0             0               0   \n",
       "71514                             0             1               0   \n",
       "71515                             0             0               1   \n",
       "71516                             0             0               1   \n",
       "71517                             0             0               1   \n",
       "\n",
       "       A1Cresult_Norm  metformin_No  metformin_Steady  glimepiride_Steady  \\\n",
       "0                   0             1                 0                   0   \n",
       "1                   0             1                 0                   0   \n",
       "2                   0             1                 0                   0   \n",
       "3                   0             1                 0                   0   \n",
       "4                   0             1                 0                   0   \n",
       "...               ...           ...               ...                 ...   \n",
       "71513               0             1                 0                   0   \n",
       "71514               0             1                 0                   0   \n",
       "71515               0             1                 0                   0   \n",
       "71516               0             1                 0                   0   \n",
       "71517               0             1                 0                   0   \n",
       "\n",
       "       glipizide_No  glipizide_Steady  glyburide_No  glyburide_Steady  \\\n",
       "0                 1                 0             1                 0   \n",
       "1                 1                 0             1                 0   \n",
       "2                 0                 1             1                 0   \n",
       "3                 1                 0             1                 0   \n",
       "4                 0                 1             1                 0   \n",
       "...             ...               ...           ...               ...   \n",
       "71513             1                 0             0                 0   \n",
       "71514             0                 1             1                 0   \n",
       "71515             1                 0             1                 0   \n",
       "71516             1                 0             1                 0   \n",
       "71517             1                 0             1                 0   \n",
       "\n",
       "       pioglitazone_No  rosiglitazone_No  rosiglitazone_Steady  insulin_Down  \\\n",
       "0                    1                 1                     0             0   \n",
       "1                    1                 1                     0             0   \n",
       "2                    1                 1                     0             0   \n",
       "3                    1                 1                     0             0   \n",
       "4                    1                 1                     0             0   \n",
       "...                ...               ...                   ...           ...   \n",
       "71513                1                 1                     0             0   \n",
       "71514                1                 1                     0             0   \n",
       "71515                1                 1                     0             0   \n",
       "71516                1                 1                     0             0   \n",
       "71517                1                 1                     0             0   \n",
       "\n",
       "       insulin_No  insulin_Steady  insulin_Up  change_Ch  change_No  \n",
       "0               1               0           0          0          1  \n",
       "1               0               0           1          1          0  \n",
       "2               1               0           0          0          1  \n",
       "3               0               0           1          1          0  \n",
       "4               0               1           0          1          0  \n",
       "...           ...             ...         ...        ...        ...  \n",
       "71513           0               1           0          1          0  \n",
       "71514           0               0           1          1          0  \n",
       "71515           0               1           0          0          1  \n",
       "71516           0               0           1          1          0  \n",
       "71517           1               0           0          0          1  \n",
       "\n",
       "[71515 rows x 45 columns]"
      ]
     },
     "execution_count": 54,
     "metadata": {},
     "output_type": "execute_result"
    }
   ],
   "source": [
    "X_"
   ]
  },
  {
   "cell_type": "markdown",
   "metadata": {},
   "source": [
    "# Balancing the Data Set"
   ]
  },
  {
   "cell_type": "code",
   "execution_count": 55,
   "metadata": {},
   "outputs": [
    {
     "data": {
      "image/png": "[encoded data removed]",
      "text/plain": [
       "<Figure size 576x432 with 1 Axes>"
      ]
     },
     "metadata": {},
     "output_type": "display_data"
    }
   ],
   "source": [
    "plt.figure(figsize=(8,6))\n",
    "sns.countplot(y_train, palette='binary')\n",
    "sns.despine()\n",
    "sns.set_style('whitegrid')\n",
    "plt.title('Imbalanced Data Set')\n",
    "plt.xticks([0,1],['Not Readmitted', 'Readmitted'], size = 12)\n",
    "plt.xlabel('')\n",
    "plt.ylabel('Count')\n",
    "plt.show()"
   ]
  },
  {
   "cell_type": "code",
   "execution_count": 57,
   "metadata": {},
   "outputs": [],
   "source": [
    "# SMOTE \n",
    "from imblearn.over_sampling import SMOTE \n",
    "sm = SMOTE(random_state=123)\n",
    "X_train_smo, y_train_smo = sm.fit_sample(X_train, y_train)\n"
   ]
  },
  {
   "cell_type": "code",
   "execution_count": 58,
   "metadata": {},
   "outputs": [
    {
     "data": {
      "image/png": "[encoded data removed]",
      "text/plain": [
       "<Figure size 576x432 with 1 Axes>"
      ]
     },
     "metadata": {},
     "output_type": "display_data"
    }
   ],
   "source": [
    "plt.figure(figsize=(8,6))\n",
    "sns.countplot(y_train_smo, palette='binary')\n",
    "sns.despine()\n",
    "sns.set_style('whitegrid')\n",
    "plt.title('Balanced Dataset')\n",
    "plt.xticks([0,1],['Not Readmitted', 'Readmitted'], size = 12)\n",
    "plt.xlabel('')\n",
    "plt.ylabel('Count')\n",
    "plt.show()"
   ]
  },
  {
   "cell_type": "markdown",
   "metadata": {},
   "source": [
    "## Model Base Line"
   ]
  },
  {
   "cell_type": "code",
   "execution_count": 59,
   "metadata": {},
   "outputs": [],
   "source": [
    "from sklearn.metrics import roc_auc_score, accuracy_score, precision_score, recall_score\n",
    "def calc_specificity(y_actual, y_pred, thresh):\n",
    "    # calculates specificity\n",
    "    return sum((y_pred < thresh) & (y_actual == 0)) /sum(y_actual ==0)\n",
    "\n",
    "def calc_prevalence(y_actual):\n",
    "    return (sum(y_actual)/len(y_actual))\n",
    "\n",
    "def print_report(y_actual, y_pred, thresh):\n",
    "    \n",
    "    auc = roc_auc_score(y_actual, y_pred)\n",
    "    accuracy = accuracy_score(y_actual, (y_pred > thresh))\n",
    "    recall = recall_score(y_actual, (y_pred > thresh))\n",
    "    precision = precision_score(y_actual, (y_pred > thresh))\n",
    "    specificity = calc_specificity(y_actual, y_pred, thresh)\n",
    "    print('AUC:%.3f'%auc)\n",
    "    print('accuracy:%.3f'%accuracy)\n",
    "    print('recall:%.3f'%recall)\n",
    "    print('precision:%.3f'%precision)\n",
    "    print('specificity:%.3f'%specificity)\n",
    "    print('prevalence:%.3f'%calc_prevalence(y_actual))\n",
    "    print(' ')\n",
    "    return auc, accuracy, recall, precision, specificity"
   ]
  },
  {
   "cell_type": "code",
   "execution_count": 60,
   "metadata": {},
   "outputs": [],
   "source": [
    "thresh = 0.5"
   ]
  },
  {
   "cell_type": "markdown",
   "metadata": {},
   "source": [
    "## Logistic regression"
   ]
  },
  {
   "cell_type": "markdown",
   "metadata": {},
   "source": [
    "- Confusion Matrix "
   ]
  },
  {
   "cell_type": "code",
   "execution_count": 121,
   "metadata": {},
   "outputs": [],
   "source": [
    "# create model logistic as logistic regression using Sklearn \n",
    "from sklearn.linear_model import LogisticRegression\n",
    "logisticreg = LogisticRegression(tol=1e-7, penalty='l2', C=0.0005, random_state = 123)\n",
    "logisticreg.fit(X_train_smo, y_train_smo)\n",
    "Ylog = logisticreg.predict(X_test)"
   ]
  },
  {
   "cell_type": "code",
   "execution_count": 122,
   "metadata": {},
   "outputs": [
    {
     "name": "stdout",
     "output_type": "stream",
     "text": [
      " The accuracy of the Logistic regression model: 0.8810739005802979\n"
     ]
    }
   ],
   "source": [
    "# Checking the accuracy of the model \n",
    "print(\" The accuracy of the Logistic regression model:\" ,logisticreg.score(X_test, y_test))"
   ]
  },
  {
   "cell_type": "code",
   "execution_count": 123,
   "metadata": {},
   "outputs": [
    {
     "name": "stdout",
     "output_type": "stream",
     "text": [
      "[[12551   493]\n",
      " [ 1208    51]]\n"
     ]
    }
   ],
   "source": [
    "from sklearn.metrics import confusion_matrix\n",
    "print(confusion_matrix(y_test, Ylog))"
   ]
  },
  {
   "cell_type": "code",
   "execution_count": 124,
   "metadata": {},
   "outputs": [
    {
     "data": {
      "image/png": "[encoded data removed]",
      "text/plain": [
       "<Figure size 648x648 with 2 Axes>"
      ]
     },
     "metadata": {},
     "output_type": "display_data"
    }
   ],
   "source": [
    "plt.figure(figsize=(9,9))\n",
    "sns.heatmap(confusion_matrix(y_test, Ylog), annot=True, fmt=\".3f\", linewidths=.5, square = True, cmap = 'Blues_r');\n",
    "plt.ylabel('Actual label');\n",
    "plt.xlabel('Predicted label');\n",
    "all_sample_title = 'Accuracy Score: {0}'.format(logisticreg.score(X_test, y_test))\n",
    "plt.title(all_sample_title, size = 15);"
   ]
  },
  {
   "cell_type": "code",
   "execution_count": 109,
   "metadata": {},
   "outputs": [
    {
     "name": "stdout",
     "output_type": "stream",
     "text": [
      "              precision    recall  f1-score   support\n",
      "\n",
      "          NO       0.91      0.94      0.93     13044\n",
      "         YES       0.11      0.07      0.09      1259\n",
      "\n",
      "    accuracy                           0.86     14303\n",
      "   macro avg       0.51      0.51      0.51     14303\n",
      "weighted avg       0.84      0.86      0.85     14303\n",
      "\n"
     ]
    }
   ],
   "source": [
    "# Checking the summary of classification\n",
    "from sklearn.metrics import classification_report\n",
    "print(classification_report(y_test, Ylog, target_names = ['NO', 'YES']))"
   ]
  },
  {
   "cell_type": "code",
   "execution_count": 110,
   "metadata": {},
   "outputs": [],
   "source": [
    "YScre = logisticreg.decision_function(X_test)"
   ]
  },
  {
   "cell_type": "code",
   "execution_count": 126,
   "metadata": {},
   "outputs": [
    {
     "data": {
      "image/png": "[encoded data removed]",
      "text/plain": [
       "<Figure size 576x396 with 1 Axes>"
      ]
     },
     "metadata": {},
     "output_type": "display_data"
    }
   ],
   "source": [
    "##Computing false and true positive rates\n",
    "from sklearn.metrics import roc_curve\n",
    "\n",
    "fpr, tpr,_=roc_curve(logisticreg.predict(X_train_smo),y_train_smo,drop_intermediate=False)\n",
    "\n",
    "import matplotlib.pyplot as plt\n",
    "plt.figure()\n",
    "##Creating the ROC,\n",
    "plt.plot(fpr, tpr, color='blue',\n",
    " lw=2, label='ROC curve')\n",
    "##Finding FPR and TPR,\n",
    "plt.plot([0, 1], [0, 1], color='red', lw=2, linestyle='--')\n",
    "##Splecifying the label and title,\n",
    "plt.xlabel('False Positive Rate')\n",
    "plt.ylabel('True Positive Rate')\n",
    "plt.title('ROC curve')\n",
    "plt.show()"
   ]
  },
  {
   "cell_type": "markdown",
   "metadata": {},
   "source": [
    "- Model"
   ]
  },
  {
   "cell_type": "code",
   "execution_count": 112,
   "metadata": {},
   "outputs": [],
   "source": [
    "# logistic regression\n",
    "from sklearn.linear_model import LogisticRegression\n",
    "lr=LogisticRegression(random_state = 123)\n",
    "lr = lr.fit(X_train_smo, y_train_smo)"
   ]
  },
  {
   "cell_type": "code",
   "execution_count": 113,
   "metadata": {},
   "outputs": [
    {
     "name": "stdout",
     "output_type": "stream",
     "text": [
      "Logistic Regression\n",
      "Training:\n",
      "AUC:0.530\n",
      "accuracy:0.868\n",
      "recall:0.068\n",
      "precision:0.106\n",
      "specificity:0.945\n",
      "prevalence:0.088\n",
      " \n",
      "Test:\n",
      "AUC:0.524\n",
      "accuracy:0.864\n",
      "recall:0.072\n",
      "precision:0.105\n",
      "specificity:0.941\n",
      "prevalence:0.088\n",
      " \n"
     ]
    }
   ],
   "source": [
    "y_train_preds = lr.predict_proba(X_train)[:,1]\n",
    "y_valid_preds = lr.predict_proba(X_test)[:,1]\n",
    "\n",
    "print('Logistic Regression')\n",
    "print('Training:')\n",
    "lr_train_auc, lr_train_accuracy, lr_train_recall, \\\n",
    "    lr_train_precision, lr_train_specificity = print_report(y_train,y_train_preds, thresh)\n",
    "print('Test:')\n",
    "lr_valid_auc, lr_valid_accuracy, lr_valid_recall, \\\n",
    "    lr_valid_precision, lr_valid_specificity = print_report(y_test,y_valid_preds, thresh)"
   ]
  },
  {
   "cell_type": "code",
   "execution_count": 114,
   "metadata": {},
   "outputs": [
    {
     "data": {
      "text/html": [
       "<style  type=\"text/css\" >\n",
       "</style><table id=\"T_37db9171_426a_11eb_b4ab_00155d0fd294\" ><thead>    <tr>        <th class=\"col_heading level0 col0\" >Quantile</th>        <th class=\"col_heading level0 col1\" >Unique Patients</th>        <th class=\"col_heading level0 col2\" ># Readmitted</th>        <th class=\"col_heading level0 col3\" >Min Prob</th>        <th class=\"col_heading level0 col4\" >Max Prob</th>        <th class=\"col_heading level0 col5\" >Average Prob</th>        <th class=\"col_heading level0 col6\" >Percent Readmitted</th>        <th class=\"col_heading level0 col7\" >Lift</th>    </tr></thead><tbody>\n",
       "                <tr>\n",
       "                                <td id=\"T_37db9171_426a_11eb_b4ab_00155d0fd294row0_col0\" class=\"data row0 col0\" >1</td>\n",
       "                        <td id=\"T_37db9171_426a_11eb_b4ab_00155d0fd294row0_col1\" class=\"data row0 col1\" >1431</td>\n",
       "                        <td id=\"T_37db9171_426a_11eb_b4ab_00155d0fd294row0_col2\" class=\"data row0 col2\" >114</td>\n",
       "                        <td id=\"T_37db9171_426a_11eb_b4ab_00155d0fd294row0_col3\" class=\"data row0 col3\" >0.000172</td>\n",
       "                        <td id=\"T_37db9171_426a_11eb_b4ab_00155d0fd294row0_col4\" class=\"data row0 col4\" >0.016268</td>\n",
       "                        <td id=\"T_37db9171_426a_11eb_b4ab_00155d0fd294row0_col5\" class=\"data row0 col5\" >0.008701</td>\n",
       "                        <td id=\"T_37db9171_426a_11eb_b4ab_00155d0fd294row0_col6\" class=\"data row0 col6\" >0.079665</td>\n",
       "                        <td id=\"T_37db9171_426a_11eb_b4ab_00155d0fd294row0_col7\" class=\"data row0 col7\" >0.905033</td>\n",
       "            </tr>\n",
       "            <tr>\n",
       "                                <td id=\"T_37db9171_426a_11eb_b4ab_00155d0fd294row1_col0\" class=\"data row1 col0\" >2</td>\n",
       "                        <td id=\"T_37db9171_426a_11eb_b4ab_00155d0fd294row1_col1\" class=\"data row1 col1\" >1430</td>\n",
       "                        <td id=\"T_37db9171_426a_11eb_b4ab_00155d0fd294row1_col2\" class=\"data row1 col2\" >117</td>\n",
       "                        <td id=\"T_37db9171_426a_11eb_b4ab_00155d0fd294row1_col3\" class=\"data row1 col3\" >0.016318</td>\n",
       "                        <td id=\"T_37db9171_426a_11eb_b4ab_00155d0fd294row1_col4\" class=\"data row1 col4\" >0.033227</td>\n",
       "                        <td id=\"T_37db9171_426a_11eb_b4ab_00155d0fd294row1_col5\" class=\"data row1 col5\" >0.024534</td>\n",
       "                        <td id=\"T_37db9171_426a_11eb_b4ab_00155d0fd294row1_col6\" class=\"data row1 col6\" >0.081818</td>\n",
       "                        <td id=\"T_37db9171_426a_11eb_b4ab_00155d0fd294row1_col7\" class=\"data row1 col7\" >0.929499</td>\n",
       "            </tr>\n",
       "            <tr>\n",
       "                                <td id=\"T_37db9171_426a_11eb_b4ab_00155d0fd294row2_col0\" class=\"data row2 col0\" >3</td>\n",
       "                        <td id=\"T_37db9171_426a_11eb_b4ab_00155d0fd294row2_col1\" class=\"data row2 col1\" >1430</td>\n",
       "                        <td id=\"T_37db9171_426a_11eb_b4ab_00155d0fd294row2_col2\" class=\"data row2 col2\" >112</td>\n",
       "                        <td id=\"T_37db9171_426a_11eb_b4ab_00155d0fd294row2_col3\" class=\"data row2 col3\" >0.033235</td>\n",
       "                        <td id=\"T_37db9171_426a_11eb_b4ab_00155d0fd294row2_col4\" class=\"data row2 col4\" >0.053696</td>\n",
       "                        <td id=\"T_37db9171_426a_11eb_b4ab_00155d0fd294row2_col5\" class=\"data row2 col5\" >0.042970</td>\n",
       "                        <td id=\"T_37db9171_426a_11eb_b4ab_00155d0fd294row2_col6\" class=\"data row2 col6\" >0.078322</td>\n",
       "                        <td id=\"T_37db9171_426a_11eb_b4ab_00155d0fd294row2_col7\" class=\"data row2 col7\" >0.889777</td>\n",
       "            </tr>\n",
       "            <tr>\n",
       "                                <td id=\"T_37db9171_426a_11eb_b4ab_00155d0fd294row3_col0\" class=\"data row3 col0\" >4</td>\n",
       "                        <td id=\"T_37db9171_426a_11eb_b4ab_00155d0fd294row3_col1\" class=\"data row3 col1\" >1430</td>\n",
       "                        <td id=\"T_37db9171_426a_11eb_b4ab_00155d0fd294row3_col2\" class=\"data row3 col2\" >125</td>\n",
       "                        <td id=\"T_37db9171_426a_11eb_b4ab_00155d0fd294row3_col3\" class=\"data row3 col3\" >0.053710</td>\n",
       "                        <td id=\"T_37db9171_426a_11eb_b4ab_00155d0fd294row3_col4\" class=\"data row3 col4\" >0.079385</td>\n",
       "                        <td id=\"T_37db9171_426a_11eb_b4ab_00155d0fd294row3_col5\" class=\"data row3 col5\" >0.066023</td>\n",
       "                        <td id=\"T_37db9171_426a_11eb_b4ab_00155d0fd294row3_col6\" class=\"data row3 col6\" >0.087413</td>\n",
       "                        <td id=\"T_37db9171_426a_11eb_b4ab_00155d0fd294row3_col7\" class=\"data row3 col7\" >0.993054</td>\n",
       "            </tr>\n",
       "            <tr>\n",
       "                                <td id=\"T_37db9171_426a_11eb_b4ab_00155d0fd294row4_col0\" class=\"data row4 col0\" >5</td>\n",
       "                        <td id=\"T_37db9171_426a_11eb_b4ab_00155d0fd294row4_col1\" class=\"data row4 col1\" >1431</td>\n",
       "                        <td id=\"T_37db9171_426a_11eb_b4ab_00155d0fd294row4_col2\" class=\"data row4 col2\" >119</td>\n",
       "                        <td id=\"T_37db9171_426a_11eb_b4ab_00155d0fd294row4_col3\" class=\"data row4 col3\" >0.079426</td>\n",
       "                        <td id=\"T_37db9171_426a_11eb_b4ab_00155d0fd294row4_col4\" class=\"data row4 col4\" >0.111052</td>\n",
       "                        <td id=\"T_37db9171_426a_11eb_b4ab_00155d0fd294row4_col5\" class=\"data row4 col5\" >0.094632</td>\n",
       "                        <td id=\"T_37db9171_426a_11eb_b4ab_00155d0fd294row4_col6\" class=\"data row4 col6\" >0.083159</td>\n",
       "                        <td id=\"T_37db9171_426a_11eb_b4ab_00155d0fd294row4_col7\" class=\"data row4 col7\" >0.944727</td>\n",
       "            </tr>\n",
       "            <tr>\n",
       "                                <td id=\"T_37db9171_426a_11eb_b4ab_00155d0fd294row5_col0\" class=\"data row5 col0\" >6</td>\n",
       "                        <td id=\"T_37db9171_426a_11eb_b4ab_00155d0fd294row5_col1\" class=\"data row5 col1\" >1430</td>\n",
       "                        <td id=\"T_37db9171_426a_11eb_b4ab_00155d0fd294row5_col2\" class=\"data row5 col2\" >128</td>\n",
       "                        <td id=\"T_37db9171_426a_11eb_b4ab_00155d0fd294row5_col3\" class=\"data row5 col3\" >0.111075</td>\n",
       "                        <td id=\"T_37db9171_426a_11eb_b4ab_00155d0fd294row5_col4\" class=\"data row5 col4\" >0.152106</td>\n",
       "                        <td id=\"T_37db9171_426a_11eb_b4ab_00155d0fd294row5_col5\" class=\"data row5 col5\" >0.130739</td>\n",
       "                        <td id=\"T_37db9171_426a_11eb_b4ab_00155d0fd294row5_col6\" class=\"data row5 col6\" >0.089510</td>\n",
       "                        <td id=\"T_37db9171_426a_11eb_b4ab_00155d0fd294row5_col7\" class=\"data row5 col7\" >1.016888</td>\n",
       "            </tr>\n",
       "            <tr>\n",
       "                                <td id=\"T_37db9171_426a_11eb_b4ab_00155d0fd294row6_col0\" class=\"data row6 col0\" >7</td>\n",
       "                        <td id=\"T_37db9171_426a_11eb_b4ab_00155d0fd294row6_col1\" class=\"data row6 col1\" >1430</td>\n",
       "                        <td id=\"T_37db9171_426a_11eb_b4ab_00155d0fd294row6_col2\" class=\"data row6 col2\" >123</td>\n",
       "                        <td id=\"T_37db9171_426a_11eb_b4ab_00155d0fd294row6_col3\" class=\"data row6 col3\" >0.152227</td>\n",
       "                        <td id=\"T_37db9171_426a_11eb_b4ab_00155d0fd294row6_col4\" class=\"data row6 col4\" >0.208532</td>\n",
       "                        <td id=\"T_37db9171_426a_11eb_b4ab_00155d0fd294row6_col5\" class=\"data row6 col5\" >0.179241</td>\n",
       "                        <td id=\"T_37db9171_426a_11eb_b4ab_00155d0fd294row6_col6\" class=\"data row6 col6\" >0.086014</td>\n",
       "                        <td id=\"T_37db9171_426a_11eb_b4ab_00155d0fd294row6_col7\" class=\"data row6 col7\" >0.977165</td>\n",
       "            </tr>\n",
       "            <tr>\n",
       "                                <td id=\"T_37db9171_426a_11eb_b4ab_00155d0fd294row7_col0\" class=\"data row7 col0\" >8</td>\n",
       "                        <td id=\"T_37db9171_426a_11eb_b4ab_00155d0fd294row7_col1\" class=\"data row7 col1\" >1430</td>\n",
       "                        <td id=\"T_37db9171_426a_11eb_b4ab_00155d0fd294row7_col2\" class=\"data row7 col2\" >144</td>\n",
       "                        <td id=\"T_37db9171_426a_11eb_b4ab_00155d0fd294row7_col3\" class=\"data row7 col3\" >0.208588</td>\n",
       "                        <td id=\"T_37db9171_426a_11eb_b4ab_00155d0fd294row7_col4\" class=\"data row7 col4\" >0.286184</td>\n",
       "                        <td id=\"T_37db9171_426a_11eb_b4ab_00155d0fd294row7_col5\" class=\"data row7 col5\" >0.245000</td>\n",
       "                        <td id=\"T_37db9171_426a_11eb_b4ab_00155d0fd294row7_col6\" class=\"data row7 col6\" >0.100699</td>\n",
       "                        <td id=\"T_37db9171_426a_11eb_b4ab_00155d0fd294row7_col7\" class=\"data row7 col7\" >1.143999</td>\n",
       "            </tr>\n",
       "            <tr>\n",
       "                                <td id=\"T_37db9171_426a_11eb_b4ab_00155d0fd294row8_col0\" class=\"data row8 col0\" >9</td>\n",
       "                        <td id=\"T_37db9171_426a_11eb_b4ab_00155d0fd294row8_col1\" class=\"data row8 col1\" >1430</td>\n",
       "                        <td id=\"T_37db9171_426a_11eb_b4ab_00155d0fd294row8_col2\" class=\"data row8 col2\" >142</td>\n",
       "                        <td id=\"T_37db9171_426a_11eb_b4ab_00155d0fd294row8_col3\" class=\"data row8 col3\" >0.286205</td>\n",
       "                        <td id=\"T_37db9171_426a_11eb_b4ab_00155d0fd294row8_col4\" class=\"data row8 col4\" >0.411316</td>\n",
       "                        <td id=\"T_37db9171_426a_11eb_b4ab_00155d0fd294row8_col5\" class=\"data row8 col5\" >0.342535</td>\n",
       "                        <td id=\"T_37db9171_426a_11eb_b4ab_00155d0fd294row8_col6\" class=\"data row8 col6\" >0.099301</td>\n",
       "                        <td id=\"T_37db9171_426a_11eb_b4ab_00155d0fd294row8_col7\" class=\"data row8 col7\" >1.128110</td>\n",
       "            </tr>\n",
       "            <tr>\n",
       "                                <td id=\"T_37db9171_426a_11eb_b4ab_00155d0fd294row9_col0\" class=\"data row9 col0\" >10</td>\n",
       "                        <td id=\"T_37db9171_426a_11eb_b4ab_00155d0fd294row9_col1\" class=\"data row9 col1\" >1431</td>\n",
       "                        <td id=\"T_37db9171_426a_11eb_b4ab_00155d0fd294row9_col2\" class=\"data row9 col2\" >135</td>\n",
       "                        <td id=\"T_37db9171_426a_11eb_b4ab_00155d0fd294row9_col3\" class=\"data row9 col3\" >0.411362</td>\n",
       "                        <td id=\"T_37db9171_426a_11eb_b4ab_00155d0fd294row9_col4\" class=\"data row9 col4\" >0.970208</td>\n",
       "                        <td id=\"T_37db9171_426a_11eb_b4ab_00155d0fd294row9_col5\" class=\"data row9 col5\" >0.554855</td>\n",
       "                        <td id=\"T_37db9171_426a_11eb_b4ab_00155d0fd294row9_col6\" class=\"data row9 col6\" >0.094340</td>\n",
       "                        <td id=\"T_37db9171_426a_11eb_b4ab_00155d0fd294row9_col7\" class=\"data row9 col7\" >1.071749</td>\n",
       "            </tr>\n",
       "    </tbody></table>"
      ],
      "text/plain": [
       "<pandas.io.formats.style.Styler at 0x1f96d6c4610>"
      ]
     },
     "execution_count": 114,
     "metadata": {},
     "output_type": "execute_result"
    }
   ],
   "source": [
    "readmit_proba = [i[1] for i in lr.predict_proba(X_test)]\n",
    "quant = pd.qcut(readmit_proba,10,labels=np.arange(1,11))\n",
    "prob = {'Quantile':quant,'# Readmitted':readmit_proba,'y':y_test}\n",
    "\n",
    "deciles_lr = pd.DataFrame(prob).sort_values('Quantile')\n",
    "dec1 = deciles_lr.groupby('Quantile')['# Readmitted'].agg(['count','min','max','mean']).reset_index()\n",
    "dec2 = deciles_lr.groupby(['Quantile','y']).count().reset_index()\n",
    "dec2 = dec2[dec2['y']==1]\n",
    "deciles_lr = pd.merge(dec2, dec1, how='inner',on ='Quantile').drop('y',1).\\\n",
    "        rename({'count':'Unique Patients', 'min':'Min Prob', 'mean':'Average Prob','max':'Max Prob'},axis=1)\n",
    "\n",
    "deciles_lr = deciles_lr[deciles_lr.columns[[0,2,1,3,4,5]]]\n",
    "deciles_lr['Percent Readmitted'] = deciles_lr['# Readmitted']/deciles_lr['Unique Patients']\n",
    "deciles_lr['Lift'] = deciles_lr['Percent Readmitted'].apply(lambda x:10*x/deciles_lr['Percent Readmitted'].sum())\n",
    "deciles_lr.style.hide_index()"
   ]
  },
  {
   "cell_type": "code",
   "execution_count": 115,
   "metadata": {},
   "outputs": [
    {
     "name": "stdout",
     "output_type": "stream",
     "text": [
      "\n",
      "If the top two quantiles are targeted instead of a random sampling, the percent readmitted increases from 0.088 to 0.1936\n",
      "\n"
     ]
    },
    {
     "data": {
      "text/html": [
       "<div>\n",
       "<style scoped>\n",
       "    .dataframe tbody tr th:only-of-type {\n",
       "        vertical-align: middle;\n",
       "    }\n",
       "\n",
       "    .dataframe tbody tr th {\n",
       "        vertical-align: top;\n",
       "    }\n",
       "\n",
       "    .dataframe thead th {\n",
       "        text-align: right;\n",
       "    }\n",
       "</style>\n",
       "<table border=\"1\" class=\"dataframe\">\n",
       "  <thead>\n",
       "    <tr style=\"text-align: right;\">\n",
       "      <th></th>\n",
       "      <th>Unique Patients</th>\n",
       "      <th># Readmitted</th>\n",
       "      <th>Percent Readmitted</th>\n",
       "    </tr>\n",
       "  </thead>\n",
       "  <tbody>\n",
       "    <tr>\n",
       "      <th>Random Sampling</th>\n",
       "      <td>14303</td>\n",
       "      <td>1259</td>\n",
       "      <td>0.088023</td>\n",
       "    </tr>\n",
       "    <tr>\n",
       "      <th>Top 2 Quantiles</th>\n",
       "      <td>2861</td>\n",
       "      <td>277</td>\n",
       "      <td>0.096819</td>\n",
       "    </tr>\n",
       "  </tbody>\n",
       "</table>\n",
       "</div>"
      ],
      "text/plain": [
       "                 Unique Patients  # Readmitted  Percent Readmitted\n",
       "Random Sampling            14303          1259            0.088023\n",
       "Top 2 Quantiles             2861           277            0.096819"
      ]
     },
     "execution_count": 115,
     "metadata": {},
     "output_type": "execute_result"
    }
   ],
   "source": [
    "tot_compdic = {'Unique Patients': [deciles_lr['Unique Patients'].sum(), deciles_lr['Unique Patients'][8] + deciles_lr['Unique Patients'][9]], \n",
    "               '# Readmitted': [deciles_lr['# Readmitted'].sum(), deciles_lr['# Readmitted'][8] + deciles_lr['# Readmitted'][9]]}\n",
    "\n",
    "tot_compdic['Percent Readmitted'] = [tot_compdic['# Readmitted'][0]/tot_compdic['Unique Patients'][0],\n",
    "                                     tot_compdic['# Readmitted'][1]/tot_compdic['Unique Patients'][1]]\n",
    "\n",
    "tot_compdf = pd.DataFrame(tot_compdic, index = ['Random Sampling','Top 2 Quantiles'])\n",
    "\n",
    "lr_readmit_rand = tot_compdf['Percent Readmitted'][0].round(4)\n",
    "lr_readmit_top_2 = (deciles_lr['Percent Readmitted'][8] + deciles_lr['Percent Readmitted'][9]).round(4)\n",
    "\n",
    "print('')\n",
    "print(f'If the top two quantiles are targeted instead of a random sampling, the percent readmitted increases from',\n",
    "      lr_readmit_rand, 'to',lr_readmit_top_2)\n",
    "print('')\n",
    "tot_compdf"
   ]
  },
  {
   "cell_type": "code",
   "execution_count": 116,
   "metadata": {},
   "outputs": [
    {
     "data": {
      "text/plain": [
       "Text(0, 0.5, 'Feature')"
      ]
     },
     "execution_count": 116,
     "metadata": {},
     "output_type": "execute_result"
    },
    {
     "data": {
      "image/png": "[encoded data removed]",
      "text/plain": [
       "<Figure size 576x396 with 1 Axes>"
      ]
     },
     "metadata": {},
     "output_type": "display_data"
    }
   ],
   "source": [
    "lr_feat_dict = {'Feature':X_train_smo.columns, 'Feature Importance':lr.coef_.reshape(lr.coef_.shape[1],)}\n",
    "lr_feat_df = pd.DataFrame(lr_feat_dict)\n",
    "lr_feat_df = lr_feat_df.sort_values('Feature Importance', ascending=False).head(10)\n",
    "lr_feat_df\n",
    "\n",
    "plt.figure()\n",
    "sns.barplot(x = lr_feat_df['Feature Importance'], y = lr_feat_df['Feature'], palette = 'binary_r')\n",
    "sns.set_style('whitegrid')\n",
    "plt.title('Feature Importance: Logistic Regression')\n",
    "plt.xlabel('Feature Importance')\n",
    "plt.ylabel('Feature')"
   ]
  },
  {
   "cell_type": "markdown",
   "metadata": {},
   "source": [
    "## Logistic Regression CV"
   ]
  },
  {
   "cell_type": "markdown",
   "metadata": {},
   "source": [
    "- Confusion Matrix"
   ]
  },
  {
   "cell_type": "code",
   "execution_count": 128,
   "metadata": {},
   "outputs": [],
   "source": [
    "# create model logistic as logistic regression using Sklearn \n",
    "from sklearn.linear_model import LogisticRegressionCV\n",
    "logisticregCV = LogisticRegressionCV(tol=1e-7, penalty='l2', random_state = 123)\n",
    "logisticregCV.fit(X_train_smo, y_train_smo)\n",
    "YlogCV = logisticregCV.predict(X_test)"
   ]
  },
  {
   "cell_type": "code",
   "execution_count": 118,
   "metadata": {},
   "outputs": [
    {
     "name": "stdout",
     "output_type": "stream",
     "text": [
      " The accuracy of the Logistic regression model: 0.903516744738866\n"
     ]
    }
   ],
   "source": [
    "# Checking the accuracy of the model \n",
    "print(\" The accuracy of the Logistic regression model:\" ,logisticregCV.score(X_test, y_test))"
   ]
  },
  {
   "cell_type": "code",
   "execution_count": 119,
   "metadata": {},
   "outputs": [
    {
     "name": "stdout",
     "output_type": "stream",
     "text": [
      "[[12898   146]\n",
      " [ 1234    25]]\n"
     ]
    }
   ],
   "source": [
    "from sklearn.metrics import confusion_matrix\n",
    "print(confusion_matrix(y_test, YlogCV))"
   ]
  },
  {
   "cell_type": "code",
   "execution_count": 120,
   "metadata": {},
   "outputs": [
    {
     "data": {
      "image/png": "[encoded data removed]",
      "text/plain": [
       "<Figure size 648x648 with 2 Axes>"
      ]
     },
     "metadata": {},
     "output_type": "display_data"
    }
   ],
   "source": [
    "plt.figure(figsize=(9,9))\n",
    "sns.heatmap(confusion_matrix(y_test, YlogCV), annot=True, fmt=\".3f\", linewidths=.5, square = True, cmap = 'Blues_r');\n",
    "plt.ylabel('Actual label');\n",
    "plt.xlabel('Predicted label');\n",
    "all_sample_title = 'Accuracy Score: {0}'.format(logisticregCV.score(X_test, y_test))\n",
    "plt.title(all_sample_title, size = 15);"
   ]
  },
  {
   "cell_type": "code",
   "execution_count": 92,
   "metadata": {},
   "outputs": [
    {
     "name": "stdout",
     "output_type": "stream",
     "text": [
      "              precision    recall  f1-score   support\n",
      "\n",
      "          NO       0.91      0.99      0.95     13044\n",
      "         YES       0.15      0.02      0.03      1259\n",
      "\n",
      "    accuracy                           0.90     14303\n",
      "   macro avg       0.53      0.50      0.49     14303\n",
      "weighted avg       0.85      0.90      0.87     14303\n",
      "\n"
     ]
    }
   ],
   "source": [
    "# Checking the summary of classification\n",
    "from sklearn.metrics import classification_report\n",
    "print(classification_report(y_test, YlogCV, target_names = ['NO', 'YES']))"
   ]
  },
  {
   "cell_type": "code",
   "execution_count": 93,
   "metadata": {},
   "outputs": [],
   "source": [
    "YScreCV = logisticregCV.decision_function(X_test)"
   ]
  },
  {
   "cell_type": "code",
   "execution_count": 94,
   "metadata": {},
   "outputs": [
    {
     "data": {
      "image/png": "[encoded data removed]",
      "text/plain": [
       "<Figure size 576x396 with 1 Axes>"
      ]
     },
     "metadata": {},
     "output_type": "display_data"
    }
   ],
   "source": [
    "##Computing false and true positive rates\n",
    "from sklearn.metrics import roc_curve\n",
    "\n",
    "fpr, tpr,_=roc_curve(logisticregCV.predict(X_train_smo),y_train_smo,drop_intermediate=False)\n",
    "\n",
    "import matplotlib.pyplot as plt\n",
    "plt.figure()\n",
    "##Creating the ROC,\n",
    "plt.plot(fpr, tpr, color='blue',\n",
    " lw=2, label='ROC curve')\n",
    "##Finding FPR and TPR,\n",
    "plt.plot([0, 1], [0, 1], color='red', lw=2, linestyle='--')\n",
    "##Splecifying the label and title,\n",
    "plt.xlabel('False Positive Rate')\n",
    "plt.ylabel('True Positive Rate')\n",
    "plt.title('ROC curve')\n",
    "plt.show()"
   ]
  },
  {
   "cell_type": "code",
   "execution_count": 96,
   "metadata": {},
   "outputs": [
    {
     "data": {
      "text/plain": [
       "LogisticRegressionCV(random_state=123, tol=1e-07)"
      ]
     },
     "execution_count": 96,
     "metadata": {},
     "output_type": "execute_result"
    }
   ],
   "source": [
    "# logistic regression CV\n",
    "from sklearn.linear_model import LogisticRegressionCV\n",
    "lr_cv=LogisticRegressionCV(random_state = 123)\n",
    "lr_cv.fit(X_train_smo, y_train_smo)"
   ]
  },
  {
   "cell_type": "code",
   "execution_count": 104,
   "metadata": {},
   "outputs": [
    {
     "name": "stdout",
     "output_type": "stream",
     "text": [
      "Logistic Regression CV\n",
      "Training:\n",
      "AUC:0.558\n",
      "accuracy:0.903\n",
      "recall:0.019\n",
      "precision:0.134\n",
      "specificity:0.988\n",
      "prevalence:0.088\n",
      " \n",
      "Test:\n",
      "AUC:0.547\n",
      "accuracy:0.904\n",
      "recall:0.020\n",
      "precision:0.146\n",
      "specificity:0.989\n",
      "prevalence:0.088\n",
      " \n"
     ]
    }
   ],
   "source": [
    "y_train_preds = lr_cv.predict_proba(X_train)[:,1]\n",
    "y_valid_preds = lr_cv.predict_proba(X_test)[:,1]\n",
    "\n",
    "print('Logistic Regression CV')\n",
    "print('Training:')\n",
    "lr_train_auc, lr_train_accuracy, lr_train_recall, \\\n",
    "    lr_train_precision, lr_train_specificity = print_report(y_train,y_train_preds, thresh)\n",
    "print('Test:')\n",
    "lr_valid_auc, lr_valid_accuracy, lr_valid_recall, \\\n",
    "    lr_valid_precision, lr_valid_specificity = print_report(y_test,y_valid_preds, thresh)"
   ]
  },
  {
   "cell_type": "code",
   "execution_count": 43,
   "metadata": {},
   "outputs": [
    {
     "data": {
      "text/html": [
       "<style  type=\"text/css\" >\n",
       "</style><table id=\"T_d8c08505_4265_11eb_9278_00155d0fd294\" ><thead>    <tr>        <th class=\"col_heading level0 col0\" >Quantile</th>        <th class=\"col_heading level0 col1\" >Unique Patients</th>        <th class=\"col_heading level0 col2\" ># Readmitted</th>        <th class=\"col_heading level0 col3\" >Min Prob</th>        <th class=\"col_heading level0 col4\" >Max Prob</th>        <th class=\"col_heading level0 col5\" >Average Prob</th>        <th class=\"col_heading level0 col6\" >Percent Readmitted</th>        <th class=\"col_heading level0 col7\" >Lift</th>    </tr></thead><tbody>\n",
       "                <tr>\n",
       "                                <td id=\"T_d8c08505_4265_11eb_9278_00155d0fd294row0_col0\" class=\"data row0 col0\" >1</td>\n",
       "                        <td id=\"T_d8c08505_4265_11eb_9278_00155d0fd294row0_col1\" class=\"data row0 col1\" >1431</td>\n",
       "                        <td id=\"T_d8c08505_4265_11eb_9278_00155d0fd294row0_col2\" class=\"data row0 col2\" >95</td>\n",
       "                        <td id=\"T_d8c08505_4265_11eb_9278_00155d0fd294row0_col3\" class=\"data row0 col3\" >0.005164</td>\n",
       "                        <td id=\"T_d8c08505_4265_11eb_9278_00155d0fd294row0_col4\" class=\"data row0 col4\" >0.038251</td>\n",
       "                        <td id=\"T_d8c08505_4265_11eb_9278_00155d0fd294row0_col5\" class=\"data row0 col5\" >0.027893</td>\n",
       "                        <td id=\"T_d8c08505_4265_11eb_9278_00155d0fd294row0_col6\" class=\"data row0 col6\" >0.066387</td>\n",
       "                        <td id=\"T_d8c08505_4265_11eb_9278_00155d0fd294row0_col7\" class=\"data row0 col7\" >0.754198</td>\n",
       "            </tr>\n",
       "            <tr>\n",
       "                                <td id=\"T_d8c08505_4265_11eb_9278_00155d0fd294row1_col0\" class=\"data row1 col0\" >2</td>\n",
       "                        <td id=\"T_d8c08505_4265_11eb_9278_00155d0fd294row1_col1\" class=\"data row1 col1\" >1430</td>\n",
       "                        <td id=\"T_d8c08505_4265_11eb_9278_00155d0fd294row1_col2\" class=\"data row1 col2\" >111</td>\n",
       "                        <td id=\"T_d8c08505_4265_11eb_9278_00155d0fd294row1_col3\" class=\"data row1 col3\" >0.038254</td>\n",
       "                        <td id=\"T_d8c08505_4265_11eb_9278_00155d0fd294row1_col4\" class=\"data row1 col4\" >0.052994</td>\n",
       "                        <td id=\"T_d8c08505_4265_11eb_9278_00155d0fd294row1_col5\" class=\"data row1 col5\" >0.045694</td>\n",
       "                        <td id=\"T_d8c08505_4265_11eb_9278_00155d0fd294row1_col6\" class=\"data row1 col6\" >0.077622</td>\n",
       "                        <td id=\"T_d8c08505_4265_11eb_9278_00155d0fd294row1_col7\" class=\"data row1 col7\" >0.881838</td>\n",
       "            </tr>\n",
       "            <tr>\n",
       "                                <td id=\"T_d8c08505_4265_11eb_9278_00155d0fd294row2_col0\" class=\"data row2 col0\" >3</td>\n",
       "                        <td id=\"T_d8c08505_4265_11eb_9278_00155d0fd294row2_col1\" class=\"data row2 col1\" >1430</td>\n",
       "                        <td id=\"T_d8c08505_4265_11eb_9278_00155d0fd294row2_col2\" class=\"data row2 col2\" >109</td>\n",
       "                        <td id=\"T_d8c08505_4265_11eb_9278_00155d0fd294row2_col3\" class=\"data row2 col3\" >0.053003</td>\n",
       "                        <td id=\"T_d8c08505_4265_11eb_9278_00155d0fd294row2_col4\" class=\"data row2 col4\" >0.067286</td>\n",
       "                        <td id=\"T_d8c08505_4265_11eb_9278_00155d0fd294row2_col5\" class=\"data row2 col5\" >0.059978</td>\n",
       "                        <td id=\"T_d8c08505_4265_11eb_9278_00155d0fd294row2_col6\" class=\"data row2 col6\" >0.076224</td>\n",
       "                        <td id=\"T_d8c08505_4265_11eb_9278_00155d0fd294row2_col7\" class=\"data row2 col7\" >0.865949</td>\n",
       "            </tr>\n",
       "            <tr>\n",
       "                                <td id=\"T_d8c08505_4265_11eb_9278_00155d0fd294row3_col0\" class=\"data row3 col0\" >4</td>\n",
       "                        <td id=\"T_d8c08505_4265_11eb_9278_00155d0fd294row3_col1\" class=\"data row3 col1\" >1430</td>\n",
       "                        <td id=\"T_d8c08505_4265_11eb_9278_00155d0fd294row3_col2\" class=\"data row3 col2\" >118</td>\n",
       "                        <td id=\"T_d8c08505_4265_11eb_9278_00155d0fd294row3_col3\" class=\"data row3 col3\" >0.067286</td>\n",
       "                        <td id=\"T_d8c08505_4265_11eb_9278_00155d0fd294row3_col4\" class=\"data row3 col4\" >0.084235</td>\n",
       "                        <td id=\"T_d8c08505_4265_11eb_9278_00155d0fd294row3_col5\" class=\"data row3 col5\" >0.075945</td>\n",
       "                        <td id=\"T_d8c08505_4265_11eb_9278_00155d0fd294row3_col6\" class=\"data row3 col6\" >0.082517</td>\n",
       "                        <td id=\"T_d8c08505_4265_11eb_9278_00155d0fd294row3_col7\" class=\"data row3 col7\" >0.937449</td>\n",
       "            </tr>\n",
       "            <tr>\n",
       "                                <td id=\"T_d8c08505_4265_11eb_9278_00155d0fd294row4_col0\" class=\"data row4 col0\" >5</td>\n",
       "                        <td id=\"T_d8c08505_4265_11eb_9278_00155d0fd294row4_col1\" class=\"data row4 col1\" >1431</td>\n",
       "                        <td id=\"T_d8c08505_4265_11eb_9278_00155d0fd294row4_col2\" class=\"data row4 col2\" >125</td>\n",
       "                        <td id=\"T_d8c08505_4265_11eb_9278_00155d0fd294row4_col3\" class=\"data row4 col3\" >0.084236</td>\n",
       "                        <td id=\"T_d8c08505_4265_11eb_9278_00155d0fd294row4_col4\" class=\"data row4 col4\" >0.101397</td>\n",
       "                        <td id=\"T_d8c08505_4265_11eb_9278_00155d0fd294row4_col5\" class=\"data row4 col5\" >0.092764</td>\n",
       "                        <td id=\"T_d8c08505_4265_11eb_9278_00155d0fd294row4_col6\" class=\"data row4 col6\" >0.087352</td>\n",
       "                        <td id=\"T_d8c08505_4265_11eb_9278_00155d0fd294row4_col7\" class=\"data row4 col7\" >0.992366</td>\n",
       "            </tr>\n",
       "            <tr>\n",
       "                                <td id=\"T_d8c08505_4265_11eb_9278_00155d0fd294row5_col0\" class=\"data row5 col0\" >6</td>\n",
       "                        <td id=\"T_d8c08505_4265_11eb_9278_00155d0fd294row5_col1\" class=\"data row5 col1\" >1430</td>\n",
       "                        <td id=\"T_d8c08505_4265_11eb_9278_00155d0fd294row5_col2\" class=\"data row5 col2\" >112</td>\n",
       "                        <td id=\"T_d8c08505_4265_11eb_9278_00155d0fd294row5_col3\" class=\"data row5 col3\" >0.101404</td>\n",
       "                        <td id=\"T_d8c08505_4265_11eb_9278_00155d0fd294row5_col4\" class=\"data row5 col4\" >0.123681</td>\n",
       "                        <td id=\"T_d8c08505_4265_11eb_9278_00155d0fd294row5_col5\" class=\"data row5 col5\" >0.112094</td>\n",
       "                        <td id=\"T_d8c08505_4265_11eb_9278_00155d0fd294row5_col6\" class=\"data row5 col6\" >0.078322</td>\n",
       "                        <td id=\"T_d8c08505_4265_11eb_9278_00155d0fd294row5_col7\" class=\"data row5 col7\" >0.889782</td>\n",
       "            </tr>\n",
       "            <tr>\n",
       "                                <td id=\"T_d8c08505_4265_11eb_9278_00155d0fd294row6_col0\" class=\"data row6 col0\" >7</td>\n",
       "                        <td id=\"T_d8c08505_4265_11eb_9278_00155d0fd294row6_col1\" class=\"data row6 col1\" >1430</td>\n",
       "                        <td id=\"T_d8c08505_4265_11eb_9278_00155d0fd294row6_col2\" class=\"data row6 col2\" >138</td>\n",
       "                        <td id=\"T_d8c08505_4265_11eb_9278_00155d0fd294row6_col3\" class=\"data row6 col3\" >0.123692</td>\n",
       "                        <td id=\"T_d8c08505_4265_11eb_9278_00155d0fd294row6_col4\" class=\"data row6 col4\" >0.152070</td>\n",
       "                        <td id=\"T_d8c08505_4265_11eb_9278_00155d0fd294row6_col5\" class=\"data row6 col5\" >0.136872</td>\n",
       "                        <td id=\"T_d8c08505_4265_11eb_9278_00155d0fd294row6_col6\" class=\"data row6 col6\" >0.096503</td>\n",
       "                        <td id=\"T_d8c08505_4265_11eb_9278_00155d0fd294row6_col7\" class=\"data row6 col7\" >1.096339</td>\n",
       "            </tr>\n",
       "            <tr>\n",
       "                                <td id=\"T_d8c08505_4265_11eb_9278_00155d0fd294row7_col0\" class=\"data row7 col0\" >8</td>\n",
       "                        <td id=\"T_d8c08505_4265_11eb_9278_00155d0fd294row7_col1\" class=\"data row7 col1\" >1430</td>\n",
       "                        <td id=\"T_d8c08505_4265_11eb_9278_00155d0fd294row7_col2\" class=\"data row7 col2\" >146</td>\n",
       "                        <td id=\"T_d8c08505_4265_11eb_9278_00155d0fd294row7_col3\" class=\"data row7 col3\" >0.152073</td>\n",
       "                        <td id=\"T_d8c08505_4265_11eb_9278_00155d0fd294row7_col4\" class=\"data row7 col4\" >0.192540</td>\n",
       "                        <td id=\"T_d8c08505_4265_11eb_9278_00155d0fd294row7_col5\" class=\"data row7 col5\" >0.170893</td>\n",
       "                        <td id=\"T_d8c08505_4265_11eb_9278_00155d0fd294row7_col6\" class=\"data row7 col6\" >0.102098</td>\n",
       "                        <td id=\"T_d8c08505_4265_11eb_9278_00155d0fd294row7_col7\" class=\"data row7 col7\" >1.159895</td>\n",
       "            </tr>\n",
       "            <tr>\n",
       "                                <td id=\"T_d8c08505_4265_11eb_9278_00155d0fd294row8_col0\" class=\"data row8 col0\" >9</td>\n",
       "                        <td id=\"T_d8c08505_4265_11eb_9278_00155d0fd294row8_col1\" class=\"data row8 col1\" >1430</td>\n",
       "                        <td id=\"T_d8c08505_4265_11eb_9278_00155d0fd294row8_col2\" class=\"data row8 col2\" >146</td>\n",
       "                        <td id=\"T_d8c08505_4265_11eb_9278_00155d0fd294row8_col3\" class=\"data row8 col3\" >0.192613</td>\n",
       "                        <td id=\"T_d8c08505_4265_11eb_9278_00155d0fd294row8_col4\" class=\"data row8 col4\" >0.264159</td>\n",
       "                        <td id=\"T_d8c08505_4265_11eb_9278_00155d0fd294row8_col5\" class=\"data row8 col5\" >0.223799</td>\n",
       "                        <td id=\"T_d8c08505_4265_11eb_9278_00155d0fd294row8_col6\" class=\"data row8 col6\" >0.102098</td>\n",
       "                        <td id=\"T_d8c08505_4265_11eb_9278_00155d0fd294row8_col7\" class=\"data row8 col7\" >1.159895</td>\n",
       "            </tr>\n",
       "            <tr>\n",
       "                                <td id=\"T_d8c08505_4265_11eb_9278_00155d0fd294row9_col0\" class=\"data row9 col0\" >10</td>\n",
       "                        <td id=\"T_d8c08505_4265_11eb_9278_00155d0fd294row9_col1\" class=\"data row9 col1\" >1431</td>\n",
       "                        <td id=\"T_d8c08505_4265_11eb_9278_00155d0fd294row9_col2\" class=\"data row9 col2\" >159</td>\n",
       "                        <td id=\"T_d8c08505_4265_11eb_9278_00155d0fd294row9_col3\" class=\"data row9 col3\" >0.264166</td>\n",
       "                        <td id=\"T_d8c08505_4265_11eb_9278_00155d0fd294row9_col4\" class=\"data row9 col4\" >0.940860</td>\n",
       "                        <td id=\"T_d8c08505_4265_11eb_9278_00155d0fd294row9_col5\" class=\"data row9 col5\" >0.372185</td>\n",
       "                        <td id=\"T_d8c08505_4265_11eb_9278_00155d0fd294row9_col6\" class=\"data row9 col6\" >0.111111</td>\n",
       "                        <td id=\"T_d8c08505_4265_11eb_9278_00155d0fd294row9_col7\" class=\"data row9 col7\" >1.262290</td>\n",
       "            </tr>\n",
       "    </tbody></table>"
      ],
      "text/plain": [
       "<pandas.io.formats.style.Styler at 0x1f96557a670>"
      ]
     },
     "execution_count": 43,
     "metadata": {},
     "output_type": "execute_result"
    }
   ],
   "source": [
    "readmit_proba = [i[1] for i in lr_cv.predict_proba(X_test)]\n",
    "quant = pd.qcut(readmit_proba,10,labels=np.arange(1,11))\n",
    "prob = {'Quantile':quant,'# Readmitted':readmit_proba,'y':y_test}\n",
    "\n",
    "decile_lrcv = pd.DataFrame(prob).sort_values('Quantile')\n",
    "dec1 = decile_lrcv.groupby('Quantile')['# Readmitted'].agg(['count','min','max','mean']).reset_index()\n",
    "dec2 = decile_lrcv.groupby(['Quantile','y']).count().reset_index()\n",
    "dec2 = dec2[dec2['y']==1]\n",
    "decile_lrcv = pd.merge(dec2, dec1, how='inner',on ='Quantile').drop('y',1).\\\n",
    "        rename({'count':'Unique Patients', 'min':'Min Prob', 'mean':'Average Prob','max':'Max Prob'},axis=1)\n",
    "\n",
    "decile_lrcv = decile_lrcv[decile_lrcv.columns[[0,2,1,3,4,5]]]\n",
    "decile_lrcv['Percent Readmitted'] = decile_lrcv['# Readmitted']/decile_lrcv['Unique Patients']\n",
    "decile_lrcv['Lift'] = decile_lrcv['Percent Readmitted'].apply(lambda x:10*x/decile_lrcv['Percent Readmitted'].sum())\n",
    "decile_lrcv.style.hide_index()"
   ]
  },
  {
   "cell_type": "code",
   "execution_count": 44,
   "metadata": {},
   "outputs": [
    {
     "name": "stdout",
     "output_type": "stream",
     "text": [
      "\n",
      "If the top two quantiles are targeted instead of a random sampling, the percent readmitted increases from 0.088 to 0.2132\n",
      "\n"
     ]
    },
    {
     "data": {
      "text/html": [
       "<div>\n",
       "<style scoped>\n",
       "    .dataframe tbody tr th:only-of-type {\n",
       "        vertical-align: middle;\n",
       "    }\n",
       "\n",
       "    .dataframe tbody tr th {\n",
       "        vertical-align: top;\n",
       "    }\n",
       "\n",
       "    .dataframe thead th {\n",
       "        text-align: right;\n",
       "    }\n",
       "</style>\n",
       "<table border=\"1\" class=\"dataframe\">\n",
       "  <thead>\n",
       "    <tr style=\"text-align: right;\">\n",
       "      <th></th>\n",
       "      <th>Unique Patients</th>\n",
       "      <th># Readmitted</th>\n",
       "      <th>Percent Readmitted</th>\n",
       "    </tr>\n",
       "  </thead>\n",
       "  <tbody>\n",
       "    <tr>\n",
       "      <th>Random Sampling</th>\n",
       "      <td>14303</td>\n",
       "      <td>1259</td>\n",
       "      <td>0.088023</td>\n",
       "    </tr>\n",
       "    <tr>\n",
       "      <th>Top 2 Quantiles</th>\n",
       "      <td>2861</td>\n",
       "      <td>305</td>\n",
       "      <td>0.096819</td>\n",
       "    </tr>\n",
       "  </tbody>\n",
       "</table>\n",
       "</div>"
      ],
      "text/plain": [
       "                 Unique Patients  # Readmitted  Percent Readmitted\n",
       "Random Sampling            14303          1259            0.088023\n",
       "Top 2 Quantiles             2861           305            0.096819"
      ]
     },
     "execution_count": 44,
     "metadata": {},
     "output_type": "execute_result"
    }
   ],
   "source": [
    "tot_compdic_lrcv = {'Unique Patients': [decile_lrcv['Unique Patients'].sum(), decile_lrcv['Unique Patients'][8] + decile_lrcv['Unique Patients'][9]], \n",
    "               '# Readmitted': [decile_lrcv['# Readmitted'].sum(), decile_lrcv['# Readmitted'][8] + decile_lrcv['# Readmitted'][9]]}\n",
    "\n",
    "tot_compdic_lrcv['Percent Readmitted'] = [tot_compdic_lrcv['# Readmitted'][0]/tot_compdic_lrcv['Unique Patients'][0],\n",
    "                                      tot_compdic['# Readmitted'][1]/tot_compdic['Unique Patients'][1]]\n",
    "\n",
    "tot_compdf_lrcv = pd.DataFrame(tot_compdic_lrcv, index = ['Random Sampling','Top 2 Quantiles'])\n",
    "\n",
    "lr_readmit_rand = tot_compdf_lrcv['Percent Readmitted'][0].round(4)\n",
    "lr_readmit_top_2 = (decile_lrcv['Percent Readmitted'][8] + decile_lrcv['Percent Readmitted'][9]).round(4)\n",
    "\n",
    "print('')\n",
    "print(f'If the top two quantiles are targeted instead of a random sampling, the percent readmitted increases from',\n",
    "      lr_readmit_rand, 'to',lr_readmit_top_2)\n",
    "print('')\n",
    "tot_compdf_lrcv"
   ]
  },
  {
   "cell_type": "code",
   "execution_count": 45,
   "metadata": {},
   "outputs": [
    {
     "ename": "NameError",
     "evalue": "name 'X_train_res' is not defined",
     "output_type": "error",
     "traceback": [
      "\u001b[1;31m---------------------------------------------------------------------------\u001b[0m",
      "\u001b[1;31mNameError\u001b[0m                                 Traceback (most recent call last)",
      "\u001b[1;32m<ipython-input-45-fa70e70c85b3>\u001b[0m in \u001b[0;36m<module>\u001b[1;34m\u001b[0m\n\u001b[1;32m----> 1\u001b[1;33m \u001b[0mlrcv_feat_dict\u001b[0m \u001b[1;33m=\u001b[0m \u001b[1;33m{\u001b[0m\u001b[1;34m'Feature'\u001b[0m\u001b[1;33m:\u001b[0m\u001b[0mX_train_res\u001b[0m\u001b[1;33m.\u001b[0m\u001b[0mcolumns\u001b[0m\u001b[1;33m,\u001b[0m \u001b[1;34m'Feature Importance'\u001b[0m\u001b[1;33m:\u001b[0m\u001b[0mlr_cv\u001b[0m\u001b[1;33m.\u001b[0m\u001b[0mcoef_\u001b[0m\u001b[1;33m.\u001b[0m\u001b[0mreshape\u001b[0m\u001b[1;33m(\u001b[0m\u001b[0mlr\u001b[0m\u001b[1;33m.\u001b[0m\u001b[0mcoef_\u001b[0m\u001b[1;33m.\u001b[0m\u001b[0mshape\u001b[0m\u001b[1;33m[\u001b[0m\u001b[1;36m1\u001b[0m\u001b[1;33m]\u001b[0m\u001b[1;33m,\u001b[0m\u001b[1;33m)\u001b[0m\u001b[1;33m}\u001b[0m\u001b[1;33m\u001b[0m\u001b[1;33m\u001b[0m\u001b[0m\n\u001b[0m\u001b[0;32m      2\u001b[0m \u001b[0mlrcv_feat_df\u001b[0m \u001b[1;33m=\u001b[0m \u001b[0mpd\u001b[0m\u001b[1;33m.\u001b[0m\u001b[0mDataFrame\u001b[0m\u001b[1;33m(\u001b[0m\u001b[0mlrcv_feat_dict\u001b[0m\u001b[1;33m)\u001b[0m\u001b[1;33m\u001b[0m\u001b[1;33m\u001b[0m\u001b[0m\n\u001b[0;32m      3\u001b[0m \u001b[0mlrcv_feat_df\u001b[0m \u001b[1;33m=\u001b[0m \u001b[0mlrcv_feat_df\u001b[0m\u001b[1;33m.\u001b[0m\u001b[0msort_values\u001b[0m\u001b[1;33m(\u001b[0m\u001b[1;34m'Feature Importance'\u001b[0m\u001b[1;33m,\u001b[0m \u001b[0mascending\u001b[0m\u001b[1;33m=\u001b[0m\u001b[1;32mFalse\u001b[0m\u001b[1;33m)\u001b[0m\u001b[1;33m.\u001b[0m\u001b[0mhead\u001b[0m\u001b[1;33m(\u001b[0m\u001b[1;36m10\u001b[0m\u001b[1;33m)\u001b[0m\u001b[1;33m\u001b[0m\u001b[1;33m\u001b[0m\u001b[0m\n\u001b[0;32m      4\u001b[0m \u001b[1;33m\u001b[0m\u001b[0m\n\u001b[0;32m      5\u001b[0m \u001b[0mplt\u001b[0m\u001b[1;33m.\u001b[0m\u001b[0mfigure\u001b[0m\u001b[1;33m(\u001b[0m\u001b[1;33m)\u001b[0m\u001b[1;33m\u001b[0m\u001b[1;33m\u001b[0m\u001b[0m\n",
      "\u001b[1;31mNameError\u001b[0m: name 'X_train_res' is not defined"
     ]
    }
   ],
   "source": [
    "lrcv_feat_dict = {'Feature':X_train_res.columns, 'Feature Importance':lr_cv.coef_.reshape(lr.coef_.shape[1],)}\n",
    "lrcv_feat_df = pd.DataFrame(lrcv_feat_dict)\n",
    "lrcv_feat_df = lrcv_feat_df.sort_values('Feature Importance', ascending=False).head(10)\n",
    "\n",
    "plt.figure()\n",
    "sns.barplot(x = lrcv_feat_df['Feature Importance'], y = lrcv_feat_df['Feature'], palette = 'binary_r')\n",
    "sns.set_style('whitegrid')\n",
    "plt.title('Feature Importance: Logistic Regression with Cross Validation')\n",
    "plt.xlabel('Feature Importance')\n",
    "plt.ylabel('Feature')"
   ]
  },
  {
   "cell_type": "markdown",
   "metadata": {},
   "source": [
    "### Random Forest Classifier "
   ]
  },
  {
   "cell_type": "code",
   "execution_count": 89,
   "metadata": {},
   "outputs": [
    {
     "data": {
      "text/plain": [
       "RandomForestClassifier(max_depth=6, random_state=123)"
      ]
     },
     "execution_count": 89,
     "metadata": {},
     "output_type": "execute_result"
    }
   ],
   "source": [
    "from sklearn.ensemble import RandomForestClassifier\n",
    "rf=RandomForestClassifier(max_depth = 6, random_state = 123)\n",
    "rf.fit(X_train_smo, y_train_smo)"
   ]
  },
  {
   "cell_type": "code",
   "execution_count": 90,
   "metadata": {},
   "outputs": [
    {
     "name": "stdout",
     "output_type": "stream",
     "text": [
      "Random Forest\n",
      "Training:\n",
      "AUC:0.927\n",
      "accuracy:0.858\n",
      "recall:0.838\n",
      "precision:0.873\n",
      "specificity:0.878\n",
      "prevalence:0.500\n",
      " \n",
      "Test:\n",
      "AUC:0.572\n",
      "accuracy:0.809\n",
      "recall:0.174\n",
      "precision:0.114\n",
      "specificity:0.870\n",
      "prevalence:0.088\n",
      " \n"
     ]
    }
   ],
   "source": [
    "y_train_preds = rf.predict_proba(X_train_smo)[:,1]\n",
    "y_test_preds = rf.predict_proba(X_test)[:,1]\n",
    "\n",
    "print('Random Forest')\n",
    "print('Training:')\n",
    "rf_train_auc, rf_train_accuracy, rf_train_recall, rf_train_precision, rf_train_specificity =print_report(y_train_smo,y_train_preds, thresh)\n",
    "print('Test:')\n",
    "rf_valid_auc, rf_valid_accuracy, rf_valid_recall, rf_valid_precision, rf_valid_specificity = print_report(y_test,y_valid_preds, thresh)"
   ]
  },
  {
   "cell_type": "markdown",
   "metadata": {},
   "source": [
    "### Random Forest Classifier Part 2"
   ]
  },
  {
   "cell_type": "code",
   "execution_count": 79,
   "metadata": {},
   "outputs": [],
   "source": [
    "from sklearn.ensemble import RandomForestClassifier\n",
    "\n",
    "random_forest = RandomForestClassifier(random_state=123,n_estimators=500)\n",
    "random_forest.fit(X_train_smo, y_train_smo)\n",
    "Yrandforest = random_forest.predict(X_test)"
   ]
  },
  {
   "cell_type": "code",
   "execution_count": 80,
   "metadata": {},
   "outputs": [],
   "source": [
    "#Calculating the score,\n",
    "scorey =random_forest.predict_proba(X_test)[:,1]\n",
    "rfpr, rtpr, thresholds = roc_curve(y_test, scorey)"
   ]
  },
  {
   "cell_type": "code",
   "execution_count": 82,
   "metadata": {},
   "outputs": [
    {
     "name": "stdout",
     "output_type": "stream",
     "text": [
      " Accuracy of Randomeforest classification:  0.906523107040481\n"
     ]
    }
   ],
   "source": [
    "#Checking the accuracy,\n",
    "\n",
    "print(\" Accuracy of Randomeforest classification: \", random_forest.score(X_test, y_test))"
   ]
  },
  {
   "cell_type": "code",
   "execution_count": 83,
   "metadata": {},
   "outputs": [
    {
     "name": "stdout",
     "output_type": "stream",
     "text": [
      "[[12958    86]\n",
      " [ 1251     8]]\n"
     ]
    }
   ],
   "source": [
    "#Printing the confusion matrix,\n",
    "print(confusion_matrix(y_test, Yrandforest))"
   ]
  },
  {
   "cell_type": "code",
   "execution_count": 84,
   "metadata": {},
   "outputs": [
    {
     "data": {
      "image/png": "[encoded data removed]",
      "text/plain": [
       "<Figure size 648x648 with 2 Axes>"
      ]
     },
     "metadata": {},
     "output_type": "display_data"
    }
   ],
   "source": [
    "plt.figure(figsize=(9,9))\n",
    "sns.heatmap(confusion_matrix(y_test, Yrandforest), annot=True, fmt=\".3f\", linewidths=.5, square = True, cmap = 'Reds_r');\n",
    "plt.ylabel('Actual label');\n",
    "plt.xlabel('Predicted label');\n",
    "all_sample_title = 'Accuracy Score: {0}'.format(random_forest.score(X_test, y_test))\n",
    "plt.title(all_sample_title, size = 15);"
   ]
  },
  {
   "cell_type": "code",
   "execution_count": 85,
   "metadata": {},
   "outputs": [
    {
     "name": "stdout",
     "output_type": "stream",
     "text": [
      "              precision    recall  f1-score   support\n",
      "\n",
      "          NO       0.91      0.99      0.95     13044\n",
      "         YES       0.09      0.01      0.01      1259\n",
      "\n",
      "    accuracy                           0.91     14303\n",
      "   macro avg       0.50      0.50      0.48     14303\n",
      "weighted avg       0.84      0.91      0.87     14303\n",
      "\n"
     ]
    }
   ],
   "source": [
    "print(classification_report(y_test, Yrandforest, target_names = ['NO', 'YES']))"
   ]
  },
  {
   "cell_type": "code",
   "execution_count": 86,
   "metadata": {},
   "outputs": [
    {
     "data": {
      "image/png": "[encoded data removed]",
      "text/plain": [
       "<Figure size 720x432 with 1 Axes>"
      ]
     },
     "metadata": {},
     "output_type": "display_data"
    }
   ],
   "source": [
    "#Determining which features are most important,\n",
    "feature_names = X_train_smo.columns\n",
    "feature_imports = random_forest.feature_importances_\n",
    "most_imp_features = pd.DataFrame([f for f in zip(feature_names,feature_imports)], columns=[\"Feature\", \"Importance\"]).nlargest(10, \"Importance\")\n",
    "most_imp_features.sort_values(by=\"Importance\", inplace=True)\n",
    "plt.figure(figsize=(10,6))\n",
    "plt.barh(range(len(most_imp_features)), most_imp_features.Importance, align='center', alpha=0.8)\n",
    "plt.yticks(range(len(most_imp_features)), most_imp_features.Feature, fontsize=14)\n",
    "plt.xlabel('Importance')\n",
    "plt.title('Most important features - Random Forest')\n",
    "plt.show()"
   ]
  },
  {
   "cell_type": "markdown",
   "metadata": {},
   "source": [
    "### XGBoost Classifier "
   ]
  },
  {
   "cell_type": "code",
   "execution_count": 91,
   "metadata": {},
   "outputs": [
    {
     "name": "stdout",
     "output_type": "stream",
     "text": [
      "[19:04:49] WARNING: C:/Users/Administrator/workspace/xgboost-win64_release_1.3.0/src/learner.cc:1061: Starting in XGBoost 1.3.0, the default evaluation metric used with the objective 'binary:logistic' was changed from 'error' to 'logloss'. Explicitly set eval_metric if you'd like to restore the old behavior.\n"
     ]
    },
    {
     "data": {
      "text/plain": [
       "XGBClassifier(base_score=0.5, booster='gbtree', colsample_bylevel=1,\n",
       "              colsample_bynode=1, colsample_bytree=1, gamma=0, gpu_id=-1,\n",
       "              importance_type='gain', interaction_constraints='',\n",
       "              learning_rate=0.300000012, max_delta_step=0, max_depth=6,\n",
       "              min_child_weight=1, missing=nan, monotone_constraints='()',\n",
       "              n_estimators=10, n_jobs=16, num_parallel_tree=1, random_state=42,\n",
       "              reg_alpha=0, reg_lambda=1, scale_pos_weight=1, seed=42,\n",
       "              subsample=1, tree_method='exact', validate_parameters=1,\n",
       "              verbosity=None)"
      ]
     },
     "execution_count": 91,
     "metadata": {},
     "output_type": "execute_result"
    }
   ],
   "source": [
    "xgb_clf = xgb.XGBClassifier(objective='binary:logistic', n_estimators=10, seed = 42)\n",
    "xgb_clf.fit(X_train_smo, y_train_smo)"
   ]
  },
  {
   "cell_type": "code",
   "execution_count": 92,
   "metadata": {},
   "outputs": [
    {
     "name": "stdout",
     "output_type": "stream",
     "text": [
      "[19:07:32] WARNING: C:/Users/Administrator/workspace/xgboost-win64_release_1.3.0/src/learner.cc:1061: Starting in XGBoost 1.3.0, the default evaluation metric used with the objective 'binary:logistic' was changed from 'error' to 'logloss'. Explicitly set eval_metric if you'd like to restore the old behavior.\n"
     ]
    }
   ],
   "source": [
    "xgb_clf.fit(X_train_smo, y_train_smo)\n",
    "Yxgb = xgb_clf.predict(X_test)"
   ]
  },
  {
   "cell_type": "code",
   "execution_count": 93,
   "metadata": {},
   "outputs": [],
   "source": [
    "scorey = xgb_clf.predict_proba(X_test)[:,1]\n",
    "rfpr, rtpr, thresholds = roc_curve(y_test, scorey)"
   ]
  },
  {
   "cell_type": "code",
   "execution_count": 95,
   "metadata": {},
   "outputs": [
    {
     "name": "stdout",
     "output_type": "stream",
     "text": [
      " Accuracy of Randomeforest classification:  0.8933790113962106\n"
     ]
    }
   ],
   "source": [
    "print(\" Accuracy of Randomeforest classification: \", xgb_clf.score(X_test, y_test))"
   ]
  }
 ],
 "metadata": {
  "kernelspec": {
   "display_name": "Python 3",
   "language": "python",
   "name": "python3"
  },
  "language_info": {
   "codemirror_mode": {
    "name": "ipython",
    "version": 3
   },
   "file_extension": ".py",
   "mimetype": "text/x-python",
   "name": "python",
   "nbconvert_exporter": "python",
   "pygments_lexer": "ipython3",
   "version": "3.8.3"
  }
 },
 "nbformat": 4,
 "nbformat_minor": 4
}
