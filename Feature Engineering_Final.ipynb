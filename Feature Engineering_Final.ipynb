{
 "cells": [
  {
   "cell_type": "code",
   "execution_count": 93,
   "metadata": {},
   "outputs": [],
   "source": [
    "# Libraries to load\n",
    "import pandas as pd\n",
    "import numpy as np \n",
    "from scipy import stats\n",
    "from sklearn.svm import SVC\n",
    "from sklearn.metrics import confusion_matrix\n",
    "from sklearn.model_selection import train_test_split\n",
    "from sklearn.linear_model import LogisticRegression\n",
    "from sklearn.preprocessing import StandardScaler\n",
    "\n",
    "# data visualization packages \n",
    "import matplotlib.pyplot as plt\n",
    "%matplotlib inline\n",
    "plt.style.use('seaborn')\n",
    "import seaborn as sns\n",
    "pd.set_option('max_columns', None)\n",
    "import pandas_profiling\n",
    "\n",
    "# machine learning packages (sklearn + xgboost)\n",
    "from sklearn.model_selection import train_test_split, GridSearchCV, RandomizedSearchCV, cross_val_score\n",
    "from sklearn.preprocessing import StandardScaler\n",
    "from sklearn.metrics import confusion_matrix, classification_report, roc_curve, auc\n",
    "from sklearn.ensemble import RandomForestClassifier, BaggingClassifier, VotingClassifier\n",
    "from sklearn.linear_model import LogisticRegression\n",
    "from sklearn.tree import DecisionTreeClassifier\n",
    "from sklearn.feature_selection import RFECV, RFE\n",
    "import xgboost as xgb\n",
    "\n",
    "from warnings import filterwarnings\n",
    "filterwarnings('ignore')\n",
    "np.random.seed(123)"
   ]
  },
  {
   "cell_type": "code",
   "execution_count": 298,
   "metadata": {},
   "outputs": [],
   "source": [
    "# Load DF\n",
    "df = pd.read_csv('./data/cleaned_df.csv')"
   ]
  },
  {
   "cell_type": "code",
   "execution_count": 95,
   "metadata": {},
   "outputs": [],
   "source": [
    "# Format Readmitted\n",
    "df['readmitted'] = df.readmitted.map({'No':0,'Yes':1})"
   ]
  },
  {
   "cell_type": "markdown",
   "metadata": {},
   "source": [
    "# Dropping Features"
   ]
  },
  {
   "cell_type": "code",
   "execution_count": 96,
   "metadata": {},
   "outputs": [],
   "source": [
    "#shortest drop list - no patients take these medications\n",
    "df = df.drop(columns = [\"examide\", \"citoglipton\"])"
   ]
  },
  {
   "cell_type": "markdown",
   "metadata": {},
   "source": [
    "# Feature Engineering"
   ]
  },
  {
   "cell_type": "code",
   "execution_count": 97,
   "metadata": {},
   "outputs": [],
   "source": [
    "# Group admission type by Emergency (Emergency, Trauma Center, and Urgent), Elective, and Other\n",
    "\n",
    "def modadtype(series):\n",
    "    \n",
    "    def newcat(x):\n",
    "        if x == 1 or x == 2 or x == 7: return \"Emergency\"\n",
    "        elif x == 3: return \"Elective\"\n",
    "        else: return \"Other\"\n",
    "        \n",
    "    return series.apply(newcat)\n",
    "\n",
    "df.admission_type_id = modadtype(df.admission_type_id)"
   ]
  },
  {
   "cell_type": "code",
   "execution_count": 98,
   "metadata": {},
   "outputs": [],
   "source": [
    "# Group admission source by Referral, Emergency, and Other\n",
    "\n",
    "def modadsourc(series):\n",
    "    \n",
    "    def newcat(x):\n",
    "        if x == 1 or x == 2 or x == 3: return \"Referral\"\n",
    "        elif x == 7: return \"Emergency\"\n",
    "        else: return \"Other\"\n",
    "        \n",
    "    return series.apply(newcat)\n",
    "\n",
    "df.admission_source_id = modadsourc(df.admission_source_id)"
   ]
  },
  {
   "cell_type": "code",
   "execution_count": 99,
   "metadata": {},
   "outputs": [],
   "source": [
    "## Group discharge dispo by Home or Not_Home discharge\n",
    "\n",
    "def moddisch(series):\n",
    "    \n",
    "    def home(x):\n",
    "        if x == 1: return \"Home\"\n",
    "        else: return \"Not_Home\"\n",
    "    \n",
    "    return series.apply(home)\n",
    "\n",
    "df.discharge_disposition_id = moddisch(df.discharge_disposition_id)\n",
    "\n",
    "## Other method - Remove Expired or Hospice-bound Patients\n",
    "\n",
    "#remove only hospice bound and expired\n",
    "# df = df.loc[~df.discharge_disposition_id.isin([11,13,14,19,20,21])]"
   ]
  },
  {
   "cell_type": "code",
   "execution_count": 100,
   "metadata": {},
   "outputs": [],
   "source": [
    "# Change medication to binary take vs not take - play with post model creation\n",
    "#for med in medication:\n",
    "    #df[med] = df[med].map({'Up':1, 'Down':1, 'Steady':1, 'No':0})\n",
    "\n",
    "\n",
    "# medication = ['metformin', 'repaglinide', 'nateglinide', 'chlorpropamide',\n",
    "#        'glimepiride', 'acetohexamide', 'glipizide', 'glyburide', 'tolbutamide',\n",
    "#        'pioglitazone', 'rosiglitazone', 'acarbose', 'miglitol', 'troglitazone',\n",
    "#        'tolazamide', 'insulin',\n",
    "#        'glyburide-metformin', 'glipizide-metformin',\n",
    "#        'glimepiride-pioglitazone', 'metformin-rosiglitazone',\n",
    "#        'metformin-pioglitazone']"
   ]
  },
  {
   "cell_type": "code",
   "execution_count": 101,
   "metadata": {},
   "outputs": [],
   "source": [
    "# Group age by most common categories\n",
    "age_id = {'[0-10)':'30 or Under', \n",
    "          '[10-20)':'30 or Under', \n",
    "          '[20-30)':'30 or Under', \n",
    "          '[30-40)':'30 to 60', \n",
    "          '[40-50)':'30 to 60', \n",
    "          '[50-60)':'30 to 60',\n",
    "          '[60-70)':'30 to 60', \n",
    "          '[70-80)':'Over 60', \n",
    "          '[80-90)':'Over 60', \n",
    "          '[90-100)':'Over 60'}\n",
    "df['age'] = df.age.replace(age_id)"
   ]
  },
  {
   "cell_type": "code",
   "execution_count": 102,
   "metadata": {},
   "outputs": [],
   "source": [
    "# Group race by most common categories\n",
    "race_id = {'Caucasian':'Caucasian', \n",
    "          'AfricanAmerican':'AfricanAmerican', \n",
    "          'Other':'Other', \n",
    "          'Asian':'Other', \n",
    "          'Hispanic':'Other', \n",
    "          'unknown':'Missing',}\n",
    "df['race'] = df.race.replace(race_id)"
   ]
  },
  {
   "cell_type": "code",
   "execution_count": 103,
   "metadata": {},
   "outputs": [
    {
     "data": {
      "text/html": [
       "<div>\n",
       "<style scoped>\n",
       "    .dataframe tbody tr th:only-of-type {\n",
       "        vertical-align: middle;\n",
       "    }\n",
       "\n",
       "    .dataframe tbody tr th {\n",
       "        vertical-align: top;\n",
       "    }\n",
       "\n",
       "    .dataframe thead th {\n",
       "        text-align: right;\n",
       "    }\n",
       "</style>\n",
       "<table border=\"1\" class=\"dataframe\">\n",
       "  <thead>\n",
       "    <tr style=\"text-align: right;\">\n",
       "      <th></th>\n",
       "      <th>race</th>\n",
       "      <th>gender</th>\n",
       "      <th>age</th>\n",
       "      <th>admission_type_id</th>\n",
       "      <th>discharge_disposition_id</th>\n",
       "      <th>admission_source_id</th>\n",
       "      <th>time_in_hospital</th>\n",
       "      <th>num_lab_procedures</th>\n",
       "      <th>num_procedures</th>\n",
       "      <th>num_medications</th>\n",
       "      <th>number_outpatient</th>\n",
       "      <th>number_emergency</th>\n",
       "      <th>number_inpatient</th>\n",
       "      <th>diag_1</th>\n",
       "      <th>diag_2</th>\n",
       "      <th>diag_3</th>\n",
       "      <th>number_diagnoses</th>\n",
       "      <th>max_glu_serum</th>\n",
       "      <th>A1Cresult</th>\n",
       "      <th>metformin</th>\n",
       "      <th>repaglinide</th>\n",
       "      <th>nateglinide</th>\n",
       "      <th>chlorpropamide</th>\n",
       "      <th>glimepiride</th>\n",
       "      <th>acetohexamide</th>\n",
       "      <th>glipizide</th>\n",
       "      <th>glyburide</th>\n",
       "      <th>tolbutamide</th>\n",
       "      <th>pioglitazone</th>\n",
       "      <th>rosiglitazone</th>\n",
       "      <th>acarbose</th>\n",
       "      <th>miglitol</th>\n",
       "      <th>troglitazone</th>\n",
       "      <th>tolazamide</th>\n",
       "      <th>insulin</th>\n",
       "      <th>glyburide-metformin</th>\n",
       "      <th>glipizide-metformin</th>\n",
       "      <th>glimepiride-pioglitazone</th>\n",
       "      <th>metformin-rosiglitazone</th>\n",
       "      <th>metformin-pioglitazone</th>\n",
       "      <th>change</th>\n",
       "      <th>diabetesMed</th>\n",
       "      <th>readmitted</th>\n",
       "    </tr>\n",
       "  </thead>\n",
       "  <tbody>\n",
       "    <tr>\n",
       "      <th>22926</th>\n",
       "      <td>Other</td>\n",
       "      <td>Unknown/Invalid</td>\n",
       "      <td>Over 60</td>\n",
       "      <td>Elective</td>\n",
       "      <td>Home</td>\n",
       "      <td>Referral</td>\n",
       "      <td>1</td>\n",
       "      <td>5</td>\n",
       "      <td>5</td>\n",
       "      <td>22</td>\n",
       "      <td>0</td>\n",
       "      <td>0</td>\n",
       "      <td>0</td>\n",
       "      <td>414</td>\n",
       "      <td>411</td>\n",
       "      <td>401</td>\n",
       "      <td>4</td>\n",
       "      <td>None</td>\n",
       "      <td>None</td>\n",
       "      <td>No</td>\n",
       "      <td>No</td>\n",
       "      <td>No</td>\n",
       "      <td>No</td>\n",
       "      <td>No</td>\n",
       "      <td>No</td>\n",
       "      <td>Steady</td>\n",
       "      <td>No</td>\n",
       "      <td>No</td>\n",
       "      <td>Steady</td>\n",
       "      <td>No</td>\n",
       "      <td>No</td>\n",
       "      <td>No</td>\n",
       "      <td>No</td>\n",
       "      <td>No</td>\n",
       "      <td>No</td>\n",
       "      <td>No</td>\n",
       "      <td>No</td>\n",
       "      <td>No</td>\n",
       "      <td>No</td>\n",
       "      <td>No</td>\n",
       "      <td>Ch</td>\n",
       "      <td>Yes</td>\n",
       "      <td>0</td>\n",
       "    </tr>\n",
       "    <tr>\n",
       "      <th>55129</th>\n",
       "      <td>Missing</td>\n",
       "      <td>Unknown/Invalid</td>\n",
       "      <td>30 to 60</td>\n",
       "      <td>Emergency</td>\n",
       "      <td>Home</td>\n",
       "      <td>Emergency</td>\n",
       "      <td>1</td>\n",
       "      <td>38</td>\n",
       "      <td>1</td>\n",
       "      <td>6</td>\n",
       "      <td>0</td>\n",
       "      <td>0</td>\n",
       "      <td>0</td>\n",
       "      <td>808</td>\n",
       "      <td>873</td>\n",
       "      <td>E813</td>\n",
       "      <td>5</td>\n",
       "      <td>None</td>\n",
       "      <td>None</td>\n",
       "      <td>No</td>\n",
       "      <td>No</td>\n",
       "      <td>No</td>\n",
       "      <td>No</td>\n",
       "      <td>No</td>\n",
       "      <td>No</td>\n",
       "      <td>No</td>\n",
       "      <td>No</td>\n",
       "      <td>No</td>\n",
       "      <td>No</td>\n",
       "      <td>No</td>\n",
       "      <td>No</td>\n",
       "      <td>No</td>\n",
       "      <td>No</td>\n",
       "      <td>No</td>\n",
       "      <td>No</td>\n",
       "      <td>No</td>\n",
       "      <td>No</td>\n",
       "      <td>No</td>\n",
       "      <td>No</td>\n",
       "      <td>No</td>\n",
       "      <td>No</td>\n",
       "      <td>No</td>\n",
       "      <td>0</td>\n",
       "    </tr>\n",
       "    <tr>\n",
       "      <th>59490</th>\n",
       "      <td>Missing</td>\n",
       "      <td>Unknown/Invalid</td>\n",
       "      <td>Over 60</td>\n",
       "      <td>Emergency</td>\n",
       "      <td>Not_Home</td>\n",
       "      <td>Emergency</td>\n",
       "      <td>8</td>\n",
       "      <td>59</td>\n",
       "      <td>2</td>\n",
       "      <td>21</td>\n",
       "      <td>0</td>\n",
       "      <td>0</td>\n",
       "      <td>0</td>\n",
       "      <td>850</td>\n",
       "      <td>805</td>\n",
       "      <td>808</td>\n",
       "      <td>9</td>\n",
       "      <td>None</td>\n",
       "      <td>None</td>\n",
       "      <td>Steady</td>\n",
       "      <td>No</td>\n",
       "      <td>No</td>\n",
       "      <td>No</td>\n",
       "      <td>No</td>\n",
       "      <td>No</td>\n",
       "      <td>No</td>\n",
       "      <td>No</td>\n",
       "      <td>No</td>\n",
       "      <td>No</td>\n",
       "      <td>Steady</td>\n",
       "      <td>No</td>\n",
       "      <td>No</td>\n",
       "      <td>No</td>\n",
       "      <td>No</td>\n",
       "      <td>No</td>\n",
       "      <td>No</td>\n",
       "      <td>No</td>\n",
       "      <td>No</td>\n",
       "      <td>No</td>\n",
       "      <td>No</td>\n",
       "      <td>Ch</td>\n",
       "      <td>Yes</td>\n",
       "      <td>0</td>\n",
       "    </tr>\n",
       "  </tbody>\n",
       "</table>\n",
       "</div>"
      ],
      "text/plain": [
       "          race           gender       age admission_type_id  \\\n",
       "22926    Other  Unknown/Invalid   Over 60          Elective   \n",
       "55129  Missing  Unknown/Invalid  30 to 60         Emergency   \n",
       "59490  Missing  Unknown/Invalid   Over 60         Emergency   \n",
       "\n",
       "      discharge_disposition_id admission_source_id  time_in_hospital  \\\n",
       "22926                     Home            Referral                 1   \n",
       "55129                     Home           Emergency                 1   \n",
       "59490                 Not_Home           Emergency                 8   \n",
       "\n",
       "       num_lab_procedures  num_procedures  num_medications  number_outpatient  \\\n",
       "22926                   5               5               22                  0   \n",
       "55129                  38               1                6                  0   \n",
       "59490                  59               2               21                  0   \n",
       "\n",
       "       number_emergency  number_inpatient diag_1 diag_2 diag_3  \\\n",
       "22926                 0                 0    414    411    401   \n",
       "55129                 0                 0    808    873   E813   \n",
       "59490                 0                 0    850    805    808   \n",
       "\n",
       "       number_diagnoses max_glu_serum A1Cresult metformin repaglinide  \\\n",
       "22926                 4          None      None        No          No   \n",
       "55129                 5          None      None        No          No   \n",
       "59490                 9          None      None    Steady          No   \n",
       "\n",
       "      nateglinide chlorpropamide glimepiride acetohexamide glipizide  \\\n",
       "22926          No             No          No            No    Steady   \n",
       "55129          No             No          No            No        No   \n",
       "59490          No             No          No            No        No   \n",
       "\n",
       "      glyburide tolbutamide pioglitazone rosiglitazone acarbose miglitol  \\\n",
       "22926        No          No       Steady            No       No       No   \n",
       "55129        No          No           No            No       No       No   \n",
       "59490        No          No           No        Steady       No       No   \n",
       "\n",
       "      troglitazone tolazamide insulin glyburide-metformin glipizide-metformin  \\\n",
       "22926           No         No      No                  No                  No   \n",
       "55129           No         No      No                  No                  No   \n",
       "59490           No         No      No                  No                  No   \n",
       "\n",
       "      glimepiride-pioglitazone metformin-rosiglitazone metformin-pioglitazone  \\\n",
       "22926                       No                      No                     No   \n",
       "55129                       No                      No                     No   \n",
       "59490                       No                      No                     No   \n",
       "\n",
       "      change diabetesMed  readmitted  \n",
       "22926     Ch         Yes           0  \n",
       "55129     No          No           0  \n",
       "59490     Ch         Yes           0  "
      ]
     },
     "execution_count": 103,
     "metadata": {},
     "output_type": "execute_result"
    }
   ],
   "source": [
    "# Inspect Unknown/Invalid results for Gender\n",
    "df[df['gender'].str.contains('Unknown/Invalid')]"
   ]
  },
  {
   "cell_type": "code",
   "execution_count": 104,
   "metadata": {},
   "outputs": [],
   "source": [
    "# Only 3 values of unknown gender; drop those observations\n",
    "df = df[df.gender != \"Unknown/Invalid\"]"
   ]
  },
  {
   "cell_type": "code",
   "execution_count": 105,
   "metadata": {},
   "outputs": [],
   "source": [
    "# Create a function to group diagnostic codes by range as well as separating diabetes specifically; group symptoms with major disease category\n",
    "\n",
    "def diag_grouper(series):\n",
    "    \n",
    "    '''takes input as df.col and outputs diagnostic code groupings'''\n",
    "    \n",
    "    def no_str(x):\n",
    "        \n",
    "        '''takes input as an element of a series and pulls code for diabetes specific disease and E/V categories'''\n",
    "        \n",
    "        if '250' in x: return '9999'\n",
    "        elif 'E' in x: return '123456'\n",
    "        elif 'V' in x: return '123456'\n",
    "        elif x == 'missing': return '-654321'\n",
    "        else: return x\n",
    "    \n",
    "    series = series.apply(no_str)\n",
    "    \n",
    "    series = series.astype(float)\n",
    "    \n",
    "    def num_categ(x):\n",
    "        \n",
    "        '''takes input as an element of a series and saves each range as a numerical placeholder'''\n",
    "        \n",
    "        if 1 <= x <= 139: return 10000\n",
    "        elif 140 <= x <= 239: return 10001\n",
    "        elif 240 <= x <= 279: return 10002\n",
    "        elif 280 <= x <= 289: return 10003\n",
    "        elif 290 <= x <= 319: return 10004\n",
    "        elif 320 <= x <= 359: return 10005\n",
    "        elif 360 <= x <= 389: return 10006\n",
    "        elif 390 <= x <= 459 and x == 786: return 10007\n",
    "        elif 460 <= x <= 519 and x == 787: return 10008\n",
    "        elif 520 <= x <= 579 and x == 787: return 10009\n",
    "        elif 580 <= x <= 629 and x == 788: return 10010\n",
    "        elif 630 <= x <= 679: return 10011\n",
    "        elif 680 <= x <= 709 and x == 782: return 10012\n",
    "        elif 710 <= x <= 739: return 10013\n",
    "        elif 740 <= x <= 759: return 10014\n",
    "        elif 780 <= x <= 781 and x == 784 and 790 <= x <= 799: return 10015\n",
    "        elif 800 <= x <= 999: return 10016\n",
    "        else: return x\n",
    "        \n",
    "    series = series.apply(num_categ)\n",
    "    \n",
    "    def text_convert(x):\n",
    "        \n",
    "        '''takes input as an element of a series and converts each placeholder to string format'''\n",
    "        \n",
    "        if x == 10000: return \"Other\"\n",
    "        elif x == 10001: return \"Neoplasms\"\n",
    "        elif x == 10002: return \"Other\"\n",
    "        elif x == 10003: return \"Other\"\n",
    "        elif x == 10004: return \"Other\"\n",
    "        elif x == 10005: return \"Other\"\n",
    "        elif x == 10006: return \"Other\"\n",
    "        elif x == 10007: return \"Circulatory Disease\"\n",
    "        elif x == 10008: return \"Respiratory Disease\"\n",
    "        elif x == 10009: return \"Digestive Disease\"\n",
    "        elif x == 10010: return \"Genitourinary\"\n",
    "        elif x == 10011: return \"Other\"\n",
    "        elif x == 10012: return \"Other\"\n",
    "        elif x == 10013: return \"Musculoskeletal Disease\"\n",
    "        elif x == 10014: return \"Other\"\n",
    "        elif x == 10015: return \"Other\"\n",
    "        elif x == 10016: return \"Injury and Poisoning\"\n",
    "        elif x == 9999: return \"Diabetes\"\n",
    "        elif x == 123456: return \"Other\"\n",
    "        elif x == -654321: return \"Other\"\n",
    "    \n",
    "    return series.apply(text_convert)"
   ]
  },
  {
   "cell_type": "code",
   "execution_count": 106,
   "metadata": {},
   "outputs": [],
   "source": [
    "# Apply diag_grouper to the data frame\n",
    "df.diag_1 = diag_grouper(df.diag_1)\n",
    "df.diag_2 = diag_grouper(df.diag_2)\n",
    "df.diag_3 = diag_grouper(df.diag_3)"
   ]
  },
  {
   "cell_type": "code",
   "execution_count": 107,
   "metadata": {},
   "outputs": [],
   "source": [
    "# Create boolean masks for the columns in question and convert to int\n",
    "Circ = df[['diag_1','diag_2','diag_3']].isin(['Circulatory Disease']).astype(int)\n",
    "Resp = df[['diag_1','diag_2','diag_3']].isin(['Respiratory Disease']).astype(int)\n",
    "Digest = df[['diag_1','diag_2','diag_3']].isin(['Digestive Disease']).astype(int)\n",
    "Diab = df[['diag_1','diag_2','diag_3']].isin(['Diabetes']).astype(int)\n",
    "Genit = df[['diag_1','diag_2','diag_3']].isin(['Genitourinary']).astype(int)\n",
    "Muscu = df[['diag_1','diag_2','diag_3']].isin(['Musculoskeletal Disease']).astype(int)\n",
    "Neop = df[['diag_1','diag_2','diag_3']].isin(['Neoplasms']).astype(int)\n",
    "Inj = df[['diag_1','diag_2','diag_3']].isin(['Injury and Poisoning']).astype(int)\n",
    "Othr = df[['diag_1','diag_2','diag_3']].isin(['Other']).astype(int)"
   ]
  },
  {
   "cell_type": "code",
   "execution_count": 108,
   "metadata": {},
   "outputs": [],
   "source": [
    "# Sum the column amounts\n",
    "Circulatory = (Circ['diag_1'] + Circ['diag_2'] + Circ['diag_3'])\n",
    "Respiratory = Resp['diag_1'] + Resp['diag_2'] + Resp['diag_3']\n",
    "Digestive = Digest['diag_1'] + Digest['diag_2'] + Digest['diag_3']\n",
    "Diabetes = Diab['diag_1'] + Diab['diag_2'] + Diab['diag_3']\n",
    "Injury = Inj['diag_1'] + Inj['diag_2'] + Inj['diag_3']\n",
    "Genitourinary = Genit['diag_1'] + Genit['diag_2'] + Genit['diag_3']\n",
    "Musculoskeletal = Muscu['diag_1'] + Muscu['diag_2'] + Muscu['diag_3']\n",
    "Neoplasms = Neop['diag_1'] + Neop['diag_2'] + Neop['diag_3']\n",
    "Other = Othr['diag_1'] + Othr['diag_2'] + Othr['diag_3']"
   ]
  },
  {
   "cell_type": "code",
   "execution_count": 109,
   "metadata": {},
   "outputs": [],
   "source": [
    "# Create new df of new diag columns; convert back to boolean then back to int to binarize\n",
    "newcollist = [Circulatory, Respiratory, Digestive, Diabetes, Injury, Genitourinary, Musculoskeletal, Neoplasms, Other]\n",
    "newcols = pd.concat(newcollist, axis = 1)\n",
    "newcols.columns = ['diag_Circulatory', 'diag_Respiratory', 'diag_Digestive', 'diag_Diabetes', 'diag_Injury',\n",
    "                   'diag_Genitourinary', 'diag_Musculoskeletal', 'diag_Neoplasms','diag_Other']\n",
    "newcols = newcols.astype(bool).astype(int)"
   ]
  },
  {
   "cell_type": "code",
   "execution_count": 110,
   "metadata": {},
   "outputs": [],
   "source": [
    "# Drop OG diags and add new\n",
    "df = df.drop(columns = ['diag_1','diag_2','diag_3'])\n",
    "df = pd.concat([df,newcols],axis=1)"
   ]
  },
  {
   "cell_type": "markdown",
   "metadata": {},
   "source": [
    "# Separation for Scaling and Encoding"
   ]
  },
  {
   "cell_type": "code",
   "execution_count": 111,
   "metadata": {},
   "outputs": [],
   "source": [
    "# identify cat and num types for cat dummification\n",
    "categorical = df.drop(columns = ['time_in_hospital',\n",
    "       'num_lab_procedures', 'num_procedures', 'num_medications',\n",
    "       'number_outpatient', 'number_emergency', 'number_inpatient',\n",
    "        'number_diagnoses', 'diag_Circulatory', 'diag_Respiratory',\n",
    "       'diag_Digestive', 'diag_Diabetes', 'diag_Neoplasms', 'diag_Injury', \n",
    "       'diag_Genitourinary', 'diag_Musculoskeletal', \n",
    "        'diag_Other','readmitted'])\n",
    "numerical = df.drop(columns = ['race', 'gender', 'age', 'admission_type_id',\n",
    "       'discharge_disposition_id', 'admission_source_id', \n",
    "       'max_glu_serum', 'A1Cresult', 'diag_Circulatory', 'diag_Respiratory',\n",
    "       'diag_Digestive', 'diag_Diabetes', 'diag_Injury', 'diag_Other',                        \n",
    "       'metformin', 'repaglinide', 'nateglinide', 'chlorpropamide',\n",
    "       'diag_Genitourinary', 'diag_Musculoskeletal', 'diag_Neoplasms',\n",
    "       'glimepiride', 'acetohexamide', 'glipizide', 'glyburide', 'tolbutamide',\n",
    "       'pioglitazone', 'rosiglitazone', 'acarbose', 'miglitol', 'troglitazone',\n",
    "       'tolazamide', 'insulin',\n",
    "       'glyburide-metformin', 'glipizide-metformin',\n",
    "       'glimepiride-pioglitazone', 'metformin-rosiglitazone',\n",
    "       'metformin-pioglitazone', 'change', 'diabetesMed','readmitted'])\n"
   ]
  },
  {
   "cell_type": "code",
   "execution_count": 112,
   "metadata": {},
   "outputs": [],
   "source": [
    "# Export for graphing post variable grouping\n",
    "#df.to_csv(r'./data/cleaned_df.csv', index = False)"
   ]
  },
  {
   "cell_type": "code",
   "execution_count": 113,
   "metadata": {},
   "outputs": [],
   "source": [
    "# Separation of features from target for dummification\n",
    "\n",
    "X = df.drop('readmitted', axis = 1)\n",
    "y = df['readmitted']"
   ]
  },
  {
   "cell_type": "code",
   "execution_count": 114,
   "metadata": {},
   "outputs": [],
   "source": [
    "X = pd.get_dummies(X, columns = categorical.columns)"
   ]
  },
  {
   "cell_type": "markdown",
   "metadata": {},
   "source": [
    "#### Recombine data frame for 80/20 split"
   ]
  },
  {
   "cell_type": "code",
   "execution_count": 115,
   "metadata": {},
   "outputs": [],
   "source": [
    "df = X.assign(readmitted = y)"
   ]
  },
  {
   "cell_type": "code",
   "execution_count": 116,
   "metadata": {},
   "outputs": [],
   "source": [
    "# Perform and 80/20 split of the data\n",
    "X = df.drop('readmitted', axis = 1)\n",
    "y = df['readmitted']\n"
   ]
  },
  {
   "cell_type": "code",
   "execution_count": 286,
   "metadata": {},
   "outputs": [
    {
     "data": {
      "text/plain": [
       "(57212, 85)"
      ]
     },
     "execution_count": 286,
     "metadata": {},
     "output_type": "execute_result"
    }
   ],
   "source": [
    "X_train.shape"
   ]
  },
  {
   "cell_type": "code",
   "execution_count": 118,
   "metadata": {
    "collapsed": true,
    "jupyter": {
     "outputs_hidden": true
    }
   },
   "outputs": [
    {
     "name": "stdout",
     "output_type": "stream",
     "text": [
      "Column: 0, Selected False, Rank: 3.000\n",
      "Column: 1, Selected False, Rank: 2.000\n",
      "Column: 2, Selected False, Rank: 4.000\n",
      "Column: 3, Selected True, Rank: 1.000\n",
      "Column: 4, Selected False, Rank: 11.000\n",
      "Column: 5, Selected False, Rank: 29.000\n",
      "Column: 6, Selected False, Rank: 30.000\n",
      "Column: 7, Selected False, Rank: 5.000\n",
      "Column: 8, Selected False, Rank: 84.000\n",
      "Column: 9, Selected False, Rank: 94.000\n",
      "Column: 10, Selected False, Rank: 95.000\n",
      "Column: 11, Selected False, Rank: 16.000\n",
      "Column: 12, Selected False, Rank: 23.000\n",
      "Column: 13, Selected False, Rank: 102.000\n",
      "Column: 14, Selected False, Rank: 31.000\n",
      "Column: 15, Selected False, Rank: 27.000\n",
      "Column: 16, Selected False, Rank: 7.000\n",
      "Column: 17, Selected False, Rank: 12.000\n",
      "Column: 18, Selected False, Rank: 19.000\n",
      "Column: 19, Selected False, Rank: 49.000\n",
      "Column: 20, Selected False, Rank: 47.000\n",
      "Column: 21, Selected False, Rank: 6.000\n",
      "Column: 22, Selected False, Rank: 22.000\n",
      "Column: 23, Selected False, Rank: 56.000\n",
      "Column: 24, Selected False, Rank: 42.000\n",
      "Column: 25, Selected False, Rank: 43.000\n",
      "Column: 26, Selected False, Rank: 34.000\n",
      "Column: 27, Selected False, Rank: 13.000\n",
      "Column: 28, Selected False, Rank: 38.000\n",
      "Column: 29, Selected False, Rank: 44.000\n",
      "Column: 30, Selected False, Rank: 92.000\n",
      "Column: 31, Selected False, Rank: 8.000\n",
      "Column: 32, Selected False, Rank: 21.000\n",
      "Column: 33, Selected False, Rank: 26.000\n",
      "Column: 34, Selected False, Rank: 53.000\n",
      "Column: 35, Selected False, Rank: 58.000\n",
      "Column: 36, Selected False, Rank: 63.000\n",
      "Column: 37, Selected False, Rank: 55.000\n",
      "Column: 38, Selected False, Rank: 46.000\n",
      "Column: 39, Selected False, Rank: 28.000\n",
      "Column: 40, Selected False, Rank: 15.000\n",
      "Column: 41, Selected False, Rank: 35.000\n",
      "Column: 42, Selected False, Rank: 62.000\n",
      "Column: 43, Selected False, Rank: 37.000\n",
      "Column: 44, Selected False, Rank: 17.000\n",
      "Column: 45, Selected False, Rank: 64.000\n",
      "Column: 46, Selected False, Rank: 103.000\n",
      "Column: 47, Selected False, Rank: 73.000\n",
      "Column: 48, Selected False, Rank: 52.000\n",
      "Column: 49, Selected False, Rank: 76.000\n",
      "Column: 50, Selected False, Rank: 106.000\n",
      "Column: 51, Selected False, Rank: 70.000\n",
      "Column: 52, Selected False, Rank: 54.000\n",
      "Column: 53, Selected False, Rank: 108.000\n",
      "Column: 54, Selected False, Rank: 110.000\n",
      "Column: 55, Selected False, Rank: 111.000\n",
      "Column: 56, Selected False, Rank: 78.000\n",
      "Column: 57, Selected False, Rank: 109.000\n",
      "Column: 58, Selected False, Rank: 68.000\n",
      "Column: 59, Selected False, Rank: 50.000\n",
      "Column: 60, Selected False, Rank: 40.000\n",
      "Column: 61, Selected False, Rank: 69.000\n",
      "Column: 62, Selected False, Rank: 93.000\n",
      "Column: 63, Selected False, Rank: 98.000\n",
      "Column: 64, Selected False, Rank: 59.000\n",
      "Column: 65, Selected False, Rank: 18.000\n",
      "Column: 66, Selected False, Rank: 41.000\n",
      "Column: 67, Selected False, Rank: 57.000\n",
      "Column: 68, Selected False, Rank: 66.000\n",
      "Column: 69, Selected False, Rank: 39.000\n",
      "Column: 70, Selected False, Rank: 20.000\n",
      "Column: 71, Selected False, Rank: 60.000\n",
      "Column: 72, Selected False, Rank: 112.000\n",
      "Column: 73, Selected False, Rank: 81.000\n",
      "Column: 74, Selected False, Rank: 74.000\n",
      "Column: 75, Selected False, Rank: 25.000\n",
      "Column: 76, Selected False, Rank: 48.000\n",
      "Column: 77, Selected False, Rank: 71.000\n",
      "Column: 78, Selected False, Rank: 77.000\n",
      "Column: 79, Selected False, Rank: 45.000\n",
      "Column: 80, Selected False, Rank: 33.000\n",
      "Column: 81, Selected False, Rank: 75.000\n",
      "Column: 82, Selected False, Rank: 72.000\n",
      "Column: 83, Selected False, Rank: 79.000\n",
      "Column: 84, Selected False, Rank: 80.000\n",
      "Column: 85, Selected False, Rank: 100.000\n",
      "Column: 86, Selected False, Rank: 107.000\n",
      "Column: 87, Selected False, Rank: 82.000\n",
      "Column: 88, Selected False, Rank: 96.000\n",
      "Column: 89, Selected False, Rank: 105.000\n",
      "Column: 90, Selected False, Rank: 104.000\n",
      "Column: 91, Selected False, Rank: 83.000\n",
      "Column: 92, Selected False, Rank: 99.000\n",
      "Column: 93, Selected False, Rank: 36.000\n",
      "Column: 94, Selected False, Rank: 14.000\n",
      "Column: 95, Selected False, Rank: 9.000\n",
      "Column: 96, Selected False, Rank: 24.000\n",
      "Column: 97, Selected False, Rank: 97.000\n",
      "Column: 98, Selected False, Rank: 61.000\n",
      "Column: 99, Selected False, Rank: 67.000\n",
      "Column: 100, Selected False, Rank: 101.000\n",
      "Column: 101, Selected False, Rank: 85.000\n",
      "Column: 102, Selected False, Rank: 86.000\n",
      "Column: 103, Selected False, Rank: 87.000\n",
      "Column: 104, Selected False, Rank: 88.000\n",
      "Column: 105, Selected False, Rank: 89.000\n",
      "Column: 106, Selected False, Rank: 90.000\n",
      "Column: 107, Selected False, Rank: 91.000\n",
      "Column: 108, Selected False, Rank: 32.000\n",
      "Column: 109, Selected False, Rank: 10.000\n",
      "Column: 110, Selected False, Rank: 65.000\n",
      "Column: 111, Selected False, Rank: 51.000\n"
     ]
    }
   ],
   "source": [
    "#fit RFE to the Training Data\n",
    "\n",
    "# evaluate RFE for regression\n",
    "from numpy import mean\n",
    "from numpy import std\n",
    "from sklearn.datasets import make_regression\n",
    "from sklearn.model_selection import cross_val_score\n",
    "from sklearn.model_selection import RepeatedKFold\n",
    "from sklearn.feature_selection import RFE\n",
    "from sklearn.tree import DecisionTreeRegressor\n",
    "from sklearn.pipeline import Pipeline\n",
    "from sklearn.model_selection import StratifiedKFold\n",
    "\n",
    "rfecv = RFECV(estimator = DecisionTreeClassifier(), step=1,\n",
    "              cv=StratifiedKFold(5), scoring='accuracy')\n",
    "\n",
    "rfecv.fit(X,y)\n",
    "\n",
    "#print(\"Optimal number of features : %d\" % rfecv.n_features_)\n",
    "\n",
    "\n",
    "\n",
    "# # create pipeline\n",
    "# rfe = RFE(estimator=DecisionTreeRegressor(), n_features_to_select=80)\n",
    "# model = DecisionTreeRegressor()\n",
    "# pipeline = Pipeline(steps=[('s',rfe),('m',model)])\n",
    "# # evaluate model\n",
    "# cv = RepeatedKFold(n_splits=5, n_repeats=3, random_state=1)\n",
    "# n_scores = cross_val_score(pipeline, X, y, scoring='neg_mean_absolute_error', cv=cv, n_jobs=-1, error_score='raise')\n",
    "# # report performance\n",
    "# print('MAE: %.3f (%.3f)' % (mean(n_scores), std(n_scores)))"
   ]
  },
  {
   "cell_type": "code",
   "execution_count": 281,
   "metadata": {},
   "outputs": [],
   "source": [
    "# summarize all features\n",
    "cols = []\n",
    "for i in range(X.shape[1]):\n",
    "    if rfecv.ranking_[i] <= 85:\n",
    "        cols.append(i)"
   ]
  },
  {
   "cell_type": "code",
   "execution_count": 282,
   "metadata": {},
   "outputs": [],
   "source": [
    "X_ = X.iloc[:, cols]"
   ]
  },
  {
   "cell_type": "code",
   "execution_count": 352,
   "metadata": {},
   "outputs": [],
   "source": [
    "# split\n",
    "\n",
    "X_train, X_test, y_train, y_test = train_test_split(X_, y, test_size = 0.2, stratify = y, random_state = 123)"
   ]
  },
  {
   "cell_type": "markdown",
   "metadata": {},
   "source": [
    "# Balancing the Data Set"
   ]
  },
  {
   "cell_type": "code",
<<<<<<< HEAD
   "execution_count": 27,
   "metadata": {},
=======
   "execution_count": 193,
   "metadata": {
    "collapsed": true,
    "jupyter": {
     "outputs_hidden": true
    }
   },
>>>>>>> mhomnipool-main
   "outputs": [
    {
     "data": {
      "image/png": "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\n",
      "text/plain": [
       "<Figure size 576x432 with 1 Axes>"
      ]
     },
     "metadata": {},
     "output_type": "display_data"
    }
   ],
   "source": [
    "plt.figure(figsize=(8,6))\n",
    "sns.countplot(y_train, palette='binary')\n",
    "sns.despine()\n",
    "sns.set_style('whitegrid')\n",
    "plt.title('Imbalanced Data Set')\n",
    "plt.xticks([0,1],['Not Readmitted', 'Readmitted'], size = 12)\n",
    "plt.xlabel('')\n",
    "plt.ylabel('Count')\n",
    "plt.show()"
   ]
  },
  {
   "cell_type": "code",
<<<<<<< HEAD
   "execution_count": 28,
=======
   "execution_count": 268,
>>>>>>> mhomnipool-main
   "metadata": {},
   "outputs": [],
   "source": [
    "# SMOTE \n",
    "from imblearn.over_sampling import SMOTE \n",
    "sm = SMOTE(random_state=123)\n",
    "X_train_smo, y_train_smo = sm.fit_sample(X_train, y_train)"
   ]
  },
  {
   "cell_type": "code",
   "execution_count": 195,
   "metadata": {
    "collapsed": true,
    "jupyter": {
     "outputs_hidden": true
    }
   },
   "outputs": [
    {
     "data": {
      "image/png": "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\n",
      "text/plain": [
       "<Figure size 576x432 with 1 Axes>"
      ]
     },
     "metadata": {},
     "output_type": "display_data"
    }
   ],
   "source": [
    "plt.figure(figsize=(8,6))\n",
    "sns.countplot(y_train_smo, palette='binary')\n",
    "sns.despine()\n",
    "sns.set_style('whitegrid')\n",
    "plt.title('Balanced Dataset')\n",
    "plt.xticks([0,1],['Not Readmitted', 'Readmitted'], size = 12)\n",
    "plt.xlabel('')\n",
    "plt.ylabel('Count')\n",
    "plt.show()"
   ]
  },
  {
   "cell_type": "markdown",
   "metadata": {},
   "source": [
    "## Model Base Line"
   ]
  },
  {
   "cell_type": "code",
   "execution_count": 184,
   "metadata": {},
   "outputs": [],
   "source": [
    "from sklearn.metrics import roc_auc_score, accuracy_score, precision_score, recall_score\n",
    "def calc_specificity(y_actual, y_pred, thresh):\n",
    "    # calculates specificity\n",
    "    return sum((y_pred < thresh) & (y_actual == 0)) /sum(y_actual ==0)\n",
    "\n",
    "def calc_prevalence(y_actual):\n",
    "    return (sum(y_actual)/len(y_actual))\n",
    "\n",
    "def print_report(y_actual, y_pred, thresh):\n",
    "    \n",
    "    auc = roc_auc_score(y_actual, y_pred)\n",
    "    accuracy = accuracy_score(y_actual, (y_pred > thresh))\n",
    "    recall = recall_score(y_actual, (y_pred > thresh))\n",
    "    precision = precision_score(y_actual, (y_pred > thresh))\n",
    "    specificity = calc_specificity(y_actual, y_pred, thresh)\n",
    "    print('AUC:%.3f'%auc)\n",
    "    print('accuracy:%.3f'%accuracy)\n",
    "    print('recall:%.3f'%recall)\n",
    "    print('precision:%.3f'%precision)\n",
    "    print('specificity:%.3f'%specificity)\n",
    "    print('prevalence:%.3f'%calc_prevalence(y_actual))\n",
    "    print(' ')\n",
    "    return auc, accuracy, recall, precision, specificity"
   ]
  },
  {
   "cell_type": "code",
   "execution_count": 185,
   "metadata": {},
   "outputs": [],
   "source": [
    "thresh = 0.5"
   ]
  },
  {
   "cell_type": "markdown",
   "metadata": {},
   "source": [
    "## Logistic regression"
   ]
  },
  {
   "cell_type": "code",
   "execution_count": 186,
   "metadata": {
    "collapsed": true,
    "jupyter": {
     "outputs_hidden": true
    }
   },
   "outputs": [
    {
     "data": {
      "text/plain": [
       "LogisticRegression(random_state=123)"
      ]
     },
     "execution_count": 186,
     "metadata": {},
     "output_type": "execute_result"
    }
   ],
   "source": [
    "# logistic regression\n",
    "from sklearn.linear_model import LogisticRegression\n",
    "lr=LogisticRegression(random_state = 123)\n",
    "lr.fit(X_train_smo, y_train_smo)"
   ]
  },
  {
   "cell_type": "code",
   "execution_count": 187,
   "metadata": {
    "collapsed": true,
    "jupyter": {
     "outputs_hidden": true
    }
   },
   "outputs": [
    {
     "name": "stdout",
     "output_type": "stream",
     "text": [
      "Logistic Regression\n",
      "Training:\n",
      "AUC:0.533\n",
      "accuracy:0.887\n",
      "recall:0.045\n",
      "precision:0.121\n",
      "specificity:0.969\n",
      "prevalence:0.088\n",
      " \n",
      "Test:\n",
      "AUC:0.535\n",
      "accuracy:0.884\n",
      "recall:0.053\n",
      "precision:0.124\n",
      "specificity:0.964\n",
      "prevalence:0.088\n",
      " \n"
     ]
    }
   ],
   "source": [
    "y_train_preds = lr.predict_proba(X_train)[:,1]\n",
    "y_valid_preds = lr.predict_proba(X_test)[:,1]\n",
    "\n",
    "print('Logistic Regression')\n",
    "print('Training:')\n",
    "lr_train_auc, lr_train_accuracy, lr_train_recall, \\\n",
    "    lr_train_precision, lr_train_specificity = print_report(y_train,y_train_preds, thresh)\n",
    "print('Test:')\n",
    "lr_valid_auc, lr_valid_accuracy, lr_valid_recall, \\\n",
    "    lr_valid_precision, lr_valid_specificity = print_report(y_test,y_valid_preds, thresh)"
   ]
  },
  {
   "cell_type": "code",
   "execution_count": 156,
   "metadata": {
    "collapsed": true,
    "jupyter": {
     "outputs_hidden": true
    }
   },
   "outputs": [
    {
     "data": {
      "text/html": [
       "<style  type=\"text/css\" >\n",
       "</style><table id=\"T_459a8176_4237_11eb_b265_0c5415878a06\" ><thead>    <tr>        <th class=\"col_heading level0 col0\" >Quantile</th>        <th class=\"col_heading level0 col1\" >Unique Patients</th>        <th class=\"col_heading level0 col2\" ># Readmitted</th>        <th class=\"col_heading level0 col3\" >Min Prob</th>        <th class=\"col_heading level0 col4\" >Max Prob</th>        <th class=\"col_heading level0 col5\" >Average Prob</th>        <th class=\"col_heading level0 col6\" >Percent Readmitted</th>        <th class=\"col_heading level0 col7\" >Lift</th>    </tr></thead><tbody>\n",
       "                <tr>\n",
       "                                <td id=\"T_459a8176_4237_11eb_b265_0c5415878a06row0_col0\" class=\"data row0 col0\" >1</td>\n",
       "                        <td id=\"T_459a8176_4237_11eb_b265_0c5415878a06row0_col1\" class=\"data row0 col1\" >1754</td>\n",
       "                        <td id=\"T_459a8176_4237_11eb_b265_0c5415878a06row0_col2\" class=\"data row0 col2\" >108</td>\n",
       "                        <td id=\"T_459a8176_4237_11eb_b265_0c5415878a06row0_col3\" class=\"data row0 col3\" >0.442351</td>\n",
       "                        <td id=\"T_459a8176_4237_11eb_b265_0c5415878a06row0_col4\" class=\"data row0 col4\" >0.465154</td>\n",
       "                        <td id=\"T_459a8176_4237_11eb_b265_0c5415878a06row0_col5\" class=\"data row0 col5\" >0.458631</td>\n",
       "                        <td id=\"T_459a8176_4237_11eb_b265_0c5415878a06row0_col6\" class=\"data row0 col6\" >0.061574</td>\n",
       "                        <td id=\"T_459a8176_4237_11eb_b265_0c5415878a06row0_col7\" class=\"data row0 col7\" >0.695201</td>\n",
       "            </tr>\n",
       "            <tr>\n",
       "                                <td id=\"T_459a8176_4237_11eb_b265_0c5415878a06row1_col0\" class=\"data row1 col0\" >2</td>\n",
       "                        <td id=\"T_459a8176_4237_11eb_b265_0c5415878a06row1_col1\" class=\"data row1 col1\" >1423</td>\n",
       "                        <td id=\"T_459a8176_4237_11eb_b265_0c5415878a06row1_col2\" class=\"data row1 col2\" >120</td>\n",
       "                        <td id=\"T_459a8176_4237_11eb_b265_0c5415878a06row1_col3\" class=\"data row1 col3\" >0.468972</td>\n",
       "                        <td id=\"T_459a8176_4237_11eb_b265_0c5415878a06row1_col4\" class=\"data row1 col4\" >0.472793</td>\n",
       "                        <td id=\"T_459a8176_4237_11eb_b265_0c5415878a06row1_col5\" class=\"data row1 col5\" >0.470996</td>\n",
       "                        <td id=\"T_459a8176_4237_11eb_b265_0c5415878a06row1_col6\" class=\"data row1 col6\" >0.084329</td>\n",
       "                        <td id=\"T_459a8176_4237_11eb_b265_0c5415878a06row1_col7\" class=\"data row1 col7\" >0.952122</td>\n",
       "            </tr>\n",
       "            <tr>\n",
       "                                <td id=\"T_459a8176_4237_11eb_b265_0c5415878a06row2_col0\" class=\"data row2 col0\" >3</td>\n",
       "                        <td id=\"T_459a8176_4237_11eb_b265_0c5415878a06row2_col1\" class=\"data row2 col1\" >1504</td>\n",
       "                        <td id=\"T_459a8176_4237_11eb_b265_0c5415878a06row2_col2\" class=\"data row2 col2\" >134</td>\n",
       "                        <td id=\"T_459a8176_4237_11eb_b265_0c5415878a06row2_col3\" class=\"data row2 col3\" >0.476617</td>\n",
       "                        <td id=\"T_459a8176_4237_11eb_b265_0c5415878a06row2_col4\" class=\"data row2 col4\" >0.480444</td>\n",
       "                        <td id=\"T_459a8176_4237_11eb_b265_0c5415878a06row2_col5\" class=\"data row2 col5\" >0.478492</td>\n",
       "                        <td id=\"T_459a8176_4237_11eb_b265_0c5415878a06row2_col6\" class=\"data row2 col6\" >0.089096</td>\n",
       "                        <td id=\"T_459a8176_4237_11eb_b265_0c5415878a06row2_col7\" class=\"data row2 col7\" >1.005943</td>\n",
       "            </tr>\n",
       "            <tr>\n",
       "                                <td id=\"T_459a8176_4237_11eb_b265_0c5415878a06row3_col0\" class=\"data row3 col0\" >4</td>\n",
       "                        <td id=\"T_459a8176_4237_11eb_b265_0c5415878a06row3_col1\" class=\"data row3 col1\" >1762</td>\n",
       "                        <td id=\"T_459a8176_4237_11eb_b265_0c5415878a06row3_col2\" class=\"data row3 col2\" >157</td>\n",
       "                        <td id=\"T_459a8176_4237_11eb_b265_0c5415878a06row3_col3\" class=\"data row3 col3\" >0.484273</td>\n",
       "                        <td id=\"T_459a8176_4237_11eb_b265_0c5415878a06row3_col4\" class=\"data row3 col4\" >0.488104</td>\n",
       "                        <td id=\"T_459a8176_4237_11eb_b265_0c5415878a06row3_col5\" class=\"data row3 col5\" >0.486280</td>\n",
       "                        <td id=\"T_459a8176_4237_11eb_b265_0c5415878a06row3_col6\" class=\"data row3 col6\" >0.089103</td>\n",
       "                        <td id=\"T_459a8176_4237_11eb_b265_0c5415878a06row3_col7\" class=\"data row3 col7\" >1.006028</td>\n",
       "            </tr>\n",
       "            <tr>\n",
       "                                <td id=\"T_459a8176_4237_11eb_b265_0c5415878a06row4_col0\" class=\"data row4 col0\" >5</td>\n",
       "                        <td id=\"T_459a8176_4237_11eb_b265_0c5415878a06row4_col1\" class=\"data row4 col1\" >827</td>\n",
       "                        <td id=\"T_459a8176_4237_11eb_b265_0c5415878a06row4_col2\" class=\"data row4 col2\" >71</td>\n",
       "                        <td id=\"T_459a8176_4237_11eb_b265_0c5415878a06row4_col3\" class=\"data row4 col3\" >0.491937</td>\n",
       "                        <td id=\"T_459a8176_4237_11eb_b265_0c5415878a06row4_col4\" class=\"data row4 col4\" >0.491937</td>\n",
       "                        <td id=\"T_459a8176_4237_11eb_b265_0c5415878a06row4_col5\" class=\"data row4 col5\" >0.491937</td>\n",
       "                        <td id=\"T_459a8176_4237_11eb_b265_0c5415878a06row4_col6\" class=\"data row4 col6\" >0.085852</td>\n",
       "                        <td id=\"T_459a8176_4237_11eb_b265_0c5415878a06row4_col7\" class=\"data row4 col7\" >0.969325</td>\n",
       "            </tr>\n",
       "            <tr>\n",
       "                                <td id=\"T_459a8176_4237_11eb_b265_0c5415878a06row5_col0\" class=\"data row5 col0\" >6</td>\n",
       "                        <td id=\"T_459a8176_4237_11eb_b265_0c5415878a06row5_col1\" class=\"data row5 col1\" >1574</td>\n",
       "                        <td id=\"T_459a8176_4237_11eb_b265_0c5415878a06row5_col2\" class=\"data row5 col2\" >163</td>\n",
       "                        <td id=\"T_459a8176_4237_11eb_b265_0c5415878a06row5_col3\" class=\"data row5 col3\" >0.495770</td>\n",
       "                        <td id=\"T_459a8176_4237_11eb_b265_0c5415878a06row5_col4\" class=\"data row5 col4\" >0.499604</td>\n",
       "                        <td id=\"T_459a8176_4237_11eb_b265_0c5415878a06row5_col5\" class=\"data row5 col5\" >0.497614</td>\n",
       "                        <td id=\"T_459a8176_4237_11eb_b265_0c5415878a06row5_col6\" class=\"data row5 col6\" >0.103558</td>\n",
       "                        <td id=\"T_459a8176_4237_11eb_b265_0c5415878a06row5_col7\" class=\"data row5 col7\" >1.169228</td>\n",
       "            </tr>\n",
       "            <tr>\n",
       "                                <td id=\"T_459a8176_4237_11eb_b265_0c5415878a06row6_col0\" class=\"data row6 col0\" >7</td>\n",
       "                        <td id=\"T_459a8176_4237_11eb_b265_0c5415878a06row6_col1\" class=\"data row6 col1\" >1238</td>\n",
       "                        <td id=\"T_459a8176_4237_11eb_b265_0c5415878a06row6_col2\" class=\"data row6 col2\" >123</td>\n",
       "                        <td id=\"T_459a8176_4237_11eb_b265_0c5415878a06row6_col3\" class=\"data row6 col3\" >0.503438</td>\n",
       "                        <td id=\"T_459a8176_4237_11eb_b265_0c5415878a06row6_col4\" class=\"data row6 col4\" >0.507272</td>\n",
       "                        <td id=\"T_459a8176_4237_11eb_b265_0c5415878a06row6_col5\" class=\"data row6 col5\" >0.505259</td>\n",
       "                        <td id=\"T_459a8176_4237_11eb_b265_0c5415878a06row6_col6\" class=\"data row6 col6\" >0.099354</td>\n",
       "                        <td id=\"T_459a8176_4237_11eb_b265_0c5415878a06row6_col7\" class=\"data row6 col7\" >1.121762</td>\n",
       "            </tr>\n",
       "            <tr>\n",
       "                                <td id=\"T_459a8176_4237_11eb_b265_0c5415878a06row7_col0\" class=\"data row7 col0\" >8</td>\n",
       "                        <td id=\"T_459a8176_4237_11eb_b265_0c5415878a06row7_col1\" class=\"data row7 col1\" >1435</td>\n",
       "                        <td id=\"T_459a8176_4237_11eb_b265_0c5415878a06row7_col2\" class=\"data row7 col2\" >121</td>\n",
       "                        <td id=\"T_459a8176_4237_11eb_b265_0c5415878a06row7_col3\" class=\"data row7 col3\" >0.511104</td>\n",
       "                        <td id=\"T_459a8176_4237_11eb_b265_0c5415878a06row7_col4\" class=\"data row7 col4\" >0.518766</td>\n",
       "                        <td id=\"T_459a8176_4237_11eb_b265_0c5415878a06row7_col5\" class=\"data row7 col5\" >0.514540</td>\n",
       "                        <td id=\"T_459a8176_4237_11eb_b265_0c5415878a06row7_col6\" class=\"data row7 col6\" >0.084321</td>\n",
       "                        <td id=\"T_459a8176_4237_11eb_b265_0c5415878a06row7_col7\" class=\"data row7 col7\" >0.952028</td>\n",
       "            </tr>\n",
       "            <tr>\n",
       "                                <td id=\"T_459a8176_4237_11eb_b265_0c5415878a06row8_col0\" class=\"data row8 col0\" >9</td>\n",
       "                        <td id=\"T_459a8176_4237_11eb_b265_0c5415878a06row8_col1\" class=\"data row8 col1\" >1454</td>\n",
       "                        <td id=\"T_459a8176_4237_11eb_b265_0c5415878a06row8_col2\" class=\"data row8 col2\" >130</td>\n",
       "                        <td id=\"T_459a8176_4237_11eb_b265_0c5415878a06row8_col3\" class=\"data row8 col3\" >0.522593</td>\n",
       "                        <td id=\"T_459a8176_4237_11eb_b265_0c5415878a06row8_col4\" class=\"data row8 col4\" >0.537872</td>\n",
       "                        <td id=\"T_459a8176_4237_11eb_b265_0c5415878a06row8_col5\" class=\"data row8 col5\" >0.529217</td>\n",
       "                        <td id=\"T_459a8176_4237_11eb_b265_0c5415878a06row8_col6\" class=\"data row8 col6\" >0.089409</td>\n",
       "                        <td id=\"T_459a8176_4237_11eb_b265_0c5415878a06row8_col7\" class=\"data row8 col7\" >1.009475</td>\n",
       "            </tr>\n",
       "            <tr>\n",
       "                                <td id=\"T_459a8176_4237_11eb_b265_0c5415878a06row9_col0\" class=\"data row9 col0\" >10</td>\n",
       "                        <td id=\"T_459a8176_4237_11eb_b265_0c5415878a06row9_col1\" class=\"data row9 col1\" >1332</td>\n",
       "                        <td id=\"T_459a8176_4237_11eb_b265_0c5415878a06row9_col2\" class=\"data row9 col2\" >132</td>\n",
       "                        <td id=\"T_459a8176_4237_11eb_b265_0c5415878a06row9_col3\" class=\"data row9 col3\" >0.541682</td>\n",
       "                        <td id=\"T_459a8176_4237_11eb_b265_0c5415878a06row9_col4\" class=\"data row9 col4\" >0.730128</td>\n",
       "                        <td id=\"T_459a8176_4237_11eb_b265_0c5415878a06row9_col5\" class=\"data row9 col5\" >0.568777</td>\n",
       "                        <td id=\"T_459a8176_4237_11eb_b265_0c5415878a06row9_col6\" class=\"data row9 col6\" >0.099099</td>\n",
       "                        <td id=\"T_459a8176_4237_11eb_b265_0c5415878a06row9_col7\" class=\"data row9 col7\" >1.118887</td>\n",
       "            </tr>\n",
       "    </tbody></table>"
      ],
      "text/plain": [
       "<pandas.io.formats.style.Styler at 0x212011b5b80>"
      ]
     },
     "execution_count": 156,
     "metadata": {},
     "output_type": "execute_result"
    }
   ],
   "source": [
    "readmit_proba = [i[1] for i in lr.predict_proba(X_test)]\n",
    "quant = pd.qcut(readmit_proba,10,labels=np.arange(1,11))\n",
    "prob = {'Quantile':quant,'# Readmitted':readmit_proba,'y':y_test}\n",
    "\n",
    "deciles_lr = pd.DataFrame(prob).sort_values('Quantile')\n",
    "dec1 = deciles_lr.groupby('Quantile')['# Readmitted'].agg(['count','min','max','mean']).reset_index()\n",
    "dec2 = deciles_lr.groupby(['Quantile','y']).count().reset_index()\n",
    "dec2 = dec2[dec2['y']==1]\n",
    "deciles_lr = pd.merge(dec2, dec1, how='inner',on ='Quantile').drop('y',1).\\\n",
    "        rename({'count':'Unique Patients', 'min':'Min Prob', 'mean':'Average Prob','max':'Max Prob'},axis=1)\n",
    "\n",
    "deciles_lr = deciles_lr[deciles_lr.columns[[0,2,1,3,4,5]]]\n",
    "deciles_lr['Percent Readmitted'] = deciles_lr['# Readmitted']/deciles_lr['Unique Patients']\n",
    "deciles_lr['Lift'] = deciles_lr['Percent Readmitted'].apply(lambda x:10*x/deciles_lr['Percent Readmitted'].sum())\n",
    "deciles_lr.style.hide_index()"
   ]
  },
  {
   "cell_type": "code",
   "execution_count": 157,
   "metadata": {
    "collapsed": true,
    "jupyter": {
     "outputs_hidden": true
    }
   },
   "outputs": [
    {
     "name": "stdout",
     "output_type": "stream",
     "text": [
      "\n",
      "If the top two quantiles are targeted instead of a random sampling, the percent readmitted increases from 0.088 to 0.1885\n",
      "\n"
     ]
    },
    {
     "data": {
      "text/html": [
       "<div>\n",
       "<style scoped>\n",
       "    .dataframe tbody tr th:only-of-type {\n",
       "        vertical-align: middle;\n",
       "    }\n",
       "\n",
       "    .dataframe tbody tr th {\n",
       "        vertical-align: top;\n",
       "    }\n",
       "\n",
       "    .dataframe thead th {\n",
       "        text-align: right;\n",
       "    }\n",
       "</style>\n",
       "<table border=\"1\" class=\"dataframe\">\n",
       "  <thead>\n",
       "    <tr style=\"text-align: right;\">\n",
       "      <th></th>\n",
       "      <th>Unique Patients</th>\n",
       "      <th># Readmitted</th>\n",
       "      <th>Percent Readmitted</th>\n",
       "    </tr>\n",
       "  </thead>\n",
       "  <tbody>\n",
       "    <tr>\n",
       "      <th>Random Sampling</th>\n",
       "      <td>14303</td>\n",
       "      <td>1259</td>\n",
       "      <td>0.088023</td>\n",
       "    </tr>\n",
       "    <tr>\n",
       "      <th>Top 2 Quantiles</th>\n",
       "      <td>2786</td>\n",
       "      <td>262</td>\n",
       "      <td>0.094042</td>\n",
       "    </tr>\n",
       "  </tbody>\n",
       "</table>\n",
       "</div>"
      ],
      "text/plain": [
       "                 Unique Patients  # Readmitted  Percent Readmitted\n",
       "Random Sampling            14303          1259            0.088023\n",
       "Top 2 Quantiles             2786           262            0.094042"
      ]
     },
     "execution_count": 157,
     "metadata": {},
     "output_type": "execute_result"
    }
   ],
   "source": [
    "tot_compdic = {'Unique Patients': [deciles_lr['Unique Patients'].sum(), deciles_lr['Unique Patients'][8] + deciles_lr['Unique Patients'][9]], \n",
    "               '# Readmitted': [deciles_lr['# Readmitted'].sum(), deciles_lr['# Readmitted'][8] + deciles_lr['# Readmitted'][9]]}\n",
    "\n",
    "tot_compdic['Percent Readmitted'] = [tot_compdic['# Readmitted'][0]/tot_compdic['Unique Patients'][0],\n",
    "                                     tot_compdic['# Readmitted'][1]/tot_compdic['Unique Patients'][1]]\n",
    "\n",
    "tot_compdf = pd.DataFrame(tot_compdic, index = ['Random Sampling','Top 2 Quantiles'])\n",
    "\n",
    "lr_readmit_rand = tot_compdf['Percent Readmitted'][0].round(4)\n",
    "lr_readmit_top_2 = (deciles_lr['Percent Readmitted'][8] + deciles_lr['Percent Readmitted'][9]).round(4)\n",
    "\n",
    "print('')\n",
    "print(f'If the top two quantiles are targeted instead of a random sampling, the percent readmitted increases from',\n",
    "      lr_readmit_rand, 'to',lr_readmit_top_2)\n",
    "print('')\n",
    "tot_compdf"
   ]
  },
  {
   "cell_type": "code",
   "execution_count": null,
   "metadata": {},
   "outputs": [],
   "source": [
    "lr_feat_dict = {'Feature':X_train_res.columns, 'Feature Importance':lr.coef_.reshape(lr.coef_.shape[1],)}\n",
    "lr_feat_df = pd.DataFrame(lr_feat_dict)\n",
    "lr_feat_df = lr_feat_df.sort_values('Feature Importance', ascending=False).head(10)\n",
    "lr_feat_df\n",
    "\n",
    "plt.figure()\n",
    "sns.barplot(x = lr_feat_df['Feature Importance'], y = lr_feat_df['Feature'], palette = 'binary_r')\n",
    "sns.set_style('whitegrid')\n",
    "plt.title('Feature Importance: Logistic Regression')\n",
    "plt.xlabel('Feature Importance')\n",
    "plt.ylabel('Feature')"
   ]
  },
  {
   "cell_type": "markdown",
   "metadata": {},
   "source": [
    "## Logistic Regression CV"
   ]
  },
  {
   "cell_type": "code",
<<<<<<< HEAD
   "execution_count": 32,
=======
   "execution_count": 269,
>>>>>>> mhomnipool-main
   "metadata": {},
   "outputs": [
    {
     "data": {
      "text/plain": [
       "LogisticRegressionCV(random_state=123)"
      ]
     },
<<<<<<< HEAD
     "execution_count": 32,
=======
     "execution_count": 269,
>>>>>>> mhomnipool-main
     "metadata": {},
     "output_type": "execute_result"
    }
   ],
   "source": [
    "# logistic regression CV\n",
    "from sklearn.linear_model import LogisticRegressionCV\n",
    "lr_cv=LogisticRegressionCV(random_state = 123)\n",
    "lr_cv.fit(X_train_smo, y_train_smo)"
   ]
  },
  {
   "cell_type": "code",
<<<<<<< HEAD
   "execution_count": 33,
=======
   "execution_count": 270,
>>>>>>> mhomnipool-main
   "metadata": {},
   "outputs": [
    {
     "name": "stdout",
     "output_type": "stream",
     "text": [
      "Logistic Regression CV\n",
      "Training:\n",
<<<<<<< HEAD
      "AUC:0.596\n",
      "accuracy:0.912\n",
      "recall:0.003\n",
      "precision:0.359\n",
=======
      "AUC:0.603\n",
      "accuracy:0.912\n",
      "recall:0.004\n",
      "precision:0.429\n",
>>>>>>> mhomnipool-main
      "specificity:1.000\n",
      "prevalence:0.088\n",
      " \n",
      "Test:\n",
<<<<<<< HEAD
      "AUC:0.586\n",
      "accuracy:0.912\n",
      "recall:0.002\n",
      "precision:0.250\n",
      "specificity:0.999\n",
=======
      "AUC:0.601\n",
      "accuracy:0.912\n",
      "recall:0.002\n",
      "precision:0.250\n",
      "specificity:1.000\n",
>>>>>>> mhomnipool-main
      "prevalence:0.088\n",
      " \n"
     ]
    }
   ],
   "source": [
    "y_train_preds = lr_cv.predict_proba(X_train)[:,1]\n",
    "y_valid_preds = lr_cv.predict_proba(X_test)[:,1]\n",
    "\n",
    "print('Logistic Regression CV')\n",
    "print('Training:')\n",
    "lr_train_auc, lr_train_accuracy, lr_train_recall, \\\n",
    "    lr_train_precision, lr_train_specificity = print_report(y_train,y_train_preds, thresh)\n",
    "print('Test:')\n",
    "lr_valid_auc, lr_valid_accuracy, lr_valid_recall, \\\n",
    "    lr_valid_precision, lr_valid_specificity = print_report(y_test,y_valid_preds, thresh)"
   ]
  },
  {
   "cell_type": "code",
   "execution_count": null,
   "metadata": {},
   "outputs": [],
   "source": [
    "readmit_proba = [i[1] for i in lr_cv.predict_proba(X_test)]\n",
    "quant = pd.qcut(readmit_proba,10,labels=np.arange(1,11))\n",
    "prob = {'Quantile':quant,'# Readmitted':readmit_proba,'y':y_test}\n",
    "\n",
    "decile_lrcv = pd.DataFrame(prob).sort_values('Quantile')\n",
    "dec1 = decile_lrcv.groupby('Quantile')['# Readmitted'].agg(['count','min','max','mean']).reset_index()\n",
    "dec2 = decile_lrcv.groupby(['Quantile','y']).count().reset_index()\n",
    "dec2 = dec2[dec2['y']==1]\n",
    "decile_lrcv = pd.merge(dec2, dec1, how='inner',on ='Quantile').drop('y',1).\\\n",
    "        rename({'count':'Unique Patients', 'min':'Min Prob', 'mean':'Average Prob','max':'Max Prob'},axis=1)\n",
    "\n",
    "decile_lrcv = decile_lrcv[decile_lrcv.columns[[0,2,1,3,4,5]]]\n",
    "decile_lrcv['Percent Readmitted'] = decile_lrcv['# Readmitted']/decile_lrcv['Unique Patients']\n",
    "decile_lrcv['Lift'] = decile_lrcv['Percent Readmitted'].apply(lambda x:10*x/decile_lrcv['Percent Readmitted'].sum())\n",
    "decile_lrcv.style.hide_index()"
   ]
  },
  {
   "cell_type": "code",
   "execution_count": null,
   "metadata": {},
   "outputs": [],
   "source": [
    "tot_compdic_lrcv = {'Unique Patients': [decile_lrcv['Unique Patients'].sum(), decile_lrcv['Unique Patients'][8] + decile_lrcv['Unique Patients'][9]], \n",
    "               '# Readmitted': [decile_lrcv['# Readmitted'].sum(), decile_lrcv['# Readmitted'][8] + decile_lrcv['# Readmitted'][9]]}\n",
    "\n",
    "tot_compdic_lrcv['Percent Readmitted'] = [tot_compdic_lrcv['# Readmitted'][0]/tot_compdic_lrcv['Unique Patients'][0],\n",
    "                                      tot_compdic['# Readmitted'][1]/tot_compdic['Unique Patients'][1]]\n",
    "\n",
    "tot_compdf_lrcv = pd.DataFrame(tot_compdic_lrcv, index = ['Random Sampling','Top 2 Quantiles'])\n",
    "\n",
    "lr_readmit_rand = tot_compdf_lrcv['Percent Readmitted'][0].round(4)\n",
    "lr_readmit_top_2 = (decile_lrcv['Percent Readmitted'][8] + decile_lrcv['Percent Readmitted'][9]).round(4)\n",
    "\n",
    "print('')\n",
    "print(f'If the top two quantiles are targeted instead of a random sampling, the percent readmitted increases from',\n",
    "      lr_readmit_rand, 'to',lr_readmit_top_2)\n",
    "print('')\n",
    "tot_compdf_lrcv"
   ]
  },
  {
   "cell_type": "code",
   "execution_count": null,
   "metadata": {},
   "outputs": [],
   "source": [
    "lrcv_feat_dict = {'Feature':X_train_res.columns, 'Feature Importance':lr_cv.coef_.reshape(lr.coef_.shape[1],)}\n",
    "lrcv_feat_df = pd.DataFrame(lrcv_feat_dict)\n",
    "lrcv_feat_df = lrcv_feat_df.sort_values('Feature Importance', ascending=False).head(10)\n",
    "\n",
    "plt.figure()\n",
    "sns.barplot(x = lrcv_feat_df['Feature Importance'], y = lrcv_feat_df['Feature'], palette = 'binary_r')\n",
    "sns.set_style('whitegrid')\n",
    "plt.title('Feature Importance: Logistic Regression with Cross Validation')\n",
    "plt.xlabel('Feature Importance')\n",
    "plt.ylabel('Feature')"
   ]
  },
  {
   "cell_type": "code",
   "execution_count": 366,
   "metadata": {},
   "outputs": [
    {
     "data": {
<<<<<<< HEAD
      "text/html": [
       "<style  type=\"text/css\" >\n",
       "</style><table id=\"T_970ed547_4220_11eb_a66e_00155d0fd294\" ><thead>    <tr>        <th class=\"col_heading level0 col0\" >Quantile</th>        <th class=\"col_heading level0 col1\" >Unique Patients</th>        <th class=\"col_heading level0 col2\" ># Readmitted</th>        <th class=\"col_heading level0 col3\" >Min Prob</th>        <th class=\"col_heading level0 col4\" >Max Prob</th>        <th class=\"col_heading level0 col5\" >Average Prob</th>        <th class=\"col_heading level0 col6\" >Percent Readmitted</th>        <th class=\"col_heading level0 col7\" >Lift</th>    </tr></thead><tbody>\n",
       "                <tr>\n",
       "                                <td id=\"T_970ed547_4220_11eb_a66e_00155d0fd294row0_col0\" class=\"data row0 col0\" >1</td>\n",
       "                        <td id=\"T_970ed547_4220_11eb_a66e_00155d0fd294row0_col1\" class=\"data row0 col1\" >1431</td>\n",
       "                        <td id=\"T_970ed547_4220_11eb_a66e_00155d0fd294row0_col2\" class=\"data row0 col2\" >77</td>\n",
       "                        <td id=\"T_970ed547_4220_11eb_a66e_00155d0fd294row0_col3\" class=\"data row0 col3\" >0.000228</td>\n",
       "                        <td id=\"T_970ed547_4220_11eb_a66e_00155d0fd294row0_col4\" class=\"data row0 col4\" >0.048646</td>\n",
       "                        <td id=\"T_970ed547_4220_11eb_a66e_00155d0fd294row0_col5\" class=\"data row0 col5\" >0.033401</td>\n",
       "                        <td id=\"T_970ed547_4220_11eb_a66e_00155d0fd294row0_col6\" class=\"data row0 col6\" >0.053809</td>\n",
       "                        <td id=\"T_970ed547_4220_11eb_a66e_00155d0fd294row0_col7\" class=\"data row0 col7\" >0.611298</td>\n",
       "            </tr>\n",
       "            <tr>\n",
       "                                <td id=\"T_970ed547_4220_11eb_a66e_00155d0fd294row1_col0\" class=\"data row1 col0\" >2</td>\n",
       "                        <td id=\"T_970ed547_4220_11eb_a66e_00155d0fd294row1_col1\" class=\"data row1 col1\" >1430</td>\n",
       "                        <td id=\"T_970ed547_4220_11eb_a66e_00155d0fd294row1_col2\" class=\"data row1 col2\" >76</td>\n",
       "                        <td id=\"T_970ed547_4220_11eb_a66e_00155d0fd294row1_col3\" class=\"data row1 col3\" >0.048660</td>\n",
       "                        <td id=\"T_970ed547_4220_11eb_a66e_00155d0fd294row1_col4\" class=\"data row1 col4\" >0.061498</td>\n",
       "                        <td id=\"T_970ed547_4220_11eb_a66e_00155d0fd294row1_col5\" class=\"data row1 col5\" >0.055338</td>\n",
       "                        <td id=\"T_970ed547_4220_11eb_a66e_00155d0fd294row1_col6\" class=\"data row1 col6\" >0.053147</td>\n",
       "                        <td id=\"T_970ed547_4220_11eb_a66e_00155d0fd294row1_col7\" class=\"data row1 col7\" >0.603781</td>\n",
       "            </tr>\n",
       "            <tr>\n",
       "                                <td id=\"T_970ed547_4220_11eb_a66e_00155d0fd294row2_col0\" class=\"data row2 col0\" >3</td>\n",
       "                        <td id=\"T_970ed547_4220_11eb_a66e_00155d0fd294row2_col1\" class=\"data row2 col1\" >1430</td>\n",
       "                        <td id=\"T_970ed547_4220_11eb_a66e_00155d0fd294row2_col2\" class=\"data row2 col2\" >101</td>\n",
       "                        <td id=\"T_970ed547_4220_11eb_a66e_00155d0fd294row2_col3\" class=\"data row2 col3\" >0.061502</td>\n",
       "                        <td id=\"T_970ed547_4220_11eb_a66e_00155d0fd294row2_col4\" class=\"data row2 col4\" >0.071253</td>\n",
       "                        <td id=\"T_970ed547_4220_11eb_a66e_00155d0fd294row2_col5\" class=\"data row2 col5\" >0.066455</td>\n",
       "                        <td id=\"T_970ed547_4220_11eb_a66e_00155d0fd294row2_col6\" class=\"data row2 col6\" >0.070629</td>\n",
       "                        <td id=\"T_970ed547_4220_11eb_a66e_00155d0fd294row2_col7\" class=\"data row2 col7\" >0.802393</td>\n",
       "            </tr>\n",
       "            <tr>\n",
       "                                <td id=\"T_970ed547_4220_11eb_a66e_00155d0fd294row3_col0\" class=\"data row3 col0\" >4</td>\n",
       "                        <td id=\"T_970ed547_4220_11eb_a66e_00155d0fd294row3_col1\" class=\"data row3 col1\" >1430</td>\n",
       "                        <td id=\"T_970ed547_4220_11eb_a66e_00155d0fd294row3_col2\" class=\"data row3 col2\" >124</td>\n",
       "                        <td id=\"T_970ed547_4220_11eb_a66e_00155d0fd294row3_col3\" class=\"data row3 col3\" >0.071257</td>\n",
       "                        <td id=\"T_970ed547_4220_11eb_a66e_00155d0fd294row3_col4\" class=\"data row3 col4\" >0.080697</td>\n",
       "                        <td id=\"T_970ed547_4220_11eb_a66e_00155d0fd294row3_col5\" class=\"data row3 col5\" >0.076007</td>\n",
       "                        <td id=\"T_970ed547_4220_11eb_a66e_00155d0fd294row3_col6\" class=\"data row3 col6\" >0.086713</td>\n",
       "                        <td id=\"T_970ed547_4220_11eb_a66e_00155d0fd294row3_col7\" class=\"data row3 col7\" >0.985116</td>\n",
       "            </tr>\n",
       "            <tr>\n",
       "                                <td id=\"T_970ed547_4220_11eb_a66e_00155d0fd294row4_col0\" class=\"data row4 col0\" >5</td>\n",
       "                        <td id=\"T_970ed547_4220_11eb_a66e_00155d0fd294row4_col1\" class=\"data row4 col1\" >1431</td>\n",
       "                        <td id=\"T_970ed547_4220_11eb_a66e_00155d0fd294row4_col2\" class=\"data row4 col2\" >115</td>\n",
       "                        <td id=\"T_970ed547_4220_11eb_a66e_00155d0fd294row4_col3\" class=\"data row4 col3\" >0.080731</td>\n",
       "                        <td id=\"T_970ed547_4220_11eb_a66e_00155d0fd294row4_col4\" class=\"data row4 col4\" >0.091222</td>\n",
       "                        <td id=\"T_970ed547_4220_11eb_a66e_00155d0fd294row4_col5\" class=\"data row4 col5\" >0.085897</td>\n",
       "                        <td id=\"T_970ed547_4220_11eb_a66e_00155d0fd294row4_col6\" class=\"data row4 col6\" >0.080363</td>\n",
       "                        <td id=\"T_970ed547_4220_11eb_a66e_00155d0fd294row4_col7\" class=\"data row4 col7\" >0.912978</td>\n",
       "            </tr>\n",
       "            <tr>\n",
       "                                <td id=\"T_970ed547_4220_11eb_a66e_00155d0fd294row5_col0\" class=\"data row5 col0\" >6</td>\n",
       "                        <td id=\"T_970ed547_4220_11eb_a66e_00155d0fd294row5_col1\" class=\"data row5 col1\" >1430</td>\n",
       "                        <td id=\"T_970ed547_4220_11eb_a66e_00155d0fd294row5_col2\" class=\"data row5 col2\" >119</td>\n",
       "                        <td id=\"T_970ed547_4220_11eb_a66e_00155d0fd294row5_col3\" class=\"data row5 col3\" >0.091245</td>\n",
       "                        <td id=\"T_970ed547_4220_11eb_a66e_00155d0fd294row5_col4\" class=\"data row5 col4\" >0.103267</td>\n",
       "                        <td id=\"T_970ed547_4220_11eb_a66e_00155d0fd294row5_col5\" class=\"data row5 col5\" >0.097125</td>\n",
       "                        <td id=\"T_970ed547_4220_11eb_a66e_00155d0fd294row5_col6\" class=\"data row5 col6\" >0.083217</td>\n",
       "                        <td id=\"T_970ed547_4220_11eb_a66e_00155d0fd294row5_col7\" class=\"data row5 col7\" >0.945394</td>\n",
       "            </tr>\n",
       "            <tr>\n",
       "                                <td id=\"T_970ed547_4220_11eb_a66e_00155d0fd294row6_col0\" class=\"data row6 col0\" >7</td>\n",
       "                        <td id=\"T_970ed547_4220_11eb_a66e_00155d0fd294row6_col1\" class=\"data row6 col1\" >1430</td>\n",
       "                        <td id=\"T_970ed547_4220_11eb_a66e_00155d0fd294row6_col2\" class=\"data row6 col2\" >130</td>\n",
       "                        <td id=\"T_970ed547_4220_11eb_a66e_00155d0fd294row6_col3\" class=\"data row6 col3\" >0.103273</td>\n",
       "                        <td id=\"T_970ed547_4220_11eb_a66e_00155d0fd294row6_col4\" class=\"data row6 col4\" >0.117996</td>\n",
       "                        <td id=\"T_970ed547_4220_11eb_a66e_00155d0fd294row6_col5\" class=\"data row6 col5\" >0.110498</td>\n",
       "                        <td id=\"T_970ed547_4220_11eb_a66e_00155d0fd294row6_col6\" class=\"data row6 col6\" >0.090909</td>\n",
       "                        <td id=\"T_970ed547_4220_11eb_a66e_00155d0fd294row6_col7\" class=\"data row6 col7\" >1.032783</td>\n",
       "            </tr>\n",
       "            <tr>\n",
       "                                <td id=\"T_970ed547_4220_11eb_a66e_00155d0fd294row7_col0\" class=\"data row7 col0\" >8</td>\n",
       "                        <td id=\"T_970ed547_4220_11eb_a66e_00155d0fd294row7_col1\" class=\"data row7 col1\" >1430</td>\n",
       "                        <td id=\"T_970ed547_4220_11eb_a66e_00155d0fd294row7_col2\" class=\"data row7 col2\" >150</td>\n",
       "                        <td id=\"T_970ed547_4220_11eb_a66e_00155d0fd294row7_col3\" class=\"data row7 col3\" >0.118066</td>\n",
       "                        <td id=\"T_970ed547_4220_11eb_a66e_00155d0fd294row7_col4\" class=\"data row7 col4\" >0.138383</td>\n",
       "                        <td id=\"T_970ed547_4220_11eb_a66e_00155d0fd294row7_col5\" class=\"data row7 col5\" >0.127829</td>\n",
       "                        <td id=\"T_970ed547_4220_11eb_a66e_00155d0fd294row7_col6\" class=\"data row7 col6\" >0.104895</td>\n",
       "                        <td id=\"T_970ed547_4220_11eb_a66e_00155d0fd294row7_col7\" class=\"data row7 col7\" >1.191673</td>\n",
       "            </tr>\n",
       "            <tr>\n",
       "                                <td id=\"T_970ed547_4220_11eb_a66e_00155d0fd294row8_col0\" class=\"data row8 col0\" >9</td>\n",
       "                        <td id=\"T_970ed547_4220_11eb_a66e_00155d0fd294row8_col1\" class=\"data row8 col1\" >1430</td>\n",
       "                        <td id=\"T_970ed547_4220_11eb_a66e_00155d0fd294row8_col2\" class=\"data row8 col2\" >179</td>\n",
       "                        <td id=\"T_970ed547_4220_11eb_a66e_00155d0fd294row8_col3\" class=\"data row8 col3\" >0.138393</td>\n",
       "                        <td id=\"T_970ed547_4220_11eb_a66e_00155d0fd294row8_col4\" class=\"data row8 col4\" >0.169219</td>\n",
       "                        <td id=\"T_970ed547_4220_11eb_a66e_00155d0fd294row8_col5\" class=\"data row8 col5\" >0.152226</td>\n",
       "                        <td id=\"T_970ed547_4220_11eb_a66e_00155d0fd294row8_col6\" class=\"data row8 col6\" >0.125175</td>\n",
       "                        <td id=\"T_970ed547_4220_11eb_a66e_00155d0fd294row8_col7\" class=\"data row8 col7\" >1.422063</td>\n",
       "            </tr>\n",
       "            <tr>\n",
       "                                <td id=\"T_970ed547_4220_11eb_a66e_00155d0fd294row9_col0\" class=\"data row9 col0\" >10</td>\n",
       "                        <td id=\"T_970ed547_4220_11eb_a66e_00155d0fd294row9_col1\" class=\"data row9 col1\" >1431</td>\n",
       "                        <td id=\"T_970ed547_4220_11eb_a66e_00155d0fd294row9_col2\" class=\"data row9 col2\" >188</td>\n",
       "                        <td id=\"T_970ed547_4220_11eb_a66e_00155d0fd294row9_col3\" class=\"data row9 col3\" >0.169232</td>\n",
       "                        <td id=\"T_970ed547_4220_11eb_a66e_00155d0fd294row9_col4\" class=\"data row9 col4\" >0.944538</td>\n",
       "                        <td id=\"T_970ed547_4220_11eb_a66e_00155d0fd294row9_col5\" class=\"data row9 col5\" >0.218516</td>\n",
       "                        <td id=\"T_970ed547_4220_11eb_a66e_00155d0fd294row9_col6\" class=\"data row9 col6\" >0.131377</td>\n",
       "                        <td id=\"T_970ed547_4220_11eb_a66e_00155d0fd294row9_col7\" class=\"data row9 col7\" >1.492520</td>\n",
       "            </tr>\n",
       "    </tbody></table>"
      ],
      "text/plain": [
       "<pandas.io.formats.style.Styler at 0x203e2343be0>"
=======
      "text/plain": [
       "<matplotlib.axes._subplots.AxesSubplot at 0x2120106c0a0>"
>>>>>>> mhomnipool-main
      ]
     },
     "execution_count": 366,
     "metadata": {},
     "output_type": "execute_result"
    },
    {
     "data": {
      "image/png": "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\n",
      "text/plain": [
       "<Figure size 576x396 with 1 Axes>"
      ]
     },
     "metadata": {},
     "output_type": "display_data"
    }
   ],
   "source": [
    "sns.barplot(x='group', y=\"readmitted\", data=genderdf)"
   ]
  },
  {
   "cell_type": "code",
   "execution_count": 353,
   "metadata": {},
   "outputs": [],
   "source": [
    "train = X_train.assign(readmitted = y_train)"
   ]
  },
  {
   "cell_type": "code",
   "execution_count": 360,
   "metadata": {},
   "outputs": [],
   "source": [
    "maledf = {'group': 'Male',\n",
    "         'readmitted': df.loc[df['gender']=='Male', 'readmitted']}\n",
    "\n",
    "femaledf = {'group': 'Female',\n",
    "         'readmitted': df.loc[df['gender']=='Female', 'readmitted']}\n",
    "\n",
    "maledf = pd.DataFrame(maledf)\n",
    "femaledf = pd.DataFrame(femaledf)\n",
    "\n",
    "genderdf = maledf.append(femaledf)"
   ]
  },
  {
   "cell_type": "code",
<<<<<<< HEAD
   "execution_count": 35,
   "metadata": {},
   "outputs": [
    {
     "name": "stdout",
     "output_type": "stream",
     "text": [
      "\n",
      "If the top two quantiles are targeted instead of a random sampling, the percent readmitted increases from 0.088 to 0.2566\n",
      "\n"
     ]
    },
    {
=======
   "execution_count": 355,
   "metadata": {},
   "outputs": [
    {
>>>>>>> mhomnipool-main
     "data": {
      "text/html": [
       "<div>\n",
       "<style scoped>\n",
       "    .dataframe tbody tr th:only-of-type {\n",
       "        vertical-align: middle;\n",
       "    }\n",
       "\n",
       "    .dataframe tbody tr th {\n",
       "        vertical-align: top;\n",
       "    }\n",
       "\n",
       "    .dataframe thead th {\n",
       "        text-align: right;\n",
       "    }\n",
       "</style>\n",
       "<table border=\"1\" class=\"dataframe\">\n",
       "  <thead>\n",
       "    <tr style=\"text-align: right;\">\n",
       "      <th></th>\n",
       "      <th>group</th>\n",
       "      <th>readmitted</th>\n",
       "    </tr>\n",
       "  </thead>\n",
       "  <tbody>\n",
       "    <tr>\n",
       "      <th>70235</th>\n",
       "      <td>Male</td>\n",
       "      <td>0</td>\n",
       "    </tr>\n",
       "    <tr>\n",
       "      <th>32317</th>\n",
       "      <td>Male</td>\n",
       "      <td>0</td>\n",
       "    </tr>\n",
       "    <tr>\n",
       "      <th>66397</th>\n",
       "      <td>Male</td>\n",
       "      <td>0</td>\n",
       "    </tr>\n",
       "    <tr>\n",
       "      <th>18752</th>\n",
       "      <td>Male</td>\n",
       "      <td>0</td>\n",
       "    </tr>\n",
       "    <tr>\n",
       "      <th>68109</th>\n",
       "      <td>Male</td>\n",
       "      <td>0</td>\n",
       "    </tr>\n",
       "    <tr>\n",
       "      <th>...</th>\n",
       "      <td>...</td>\n",
       "      <td>...</td>\n",
       "    </tr>\n",
       "    <tr>\n",
       "      <th>22592</th>\n",
       "      <td>Male</td>\n",
       "      <td>0</td>\n",
       "    </tr>\n",
       "    <tr>\n",
       "      <th>48240</th>\n",
       "      <td>Male</td>\n",
       "      <td>0</td>\n",
       "    </tr>\n",
       "    <tr>\n",
       "      <th>70884</th>\n",
       "      <td>Male</td>\n",
       "      <td>0</td>\n",
       "    </tr>\n",
       "    <tr>\n",
       "      <th>58493</th>\n",
       "      <td>Male</td>\n",
       "      <td>0</td>\n",
       "    </tr>\n",
       "    <tr>\n",
<<<<<<< HEAD
       "      <th>Top 2 Quantiles</th>\n",
       "      <td>2861</td>\n",
       "      <td>367</td>\n",
       "      <td>0.128277</td>\n",
=======
       "      <th>63062</th>\n",
       "      <td>Male</td>\n",
       "      <td>0</td>\n",
>>>>>>> mhomnipool-main
       "    </tr>\n",
       "  </tbody>\n",
       "</table>\n",
       "<p>26845 rows × 2 columns</p>\n",
       "</div>"
      ],
      "text/plain": [
<<<<<<< HEAD
       "                 Unique Patients  # Readmitted  Percent Readmitted\n",
       "Random Sampling            14303          1259            0.088023\n",
       "Top 2 Quantiles             2861           367            0.128277"
      ]
     },
     "execution_count": 35,
=======
       "      group  readmitted\n",
       "70235  Male           0\n",
       "32317  Male           0\n",
       "66397  Male           0\n",
       "18752  Male           0\n",
       "68109  Male           0\n",
       "...     ...         ...\n",
       "22592  Male           0\n",
       "48240  Male           0\n",
       "70884  Male           0\n",
       "58493  Male           0\n",
       "63062  Male           0\n",
       "\n",
       "[26845 rows x 2 columns]"
      ]
     },
     "execution_count": 355,
>>>>>>> mhomnipool-main
     "metadata": {},
     "output_type": "execute_result"
    }
   ],
   "source": [
    "maledf"
   ]
  },
  {
   "cell_type": "code",
<<<<<<< HEAD
   "execution_count": 36,
   "metadata": {},
   "outputs": [
    {
     "ename": "NameError",
     "evalue": "name 'X_train_res' is not defined",
     "output_type": "error",
     "traceback": [
      "\u001b[1;31m---------------------------------------------------------------------------\u001b[0m",
      "\u001b[1;31mNameError\u001b[0m                                 Traceback (most recent call last)",
      "\u001b[1;32m<ipython-input-36-bba5f9a17976>\u001b[0m in \u001b[0;36m<module>\u001b[1;34m\u001b[0m\n\u001b[1;32m----> 1\u001b[1;33m \u001b[0mlr_feat_dict\u001b[0m \u001b[1;33m=\u001b[0m \u001b[1;33m{\u001b[0m\u001b[1;34m'Feature'\u001b[0m\u001b[1;33m:\u001b[0m\u001b[0mX_train_res\u001b[0m\u001b[1;33m.\u001b[0m\u001b[0mcolumns\u001b[0m\u001b[1;33m,\u001b[0m \u001b[1;34m'Feature Importance'\u001b[0m\u001b[1;33m:\u001b[0m\u001b[0mlr\u001b[0m\u001b[1;33m.\u001b[0m\u001b[0mcoef_\u001b[0m\u001b[1;33m.\u001b[0m\u001b[0mreshape\u001b[0m\u001b[1;33m(\u001b[0m\u001b[0mlr\u001b[0m\u001b[1;33m.\u001b[0m\u001b[0mcoef_\u001b[0m\u001b[1;33m.\u001b[0m\u001b[0mshape\u001b[0m\u001b[1;33m[\u001b[0m\u001b[1;36m1\u001b[0m\u001b[1;33m]\u001b[0m\u001b[1;33m,\u001b[0m\u001b[1;33m)\u001b[0m\u001b[1;33m}\u001b[0m\u001b[1;33m\u001b[0m\u001b[1;33m\u001b[0m\u001b[0m\n\u001b[0m\u001b[0;32m      2\u001b[0m \u001b[0mlr_feat_df\u001b[0m \u001b[1;33m=\u001b[0m \u001b[0mpd\u001b[0m\u001b[1;33m.\u001b[0m\u001b[0mDataFrame\u001b[0m\u001b[1;33m(\u001b[0m\u001b[0mlr_feat_dict\u001b[0m\u001b[1;33m)\u001b[0m\u001b[1;33m\u001b[0m\u001b[1;33m\u001b[0m\u001b[0m\n\u001b[0;32m      3\u001b[0m \u001b[0mlr_feat_df\u001b[0m \u001b[1;33m=\u001b[0m \u001b[0mlr_feat_df\u001b[0m\u001b[1;33m.\u001b[0m\u001b[0msort_values\u001b[0m\u001b[1;33m(\u001b[0m\u001b[1;34m'Feature Importance'\u001b[0m\u001b[1;33m,\u001b[0m \u001b[0mascending\u001b[0m\u001b[1;33m=\u001b[0m\u001b[1;32mFalse\u001b[0m\u001b[1;33m)\u001b[0m\u001b[1;33m.\u001b[0m\u001b[0mhead\u001b[0m\u001b[1;33m(\u001b[0m\u001b[1;36m10\u001b[0m\u001b[1;33m)\u001b[0m\u001b[1;33m\u001b[0m\u001b[1;33m\u001b[0m\u001b[0m\n\u001b[0;32m      4\u001b[0m \u001b[0mlr_feat_df\u001b[0m\u001b[1;33m\u001b[0m\u001b[1;33m\u001b[0m\u001b[0m\n\u001b[0;32m      5\u001b[0m \u001b[1;33m\u001b[0m\u001b[0m\n",
      "\u001b[1;31mNameError\u001b[0m: name 'X_train_res' is not defined"
     ]
    }
   ],
   "source": [
    "lr_feat_dict = {'Feature':X_train_res.columns, 'Feature Importance':lr.coef_.reshape(lr.coef_.shape[1],)}\n",
    "lr_feat_df = pd.DataFrame(lr_feat_dict)\n",
    "lr_feat_df = lr_feat_df.sort_values('Feature Importance', ascending=False).head(10)\n",
    "lr_feat_df\n",
    "\n",
    "plt.figure()\n",
    "sns.barplot(x = lr_feat_df['Feature Importance'], y = lr_feat_df['Feature'], palette = 'binary_r')\n",
    "sns.set_style('whitegrid')\n",
    "plt.title('Feature Importance: Logistic Regression')\n",
    "plt.xlabel('Feature Importance')\n",
    "plt.ylabel('Feature')"
   ]
  },
  {
   "cell_type": "markdown",
   "metadata": {},
   "source": [
    "## Logistic Regression CV"
   ]
  },
  {
   "cell_type": "code",
   "execution_count": null,
   "metadata": {},
   "outputs": [],
   "source": [
    "# logistic regression CV\n",
    "from sklearn.linear_model import LogisticRegressionCV\n",
    "lr_cv=LogisticRegressionCV(random_state = 123)\n",
    "lr_cv.fit(X_train_smo, y_train_smo)"
   ]
  },
  {
   "cell_type": "code",
   "execution_count": null,
   "metadata": {},
   "outputs": [],
   "source": [
    "y_train_preds = lr_cv.predict_proba(X_train)[:,1]\n",
    "y_valid_preds = lr_cv.predict_proba(X_test)[:,1]\n",
    "\n",
    "print('Logistic Regression CV')\n",
    "print('Training:')\n",
    "lr_train_auc, lr_train_accuracy, lr_train_recall, \\\n",
    "    lr_train_precision, lr_train_specificity = print_report(y_train,y_train_preds, thresh)\n",
    "print('Test:')\n",
    "lr_valid_auc, lr_valid_accuracy, lr_valid_recall, \\\n",
    "    lr_valid_precision, lr_valid_specificity = print_report(y_test,y_valid_preds, thresh)"
   ]
  },
  {
   "cell_type": "code",
   "execution_count": null,
   "metadata": {},
   "outputs": [],
=======
   "execution_count": 364,
   "metadata": {},
   "outputs": [
    {
     "data": {
      "text/html": [
       "<div>\n",
       "<style scoped>\n",
       "    .dataframe tbody tr th:only-of-type {\n",
       "        vertical-align: middle;\n",
       "    }\n",
       "\n",
       "    .dataframe tbody tr th {\n",
       "        vertical-align: top;\n",
       "    }\n",
       "\n",
       "    .dataframe thead th {\n",
       "        text-align: right;\n",
       "    }\n",
       "</style>\n",
       "<table border=\"1\" class=\"dataframe\">\n",
       "  <thead>\n",
       "    <tr style=\"text-align: right;\">\n",
       "      <th></th>\n",
       "      <th>group</th>\n",
       "      <th>readmitted</th>\n",
       "    </tr>\n",
       "  </thead>\n",
       "  <tbody>\n",
       "    <tr>\n",
       "      <th>3</th>\n",
       "      <td>Male</td>\n",
       "      <td>0</td>\n",
       "    </tr>\n",
       "    <tr>\n",
       "      <th>4</th>\n",
       "      <td>Male</td>\n",
       "      <td>0</td>\n",
       "    </tr>\n",
       "    <tr>\n",
       "      <th>5</th>\n",
       "      <td>Male</td>\n",
       "      <td>0</td>\n",
       "    </tr>\n",
       "    <tr>\n",
       "      <th>6</th>\n",
       "      <td>Male</td>\n",
       "      <td>0</td>\n",
       "    </tr>\n",
       "    <tr>\n",
       "      <th>7</th>\n",
       "      <td>Male</td>\n",
       "      <td>0</td>\n",
       "    </tr>\n",
       "    <tr>\n",
       "      <th>...</th>\n",
       "      <td>...</td>\n",
       "      <td>...</td>\n",
       "    </tr>\n",
       "    <tr>\n",
       "      <th>71511</th>\n",
       "      <td>Female</td>\n",
       "      <td>0</td>\n",
       "    </tr>\n",
       "    <tr>\n",
       "      <th>71513</th>\n",
       "      <td>Female</td>\n",
       "      <td>0</td>\n",
       "    </tr>\n",
       "    <tr>\n",
       "      <th>71514</th>\n",
       "      <td>Female</td>\n",
       "      <td>0</td>\n",
       "    </tr>\n",
       "    <tr>\n",
       "      <th>71515</th>\n",
       "      <td>Female</td>\n",
       "      <td>0</td>\n",
       "    </tr>\n",
       "    <tr>\n",
       "      <th>71516</th>\n",
       "      <td>Female</td>\n",
       "      <td>0</td>\n",
       "    </tr>\n",
       "  </tbody>\n",
       "</table>\n",
       "<p>71515 rows × 2 columns</p>\n",
       "</div>"
      ],
      "text/plain": [
       "        group  readmitted\n",
       "3        Male           0\n",
       "4        Male           0\n",
       "5        Male           0\n",
       "6        Male           0\n",
       "7        Male           0\n",
       "...       ...         ...\n",
       "71511  Female           0\n",
       "71513  Female           0\n",
       "71514  Female           0\n",
       "71515  Female           0\n",
       "71516  Female           0\n",
       "\n",
       "[71515 rows x 2 columns]"
      ]
     },
     "execution_count": 364,
     "metadata": {},
     "output_type": "execute_result"
    }
   ],
>>>>>>> mhomnipool-main
   "source": [
    "genderdf"
   ]
  },
  {
   "cell_type": "code",
<<<<<<< HEAD
   "execution_count": null,
   "metadata": {},
   "outputs": [],
=======
   "execution_count": 365,
   "metadata": {},
   "outputs": [
    {
     "data": {
      "text/html": [
       "<div>\n",
       "<style scoped>\n",
       "    .dataframe tbody tr th:only-of-type {\n",
       "        vertical-align: middle;\n",
       "    }\n",
       "\n",
       "    .dataframe tbody tr th {\n",
       "        vertical-align: top;\n",
       "    }\n",
       "\n",
       "    .dataframe thead th {\n",
       "        text-align: right;\n",
       "    }\n",
       "</style>\n",
       "<table border=\"1\" class=\"dataframe\">\n",
       "  <thead>\n",
       "    <tr style=\"text-align: right;\">\n",
       "      <th></th>\n",
       "      <th>readmitted</th>\n",
       "    </tr>\n",
       "    <tr>\n",
       "      <th>group</th>\n",
       "      <th></th>\n",
       "    </tr>\n",
       "  </thead>\n",
       "  <tbody>\n",
       "    <tr>\n",
       "      <th>Female</th>\n",
       "      <td>0.088626</td>\n",
       "    </tr>\n",
       "    <tr>\n",
       "      <th>Male</th>\n",
       "      <td>0.087280</td>\n",
       "    </tr>\n",
       "  </tbody>\n",
       "</table>\n",
       "</div>"
      ],
      "text/plain": [
       "        readmitted\n",
       "group             \n",
       "Female    0.088626\n",
       "Male      0.087280"
      ]
     },
     "execution_count": 365,
     "metadata": {},
     "output_type": "execute_result"
    }
   ],
>>>>>>> mhomnipool-main
   "source": [
    "genderdf.groupby(\"group\").mean()"
   ]
  },
  {
   "cell_type": "code",
<<<<<<< HEAD
   "execution_count": null,
=======
   "execution_count": 363,
>>>>>>> mhomnipool-main
   "metadata": {},
   "outputs": [],
   "source": [
    "genderdf['readmitted'] = df.readmitted.map({'No':0,'Yes':1})"
   ]
  },
  {
   "cell_type": "code",
   "execution_count": null,
   "metadata": {},
   "outputs": [],
   "source": []
  }
 ],
 "metadata": {
  "kernelspec": {
   "display_name": "Python 3",
   "language": "python",
   "name": "python3"
  },
  "language_info": {
   "codemirror_mode": {
    "name": "ipython",
    "version": 3
   },
   "file_extension": ".py",
   "mimetype": "text/x-python",
   "name": "python",
   "nbconvert_exporter": "python",
   "pygments_lexer": "ipython3",
   "version": "3.8.3"
  }
 },
 "nbformat": 4,
 "nbformat_minor": 4
}
